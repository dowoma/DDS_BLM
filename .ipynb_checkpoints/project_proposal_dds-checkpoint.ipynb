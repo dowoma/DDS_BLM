{
 "cells": [
  {
   "cell_type": "markdown",
   "id": "015d1098",
   "metadata": {
    "id": "015d1098"
   },
   "source": [
    "# Project Proposal"
   ]
  },
  {
   "cell_type": "markdown",
   "id": "671d91f8",
   "metadata": {
    "id": "671d91f8"
   },
   "source": [
    "# Names"
   ]
  },
  {
   "cell_type": "markdown",
   "id": "ed575082",
   "metadata": {
    "id": "ed575082"
   },
   "source": [
    "- Dima Musa\n",
    "- Krishiv Vora\n",
    "- Chi Wong\n",
    "- Eudora Fong\n",
    "- Rosy"
   ]
  },
  {
   "cell_type": "markdown",
   "id": "4acaf76d",
   "metadata": {
    "id": "4acaf76d"
   },
   "source": [
    "# Background"
   ]
  },
  {
   "cell_type": "markdown",
   "id": "05b5caa5",
   "metadata": {
    "id": "05b5caa5"
   },
   "source": [
    "### Early Brainstorming for the Study of Public Sentiment\n",
    "\n",
    "Several high-profile cases in 2020 and 2021 have reignited conversations about race and racial tension in the United States. With the Black Lives Matter movement growing larger than ever, there were nationwide protests and social media was flooded with posts of people expressing their thoughts on how race affects everyone's lives in America. Many were in favor of the movement and were distraught at the killings of George Floyd, Breonna Taylor, Armaud Arbery, and other victims of police violence. They made calls to defund the police in the US, and stated that any transformation of the police system would be insufficient to solve the problem, which could only be solved by abolishing the system altogether and creating a new one. With all these conversations taking place online as well as in the news and in people's homes, the behavior of police officers during encounters with people of color was brought under scrutiny. But has this movement succeeded in actually influencing the outcomes of police encounters for people of color across the nation? Has there been a measurable decrease in the deaths of people of color, and specifically Black Americans, at the hands of the police which can be correlated with the activism surrounding the BLM movement?\n",
    "\n",
    "This question is what our team set out to answer, and though quantifying the rates of deaths of Black Americans and other people of color during police encounters is quite straightforward, quantifying the reach of the BLM movement over time is more complex. Our team considered looking at Twitter posts and hashtags as a way to see the trend in the movement's popularity over time. As we discussed this approach, we decided to broaden our data points by not just looking at directly available data (i.e., number of tweets or hashtags), but creating a model that uses machine learning and sentiment analysis to determine what people were really talking about online in relation to the BLM movement. Were they in support? What were they saying when major events took place? What were they proposing should be done? These questions can be answered by looking at Twitter posts, but require the use of such a model in order to examine a large volume of posts. This is what made us decide to use such a model to obtain a more comprehensive dataset of the impact of the BLM movement on how people spoke about race and police injustices, which we can then use to see more clearly whether real outcomes were influenced by the conversations being had across the country."
   ]
  },
  {
   "cell_type": "markdown",
   "id": "8e3a025d",
   "metadata": {
    "id": "8e3a025d"
   },
   "source": [
    "Fill in the background and discuss the kind of prior work that has gone on in this research area here. Remeber you are trying to explain why someone would want to answer your question or why your hypothesis is in the form that you've stated. \n",
    "\n",
    "This section will present the background and context of your topic and question in a few paragraphs. Include a general introduction to your topic and then describe what information you currently know about the topic after doing your initial research. Include references to other projects who have asked similar questions or approached similar problems. Explain what others have learned in their projects.\n",
    "\n",
    "Find some relevant prior work, and reference those sources, summarizing what each did and what they learned. Even if you think you have a totally novel question, find the most similar prior work that you can and discuss how it relates to your project.\n",
    "\n",
    "References can be research publications, but they need not be. Blogs, GitHub repositories, company websites, etc., are all viable references if they are relevant to your project. It must be clear which information comes from which references."
   ]
  },
  {
   "cell_type": "markdown",
   "id": "41438f97",
   "metadata": {
    "id": "41438f97"
   },
   "source": [
    "# Research Question"
   ]
  },
  {
   "cell_type": "markdown",
   "id": "c5309ce7",
   "metadata": {
    "id": "c5309ce7"
   },
   "source": [
    "Has there been a measurable decrease in the deaths of people of color, and specifically Black Americans, at the hands of the police which can be correlated with Twitter sentiment surrounding the BLM movement?"
   ]
  },
  {
   "cell_type": "markdown",
   "id": "fb9a67ce",
   "metadata": {
    "id": "fb9a67ce"
   },
   "source": [
    "# Hypothesis"
   ]
  },
  {
   "cell_type": "markdown",
   "id": "602b21a7",
   "metadata": {
    "id": "602b21a7"
   },
   "source": [
    "### Null Hypothesis: There is no significant decrease in the deaths of people of color at the hands of police."
   ]
  },
  {
   "cell_type": "markdown",
   "id": "0a98fe41",
   "metadata": {
    "id": "0a98fe41"
   },
   "source": [
    "### Alternative Hypothesis: There is a significant decrease in the deaths of people of color at the hands of police."
   ]
  },
  {
   "cell_type": "markdown",
   "id": "ee41ba95",
   "metadata": {
    "id": "ee41ba95"
   },
   "source": [
    "# Proposed Approach to Hypothesis"
   ]
  },
  {
   "cell_type": "markdown",
   "id": "9b25034d",
   "metadata": {
    "id": "9b25034d"
   },
   "source": [
    "In this section, clearly describe an approach to the hypothesis. The approach should be applicable to the project domain and appropriate for the dataset(s) or input(s) given. Provide enough detail (e.g., algorithmic descriptions) to convince us that your approach is applicable. \n",
    "\n",
    "If you know details already, describe how (e.g., library used, function calls) you plan to implement the approach in a way that is reproducible."
   ]
  },
  {
   "cell_type": "markdown",
   "id": "4ffbf8b6",
   "metadata": {},
   "source": [
    "* Use NLTK for tweet sentiment analysis\n",
    "* Pearson and Spearman correlation constant"
   ]
  },
  {
   "cell_type": "markdown",
   "id": "57b9bfe9",
   "metadata": {
    "id": "57b9bfe9"
   },
   "source": [
    "# Data"
   ]
  },
  {
   "cell_type": "markdown",
   "id": "f9bc72bc",
   "metadata": {
    "id": "f9bc72bc"
   },
   "source": [
    "### [Twitter Corpus of the #BlackLivesMatter Movement And Counter Protests: 2013 to 2020](https://zenodo.org/record/4056563#.Ym9D4drMJD9)"
   ]
  },
  {
   "cell_type": "markdown",
   "id": "4c9a74a1",
   "metadata": {
    "id": "4c9a74a1"
   },
   "source": [
    "### [Mapping Police Violence](https://airtable.com/shroOenW19l1m3w0H/tblxearKzw8W7ViN8) (MPV)"
   ]
  },
  {
   "cell_type": "markdown",
   "id": "8d32dc27",
   "metadata": {
    "id": "8d32dc27"
   },
   "source": [
    "\n",
    "Variables\n",
    "* Cause of Death (string)\n",
    "* Race (String)\n",
    "* Date (datetime)\n",
    "* Officer Charged (Boolean)\n",
    "* Armed (String): Armed, Unarmed, Unclear\n",
    "\n",
    "Estimated 10K observations\n",
    "Data from 1/1/13 to 4/2/2022"
   ]
  },
  {
   "cell_type": "markdown",
   "id": "4a99946e",
   "metadata": {
    "id": "4a99946e"
   },
   "source": [
    "For each dataset:\n",
    "- What variables would you have?\n",
    "- How would they be stored?\n",
    "- How many observations would you have?\n",
    "- What/who would the observations be? Over what time period?"
   ]
  },
  {
   "cell_type": "markdown",
   "id": "cf73ac5a",
   "metadata": {
    "id": "cf73ac5a"
   },
   "source": [
    "# Ethics & Privacy"
   ]
  },
  {
   "cell_type": "markdown",
   "id": "d393e7bd",
   "metadata": {
    "id": "d393e7bd"
   },
   "source": [
    "Acknowledge and address any ethics & privacy related issues of your question(s), proposed dataset(s), and/or analyses. Questions to think about:\n",
    "\n",
    "- Are there any biases/privacy/terms of use issues with the data you propsed?\n",
    "- Are there potential biases in your dataset(s), in terms of who it composes, and how it was collected, that may be problematic in terms of it allowing for equitable analysis? (For example, does your data exclude particular populations, or is it likely to reflect particular human biases in a way that could be a problem?)\n",
    "- How will you set out to detect these specific biases before, during, and after/when communicating your analysis?\n",
    "- Are there any other issues related to your topic area, data, and/or analyses that are potentially problematic in terms of data privacy and equitable impact?\n",
    "- How will you handle issues you identified?\n",
    "\n",
    "Twitter is potentially an inaccurate measure of the greater population as those willing to post their opinions on Twitter may be a certain type of person (for example, more politically opinionated or active). \n",
    "\n",
    "In terms of privacy, Twitter tweets and police statistics are public. Twitter User ID will be removed."
   ]
  },
  {
   "cell_type": "markdown",
   "id": "371848e3",
   "metadata": {
    "id": "371848e3"
   },
   "source": [
    "# Team Expectation"
   ]
  },
  {
   "cell_type": "markdown",
   "id": "c0d6d49f",
   "metadata": {
    "id": "c0d6d49f"
   },
   "source": [
    "Put things here that cement how you will interact/communicate as a team, how you will handle conflict and difficulty, how you will handle making decisions and setting goals/schedule, how much work you expect from each other, how you will handle deadlines, etc..."
   ]
  },
  {
   "cell_type": "markdown",
   "id": "adaac2d5",
   "metadata": {
    "id": "adaac2d5"
   },
   "source": [
    "* *Team Expectation 1*\n",
    "* *Team Expectation 2*\n",
    "* *Team Expecation 3*\n",
    "* ..."
   ]
  },
  {
   "cell_type": "markdown",
   "id": "60d6ee7a",
   "metadata": {
    "id": "60d6ee7a"
   },
   "source": [
    "# Project Checklist"
   ]
  },
  {
   "cell_type": "markdown",
   "id": "546d479c",
   "metadata": {
    "id": "546d479c"
   },
   "source": [
    "* Clean the MPV data\n",
    "* Clean BLM Tweet data\n",
    "* Sentiment Analysis of Tweets\n",
    "* EDA"
   ]
  },
  {
   "cell_type": "code",
   "execution_count": null,
   "id": "cb5829c9",
   "metadata": {
    "id": "cb5829c9"
   },
   "outputs": [],
   "source": []
  }
 ],
 "metadata": {
  "colab": {
   "collapsed_sections": [],
   "name": "project_proposal_dds.ipynb",
   "provenance": []
  },
  "kernelspec": {
   "display_name": "Python 3 (ipykernel)",
   "language": "python",
   "name": "python3"
  },
  "language_info": {
   "codemirror_mode": {
    "name": "ipython",
    "version": 3
   },
   "file_extension": ".py",
   "mimetype": "text/x-python",
   "name": "python",
   "nbconvert_exporter": "python",
   "pygments_lexer": "ipython3",
   "version": "3.9.7"
  }
 },
 "nbformat": 4,
 "nbformat_minor": 5
}
