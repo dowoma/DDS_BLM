{
 "cells": [
  {
   "cell_type": "markdown",
   "id": "015d1098",
   "metadata": {},
   "source": [
    "# Project Proposal"
   ]
  },
  {
   "cell_type": "markdown",
   "id": "671d91f8",
   "metadata": {},
   "source": [
    "# Names"
   ]
  },
  {
   "cell_type": "markdown",
   "id": "ed575082",
   "metadata": {},
   "source": [
    "- Dima Musa\n",
    "-\n",
    "-\n",
    "-\n",
    "-"
   ]
  },
  {
   "cell_type": "markdown",
   "id": "4acaf76d",
   "metadata": {},
   "source": [
    "# Background"
   ]
  },
  {
   "cell_type": "markdown",
   "id": "8e3a025d",
   "metadata": {},
   "source": [
    "Fill in the background and discuss the kind of prior work that has gone on in this research area here. Remeber you are trying to explain why someone would want to answer your question or why your hypothesis is in the form that you've stated. \n",
    "\n",
    "This section will present the background and context of your topic and question in a few paragraphs. Include a general introduction to your topic and then describe what information you currently know about the topic after doing your initial research. Include references to other projects who have asked similar questions or approached similar problems. Explain what others have learned in their projects.\n",
    "\n",
    "Find some relevant prior work, and reference those sources, summarizing what each did and what they learned. Even if you think you have a totally novel question, find the most similar prior work that you can and discuss how it relates to your project.\n",
    "\n",
    "References can be research publications, but they need not be. Blogs, GitHub repositories, company websites, etc., are all viable references if they are relevant to your project. It must be clear which information comes from which references."
   ]
  },
  {
   "cell_type": "markdown",
   "id": "fb9a67ce",
   "metadata": {},
   "source": [
    "# Hypothesis"
   ]
  },
  {
   "cell_type": "markdown",
   "id": "602b21a7",
   "metadata": {},
   "source": [
    " What is your main hypothesis/predictions about what the answer to your question is? Briefly explain your thinking."
   ]
  },
  {
   "cell_type": "markdown",
   "id": "ee41ba95",
   "metadata": {},
   "source": [
    "# Proposed Approach to Hypothesis"
   ]
  },
  {
   "cell_type": "markdown",
   "id": "9b25034d",
   "metadata": {},
   "source": [
    "In this section, clearly describe an approach to the hypothesis. The approach should be applicable to the project domain and appropriate for the dataset(s) or input(s) given. Provide enough detail (e.g., algorithmic descriptions) to convince us that your approach is applicable. \n",
    "\n",
    "If you know details already, describe how (e.g., library used, function calls) you plan to implement the approach in a way that is reproducible."
   ]
  },
  {
   "cell_type": "markdown",
   "id": "57b9bfe9",
   "metadata": {},
   "source": [
    "# Data"
   ]
  },
  {
   "cell_type": "markdown",
   "id": "4a99946e",
   "metadata": {},
   "source": [
    "For each dataset:\n",
    "- What variables would you have?\n",
    "- How would they be stored?\n",
    "- How many observations would you have?\n",
    "- What/who would the observations be? Over what time period?"
   ]
  },
  {
   "cell_type": "markdown",
   "id": "cf73ac5a",
   "metadata": {},
   "source": [
    "# Ethics & Privacy"
   ]
  },
  {
   "cell_type": "markdown",
   "id": "d393e7bd",
   "metadata": {},
   "source": [
    "Acknowledge and address any ethics & privacy related issues of your question(s), proposed dataset(s), and/or analyses. Questions to think about:\n",
    "\n",
    "- Are there any biases/privacy/terms of use issues with the data you propsed?\n",
    "- Are there potential biases in your dataset(s), in terms of who it composes, and how it was collected, that may be problematic in terms of it allowing for equitable analysis? (For example, does your data exclude particular populations, or is it likely to reflect particular human biases in a way that could be a problem?)\n",
    "- How will you set out to detect these specific biases before, during, and after/when communicating your analysis?\n",
    "- Are there any other issues related to your topic area, data, and/or analyses that are potentially problematic in terms of data privacy and equitable impact?\n",
    "- How will you handle issues you identified?"
   ]
  },
  {
   "cell_type": "markdown",
   "id": "371848e3",
   "metadata": {},
   "source": [
    "# Team Expectation"
   ]
  },
  {
   "cell_type": "markdown",
   "id": "c0d6d49f",
   "metadata": {},
   "source": [
    "Put things here that cement how you will interact/communicate as a team, how you will handle conflict and difficulty, how you will handle making decisions and setting goals/schedule, how much work you expect from each other, how you will handle deadlines, etc..."
   ]
  },
  {
   "cell_type": "markdown",
   "id": "adaac2d5",
   "metadata": {},
   "source": [
    "* *Team Expectation 1*\n",
    "* *Team Expectation 2*\n",
    "* *Team Expecation 3*\n",
    "* ..."
   ]
  },
  {
   "cell_type": "markdown",
   "id": "60d6ee7a",
   "metadata": {},
   "source": [
    "# Project Checklist"
   ]
  },
  {
   "cell_type": "markdown",
   "id": "546d479c",
   "metadata": {},
   "source": [
    "* EDA\n",
    "* ...\n",
    "*\n",
    "*"
   ]
  },
  {
   "cell_type": "code",
   "execution_count": null,
   "id": "cb5829c9",
   "metadata": {},
   "outputs": [],
   "source": []
  }
 ],
 "metadata": {
  "kernelspec": {
   "display_name": "Python 3 (ipykernel)",
   "language": "python",
   "name": "python3"
  },
  "language_info": {
   "codemirror_mode": {
    "name": "ipython",
    "version": 3
   },
   "file_extension": ".py",
   "mimetype": "text/x-python",
   "name": "python",
   "nbconvert_exporter": "python",
   "pygments_lexer": "ipython3",
   "version": "3.9.7"
  }
 },
 "nbformat": 4,
 "nbformat_minor": 5
}
