{
 "cells": [
  {
   "cell_type": "markdown",
   "id": "70019d48",
   "metadata": {},
   "source": [
    "## Setup"
   ]
  },
  {
   "cell_type": "code",
   "execution_count": 1,
   "id": "2dddc764",
   "metadata": {},
   "outputs": [],
   "source": [
    "# imports\n",
    "import numpy as np\n",
    "import pandas as pd\n",
    "import seaborn as sns\n",
    "from matplotlib import pyplot as plt\n",
    "import glob\n",
    "import os \n",
    "import shutil"
   ]
  },
  {
   "cell_type": "markdown",
   "id": "afc263c1",
   "metadata": {},
   "source": [
    "## Police Data Cleaning"
   ]
  },
  {
   "cell_type": "code",
   "execution_count": 2,
   "id": "d6fc9ee9",
   "metadata": {},
   "outputs": [
    {
     "data": {
      "text/html": [
       "<div>\n",
       "<style scoped>\n",
       "    .dataframe tbody tr th:only-of-type {\n",
       "        vertical-align: middle;\n",
       "    }\n",
       "\n",
       "    .dataframe tbody tr th {\n",
       "        vertical-align: top;\n",
       "    }\n",
       "\n",
       "    .dataframe thead th {\n",
       "        text-align: right;\n",
       "    }\n",
       "</style>\n",
       "<table border=\"1\" class=\"dataframe\">\n",
       "  <thead>\n",
       "    <tr style=\"text-align: right;\">\n",
       "      <th></th>\n",
       "      <th>cause_of_death</th>\n",
       "      <th>race</th>\n",
       "      <th>date</th>\n",
       "      <th>officer_charged</th>\n",
       "      <th>armed</th>\n",
       "    </tr>\n",
       "  </thead>\n",
       "  <tbody>\n",
       "    <tr>\n",
       "      <th>0</th>\n",
       "      <td>NaN</td>\n",
       "      <td>Black</td>\n",
       "      <td>3/14/2022</td>\n",
       "      <td>NaN</td>\n",
       "      <td>Allegedly Armed</td>\n",
       "    </tr>\n",
       "    <tr>\n",
       "      <th>1</th>\n",
       "      <td>NaN</td>\n",
       "      <td>White</td>\n",
       "      <td>3/12/2022</td>\n",
       "      <td>NaN</td>\n",
       "      <td>Allegedly Armed</td>\n",
       "    </tr>\n",
       "    <tr>\n",
       "      <th>2</th>\n",
       "      <td>Gunshot</td>\n",
       "      <td>White</td>\n",
       "      <td>3/12/2022</td>\n",
       "      <td>No Known Charges</td>\n",
       "      <td>Allegedly Armed</td>\n",
       "    </tr>\n",
       "    <tr>\n",
       "      <th>3</th>\n",
       "      <td>Gunshot</td>\n",
       "      <td>NaN</td>\n",
       "      <td>3/12/2022</td>\n",
       "      <td>No Known Charges</td>\n",
       "      <td>Allegedly Armed</td>\n",
       "    </tr>\n",
       "    <tr>\n",
       "      <th>4</th>\n",
       "      <td>Gunshot</td>\n",
       "      <td>White</td>\n",
       "      <td>3/11/2022</td>\n",
       "      <td>No Known Charges</td>\n",
       "      <td>Allegedly Armed</td>\n",
       "    </tr>\n",
       "    <tr>\n",
       "      <th>...</th>\n",
       "      <td>...</td>\n",
       "      <td>...</td>\n",
       "      <td>...</td>\n",
       "      <td>...</td>\n",
       "      <td>...</td>\n",
       "    </tr>\n",
       "    <tr>\n",
       "      <th>10070</th>\n",
       "      <td>Gunshot</td>\n",
       "      <td>Hispanic</td>\n",
       "      <td>1/1/2013</td>\n",
       "      <td>No Known Charges</td>\n",
       "      <td>Unclear</td>\n",
       "    </tr>\n",
       "    <tr>\n",
       "      <th>10071</th>\n",
       "      <td>Gunshot</td>\n",
       "      <td>Black</td>\n",
       "      <td>1/1/2013</td>\n",
       "      <td>No Known Charges</td>\n",
       "      <td>Allegedly Armed</td>\n",
       "    </tr>\n",
       "    <tr>\n",
       "      <th>10072</th>\n",
       "      <td>Gunshot</td>\n",
       "      <td>White</td>\n",
       "      <td>1/1/2013</td>\n",
       "      <td>No Known Charges</td>\n",
       "      <td>Allegedly Armed</td>\n",
       "    </tr>\n",
       "    <tr>\n",
       "      <th>10073</th>\n",
       "      <td>Gunshot</td>\n",
       "      <td>Hispanic</td>\n",
       "      <td>1/1/2013</td>\n",
       "      <td>No Known Charges</td>\n",
       "      <td>Allegedly Armed</td>\n",
       "    </tr>\n",
       "    <tr>\n",
       "      <th>10074</th>\n",
       "      <td>Taser</td>\n",
       "      <td>White</td>\n",
       "      <td>1/1/2013</td>\n",
       "      <td>No Known Charges</td>\n",
       "      <td>Unarmed/Did Not Have Actual Weapon</td>\n",
       "    </tr>\n",
       "  </tbody>\n",
       "</table>\n",
       "<p>10075 rows × 5 columns</p>\n",
       "</div>"
      ],
      "text/plain": [
       "      cause_of_death      race       date   officer_charged  \\\n",
       "0                NaN     Black  3/14/2022               NaN   \n",
       "1                NaN     White  3/12/2022               NaN   \n",
       "2            Gunshot     White  3/12/2022  No Known Charges   \n",
       "3            Gunshot       NaN  3/12/2022  No Known Charges   \n",
       "4            Gunshot     White  3/11/2022  No Known Charges   \n",
       "...              ...       ...        ...               ...   \n",
       "10070        Gunshot  Hispanic   1/1/2013  No Known Charges   \n",
       "10071        Gunshot     Black   1/1/2013  No Known Charges   \n",
       "10072        Gunshot     White   1/1/2013  No Known Charges   \n",
       "10073        Gunshot  Hispanic   1/1/2013  No Known Charges   \n",
       "10074          Taser     White   1/1/2013  No Known Charges   \n",
       "\n",
       "                                    armed  \n",
       "0                         Allegedly Armed  \n",
       "1                         Allegedly Armed  \n",
       "2                         Allegedly Armed  \n",
       "3                         Allegedly Armed  \n",
       "4                         Allegedly Armed  \n",
       "...                                   ...  \n",
       "10070                             Unclear  \n",
       "10071                     Allegedly Armed  \n",
       "10072                     Allegedly Armed  \n",
       "10073                     Allegedly Armed  \n",
       "10074  Unarmed/Did Not Have Actual Weapon  \n",
       "\n",
       "[10075 rows x 5 columns]"
      ]
     },
     "execution_count": 2,
     "metadata": {},
     "output_type": "execute_result"
    }
   ],
   "source": [
    "df = pd.read_csv('Mapping Police Violence-Grid view.csv')\n",
    "mpv = df[['cause_of_death','race','date','officer_charged','allegedly_armed']]\n",
    "#renaming \"allegedly_armed\" to \"armed\"\n",
    "mpv = mpv.rename(columns={'allegedly_armed': 'armed'})\n",
    "mpv"
   ]
  },
  {
   "cell_type": "code",
   "execution_count": 3,
   "id": "077043ba",
   "metadata": {},
   "outputs": [
    {
     "data": {
      "text/html": [
       "<div>\n",
       "<style scoped>\n",
       "    .dataframe tbody tr th:only-of-type {\n",
       "        vertical-align: middle;\n",
       "    }\n",
       "\n",
       "    .dataframe tbody tr th {\n",
       "        vertical-align: top;\n",
       "    }\n",
       "\n",
       "    .dataframe thead th {\n",
       "        text-align: right;\n",
       "    }\n",
       "</style>\n",
       "<table border=\"1\" class=\"dataframe\">\n",
       "  <thead>\n",
       "    <tr style=\"text-align: right;\">\n",
       "      <th></th>\n",
       "      <th>cause_of_death</th>\n",
       "      <th>race</th>\n",
       "      <th>date</th>\n",
       "      <th>officer_charged</th>\n",
       "      <th>armed</th>\n",
       "    </tr>\n",
       "  </thead>\n",
       "  <tbody>\n",
       "    <tr>\n",
       "      <th>0</th>\n",
       "      <td>NaN</td>\n",
       "      <td>Black</td>\n",
       "      <td>2022-03-14</td>\n",
       "      <td>NaN</td>\n",
       "      <td>Allegedly Armed</td>\n",
       "    </tr>\n",
       "    <tr>\n",
       "      <th>1</th>\n",
       "      <td>NaN</td>\n",
       "      <td>White</td>\n",
       "      <td>2022-03-12</td>\n",
       "      <td>NaN</td>\n",
       "      <td>Allegedly Armed</td>\n",
       "    </tr>\n",
       "    <tr>\n",
       "      <th>2</th>\n",
       "      <td>Gunshot</td>\n",
       "      <td>White</td>\n",
       "      <td>2022-03-12</td>\n",
       "      <td>No Known Charges</td>\n",
       "      <td>Allegedly Armed</td>\n",
       "    </tr>\n",
       "    <tr>\n",
       "      <th>3</th>\n",
       "      <td>Gunshot</td>\n",
       "      <td>NaN</td>\n",
       "      <td>2022-03-12</td>\n",
       "      <td>No Known Charges</td>\n",
       "      <td>Allegedly Armed</td>\n",
       "    </tr>\n",
       "    <tr>\n",
       "      <th>4</th>\n",
       "      <td>Gunshot</td>\n",
       "      <td>White</td>\n",
       "      <td>2022-03-11</td>\n",
       "      <td>No Known Charges</td>\n",
       "      <td>Allegedly Armed</td>\n",
       "    </tr>\n",
       "    <tr>\n",
       "      <th>...</th>\n",
       "      <td>...</td>\n",
       "      <td>...</td>\n",
       "      <td>...</td>\n",
       "      <td>...</td>\n",
       "      <td>...</td>\n",
       "    </tr>\n",
       "    <tr>\n",
       "      <th>10070</th>\n",
       "      <td>Gunshot</td>\n",
       "      <td>Hispanic</td>\n",
       "      <td>2013-01-01</td>\n",
       "      <td>No Known Charges</td>\n",
       "      <td>Unclear</td>\n",
       "    </tr>\n",
       "    <tr>\n",
       "      <th>10071</th>\n",
       "      <td>Gunshot</td>\n",
       "      <td>Black</td>\n",
       "      <td>2013-01-01</td>\n",
       "      <td>No Known Charges</td>\n",
       "      <td>Allegedly Armed</td>\n",
       "    </tr>\n",
       "    <tr>\n",
       "      <th>10072</th>\n",
       "      <td>Gunshot</td>\n",
       "      <td>White</td>\n",
       "      <td>2013-01-01</td>\n",
       "      <td>No Known Charges</td>\n",
       "      <td>Allegedly Armed</td>\n",
       "    </tr>\n",
       "    <tr>\n",
       "      <th>10073</th>\n",
       "      <td>Gunshot</td>\n",
       "      <td>Hispanic</td>\n",
       "      <td>2013-01-01</td>\n",
       "      <td>No Known Charges</td>\n",
       "      <td>Allegedly Armed</td>\n",
       "    </tr>\n",
       "    <tr>\n",
       "      <th>10074</th>\n",
       "      <td>Taser</td>\n",
       "      <td>White</td>\n",
       "      <td>2013-01-01</td>\n",
       "      <td>No Known Charges</td>\n",
       "      <td>Unarmed/Did Not Have Actual Weapon</td>\n",
       "    </tr>\n",
       "  </tbody>\n",
       "</table>\n",
       "<p>10075 rows × 5 columns</p>\n",
       "</div>"
      ],
      "text/plain": [
       "      cause_of_death      race       date   officer_charged  \\\n",
       "0                NaN     Black 2022-03-14               NaN   \n",
       "1                NaN     White 2022-03-12               NaN   \n",
       "2            Gunshot     White 2022-03-12  No Known Charges   \n",
       "3            Gunshot       NaN 2022-03-12  No Known Charges   \n",
       "4            Gunshot     White 2022-03-11  No Known Charges   \n",
       "...              ...       ...        ...               ...   \n",
       "10070        Gunshot  Hispanic 2013-01-01  No Known Charges   \n",
       "10071        Gunshot     Black 2013-01-01  No Known Charges   \n",
       "10072        Gunshot     White 2013-01-01  No Known Charges   \n",
       "10073        Gunshot  Hispanic 2013-01-01  No Known Charges   \n",
       "10074          Taser     White 2013-01-01  No Known Charges   \n",
       "\n",
       "                                    armed  \n",
       "0                         Allegedly Armed  \n",
       "1                         Allegedly Armed  \n",
       "2                         Allegedly Armed  \n",
       "3                         Allegedly Armed  \n",
       "4                         Allegedly Armed  \n",
       "...                                   ...  \n",
       "10070                             Unclear  \n",
       "10071                     Allegedly Armed  \n",
       "10072                     Allegedly Armed  \n",
       "10073                     Allegedly Armed  \n",
       "10074  Unarmed/Did Not Have Actual Weapon  \n",
       "\n",
       "[10075 rows x 5 columns]"
      ]
     },
     "execution_count": 3,
     "metadata": {},
     "output_type": "execute_result"
    }
   ],
   "source": [
    "# Converting 'date' column into datatype 'pandas Timestamp'\n",
    "\n",
    "mpv['date'] = pd.to_datetime(mpv['date'], infer_datetime_format=True)\n",
    "mpv"
   ]
  },
  {
   "cell_type": "code",
   "execution_count": 130,
   "id": "ddd75ebc",
   "metadata": {},
   "outputs": [
    {
     "data": {
      "text/plain": [
       "pandas._libs.tslibs.timestamps.Timestamp"
      ]
     },
     "execution_count": 130,
     "metadata": {},
     "output_type": "execute_result"
    }
   ],
   "source": [
    "type(mpv['date'].iloc[0])"
   ]
  },
  {
   "cell_type": "code",
   "execution_count": 4,
   "id": "4cd55ce5",
   "metadata": {},
   "outputs": [
    {
     "data": {
      "text/html": [
       "<div>\n",
       "<style scoped>\n",
       "    .dataframe tbody tr th:only-of-type {\n",
       "        vertical-align: middle;\n",
       "    }\n",
       "\n",
       "    .dataframe tbody tr th {\n",
       "        vertical-align: top;\n",
       "    }\n",
       "\n",
       "    .dataframe thead th {\n",
       "        text-align: right;\n",
       "    }\n",
       "</style>\n",
       "<table border=\"1\" class=\"dataframe\">\n",
       "  <thead>\n",
       "    <tr style=\"text-align: right;\">\n",
       "      <th></th>\n",
       "      <th>cause_of_death</th>\n",
       "      <th>race</th>\n",
       "      <th>officer_charged</th>\n",
       "      <th>armed</th>\n",
       "    </tr>\n",
       "    <tr>\n",
       "      <th>date</th>\n",
       "      <th></th>\n",
       "      <th></th>\n",
       "      <th></th>\n",
       "      <th></th>\n",
       "    </tr>\n",
       "  </thead>\n",
       "  <tbody>\n",
       "    <tr>\n",
       "      <th>2021-12-31</th>\n",
       "      <td>Gunshot</td>\n",
       "      <td>Unknown race</td>\n",
       "      <td>No Known Charges</td>\n",
       "      <td>Vehicle</td>\n",
       "    </tr>\n",
       "    <tr>\n",
       "      <th>2021-12-31</th>\n",
       "      <td>Gunshot</td>\n",
       "      <td>Unknown race</td>\n",
       "      <td>No Known Charges</td>\n",
       "      <td>Allegedly Armed</td>\n",
       "    </tr>\n",
       "    <tr>\n",
       "      <th>2021-12-29</th>\n",
       "      <td>Gunshot</td>\n",
       "      <td>Black</td>\n",
       "      <td>No Known Charges</td>\n",
       "      <td>Allegedly Armed</td>\n",
       "    </tr>\n",
       "    <tr>\n",
       "      <th>2021-12-29</th>\n",
       "      <td>Gunshot</td>\n",
       "      <td>Black</td>\n",
       "      <td>No Known Charges</td>\n",
       "      <td>Unclear</td>\n",
       "    </tr>\n",
       "    <tr>\n",
       "      <th>2021-12-28</th>\n",
       "      <td>Gunshot</td>\n",
       "      <td>Black</td>\n",
       "      <td>No Known Charges</td>\n",
       "      <td>Allegedly Armed</td>\n",
       "    </tr>\n",
       "    <tr>\n",
       "      <th>...</th>\n",
       "      <td>...</td>\n",
       "      <td>...</td>\n",
       "      <td>...</td>\n",
       "      <td>...</td>\n",
       "    </tr>\n",
       "    <tr>\n",
       "      <th>2013-01-01</th>\n",
       "      <td>Gunshot</td>\n",
       "      <td>Hispanic</td>\n",
       "      <td>No Known Charges</td>\n",
       "      <td>Unclear</td>\n",
       "    </tr>\n",
       "    <tr>\n",
       "      <th>2013-01-01</th>\n",
       "      <td>Gunshot</td>\n",
       "      <td>Black</td>\n",
       "      <td>No Known Charges</td>\n",
       "      <td>Allegedly Armed</td>\n",
       "    </tr>\n",
       "    <tr>\n",
       "      <th>2013-01-01</th>\n",
       "      <td>Gunshot</td>\n",
       "      <td>White</td>\n",
       "      <td>No Known Charges</td>\n",
       "      <td>Allegedly Armed</td>\n",
       "    </tr>\n",
       "    <tr>\n",
       "      <th>2013-01-01</th>\n",
       "      <td>Gunshot</td>\n",
       "      <td>Hispanic</td>\n",
       "      <td>No Known Charges</td>\n",
       "      <td>Allegedly Armed</td>\n",
       "    </tr>\n",
       "    <tr>\n",
       "      <th>2013-01-01</th>\n",
       "      <td>Taser</td>\n",
       "      <td>White</td>\n",
       "      <td>No Known Charges</td>\n",
       "      <td>Unarmed/Did Not Have Actual Weapon</td>\n",
       "    </tr>\n",
       "  </tbody>\n",
       "</table>\n",
       "<p>9905 rows × 4 columns</p>\n",
       "</div>"
      ],
      "text/plain": [
       "           cause_of_death          race   officer_charged  \\\n",
       "date                                                        \n",
       "2021-12-31        Gunshot  Unknown race  No Known Charges   \n",
       "2021-12-31        Gunshot  Unknown race  No Known Charges   \n",
       "2021-12-29        Gunshot         Black  No Known Charges   \n",
       "2021-12-29        Gunshot         Black  No Known Charges   \n",
       "2021-12-28        Gunshot         Black  No Known Charges   \n",
       "...                   ...           ...               ...   \n",
       "2013-01-01        Gunshot      Hispanic  No Known Charges   \n",
       "2013-01-01        Gunshot         Black  No Known Charges   \n",
       "2013-01-01        Gunshot         White  No Known Charges   \n",
       "2013-01-01        Gunshot      Hispanic  No Known Charges   \n",
       "2013-01-01          Taser         White  No Known Charges   \n",
       "\n",
       "                                         armed  \n",
       "date                                            \n",
       "2021-12-31                             Vehicle  \n",
       "2021-12-31                     Allegedly Armed  \n",
       "2021-12-29                     Allegedly Armed  \n",
       "2021-12-29                             Unclear  \n",
       "2021-12-28                     Allegedly Armed  \n",
       "...                                        ...  \n",
       "2013-01-01                             Unclear  \n",
       "2013-01-01                     Allegedly Armed  \n",
       "2013-01-01                     Allegedly Armed  \n",
       "2013-01-01                     Allegedly Armed  \n",
       "2013-01-01  Unarmed/Did Not Have Actual Weapon  \n",
       "\n",
       "[9905 rows x 4 columns]"
      ]
     },
     "execution_count": 4,
     "metadata": {},
     "output_type": "execute_result"
    }
   ],
   "source": [
    "# Removing incidents occuring on and after 2022-1-1 as we do not have tweets after that period\n",
    "cutoff_date = pd.Timestamp(2022, 1, 1)\n",
    "\n",
    "mpv = mpv[mpv.date < cutoff_date]\n",
    "\n",
    "# Setting date as index\n",
    "mpv.set_index('date')"
   ]
  },
  {
   "cell_type": "code",
   "execution_count": 7,
   "id": "ff520695",
   "metadata": {},
   "outputs": [
    {
     "name": "stdout",
     "output_type": "stream",
     "text": [
      "['Unknown race' 'Black' 'Hispanic' 'White' 'Pacific Islander'\n",
      " 'Native American' 'Asian' nan]\n",
      "['Gunshot' 'Gunshot,Taser' 'Taser' 'Beaten' 'Vehicle' 'Physical Restraint'\n",
      " 'Taser,Physical Restraint' 'Gunshot,Vehicle' 'Other' 'Chemical Agent'\n",
      " 'Bean bag' 'Pepper Spray' 'Asphyxiated' 'Bomb' nan]\n",
      "['Vehicle' 'Allegedly Armed' 'Unclear'\n",
      " 'Unarmed/Did Not Have Actual Weapon' nan]\n"
     ]
    }
   ],
   "source": [
    "print(mpv['race'].unique())\n",
    "print(mpv['cause_of_death'].unique())\n",
    "print(mpv['armed'].unique())"
   ]
  },
  {
   "cell_type": "code",
   "execution_count": 8,
   "id": "a85ac31e",
   "metadata": {},
   "outputs": [],
   "source": [
    "# Removing 'unknown race'\n",
    "mpv = mpv[mpv['race'] != 'Unknown race']"
   ]
  },
  {
   "cell_type": "code",
   "execution_count": 9,
   "id": "af0c558d",
   "metadata": {},
   "outputs": [
    {
     "data": {
      "text/plain": [
       "Allegedly Armed                       6338\n",
       "Unarmed/Did Not Have Actual Weapon    1244\n",
       "Unclear                                795\n",
       "Vehicle                                578\n",
       "Name: armed, dtype: int64"
      ]
     },
     "execution_count": 9,
     "metadata": {},
     "output_type": "execute_result"
    }
   ],
   "source": [
    "mpv['armed'].value_counts()"
   ]
  },
  {
   "cell_type": "code",
   "execution_count": 10,
   "id": "03bfbf6e",
   "metadata": {},
   "outputs": [
    {
     "data": {
      "text/plain": [
       "Gunshot                     8265\n",
       "Gunshot,Taser                270\n",
       "Taser                        268\n",
       "Physical Restraint            49\n",
       "Vehicle                       43\n",
       "Beaten                        31\n",
       "Asphyxiated                    8\n",
       "Other                          6\n",
       "Pepper Spray                   5\n",
       "Taser,Physical Restraint       4\n",
       "Gunshot,Vehicle                2\n",
       "Chemical Agent                 1\n",
       "Bomb                           1\n",
       "Bean bag                       1\n",
       "Name: cause_of_death, dtype: int64"
      ]
     },
     "execution_count": 10,
     "metadata": {},
     "output_type": "execute_result"
    }
   ],
   "source": [
    "mpv['cause_of_death'].value_counts()\n",
    "#proportion of gunshot vs taser, assign to gunshot then"
   ]
  },
  {
   "cell_type": "code",
   "execution_count": 11,
   "id": "6a3b4f50",
   "metadata": {},
   "outputs": [
    {
     "name": "stdout",
     "output_type": "stream",
     "text": [
      "['No Known Charges' 'Charged with a crime' '\"Charged, Charges Dropped\"'\n",
      " '\"Charged, Convicted of Manslaughter\"' nan\n",
      " '\"Charged, Convicted, Sentenced to 22.5 years in prison\"'\n",
      " '\"Charged, Convicted\"'\n",
      " '\"Charged, Convicted, Sentenced to life in prison\"'\n",
      " '\"Charged, Convicted, Sentenced to 10 years in prison\"'\n",
      " '\"Charged, Convicted, Sentenced to 7 years in prison\"'\n",
      " '\"Charged, Acquitted\"'\n",
      " '\"Charged, Plead Guilty to Voluntary Manslaughter\"'\n",
      " '\"Charged, Convicted, Sentenced to 1 year in prison and 4 years probation\"'\n",
      " '\"Charged, Convicted, Sentenced to 25 years in prison\"'\n",
      " '\"Charged, Convicted, Sentenced to 2 years suspension and 3 years probation\"'\n",
      " '\"Charged, Convicted, Sentenced to 5-15 years in prison\"'\n",
      " '\"Charged, Convicted, Sentenced to 4.75 years in prison\"'\n",
      " '\"Charged, Mistrial\"'\n",
      " '\"Charged, Convicted, Sentenced to 15 years in prison\"'\n",
      " '\"Charged, Plead No Contest, Sentenced to 10 years probation\"'\n",
      " '\"Charged, Convicted, Sentenced to 6 years in prison\"'\n",
      " '\"Charged, Convicted, Sentenced to 10 Years of Prison\"'\n",
      " '\"Charged, Convicted, Sentenced to 1 year in prison\"'\n",
      " '\"Charged, Convicted, Sentenced to 14 years in prison\"'\n",
      " '\"Charged, Convicted, Sentenced to 3.5 years in prison\"'\n",
      " '\"Charged, Convicted, Sentenced to 5 years in prison\"'\n",
      " '\"Charged, Convicted, Sentenced to 55 years in prison\"'\n",
      " '\"Charged, Convicted, Sentenced to 40 years in prison\"'\n",
      " '\"Charged, Convicted, Sentenced to 3 months in jail\"'\n",
      " '\"Charged, Convicted, Sentenced to 30 years in prison\"'\n",
      " '\"Charged, Plead Guilty to Manslaughter, Sentenced to 5 years in prison\"'\n",
      " '\"Charged, Mistrial, Plead Guilty to Manslaughter\"'\n",
      " '\"Charged, Convicted, Sentenced to 2.5 years in prison\"'\n",
      " '\"Charged, Mistrial, Plead Guilty to Civil Rights Charges\"'\n",
      " '\"Charged, Convicted, Sentenced to 4 years\"'\n",
      " '\"Charged, Convicted, Sentenced to 40 years to Life in prison\"'\n",
      " '\"Charged, Convicted, Sentenced to 12 years in prison and 8 years in probation\"'\n",
      " '\"Charged, Convicted, Sentenced to 5 years probation.\"'\n",
      " '\"Charged, Convicted, Sentenced to 20 years in prison\"'\n",
      " '\"Charged, Convicted, Sentenced to 16 years in prison\"'\n",
      " '\"Charged, Convicted, Sentenced to life in prison without parole, plus 16 years\"'\n",
      " '\"Charged, Convicted, Sentenced to Life in Prison\"'\n",
      " '\"Charged, Convicted, Sentenced to 1 year in jail, 3 years suspended\"'\n",
      " '\"Charged, Convicted, Sentenced to 50 years\"'\n",
      " '\"Charged, Convicted, Sentenced to 18 months\"'\n",
      " '\"Charged, Convicted, Sentenced to 6 years\"']\n"
     ]
    }
   ],
   "source": [
    "print(mpv['officer_charged'].unique())"
   ]
  },
  {
   "cell_type": "code",
   "execution_count": 12,
   "id": "3a9094de",
   "metadata": {},
   "outputs": [
    {
     "data": {
      "text/html": [
       "<div>\n",
       "<style scoped>\n",
       "    .dataframe tbody tr th:only-of-type {\n",
       "        vertical-align: middle;\n",
       "    }\n",
       "\n",
       "    .dataframe tbody tr th {\n",
       "        vertical-align: top;\n",
       "    }\n",
       "\n",
       "    .dataframe thead th {\n",
       "        text-align: right;\n",
       "    }\n",
       "</style>\n",
       "<table border=\"1\" class=\"dataframe\">\n",
       "  <thead>\n",
       "    <tr style=\"text-align: right;\">\n",
       "      <th></th>\n",
       "      <th>cause_of_death</th>\n",
       "      <th>race</th>\n",
       "      <th>date</th>\n",
       "      <th>officer_charged</th>\n",
       "      <th>armed</th>\n",
       "    </tr>\n",
       "  </thead>\n",
       "  <tbody>\n",
       "    <tr>\n",
       "      <th>172</th>\n",
       "      <td>Gunshot</td>\n",
       "      <td>Black</td>\n",
       "      <td>2021-12-29</td>\n",
       "      <td>Not Charged</td>\n",
       "      <td>Allegedly Armed</td>\n",
       "    </tr>\n",
       "    <tr>\n",
       "      <th>173</th>\n",
       "      <td>Gunshot</td>\n",
       "      <td>Black</td>\n",
       "      <td>2021-12-29</td>\n",
       "      <td>Not Charged</td>\n",
       "      <td>Unclear</td>\n",
       "    </tr>\n",
       "    <tr>\n",
       "      <th>174</th>\n",
       "      <td>Gunshot</td>\n",
       "      <td>Black</td>\n",
       "      <td>2021-12-28</td>\n",
       "      <td>Not Charged</td>\n",
       "      <td>Allegedly Armed</td>\n",
       "    </tr>\n",
       "    <tr>\n",
       "      <th>178</th>\n",
       "      <td>Gunshot</td>\n",
       "      <td>Hispanic</td>\n",
       "      <td>2021-12-27</td>\n",
       "      <td>Not Charged</td>\n",
       "      <td>Allegedly Armed</td>\n",
       "    </tr>\n",
       "    <tr>\n",
       "      <th>180</th>\n",
       "      <td>Gunshot</td>\n",
       "      <td>Black</td>\n",
       "      <td>2021-12-27</td>\n",
       "      <td>Not Charged</td>\n",
       "      <td>Unclear</td>\n",
       "    </tr>\n",
       "    <tr>\n",
       "      <th>...</th>\n",
       "      <td>...</td>\n",
       "      <td>...</td>\n",
       "      <td>...</td>\n",
       "      <td>...</td>\n",
       "      <td>...</td>\n",
       "    </tr>\n",
       "    <tr>\n",
       "      <th>10070</th>\n",
       "      <td>Gunshot</td>\n",
       "      <td>Hispanic</td>\n",
       "      <td>2013-01-01</td>\n",
       "      <td>Not Charged</td>\n",
       "      <td>Unclear</td>\n",
       "    </tr>\n",
       "    <tr>\n",
       "      <th>10071</th>\n",
       "      <td>Gunshot</td>\n",
       "      <td>Black</td>\n",
       "      <td>2013-01-01</td>\n",
       "      <td>Not Charged</td>\n",
       "      <td>Allegedly Armed</td>\n",
       "    </tr>\n",
       "    <tr>\n",
       "      <th>10072</th>\n",
       "      <td>Gunshot</td>\n",
       "      <td>White</td>\n",
       "      <td>2013-01-01</td>\n",
       "      <td>Not Charged</td>\n",
       "      <td>Allegedly Armed</td>\n",
       "    </tr>\n",
       "    <tr>\n",
       "      <th>10073</th>\n",
       "      <td>Gunshot</td>\n",
       "      <td>Hispanic</td>\n",
       "      <td>2013-01-01</td>\n",
       "      <td>Not Charged</td>\n",
       "      <td>Allegedly Armed</td>\n",
       "    </tr>\n",
       "    <tr>\n",
       "      <th>10074</th>\n",
       "      <td>Taser</td>\n",
       "      <td>White</td>\n",
       "      <td>2013-01-01</td>\n",
       "      <td>Not Charged</td>\n",
       "      <td>Unarmed/Did Not Have Actual Weapon</td>\n",
       "    </tr>\n",
       "  </tbody>\n",
       "</table>\n",
       "<p>8956 rows × 5 columns</p>\n",
       "</div>"
      ],
      "text/plain": [
       "      cause_of_death      race       date officer_charged  \\\n",
       "172          Gunshot     Black 2021-12-29     Not Charged   \n",
       "173          Gunshot     Black 2021-12-29     Not Charged   \n",
       "174          Gunshot     Black 2021-12-28     Not Charged   \n",
       "178          Gunshot  Hispanic 2021-12-27     Not Charged   \n",
       "180          Gunshot     Black 2021-12-27     Not Charged   \n",
       "...              ...       ...        ...             ...   \n",
       "10070        Gunshot  Hispanic 2013-01-01     Not Charged   \n",
       "10071        Gunshot     Black 2013-01-01     Not Charged   \n",
       "10072        Gunshot     White 2013-01-01     Not Charged   \n",
       "10073        Gunshot  Hispanic 2013-01-01     Not Charged   \n",
       "10074          Taser     White 2013-01-01     Not Charged   \n",
       "\n",
       "                                    armed  \n",
       "172                       Allegedly Armed  \n",
       "173                               Unclear  \n",
       "174                       Allegedly Armed  \n",
       "178                       Allegedly Armed  \n",
       "180                               Unclear  \n",
       "...                                   ...  \n",
       "10070                             Unclear  \n",
       "10071                     Allegedly Armed  \n",
       "10072                     Allegedly Armed  \n",
       "10073                     Allegedly Armed  \n",
       "10074  Unarmed/Did Not Have Actual Weapon  \n",
       "\n",
       "[8956 rows x 5 columns]"
      ]
     },
     "execution_count": 12,
     "metadata": {},
     "output_type": "execute_result"
    }
   ],
   "source": [
    "#cleaning \"officer_charged\"\n",
    "\n",
    "mpv['officer_charged'] = mpv['officer_charged'].astype(str)\n",
    "\n",
    "mpv.loc[mpv['officer_charged'].str.contains('Charged') == True, \"officer_charged\"] = \"Charged\"\n",
    "mpv.loc[mpv['officer_charged'] == 'No Known Charges', 'officer_charged'] = \"Not Charged\"\n",
    "mpv.loc[mpv['officer_charged'] == 'nan', 'officer_charged'] = \"Unknown\"\n",
    "mpv"
   ]
  },
  {
   "cell_type": "code",
   "execution_count": 13,
   "id": "cac7e9a5",
   "metadata": {},
   "outputs": [
    {
     "name": "stdout",
     "output_type": "stream",
     "text": [
      "['Not Charged' 'Charged' 'Unknown']\n"
     ]
    },
    {
     "data": {
      "text/plain": [
       "str"
      ]
     },
     "execution_count": 13,
     "metadata": {},
     "output_type": "execute_result"
    }
   ],
   "source": [
    "print(mpv['officer_charged'].unique())\n",
    "type(mpv['officer_charged'].iloc[0])"
   ]
  },
  {
   "cell_type": "code",
   "execution_count": 14,
   "id": "df54440a",
   "metadata": {},
   "outputs": [
    {
     "name": "stdout",
     "output_type": "stream",
     "text": [
      "['Not Charged' 'Charged' 'Unknown']\n"
     ]
    }
   ],
   "source": [
    "print(mpv['officer_charged'].unique())"
   ]
  },
  {
   "cell_type": "code",
   "execution_count": 15,
   "id": "fb7fef89",
   "metadata": {},
   "outputs": [
    {
     "data": {
      "text/plain": [
       "cause_of_death             object\n",
       "race                       object\n",
       "date               datetime64[ns]\n",
       "officer_charged            object\n",
       "armed                      object\n",
       "dtype: object"
      ]
     },
     "execution_count": 15,
     "metadata": {},
     "output_type": "execute_result"
    }
   ],
   "source": [
    "mpv.dtypes\n",
    "#probably nan"
   ]
  },
  {
   "cell_type": "code",
   "execution_count": 16,
   "id": "a8447062",
   "metadata": {},
   "outputs": [],
   "source": [
    "#why the heck is it object and not int"
   ]
  },
  {
   "cell_type": "markdown",
   "id": "55dd92a4",
   "metadata": {},
   "source": [
    "## Variables"
   ]
  },
  {
   "cell_type": "markdown",
   "id": "b0e0118f",
   "metadata": {},
   "source": [
    "### Cause of Death\n",
    "\n",
    "Variable name: cause_of_death\n",
    "\n",
    "Data type: string\n",
    "\n",
    "Lists cause of death of police victims. Includes: NaN, gunshot, vehicle, taser, beaten, physical restraint, chemical agent, bean bag, pepper spray, asphyxiated, bomb, or multiple causes."
   ]
  },
  {
   "cell_type": "markdown",
   "id": "8d82f47e",
   "metadata": {},
   "source": [
    "### Victim's Race\n",
    "\n",
    "Variable name: race\n",
    "\n",
    "Data type: string\n",
    "\n",
    "Race of police victim, includes NaN, Black, White, Hispanic, Non-white, Unknown race, Pacific Islander, Native American, or Asian"
   ]
  },
  {
   "cell_type": "markdown",
   "id": "bc3c7dfd",
   "metadata": {},
   "source": [
    "### Date of Encounter\n",
    "\n",
    "Variable name: date\n",
    "\n",
    "Data type: pandas Timestamp\n",
    "\n",
    "Dates from 1/1/2013 to 10/1/2020 (MM/DD/YY)"
   ]
  },
  {
   "cell_type": "markdown",
   "id": "25062236",
   "metadata": {},
   "source": [
    "### Officer Charged\n",
    "\n",
    "Variable name: officer_charged\n",
    "\n",
    "Data type: string\n",
    "\n",
    "Whether or not the police officer responsible for violence any criminal or civil charges."
   ]
  },
  {
   "cell_type": "markdown",
   "id": "8dd61c33",
   "metadata": {},
   "source": [
    "### Victim Armed\n",
    "\n",
    "Variable name (in original date): allegedly_armed\n",
    "\n",
    "Variable name (in our data): armed\n",
    "\n",
    "Data type: string\n",
    "\n",
    "Whether or not victim was armed."
   ]
  },
  {
   "cell_type": "markdown",
   "id": "03f0d8b1",
   "metadata": {},
   "source": [
    "## Police EDA"
   ]
  },
  {
   "cell_type": "markdown",
   "id": "abc3113c",
   "metadata": {},
   "source": [
    "### Overview"
   ]
  },
  {
   "cell_type": "code",
   "execution_count": 5,
   "id": "ebe1337d",
   "metadata": {},
   "outputs": [
    {
     "name": "stderr",
     "output_type": "stream",
     "text": [
      "C:\\Users\\dmusa\\AppData\\Local\\Temp\\ipykernel_31060\\4133803289.py:2: SettingWithCopyWarning: \n",
      "A value is trying to be set on a copy of a slice from a DataFrame.\n",
      "Try using .loc[row_indexer,col_indexer] = value instead\n",
      "\n",
      "See the caveats in the documentation: https://pandas.pydata.org/pandas-docs/stable/user_guide/indexing.html#returning-a-view-versus-a-copy\n",
      "  mpv['count'] = 1\n",
      "C:\\Users\\dmusa\\AppData\\Local\\Temp\\ipykernel_31060\\4133803289.py:4: SettingWithCopyWarning: \n",
      "A value is trying to be set on a copy of a slice from a DataFrame.\n",
      "Try using .loc[row_indexer,col_indexer] = value instead\n",
      "\n",
      "See the caveats in the documentation: https://pandas.pydata.org/pandas-docs/stable/user_guide/indexing.html#returning-a-view-versus-a-copy\n",
      "  mpv['year'] = pd.DatetimeIndex(mpv['date']).year\n"
     ]
    },
    {
     "data": {
      "text/html": [
       "<div>\n",
       "<style scoped>\n",
       "    .dataframe tbody tr th:only-of-type {\n",
       "        vertical-align: middle;\n",
       "    }\n",
       "\n",
       "    .dataframe tbody tr th {\n",
       "        vertical-align: top;\n",
       "    }\n",
       "\n",
       "    .dataframe thead th {\n",
       "        text-align: right;\n",
       "    }\n",
       "</style>\n",
       "<table border=\"1\" class=\"dataframe\">\n",
       "  <thead>\n",
       "    <tr style=\"text-align: right;\">\n",
       "      <th></th>\n",
       "      <th>year</th>\n",
       "      <th>count</th>\n",
       "    </tr>\n",
       "  </thead>\n",
       "  <tbody>\n",
       "    <tr>\n",
       "      <th>0</th>\n",
       "      <td>2013</td>\n",
       "      <td>1087</td>\n",
       "    </tr>\n",
       "    <tr>\n",
       "      <th>1</th>\n",
       "      <td>2014</td>\n",
       "      <td>1049</td>\n",
       "    </tr>\n",
       "    <tr>\n",
       "      <th>2</th>\n",
       "      <td>2015</td>\n",
       "      <td>1102</td>\n",
       "    </tr>\n",
       "    <tr>\n",
       "      <th>3</th>\n",
       "      <td>2016</td>\n",
       "      <td>1070</td>\n",
       "    </tr>\n",
       "    <tr>\n",
       "      <th>4</th>\n",
       "      <td>2017</td>\n",
       "      <td>1092</td>\n",
       "    </tr>\n",
       "    <tr>\n",
       "      <th>5</th>\n",
       "      <td>2018</td>\n",
       "      <td>1144</td>\n",
       "    </tr>\n",
       "    <tr>\n",
       "      <th>6</th>\n",
       "      <td>2019</td>\n",
       "      <td>1096</td>\n",
       "    </tr>\n",
       "    <tr>\n",
       "      <th>7</th>\n",
       "      <td>2020</td>\n",
       "      <td>1128</td>\n",
       "    </tr>\n",
       "    <tr>\n",
       "      <th>8</th>\n",
       "      <td>2021</td>\n",
       "      <td>1137</td>\n",
       "    </tr>\n",
       "  </tbody>\n",
       "</table>\n",
       "</div>"
      ],
      "text/plain": [
       "   year  count\n",
       "0  2013   1087\n",
       "1  2014   1049\n",
       "2  2015   1102\n",
       "3  2016   1070\n",
       "4  2017   1092\n",
       "5  2018   1144\n",
       "6  2019   1096\n",
       "7  2020   1128\n",
       "8  2021   1137"
      ]
     },
     "execution_count": 5,
     "metadata": {},
     "output_type": "execute_result"
    }
   ],
   "source": [
    "# Temporarily adding a count column to help in making pivot tables. This will be dropped later.\n",
    "mpv['count'] = 1\n",
    "# Temporarily adding a year column to help in making pivot tables. This will be dropped later.\n",
    "mpv['year'] = pd.DatetimeIndex(mpv['date']).year\n",
    "\n",
    "deaths_over_time = mpv.groupby('year', as_index=False).count()\n",
    "deaths_table = deaths_over_time[['year', 'count']].copy()\n",
    "deaths_table"
   ]
  },
  {
   "cell_type": "markdown",
   "id": "9e93d6a7",
   "metadata": {},
   "source": [
    "We can graph this table to get a visual representation of this."
   ]
  },
  {
   "cell_type": "code",
   "execution_count": 6,
   "id": "1c7b2103",
   "metadata": {},
   "outputs": [
    {
     "data": {
      "image/png": "[encoded data removed]",
      "text/plain": [
       "<Figure size 432x288 with 1 Axes>"
      ]
     },
     "metadata": {
      "needs_background": "light"
     },
     "output_type": "display_data"
    }
   ],
   "source": [
    "prop_charged_vs_time = sns.lineplot(\n",
    "    data=deaths_table,\n",
    "    x='year',\n",
    "    y='count',\n",
    "    ).set(title = \"Deaths in police encounters over time\")"
   ]
  },
  {
   "cell_type": "markdown",
   "id": "56fa859f",
   "metadata": {},
   "source": [
    "### Victim's Race"
   ]
  },
  {
   "cell_type": "markdown",
   "id": "b33adfa9",
   "metadata": {},
   "source": [
    "Initial summary statistics"
   ]
  },
  {
   "cell_type": "code",
   "execution_count": 19,
   "id": "7bc3623c",
   "metadata": {},
   "outputs": [
    {
     "data": {
      "text/plain": [
       "<AxesSubplot:title={'center':\"Victim's Race Counts\"}>"
      ]
     },
     "execution_count": 19,
     "metadata": {},
     "output_type": "execute_result"
    },
    {
     "data": {
      "image/png": "[encoded data removed]",
      "text/plain": [
       "<Figure size 432x288 with 1 Axes>"
      ]
     },
     "metadata": {
      "needs_background": "light"
     },
     "output_type": "display_data"
    }
   ],
   "source": [
    "mpv['race'].value_counts().plot(kind='bar', title=\"Victim's Race Counts\")"
   ]
  },
  {
   "cell_type": "markdown",
   "id": "af06135b",
   "metadata": {},
   "source": [
    "We observe that the majority of victims were White, followed by Black, with the Pacific Islander category exhibiting the fewest victim cases. More specifically, in terms of percentages:"
   ]
  },
  {
   "cell_type": "code",
   "execution_count": 20,
   "id": "f60148f9",
   "metadata": {},
   "outputs": [
    {
     "data": {
      "text/plain": [
       "White               0.485485\n",
       "Black               0.278026\n",
       "Hispanic            0.198191\n",
       "Asian               0.015967\n",
       "Native American     0.015520\n",
       "Pacific Islander    0.006699\n",
       "Name: race, dtype: float64"
      ]
     },
     "execution_count": 20,
     "metadata": {},
     "output_type": "execute_result"
    }
   ],
   "source": [
    "mpv['race'].value_counts() / len(mpv['race'])"
   ]
  },
  {
   "cell_type": "markdown",
   "id": "75903da9",
   "metadata": {},
   "source": [
    "Next, we seek to view race in relation to cause of death. Did certain racial groups experience certain treatment?"
   ]
  },
  {
   "cell_type": "code",
   "execution_count": 21,
   "id": "517455e4",
   "metadata": {},
   "outputs": [
    {
     "data": {
      "text/html": [
       "<div>\n",
       "<style scoped>\n",
       "    .dataframe tbody tr th:only-of-type {\n",
       "        vertical-align: middle;\n",
       "    }\n",
       "\n",
       "    .dataframe tbody tr th {\n",
       "        vertical-align: top;\n",
       "    }\n",
       "\n",
       "    .dataframe thead tr th {\n",
       "        text-align: left;\n",
       "    }\n",
       "\n",
       "    .dataframe thead tr:last-of-type th {\n",
       "        text-align: right;\n",
       "    }\n",
       "</style>\n",
       "<table border=\"1\" class=\"dataframe\">\n",
       "  <thead>\n",
       "    <tr>\n",
       "      <th></th>\n",
       "      <th colspan=\"6\" halign=\"left\">date</th>\n",
       "    </tr>\n",
       "    <tr>\n",
       "      <th>race</th>\n",
       "      <th>Asian</th>\n",
       "      <th>Black</th>\n",
       "      <th>Hispanic</th>\n",
       "      <th>Native American</th>\n",
       "      <th>Pacific Islander</th>\n",
       "      <th>White</th>\n",
       "    </tr>\n",
       "    <tr>\n",
       "      <th>cause_of_death</th>\n",
       "      <th></th>\n",
       "      <th></th>\n",
       "      <th></th>\n",
       "      <th></th>\n",
       "      <th></th>\n",
       "      <th></th>\n",
       "    </tr>\n",
       "  </thead>\n",
       "  <tbody>\n",
       "    <tr>\n",
       "      <th>Asphyxiated</th>\n",
       "      <td>NaN</td>\n",
       "      <td>1.0</td>\n",
       "      <td>1.0</td>\n",
       "      <td>NaN</td>\n",
       "      <td>NaN</td>\n",
       "      <td>6.0</td>\n",
       "    </tr>\n",
       "    <tr>\n",
       "      <th>Bean bag</th>\n",
       "      <td>NaN</td>\n",
       "      <td>NaN</td>\n",
       "      <td>NaN</td>\n",
       "      <td>NaN</td>\n",
       "      <td>NaN</td>\n",
       "      <td>1.0</td>\n",
       "    </tr>\n",
       "    <tr>\n",
       "      <th>Beaten</th>\n",
       "      <td>1.0</td>\n",
       "      <td>9.0</td>\n",
       "      <td>8.0</td>\n",
       "      <td>1.0</td>\n",
       "      <td>NaN</td>\n",
       "      <td>12.0</td>\n",
       "    </tr>\n",
       "    <tr>\n",
       "      <th>Bomb</th>\n",
       "      <td>NaN</td>\n",
       "      <td>1.0</td>\n",
       "      <td>NaN</td>\n",
       "      <td>NaN</td>\n",
       "      <td>NaN</td>\n",
       "      <td>NaN</td>\n",
       "    </tr>\n",
       "    <tr>\n",
       "      <th>Chemical Agent</th>\n",
       "      <td>NaN</td>\n",
       "      <td>NaN</td>\n",
       "      <td>NaN</td>\n",
       "      <td>NaN</td>\n",
       "      <td>NaN</td>\n",
       "      <td>1.0</td>\n",
       "    </tr>\n",
       "    <tr>\n",
       "      <th>Gunshot</th>\n",
       "      <td>132.0</td>\n",
       "      <td>2259.0</td>\n",
       "      <td>1627.0</td>\n",
       "      <td>131.0</td>\n",
       "      <td>53.0</td>\n",
       "      <td>4063.0</td>\n",
       "    </tr>\n",
       "    <tr>\n",
       "      <th>Gunshot,Taser</th>\n",
       "      <td>4.0</td>\n",
       "      <td>79.0</td>\n",
       "      <td>56.0</td>\n",
       "      <td>4.0</td>\n",
       "      <td>5.0</td>\n",
       "      <td>122.0</td>\n",
       "    </tr>\n",
       "    <tr>\n",
       "      <th>Gunshot,Vehicle</th>\n",
       "      <td>NaN</td>\n",
       "      <td>NaN</td>\n",
       "      <td>1.0</td>\n",
       "      <td>NaN</td>\n",
       "      <td>NaN</td>\n",
       "      <td>1.0</td>\n",
       "    </tr>\n",
       "    <tr>\n",
       "      <th>Other</th>\n",
       "      <td>NaN</td>\n",
       "      <td>2.0</td>\n",
       "      <td>3.0</td>\n",
       "      <td>NaN</td>\n",
       "      <td>NaN</td>\n",
       "      <td>1.0</td>\n",
       "    </tr>\n",
       "    <tr>\n",
       "      <th>Pepper Spray</th>\n",
       "      <td>NaN</td>\n",
       "      <td>2.0</td>\n",
       "      <td>1.0</td>\n",
       "      <td>NaN</td>\n",
       "      <td>NaN</td>\n",
       "      <td>2.0</td>\n",
       "    </tr>\n",
       "    <tr>\n",
       "      <th>Physical Restraint</th>\n",
       "      <td>4.0</td>\n",
       "      <td>18.0</td>\n",
       "      <td>15.0</td>\n",
       "      <td>NaN</td>\n",
       "      <td>1.0</td>\n",
       "      <td>11.0</td>\n",
       "    </tr>\n",
       "    <tr>\n",
       "      <th>Taser</th>\n",
       "      <td>2.0</td>\n",
       "      <td>100.0</td>\n",
       "      <td>54.0</td>\n",
       "      <td>3.0</td>\n",
       "      <td>1.0</td>\n",
       "      <td>107.0</td>\n",
       "    </tr>\n",
       "    <tr>\n",
       "      <th>Taser,Physical Restraint</th>\n",
       "      <td>NaN</td>\n",
       "      <td>1.0</td>\n",
       "      <td>1.0</td>\n",
       "      <td>NaN</td>\n",
       "      <td>NaN</td>\n",
       "      <td>2.0</td>\n",
       "    </tr>\n",
       "    <tr>\n",
       "      <th>Vehicle</th>\n",
       "      <td>NaN</td>\n",
       "      <td>18.0</td>\n",
       "      <td>7.0</td>\n",
       "      <td>NaN</td>\n",
       "      <td>NaN</td>\n",
       "      <td>18.0</td>\n",
       "    </tr>\n",
       "  </tbody>\n",
       "</table>\n",
       "</div>"
      ],
      "text/plain": [
       "                           date                                   \\\n",
       "race                      Asian   Black Hispanic Native American   \n",
       "cause_of_death                                                     \n",
       "Asphyxiated                 NaN     1.0      1.0             NaN   \n",
       "Bean bag                    NaN     NaN      NaN             NaN   \n",
       "Beaten                      1.0     9.0      8.0             1.0   \n",
       "Bomb                        NaN     1.0      NaN             NaN   \n",
       "Chemical Agent              NaN     NaN      NaN             NaN   \n",
       "Gunshot                   132.0  2259.0   1627.0           131.0   \n",
       "Gunshot,Taser               4.0    79.0     56.0             4.0   \n",
       "Gunshot,Vehicle             NaN     NaN      1.0             NaN   \n",
       "Other                       NaN     2.0      3.0             NaN   \n",
       "Pepper Spray                NaN     2.0      1.0             NaN   \n",
       "Physical Restraint          4.0    18.0     15.0             NaN   \n",
       "Taser                       2.0   100.0     54.0             3.0   \n",
       "Taser,Physical Restraint    NaN     1.0      1.0             NaN   \n",
       "Vehicle                     NaN    18.0      7.0             NaN   \n",
       "\n",
       "                                                   \n",
       "race                     Pacific Islander   White  \n",
       "cause_of_death                                     \n",
       "Asphyxiated                           NaN     6.0  \n",
       "Bean bag                              NaN     1.0  \n",
       "Beaten                                NaN    12.0  \n",
       "Bomb                                  NaN     NaN  \n",
       "Chemical Agent                        NaN     1.0  \n",
       "Gunshot                              53.0  4063.0  \n",
       "Gunshot,Taser                         5.0   122.0  \n",
       "Gunshot,Vehicle                       NaN     1.0  \n",
       "Other                                 NaN     1.0  \n",
       "Pepper Spray                          NaN     2.0  \n",
       "Physical Restraint                    1.0    11.0  \n",
       "Taser                                 1.0   107.0  \n",
       "Taser,Physical Restraint              NaN     2.0  \n",
       "Vehicle                               NaN    18.0  "
      ]
     },
     "execution_count": 21,
     "metadata": {},
     "output_type": "execute_result"
    }
   ],
   "source": [
    "race_cd = pd.pivot_table(data=(mpv.groupby(['cause_of_death','race']).count())[['date']],\n",
    "                         index='cause_of_death',columns='race',aggfunc=np.sum)\n",
    "race_cd"
   ]
  },
  {
   "cell_type": "code",
   "execution_count": 22,
   "id": "b7c80ade",
   "metadata": {},
   "outputs": [
    {
     "data": {
      "text/plain": [
       "      race            \n",
       "date  Asian               Gunshot\n",
       "      Black               Gunshot\n",
       "      Hispanic            Gunshot\n",
       "      Native American     Gunshot\n",
       "      Pacific Islander    Gunshot\n",
       "      White               Gunshot\n",
       "dtype: object"
      ]
     },
     "execution_count": 22,
     "metadata": {},
     "output_type": "execute_result"
    }
   ],
   "source": [
    "race_cd.idxmax()"
   ]
  },
  {
   "cell_type": "markdown",
   "id": "90c268e1",
   "metadata": {},
   "source": [
    "Here we actually see that gunshot was the most common cause of death across all races."
   ]
  },
  {
   "cell_type": "markdown",
   "id": "b578e3a9",
   "metadata": {},
   "source": [
    "Next, let's see how victim race relates to year of incident."
   ]
  },
  {
   "cell_type": "code",
   "execution_count": 23,
   "id": "991191c6",
   "metadata": {},
   "outputs": [
    {
     "data": {
      "text/html": [
       "<div>\n",
       "<style scoped>\n",
       "    .dataframe tbody tr th:only-of-type {\n",
       "        vertical-align: middle;\n",
       "    }\n",
       "\n",
       "    .dataframe tbody tr th {\n",
       "        vertical-align: top;\n",
       "    }\n",
       "\n",
       "    .dataframe thead tr th {\n",
       "        text-align: left;\n",
       "    }\n",
       "\n",
       "    .dataframe thead tr:last-of-type th {\n",
       "        text-align: right;\n",
       "    }\n",
       "</style>\n",
       "<table border=\"1\" class=\"dataframe\">\n",
       "  <thead>\n",
       "    <tr>\n",
       "      <th></th>\n",
       "      <th colspan=\"6\" halign=\"left\">date</th>\n",
       "    </tr>\n",
       "    <tr>\n",
       "      <th>race</th>\n",
       "      <th>Asian</th>\n",
       "      <th>Black</th>\n",
       "      <th>Hispanic</th>\n",
       "      <th>Native American</th>\n",
       "      <th>Pacific Islander</th>\n",
       "      <th>White</th>\n",
       "    </tr>\n",
       "    <tr>\n",
       "      <th>yr</th>\n",
       "      <th></th>\n",
       "      <th></th>\n",
       "      <th></th>\n",
       "      <th></th>\n",
       "      <th></th>\n",
       "      <th></th>\n",
       "    </tr>\n",
       "  </thead>\n",
       "  <tbody>\n",
       "    <tr>\n",
       "      <th>2013</th>\n",
       "      <td>19</td>\n",
       "      <td>291</td>\n",
       "      <td>169</td>\n",
       "      <td>5</td>\n",
       "      <td>2</td>\n",
       "      <td>430</td>\n",
       "    </tr>\n",
       "    <tr>\n",
       "      <th>2014</th>\n",
       "      <td>16</td>\n",
       "      <td>276</td>\n",
       "      <td>183</td>\n",
       "      <td>10</td>\n",
       "      <td>5</td>\n",
       "      <td>480</td>\n",
       "    </tr>\n",
       "    <tr>\n",
       "      <th>2015</th>\n",
       "      <td>29</td>\n",
       "      <td>305</td>\n",
       "      <td>195</td>\n",
       "      <td>13</td>\n",
       "      <td>4</td>\n",
       "      <td>543</td>\n",
       "    </tr>\n",
       "    <tr>\n",
       "      <th>2016</th>\n",
       "      <td>14</td>\n",
       "      <td>279</td>\n",
       "      <td>195</td>\n",
       "      <td>23</td>\n",
       "      <td>6</td>\n",
       "      <td>533</td>\n",
       "    </tr>\n",
       "    <tr>\n",
       "      <th>2017</th>\n",
       "      <td>12</td>\n",
       "      <td>278</td>\n",
       "      <td>226</td>\n",
       "      <td>28</td>\n",
       "      <td>6</td>\n",
       "      <td>509</td>\n",
       "    </tr>\n",
       "    <tr>\n",
       "      <th>2018</th>\n",
       "      <td>15</td>\n",
       "      <td>265</td>\n",
       "      <td>213</td>\n",
       "      <td>20</td>\n",
       "      <td>11</td>\n",
       "      <td>512</td>\n",
       "    </tr>\n",
       "    <tr>\n",
       "      <th>2019</th>\n",
       "      <td>17</td>\n",
       "      <td>282</td>\n",
       "      <td>206</td>\n",
       "      <td>13</td>\n",
       "      <td>10</td>\n",
       "      <td>449</td>\n",
       "    </tr>\n",
       "    <tr>\n",
       "      <th>2020</th>\n",
       "      <td>12</td>\n",
       "      <td>249</td>\n",
       "      <td>201</td>\n",
       "      <td>13</td>\n",
       "      <td>8</td>\n",
       "      <td>412</td>\n",
       "    </tr>\n",
       "    <tr>\n",
       "      <th>2021</th>\n",
       "      <td>9</td>\n",
       "      <td>265</td>\n",
       "      <td>187</td>\n",
       "      <td>14</td>\n",
       "      <td>8</td>\n",
       "      <td>480</td>\n",
       "    </tr>\n",
       "  </tbody>\n",
       "</table>\n",
       "</div>"
      ],
      "text/plain": [
       "      date                                                      \n",
       "race Asian Black Hispanic Native American Pacific Islander White\n",
       "yr                                                              \n",
       "2013    19   291      169               5                2   430\n",
       "2014    16   276      183              10                5   480\n",
       "2015    29   305      195              13                4   543\n",
       "2016    14   279      195              23                6   533\n",
       "2017    12   278      226              28                6   509\n",
       "2018    15   265      213              20               11   512\n",
       "2019    17   282      206              13               10   449\n",
       "2020    12   249      201              13                8   412\n",
       "2021     9   265      187              14                8   480"
      ]
     },
     "execution_count": 23,
     "metadata": {},
     "output_type": "execute_result"
    }
   ],
   "source": [
    "mpv['yr'] = pd.DatetimeIndex(mpv['date']).year\n",
    "race_yr = pd.pivot_table(data=(mpv.groupby(['yr','race']).count())[['date']],\n",
    "                         index='yr',columns='race',aggfunc=np.sum)\n",
    "race_yr"
   ]
  },
  {
   "cell_type": "code",
   "execution_count": 24,
   "id": "0a356f68",
   "metadata": {},
   "outputs": [
    {
     "data": {
      "text/plain": [
       "<AxesSubplot:title={'center':'Time Series of Victim Race from 2013 to 2021'}, xlabel='yr', ylabel='count'>"
      ]
     },
     "execution_count": 24,
     "metadata": {},
     "output_type": "execute_result"
    },
    {
     "data": {
      "image/png": "[encoded data removed]",
      "text/plain": [
       "<Figure size 1080x720 with 1 Axes>"
      ]
     },
     "metadata": {
      "needs_background": "light"
     },
     "output_type": "display_data"
    }
   ],
   "source": [
    "race_yr.plot(figsize=(15,10),title='Time Series of Victim Race from 2013 to 2021'\n",
    "            ,ylabel='count',\n",
    "            colormap='Accent')"
   ]
  },
  {
   "cell_type": "markdown",
   "id": "de53667b",
   "metadata": {},
   "source": [
    "From this time series, we can observe most notably that the number of white victims saw a drastic decline from 2018 to 2020, and the number of black victims steeply declined from 2019 to 2020. **However, we do see a steady increase in 'unknown race' during these periods of supposed decreases in police brutality, which could suggest that an increased lack of victim race reporting could be the cause of these decreases.**"
   ]
  },
  {
   "cell_type": "markdown",
   "id": "f8f92e2a",
   "metadata": {},
   "source": [
    "Lastly, let's look at victim race in relation to whether they were allegedly armed."
   ]
  },
  {
   "cell_type": "code",
   "execution_count": 25,
   "id": "744ac133",
   "metadata": {},
   "outputs": [
    {
     "data": {
      "text/html": [
       "<div>\n",
       "<style scoped>\n",
       "    .dataframe tbody tr th:only-of-type {\n",
       "        vertical-align: middle;\n",
       "    }\n",
       "\n",
       "    .dataframe tbody tr th {\n",
       "        vertical-align: top;\n",
       "    }\n",
       "\n",
       "    .dataframe thead tr th {\n",
       "        text-align: left;\n",
       "    }\n",
       "\n",
       "    .dataframe thead tr:last-of-type th {\n",
       "        text-align: right;\n",
       "    }\n",
       "</style>\n",
       "<table border=\"1\" class=\"dataframe\">\n",
       "  <thead>\n",
       "    <tr>\n",
       "      <th></th>\n",
       "      <th colspan=\"6\" halign=\"left\">date</th>\n",
       "    </tr>\n",
       "    <tr>\n",
       "      <th>race</th>\n",
       "      <th>Asian</th>\n",
       "      <th>Black</th>\n",
       "      <th>Hispanic</th>\n",
       "      <th>Native American</th>\n",
       "      <th>Pacific Islander</th>\n",
       "      <th>White</th>\n",
       "    </tr>\n",
       "    <tr>\n",
       "      <th>armed</th>\n",
       "      <th></th>\n",
       "      <th></th>\n",
       "      <th></th>\n",
       "      <th></th>\n",
       "      <th></th>\n",
       "      <th></th>\n",
       "    </tr>\n",
       "  </thead>\n",
       "  <tbody>\n",
       "    <tr>\n",
       "      <th>Allegedly Armed</th>\n",
       "      <td>115</td>\n",
       "      <td>1710</td>\n",
       "      <td>1213</td>\n",
       "      <td>86</td>\n",
       "      <td>41</td>\n",
       "      <td>3173</td>\n",
       "    </tr>\n",
       "    <tr>\n",
       "      <th>Unarmed/Did Not Have Actual Weapon</th>\n",
       "      <td>15</td>\n",
       "      <td>409</td>\n",
       "      <td>249</td>\n",
       "      <td>19</td>\n",
       "      <td>8</td>\n",
       "      <td>544</td>\n",
       "    </tr>\n",
       "    <tr>\n",
       "      <th>Unclear</th>\n",
       "      <td>9</td>\n",
       "      <td>192</td>\n",
       "      <td>194</td>\n",
       "      <td>30</td>\n",
       "      <td>3</td>\n",
       "      <td>367</td>\n",
       "    </tr>\n",
       "    <tr>\n",
       "      <th>Vehicle</th>\n",
       "      <td>4</td>\n",
       "      <td>179</td>\n",
       "      <td>119</td>\n",
       "      <td>4</td>\n",
       "      <td>8</td>\n",
       "      <td>264</td>\n",
       "    </tr>\n",
       "  </tbody>\n",
       "</table>\n",
       "</div>"
      ],
      "text/plain": [
       "                                    date                                 \\\n",
       "race                               Asian Black Hispanic Native American   \n",
       "armed                                                                     \n",
       "Allegedly Armed                      115  1710     1213              86   \n",
       "Unarmed/Did Not Have Actual Weapon    15   409      249              19   \n",
       "Unclear                                9   192      194              30   \n",
       "Vehicle                                4   179      119               4   \n",
       "\n",
       "                                                           \n",
       "race                               Pacific Islander White  \n",
       "armed                                                      \n",
       "Allegedly Armed                                  41  3173  \n",
       "Unarmed/Did Not Have Actual Weapon                8   544  \n",
       "Unclear                                           3   367  \n",
       "Vehicle                                           8   264  "
      ]
     },
     "execution_count": 25,
     "metadata": {},
     "output_type": "execute_result"
    }
   ],
   "source": [
    "race_arm = pd.pivot_table(data=(mpv.groupby(['armed','race']).count())[['date']],\n",
    "                        index='armed',columns='race',aggfunc=np.sum)\n",
    "race_arm"
   ]
  },
  {
   "cell_type": "code",
   "execution_count": 26,
   "id": "ef25fdd7",
   "metadata": {},
   "outputs": [
    {
     "data": {
      "text/plain": [
       "      race            \n",
       "date  Asian               Allegedly Armed\n",
       "      Black               Allegedly Armed\n",
       "      Hispanic            Allegedly Armed\n",
       "      Native American     Allegedly Armed\n",
       "      Pacific Islander    Allegedly Armed\n",
       "      White               Allegedly Armed\n",
       "dtype: object"
      ]
     },
     "execution_count": 26,
     "metadata": {},
     "output_type": "execute_result"
    }
   ],
   "source": [
    "race_arm.idxmax()"
   ]
  },
  {
   "cell_type": "markdown",
   "id": "e7ccb365",
   "metadata": {},
   "source": [
    "Allegedly armed was the most common case among all races."
   ]
  },
  {
   "cell_type": "markdown",
   "id": "b0cba520",
   "metadata": {},
   "source": [
    "### Officer Charged\n",
    "\n",
    "We can start by looking at the data in the Officer Charged column to see some general statistics. Since the data is categorical, numerical analysis within this column is limited."
   ]
  },
  {
   "cell_type": "code",
   "execution_count": 27,
   "id": "503a2af9",
   "metadata": {},
   "outputs": [
    {
     "data": {
      "text/plain": [
       "Not Charged    8771\n",
       "Charged         183\n",
       "Unknown           2\n",
       "Name: officer_charged, dtype: int64"
      ]
     },
     "execution_count": 27,
     "metadata": {},
     "output_type": "execute_result"
    }
   ],
   "source": [
    "mpv['officer_charged'].value_counts()"
   ]
  },
  {
   "cell_type": "markdown",
   "id": "1176323a",
   "metadata": {},
   "source": [
    "As we can see, the officers were only charged in 160 cases, which is only 1.88% of all cases. Officers did not face any charges in 8311 cases, which represents 98.12% of cases.\n",
    "\n",
    "We can look at the breakdown of when officers were charged grouped by the race of the victim:"
   ]
  },
  {
   "cell_type": "code",
   "execution_count": 28,
   "id": "4d050efc",
   "metadata": {},
   "outputs": [
    {
     "data": {
      "text/html": [
       "<div>\n",
       "<style scoped>\n",
       "    .dataframe tbody tr th:only-of-type {\n",
       "        vertical-align: middle;\n",
       "    }\n",
       "\n",
       "    .dataframe tbody tr th {\n",
       "        vertical-align: top;\n",
       "    }\n",
       "\n",
       "    .dataframe thead th {\n",
       "        text-align: right;\n",
       "    }\n",
       "</style>\n",
       "<table border=\"1\" class=\"dataframe\">\n",
       "  <thead>\n",
       "    <tr style=\"text-align: right;\">\n",
       "      <th></th>\n",
       "      <th></th>\n",
       "      <th>cause_of_death</th>\n",
       "      <th>date</th>\n",
       "      <th>armed</th>\n",
       "      <th>count</th>\n",
       "      <th>year</th>\n",
       "      <th>yr</th>\n",
       "    </tr>\n",
       "    <tr>\n",
       "      <th>officer_charged</th>\n",
       "      <th>race</th>\n",
       "      <th></th>\n",
       "      <th></th>\n",
       "      <th></th>\n",
       "      <th></th>\n",
       "      <th></th>\n",
       "      <th></th>\n",
       "    </tr>\n",
       "  </thead>\n",
       "  <tbody>\n",
       "    <tr>\n",
       "      <th rowspan=\"6\" valign=\"top\">Charged</th>\n",
       "      <th>Asian</th>\n",
       "      <td>3</td>\n",
       "      <td>3</td>\n",
       "      <td>3</td>\n",
       "      <td>3</td>\n",
       "      <td>3</td>\n",
       "      <td>3</td>\n",
       "    </tr>\n",
       "    <tr>\n",
       "      <th>Black</th>\n",
       "      <td>84</td>\n",
       "      <td>84</td>\n",
       "      <td>84</td>\n",
       "      <td>84</td>\n",
       "      <td>84</td>\n",
       "      <td>84</td>\n",
       "    </tr>\n",
       "    <tr>\n",
       "      <th>Hispanic</th>\n",
       "      <td>23</td>\n",
       "      <td>23</td>\n",
       "      <td>23</td>\n",
       "      <td>23</td>\n",
       "      <td>23</td>\n",
       "      <td>23</td>\n",
       "    </tr>\n",
       "    <tr>\n",
       "      <th>Native American</th>\n",
       "      <td>3</td>\n",
       "      <td>3</td>\n",
       "      <td>3</td>\n",
       "      <td>3</td>\n",
       "      <td>3</td>\n",
       "      <td>3</td>\n",
       "    </tr>\n",
       "    <tr>\n",
       "      <th>Pacific Islander</th>\n",
       "      <td>3</td>\n",
       "      <td>3</td>\n",
       "      <td>3</td>\n",
       "      <td>3</td>\n",
       "      <td>3</td>\n",
       "      <td>3</td>\n",
       "    </tr>\n",
       "    <tr>\n",
       "      <th>White</th>\n",
       "      <td>67</td>\n",
       "      <td>67</td>\n",
       "      <td>67</td>\n",
       "      <td>67</td>\n",
       "      <td>67</td>\n",
       "      <td>67</td>\n",
       "    </tr>\n",
       "    <tr>\n",
       "      <th rowspan=\"6\" valign=\"top\">Not Charged</th>\n",
       "      <th>Asian</th>\n",
       "      <td>140</td>\n",
       "      <td>140</td>\n",
       "      <td>140</td>\n",
       "      <td>140</td>\n",
       "      <td>140</td>\n",
       "      <td>140</td>\n",
       "    </tr>\n",
       "    <tr>\n",
       "      <th>Black</th>\n",
       "      <td>2405</td>\n",
       "      <td>2405</td>\n",
       "      <td>2405</td>\n",
       "      <td>2405</td>\n",
       "      <td>2405</td>\n",
       "      <td>2405</td>\n",
       "    </tr>\n",
       "    <tr>\n",
       "      <th>Hispanic</th>\n",
       "      <td>1751</td>\n",
       "      <td>1752</td>\n",
       "      <td>1752</td>\n",
       "      <td>1752</td>\n",
       "      <td>1752</td>\n",
       "      <td>1752</td>\n",
       "    </tr>\n",
       "    <tr>\n",
       "      <th>Native American</th>\n",
       "      <td>136</td>\n",
       "      <td>136</td>\n",
       "      <td>136</td>\n",
       "      <td>136</td>\n",
       "      <td>136</td>\n",
       "      <td>136</td>\n",
       "    </tr>\n",
       "    <tr>\n",
       "      <th>Pacific Islander</th>\n",
       "      <td>57</td>\n",
       "      <td>57</td>\n",
       "      <td>57</td>\n",
       "      <td>57</td>\n",
       "      <td>57</td>\n",
       "      <td>57</td>\n",
       "    </tr>\n",
       "    <tr>\n",
       "      <th>White</th>\n",
       "      <td>4280</td>\n",
       "      <td>4281</td>\n",
       "      <td>4281</td>\n",
       "      <td>4281</td>\n",
       "      <td>4281</td>\n",
       "      <td>4281</td>\n",
       "    </tr>\n",
       "    <tr>\n",
       "      <th>Unknown</th>\n",
       "      <th>Black</th>\n",
       "      <td>1</td>\n",
       "      <td>1</td>\n",
       "      <td>1</td>\n",
       "      <td>1</td>\n",
       "      <td>1</td>\n",
       "      <td>1</td>\n",
       "    </tr>\n",
       "  </tbody>\n",
       "</table>\n",
       "</div>"
      ],
      "text/plain": [
       "                                  cause_of_death  date  armed  count  year  \\\n",
       "officer_charged race                                                         \n",
       "Charged         Asian                          3     3      3      3     3   \n",
       "                Black                         84    84     84     84    84   \n",
       "                Hispanic                      23    23     23     23    23   \n",
       "                Native American                3     3      3      3     3   \n",
       "                Pacific Islander               3     3      3      3     3   \n",
       "                White                         67    67     67     67    67   \n",
       "Not Charged     Asian                        140   140    140    140   140   \n",
       "                Black                       2405  2405   2405   2405  2405   \n",
       "                Hispanic                    1751  1752   1752   1752  1752   \n",
       "                Native American              136   136    136    136   136   \n",
       "                Pacific Islander              57    57     57     57    57   \n",
       "                White                       4280  4281   4281   4281  4281   \n",
       "Unknown         Black                          1     1      1      1     1   \n",
       "\n",
       "                                    yr  \n",
       "officer_charged race                    \n",
       "Charged         Asian                3  \n",
       "                Black               84  \n",
       "                Hispanic            23  \n",
       "                Native American      3  \n",
       "                Pacific Islander     3  \n",
       "                White               67  \n",
       "Not Charged     Asian              140  \n",
       "                Black             2405  \n",
       "                Hispanic          1752  \n",
       "                Native American    136  \n",
       "                Pacific Islander    57  \n",
       "                White             4281  \n",
       "Unknown         Black                1  "
      ]
     },
     "execution_count": 28,
     "metadata": {},
     "output_type": "execute_result"
    }
   ],
   "source": [
    "# Temporarily adding a count column to help in making the pivot table. This will be dropped later.\n",
    "mpv['count'] = 1\n",
    "oc_by_race = mpv.groupby(['officer_charged', 'race']).count()\n",
    "oc_by_race"
   ]
  },
  {
   "cell_type": "code",
   "execution_count": 29,
   "id": "0a3d374d",
   "metadata": {},
   "outputs": [
    {
     "data": {
      "text/html": [
       "<div>\n",
       "<style scoped>\n",
       "    .dataframe tbody tr th:only-of-type {\n",
       "        vertical-align: middle;\n",
       "    }\n",
       "\n",
       "    .dataframe tbody tr th {\n",
       "        vertical-align: top;\n",
       "    }\n",
       "\n",
       "    .dataframe thead th {\n",
       "        text-align: right;\n",
       "    }\n",
       "</style>\n",
       "<table border=\"1\" class=\"dataframe\">\n",
       "  <thead>\n",
       "    <tr style=\"text-align: right;\">\n",
       "      <th>officer_charged</th>\n",
       "      <th>Charged</th>\n",
       "      <th>Not Charged</th>\n",
       "      <th>Unknown</th>\n",
       "      <th>Prop. Charged</th>\n",
       "    </tr>\n",
       "    <tr>\n",
       "      <th>race</th>\n",
       "      <th></th>\n",
       "      <th></th>\n",
       "      <th></th>\n",
       "      <th></th>\n",
       "    </tr>\n",
       "  </thead>\n",
       "  <tbody>\n",
       "    <tr>\n",
       "      <th>Asian</th>\n",
       "      <td>3</td>\n",
       "      <td>140</td>\n",
       "      <td>0</td>\n",
       "      <td>2.097902</td>\n",
       "    </tr>\n",
       "    <tr>\n",
       "      <th>Black</th>\n",
       "      <td>84</td>\n",
       "      <td>2405</td>\n",
       "      <td>1</td>\n",
       "      <td>3.373494</td>\n",
       "    </tr>\n",
       "    <tr>\n",
       "      <th>Hispanic</th>\n",
       "      <td>23</td>\n",
       "      <td>1752</td>\n",
       "      <td>0</td>\n",
       "      <td>1.295775</td>\n",
       "    </tr>\n",
       "    <tr>\n",
       "      <th>Native American</th>\n",
       "      <td>3</td>\n",
       "      <td>136</td>\n",
       "      <td>0</td>\n",
       "      <td>2.158273</td>\n",
       "    </tr>\n",
       "    <tr>\n",
       "      <th>Pacific Islander</th>\n",
       "      <td>3</td>\n",
       "      <td>57</td>\n",
       "      <td>0</td>\n",
       "      <td>5.000000</td>\n",
       "    </tr>\n",
       "    <tr>\n",
       "      <th>White</th>\n",
       "      <td>67</td>\n",
       "      <td>4281</td>\n",
       "      <td>0</td>\n",
       "      <td>1.540938</td>\n",
       "    </tr>\n",
       "  </tbody>\n",
       "</table>\n",
       "</div>"
      ],
      "text/plain": [
       "officer_charged   Charged  Not Charged  Unknown  Prop. Charged\n",
       "race                                                          \n",
       "Asian                   3          140        0       2.097902\n",
       "Black                  84         2405        1       3.373494\n",
       "Hispanic               23         1752        0       1.295775\n",
       "Native American         3          136        0       2.158273\n",
       "Pacific Islander        3           57        0       5.000000\n",
       "White                  67         4281        0       1.540938"
      ]
     },
     "execution_count": 29,
     "metadata": {},
     "output_type": "execute_result"
    }
   ],
   "source": [
    "obr_pvt_table = oc_by_race.pivot_table(index=['race'], columns='officer_charged', values='count', fill_value=0, aggfunc=np.sum)\n",
    "obr_pvt_table['Prop. Charged'] = 100 * obr_pvt_table['Charged'] / (obr_pvt_table['Charged'] + obr_pvt_table['Not Charged'] + obr_pvt_table['Unknown'])\n",
    "obr_pvt_table"
   ]
  },
  {
   "cell_type": "markdown",
   "id": "ef0f3f3f",
   "metadata": {},
   "source": [
    "We can graph this data in a stacked bar chart:"
   ]
  },
  {
   "cell_type": "code",
   "execution_count": 30,
   "id": "2d1984d8",
   "metadata": {},
   "outputs": [
    {
     "data": {
      "image/png": "[encoded data removed]",
      "text/plain": [
       "<Figure size 936x576 with 1 Axes>"
      ]
     },
     "metadata": {
      "needs_background": "light"
     },
     "output_type": "display_data"
    }
   ],
   "source": [
    "obr_pvt_table.plot.bar(figsize=(13,8), stacked=True)\n",
    "\n",
    "plt.ylabel('Race', fontsize=18)\n",
    "plt.xlabel('Officer Charged', fontsize=18)\n",
    "\n",
    "plt.xticks(fontsize=14)\n",
    "plt.yticks(fontsize=14)\n",
    "\n",
    "plt.show()\n",
    "# Not very useful due to small quantities"
   ]
  },
  {
   "cell_type": "code",
   "execution_count": 31,
   "id": "90dd5b10",
   "metadata": {},
   "outputs": [],
   "source": [
    "# if 'count' in mpv.columns:\n",
    "#     mpv.drop('count', axis=1, inplace=True)"
   ]
  },
  {
   "cell_type": "markdown",
   "id": "48b16f98",
   "metadata": {},
   "source": [
    "We can also see how the proportion of of cases in which officers were charged has changed over time."
   ]
  },
  {
   "cell_type": "code",
   "execution_count": 32,
   "id": "d8870c75",
   "metadata": {},
   "outputs": [
    {
     "data": {
      "text/html": [
       "<div>\n",
       "<style scoped>\n",
       "    .dataframe tbody tr th:only-of-type {\n",
       "        vertical-align: middle;\n",
       "    }\n",
       "\n",
       "    .dataframe tbody tr th {\n",
       "        vertical-align: top;\n",
       "    }\n",
       "\n",
       "    .dataframe thead th {\n",
       "        text-align: right;\n",
       "    }\n",
       "</style>\n",
       "<table border=\"1\" class=\"dataframe\">\n",
       "  <thead>\n",
       "    <tr style=\"text-align: right;\">\n",
       "      <th>officer_charged</th>\n",
       "      <th>Charged</th>\n",
       "      <th>Not Charged</th>\n",
       "      <th>Unknown</th>\n",
       "      <th>Prop. Charged</th>\n",
       "    </tr>\n",
       "    <tr>\n",
       "      <th>year</th>\n",
       "      <th></th>\n",
       "      <th></th>\n",
       "      <th></th>\n",
       "      <th></th>\n",
       "    </tr>\n",
       "  </thead>\n",
       "  <tbody>\n",
       "    <tr>\n",
       "      <th>2013</th>\n",
       "      <td>19</td>\n",
       "      <td>897</td>\n",
       "      <td>0</td>\n",
       "      <td>2.074236</td>\n",
       "    </tr>\n",
       "    <tr>\n",
       "      <th>2014</th>\n",
       "      <td>19</td>\n",
       "      <td>950</td>\n",
       "      <td>1</td>\n",
       "      <td>1.958763</td>\n",
       "    </tr>\n",
       "    <tr>\n",
       "      <th>2015</th>\n",
       "      <td>25</td>\n",
       "      <td>1064</td>\n",
       "      <td>0</td>\n",
       "      <td>2.295684</td>\n",
       "    </tr>\n",
       "    <tr>\n",
       "      <th>2016</th>\n",
       "      <td>20</td>\n",
       "      <td>1030</td>\n",
       "      <td>0</td>\n",
       "      <td>1.904762</td>\n",
       "    </tr>\n",
       "    <tr>\n",
       "      <th>2017</th>\n",
       "      <td>19</td>\n",
       "      <td>1040</td>\n",
       "      <td>0</td>\n",
       "      <td>1.794145</td>\n",
       "    </tr>\n",
       "    <tr>\n",
       "      <th>2018</th>\n",
       "      <td>16</td>\n",
       "      <td>1020</td>\n",
       "      <td>0</td>\n",
       "      <td>1.544402</td>\n",
       "    </tr>\n",
       "    <tr>\n",
       "      <th>2019</th>\n",
       "      <td>26</td>\n",
       "      <td>951</td>\n",
       "      <td>0</td>\n",
       "      <td>2.661208</td>\n",
       "    </tr>\n",
       "    <tr>\n",
       "      <th>2020</th>\n",
       "      <td>23</td>\n",
       "      <td>872</td>\n",
       "      <td>1</td>\n",
       "      <td>2.566964</td>\n",
       "    </tr>\n",
       "    <tr>\n",
       "      <th>2021</th>\n",
       "      <td>16</td>\n",
       "      <td>947</td>\n",
       "      <td>0</td>\n",
       "      <td>1.661475</td>\n",
       "    </tr>\n",
       "  </tbody>\n",
       "</table>\n",
       "</div>"
      ],
      "text/plain": [
       "officer_charged  Charged  Not Charged  Unknown  Prop. Charged\n",
       "year                                                         \n",
       "2013                  19          897        0       2.074236\n",
       "2014                  19          950        1       1.958763\n",
       "2015                  25         1064        0       2.295684\n",
       "2016                  20         1030        0       1.904762\n",
       "2017                  19         1040        0       1.794145\n",
       "2018                  16         1020        0       1.544402\n",
       "2019                  26          951        0       2.661208\n",
       "2020                  23          872        1       2.566964\n",
       "2021                  16          947        0       1.661475"
      ]
     },
     "execution_count": 32,
     "metadata": {},
     "output_type": "execute_result"
    }
   ],
   "source": [
    "oc_by_time = mpv.groupby(['officer_charged', 'year']).count()\n",
    "obt_pvt_table = oc_by_time.pivot_table(index=['year'], columns='officer_charged', values='count', fill_value=0, aggfunc=np.sum)\n",
    "obt_pvt_table['Prop. Charged'] = 100 * obt_pvt_table['Charged'] / (obt_pvt_table['Charged'] + obt_pvt_table['Not Charged'] + obt_pvt_table['Unknown'])\n",
    "obt_pvt_table"
   ]
  },
  {
   "cell_type": "markdown",
   "id": "c38bf74a",
   "metadata": {},
   "source": [
    "Graphing this data to see any trends in the proportion of officers being charged over time:"
   ]
  },
  {
   "cell_type": "code",
   "execution_count": 33,
   "id": "e18adde8",
   "metadata": {},
   "outputs": [
    {
     "data": {
      "image/png": "[encoded data removed]",
      "text/plain": [
       "<Figure size 936x576 with 1 Axes>"
      ]
     },
     "metadata": {
      "needs_background": "light"
     },
     "output_type": "display_data"
    }
   ],
   "source": [
    "plt.figure(figsize=(13, 8))\n",
    "\n",
    "prop_charged_vs_time = sns.lineplot(\n",
    "    data=obt_pvt_table,\n",
    "    x='year',\n",
    "    y=\"Prop. Charged\",\n",
    "    ).set(title = \"Proportion of Officers being charged over time\")"
   ]
  },
  {
   "cell_type": "markdown",
   "id": "e25b73d9",
   "metadata": {},
   "source": [
    "We can also look at the race makeup of the victims in the cases where the officers were charged."
   ]
  },
  {
   "cell_type": "code",
   "execution_count": 34,
   "id": "7f302417",
   "metadata": {},
   "outputs": [
    {
     "data": {
      "text/html": [
       "<div>\n",
       "<style scoped>\n",
       "    .dataframe tbody tr th:only-of-type {\n",
       "        vertical-align: middle;\n",
       "    }\n",
       "\n",
       "    .dataframe tbody tr th {\n",
       "        vertical-align: top;\n",
       "    }\n",
       "\n",
       "    .dataframe thead th {\n",
       "        text-align: right;\n",
       "    }\n",
       "</style>\n",
       "<table border=\"1\" class=\"dataframe\">\n",
       "  <thead>\n",
       "    <tr style=\"text-align: right;\">\n",
       "      <th>officer_charged</th>\n",
       "      <th>Charged</th>\n",
       "      <th>Proportion</th>\n",
       "    </tr>\n",
       "    <tr>\n",
       "      <th>race</th>\n",
       "      <th></th>\n",
       "      <th></th>\n",
       "    </tr>\n",
       "  </thead>\n",
       "  <tbody>\n",
       "    <tr>\n",
       "      <th>Asian</th>\n",
       "      <td>3</td>\n",
       "      <td>1.639344</td>\n",
       "    </tr>\n",
       "    <tr>\n",
       "      <th>Black</th>\n",
       "      <td>84</td>\n",
       "      <td>45.901639</td>\n",
       "    </tr>\n",
       "    <tr>\n",
       "      <th>Hispanic</th>\n",
       "      <td>23</td>\n",
       "      <td>12.568306</td>\n",
       "    </tr>\n",
       "    <tr>\n",
       "      <th>Native American</th>\n",
       "      <td>3</td>\n",
       "      <td>1.639344</td>\n",
       "    </tr>\n",
       "    <tr>\n",
       "      <th>Pacific Islander</th>\n",
       "      <td>3</td>\n",
       "      <td>1.639344</td>\n",
       "    </tr>\n",
       "    <tr>\n",
       "      <th>White</th>\n",
       "      <td>67</td>\n",
       "      <td>36.612022</td>\n",
       "    </tr>\n",
       "  </tbody>\n",
       "</table>\n",
       "</div>"
      ],
      "text/plain": [
       "officer_charged   Charged  Proportion\n",
       "race                                 \n",
       "Asian                   3    1.639344\n",
       "Black                  84   45.901639\n",
       "Hispanic               23   12.568306\n",
       "Native American         3    1.639344\n",
       "Pacific Islander        3    1.639344\n",
       "White                  67   36.612022"
      ]
     },
     "execution_count": 34,
     "metadata": {},
     "output_type": "execute_result"
    }
   ],
   "source": [
    "charged_by_race = oc_by_race.drop({'Not Charged', 'Unknown'})\n",
    "cbr_pvt_table = charged_by_race.pivot_table(index=['race'], columns='officer_charged', values='count', fill_value=0, aggfunc=np.sum)\n",
    "cbr_pvt_table['Proportion'] = 100 * cbr_pvt_table['Charged'] / cbr_pvt_table['Charged'].sum()\n",
    "cbr_pvt_table"
   ]
  },
  {
   "cell_type": "markdown",
   "id": "ea3c0706",
   "metadata": {},
   "source": [
    "Let's make a pie chart of this, and compare it to a pie chart of the proportion of races in the US."
   ]
  },
  {
   "cell_type": "code",
   "execution_count": 35,
   "id": "487328bf",
   "metadata": {},
   "outputs": [
    {
     "data": {
      "image/png": "[encoded data removed]",
      "text/plain": [
       "<Figure size 1080x720 with 2 Axes>"
      ]
     },
     "metadata": {},
     "output_type": "display_data"
    }
   ],
   "source": [
    "# Source: July 2021 Estimates by US Census Bureau, link: https://www.census.gov/quickfacts/fact/table/US/PST045221\n",
    "cbr_pvt_table['USRace Prop.'] = (5.9, 13.4, 18.5, 1.3, 0.2, 60.5)\n",
    "cbr_pvt_table.drop('Charged', axis=1).plot.pie(figsize=(15,10), subplots=True, ylabel='')\n",
    "\n",
    "plt.show()"
   ]
  },
  {
   "cell_type": "markdown",
   "id": "5e147454",
   "metadata": {},
   "source": [
    "As we can see, the charts show there is a large disparity between the racial makeup of the US and the racial makeup of police killing victims. Specifically, people of color, especially black Americans, make up nearly half of all deaths despite making up under one-seventh of the US population. Despite white Americans making up over 60% of the population, they account for under 40% of the deaths in police encounters.\n",
    "\n",
    "We can adjust the numbers to account for this by changing the data from raw values to deaths per 1,000,000 population in the US. This way, we will be able to see the proportion of the different races while accounting for their non-uniformity in the US population."
   ]
  },
  {
   "cell_type": "code",
   "execution_count": 36,
   "id": "8fb57009",
   "metadata": {},
   "outputs": [
    {
     "data": {
      "text/html": [
       "<div>\n",
       "<style scoped>\n",
       "    .dataframe tbody tr th:only-of-type {\n",
       "        vertical-align: middle;\n",
       "    }\n",
       "\n",
       "    .dataframe tbody tr th {\n",
       "        vertical-align: top;\n",
       "    }\n",
       "\n",
       "    .dataframe thead th {\n",
       "        text-align: right;\n",
       "    }\n",
       "</style>\n",
       "<table border=\"1\" class=\"dataframe\">\n",
       "  <thead>\n",
       "    <tr style=\"text-align: right;\">\n",
       "      <th>officer_charged</th>\n",
       "      <th>Charged</th>\n",
       "      <th>Proportion</th>\n",
       "      <th>USRace Prop.</th>\n",
       "      <th>Population-adjusted Count (per 1,000,000 US Pop)</th>\n",
       "    </tr>\n",
       "    <tr>\n",
       "      <th>race</th>\n",
       "      <th></th>\n",
       "      <th></th>\n",
       "      <th></th>\n",
       "      <th></th>\n",
       "    </tr>\n",
       "  </thead>\n",
       "  <tbody>\n",
       "    <tr>\n",
       "      <th>Asian</th>\n",
       "      <td>3</td>\n",
       "      <td>1.639344</td>\n",
       "      <td>5.9</td>\n",
       "      <td>0.508475</td>\n",
       "    </tr>\n",
       "    <tr>\n",
       "      <th>Black</th>\n",
       "      <td>84</td>\n",
       "      <td>45.901639</td>\n",
       "      <td>13.4</td>\n",
       "      <td>6.268657</td>\n",
       "    </tr>\n",
       "    <tr>\n",
       "      <th>Hispanic</th>\n",
       "      <td>23</td>\n",
       "      <td>12.568306</td>\n",
       "      <td>18.5</td>\n",
       "      <td>1.243243</td>\n",
       "    </tr>\n",
       "    <tr>\n",
       "      <th>Native American</th>\n",
       "      <td>3</td>\n",
       "      <td>1.639344</td>\n",
       "      <td>1.3</td>\n",
       "      <td>2.307692</td>\n",
       "    </tr>\n",
       "    <tr>\n",
       "      <th>Pacific Islander</th>\n",
       "      <td>3</td>\n",
       "      <td>1.639344</td>\n",
       "      <td>0.2</td>\n",
       "      <td>15.000000</td>\n",
       "    </tr>\n",
       "    <tr>\n",
       "      <th>White</th>\n",
       "      <td>67</td>\n",
       "      <td>36.612022</td>\n",
       "      <td>60.5</td>\n",
       "      <td>1.107438</td>\n",
       "    </tr>\n",
       "  </tbody>\n",
       "</table>\n",
       "</div>"
      ],
      "text/plain": [
       "officer_charged   Charged  Proportion  USRace Prop.  \\\n",
       "race                                                  \n",
       "Asian                   3    1.639344           5.9   \n",
       "Black                  84   45.901639          13.4   \n",
       "Hispanic               23   12.568306          18.5   \n",
       "Native American         3    1.639344           1.3   \n",
       "Pacific Islander        3    1.639344           0.2   \n",
       "White                  67   36.612022          60.5   \n",
       "\n",
       "officer_charged   Population-adjusted Count (per 1,000,000 US Pop)  \n",
       "race                                                                \n",
       "Asian                                                     0.508475  \n",
       "Black                                                     6.268657  \n",
       "Hispanic                                                  1.243243  \n",
       "Native American                                           2.307692  \n",
       "Pacific Islander                                         15.000000  \n",
       "White                                                     1.107438  "
      ]
     },
     "execution_count": 36,
     "metadata": {},
     "output_type": "execute_result"
    }
   ],
   "source": [
    "cbr_pvt_table['Population-adjusted Count (per 1,000,000 US Pop)'] = 1000000 * cbr_pvt_table['Charged'] / tuple([k*1000000 for k in (5.9, 13.4, 18.5, 1.3, 0.2, 60.5)])\n",
    "cbr_pvt_table"
   ]
  },
  {
   "cell_type": "code",
   "execution_count": 37,
   "id": "9049e340",
   "metadata": {},
   "outputs": [
    {
     "data": {
      "image/png": "[encoded data removed]",
      "text/plain": [
       "<Figure size 1080x720 with 3 Axes>"
      ]
     },
     "metadata": {},
     "output_type": "display_data"
    }
   ],
   "source": [
    "cbr_pvt_table.drop('Charged', axis=1).plot.pie(figsize=(15,10), subplots=True, ylabel='')\n",
    "\n",
    "plt.show()"
   ]
  },
  {
   "cell_type": "markdown",
   "id": "4118ff63",
   "metadata": {},
   "source": [
    "As we can see, the population-adjusted chart on the right shows the true proportion of the races of the victims, and they are far from uniform. Pacific Islanders, Black people and Native Americans are the most likely to be victims, while White and Asian Americans are the least likely."
   ]
  },
  {
   "cell_type": "code",
   "execution_count": 38,
   "id": "b89fefc2",
   "metadata": {},
   "outputs": [
    {
     "data": {
      "image/png": "[encoded data removed]",
      "text/plain": [
       "<Figure size 720x720 with 1 Axes>"
      ]
     },
     "metadata": {},
     "output_type": "display_data"
    }
   ],
   "source": [
    "label = []\n",
    "count = []\n",
    "for i, j in mpv.groupby('armed'):\n",
    "    label.append(i)\n",
    "    count.append(j.shape[0])\n",
    "fig = plt.figure(figsize=(10, 10))\n",
    "colors = sns.color_palette('pastel')[0:13]\n",
    "explode = (0.05, 0.05, 0.05, 0.05)\n",
    "plt.pie(count, labels = label, colors=colors,autopct='%1.1f%%',startangle=90, pctdistance=0.85, explode = explode)\n",
    "centre_circle = plt.Circle((0,0),0.70,fc='white')\n",
    "fig = plt.gcf()\n",
    "fig.gca().add_artist(centre_circle) \n",
    "plt.tight_layout()\n",
    "plt.legend()\n",
    "plt.title(\"Proportion of armed\",fontsize=30)\n",
    "plt.show()"
   ]
  },
  {
   "cell_type": "code",
   "execution_count": 39,
   "id": "292d274d",
   "metadata": {},
   "outputs": [
    {
     "data": {
      "image/png": "[encoded data removed]",
      "text/plain": [
       "<Figure size 1080x1080 with 1 Axes>"
      ]
     },
     "metadata": {
      "needs_background": "light"
     },
     "output_type": "display_data"
    }
   ],
   "source": [
    "armed = mpv[mpv['armed'] == 'Allegedly Armed']\n",
    "fig = plt.figure(figsize=(15, 15))\n",
    "sns.countplot(x=\"cause_of_death\", data=armed, order = armed['cause_of_death'].unique())\n",
    "plt.title(\"Victims' death cause who are allegedly armed\",fontsize=20)\n",
    "plt.show()"
   ]
  },
  {
   "cell_type": "code",
   "execution_count": 40,
   "id": "4c4d5f92",
   "metadata": {},
   "outputs": [
    {
     "data": {
      "image/png": "[encoded data removed]",
      "text/plain": [
       "<Figure size 1080x1080 with 1 Axes>"
      ]
     },
     "metadata": {
      "needs_background": "light"
     },
     "output_type": "display_data"
    }
   ],
   "source": [
    "armed = mpv[mpv['armed'] == 'Unarmed/Did Not Have Actual Weapon']\n",
    "fig = plt.figure(figsize=(15, 15))\n",
    "sns.countplot(x=\"cause_of_death\", data=armed, order = armed['cause_of_death'].unique())\n",
    "plt.title(\"Victims' death cause who are unarmed\",fontsize=20)\n",
    "plt.show()"
   ]
  },
  {
   "cell_type": "code",
   "execution_count": 41,
   "id": "c5e63129",
   "metadata": {},
   "outputs": [
    {
     "data": {
      "image/png": "[encoded data removed]",
      "text/plain": [
       "<Figure size 1080x1080 with 1 Axes>"
      ]
     },
     "metadata": {
      "needs_background": "light"
     },
     "output_type": "display_data"
    }
   ],
   "source": [
    "armed = mpv[mpv['armed'] == 'Allegedly Armed']\n",
    "fig = plt.figure(figsize=(15, 15))\n",
    "sns.countplot(x=\"race\", data=armed, order = armed['race'].unique())\n",
    "plt.title(\"Armed Victims, By Race\",fontsize=20)\n",
    "plt.show()"
   ]
  },
  {
   "cell_type": "code",
   "execution_count": 41,
   "id": "b838d7ea",
   "metadata": {},
   "outputs": [
    {
     "data": {
      "image/png": "[encoded data removed]",
      "text/plain": [
       "<Figure size 1080x1080 with 1 Axes>"
      ]
     },
     "metadata": {
      "needs_background": "light"
     },
     "output_type": "display_data"
    }
   ],
   "source": [
    "armed = mpv[mpv['armed'] == 'Unarmed/Did Not Have Actual Weapon']\n",
    "fig = plt.figure(figsize=(15, 15))\n",
    "sns.countplot(x=\"race\", data=armed, order = armed['race'].unique())\n",
    "plt.title(\"Unarmed Victims, By Race\",fontsize=20)\n",
    "plt.show()"
   ]
  },
  {
   "cell_type": "markdown",
   "id": "47a1eddb",
   "metadata": {},
   "source": [
    "## Twitter Data"
   ]
  },
  {
   "cell_type": "markdown",
   "id": "bb1fe2a2",
   "metadata": {},
   "source": [
    "Let's look at the count of total tweets per year."
   ]
  },
  {
   "cell_type": "code",
   "execution_count": 8,
   "id": "62e0b117",
   "metadata": {},
   "outputs": [
    {
     "data": {
      "text/plain": [
       "['/Users/dmusa/Documents/UCSD/2021-2022/Tweets_BLM/by_year/2013',\n",
       " '/Users/dmusa/Documents/UCSD/2021-2022/Tweets_BLM/by_year/2014',\n",
       " '/Users/dmusa/Documents/UCSD/2021-2022/Tweets_BLM/by_year/2015',\n",
       " '/Users/dmusa/Documents/UCSD/2021-2022/Tweets_BLM/by_year/2016',\n",
       " '/Users/dmusa/Documents/UCSD/2021-2022/Tweets_BLM/by_year/2017',\n",
       " '/Users/dmusa/Documents/UCSD/2021-2022/Tweets_BLM/by_year/2018',\n",
       " '/Users/dmusa/Documents/UCSD/2021-2022/Tweets_BLM/by_year/2019',\n",
       " '/Users/dmusa/Documents/UCSD/2021-2022/Tweets_BLM/by_year/2020',\n",
       " '/Users/dmusa/Documents/UCSD/2021-2022/Tweets_BLM/by_year/2021']"
      ]
     },
     "execution_count": 8,
     "metadata": {},
     "output_type": "execute_result"
    }
   ],
   "source": [
    "by_year_path = \"/Users/dmusa/Documents/UCSD/2021-2022/Tweets_BLM/by_year/\"\n",
    "by_year_file = [by_year_path + f for f in os.listdir(by_year_path)]\n",
    "by_year_file"
   ]
  },
  {
   "cell_type": "code",
   "execution_count": 9,
   "id": "36a3c16d",
   "metadata": {},
   "outputs": [],
   "source": [
    "def combine(directory):\n",
    "   os.chdir(directory)\n",
    "   extension = \"csv\"\n",
    "   all_filenames = [i for i in glob.glob('*.{}'.format(extension))]\n",
    "   combined_csv = pd.concat([pd.read_csv(f) for f in all_filenames ])\n",
    "   return combined_csv"
   ]
  },
  {
   "cell_type": "code",
   "execution_count": 10,
   "id": "f6961f31",
   "metadata": {},
   "outputs": [],
   "source": [
    "year_2013 = combine('/Users/dmusa/Documents/UCSD/2021-2022/Tweets_BLM/by_year/2013')\n",
    "year_2014 = combine('/Users/dmusa/Documents/UCSD/2021-2022/Tweets_BLM/by_year/2014')\n",
    "year_2015 = combine('/Users/dmusa/Documents/UCSD/2021-2022/Tweets_BLM/by_year/2015')\n",
    "year_2016 = combine('/Users/dmusa/Documents/UCSD/2021-2022/Tweets_BLM/by_year/2016')\n",
    "year_2017 = combine('/Users/dmusa/Documents/UCSD/2021-2022/Tweets_BLM/by_year/2017')\n",
    "year_2018 = combine('/Users/dmusa/Documents/UCSD/2021-2022/Tweets_BLM/by_year/2018')\n",
    "year_2019 = combine('/Users/dmusa/Documents/UCSD/2021-2022/Tweets_BLM/by_year/2019')\n",
    "year_2020 = combine('/Users/dmusa/Documents/UCSD/2021-2022/Tweets_BLM/by_year/2020')\n",
    "year_2021 = combine('/Users/dmusa/Documents/UCSD/2021-2022/Tweets_BLM/by_year/2021')"
   ]
  },
  {
   "cell_type": "code",
   "execution_count": 11,
   "id": "8dc940a0",
   "metadata": {},
   "outputs": [],
   "source": [
    "data = {'year': [2013, 2014, 2015, 2016, 2017, 2018, 2019, 2020, 2021],\n",
    "        'counts': [len(year_2013.index), len(year_2014.index), len(year_2015.index), len(year_2016.index), len(year_2017.index),\n",
    "        len(year_2018.index), len(year_2019.index), len(year_2020.index), len(year_2021.index)]}"
   ]
  },
  {
   "cell_type": "code",
   "execution_count": 13,
   "id": "62e0c896",
   "metadata": {},
   "outputs": [
    {
     "data": {
      "text/plain": [
       "year      int64\n",
       "counts    int64\n",
       "dtype: object"
      ]
     },
     "execution_count": 13,
     "metadata": {},
     "output_type": "execute_result"
    }
   ],
   "source": [
    "total_count_by_year = pd.DataFrame(data)\n",
    "total_count_by_year.dtypes"
   ]
  },
  {
   "cell_type": "markdown",
   "id": "7ac24872",
   "metadata": {},
   "source": [
    "We need to combine the multiple csv folders of tweet ids into one big one to then randomlly select tweets to hydrate."
   ]
  },
  {
   "cell_type": "markdown",
   "id": "c8ec54f7",
   "metadata": {},
   "source": [
    "First, we will flatten all folders into one."
   ]
  },
  {
   "cell_type": "code",
   "execution_count": null,
   "id": "cf7cb442",
   "metadata": {},
   "outputs": [],
   "source": [
    "def flatten(directory):\n",
    "    for dirpath, _, filenames in os.walk(directory, topdown=False):\n",
    "        for filename in filenames:\n",
    "            i = 0\n",
    "            source = os.path.join(dirpath, filename)\n",
    "            target = os.path.join(directory, filename)\n",
    "\n",
    "            while os.path.exists(target):\n",
    "                i += 1\n",
    "                file_parts = os.path.splitext(os.path.basename(filename))\n",
    "\n",
    "                target = os.path.join(\n",
    "                    directory,\n",
    "                    file_parts[0] + \"_\" + str(i) + file_parts[1],\n",
    "                )\n",
    "\n",
    "            shutil.move(source, target)\n",
    "\n",
    "            print(\"Moved \", source, \" to \", target)\n",
    "\n",
    "        if dirpath != directory:\n",
    "            os.rmdir(dirpath)\n",
    "\n",
    "            print(\"Deleted \", dirpath)\n",
    "\n",
    "#credit to: https://amitd.co/code/python/flatten-a-directory"
   ]
  },
  {
   "cell_type": "code",
   "execution_count": null,
   "id": "91bbddc7",
   "metadata": {},
   "outputs": [],
   "source": [
    "flatten(os.path.dirname(\"/Users/dmusa/Documents/UCSD/2021-2022/Tweets_BLM/twitter\"))"
   ]
  },
  {
   "cell_type": "markdown",
   "id": "11ff39a6",
   "metadata": {},
   "source": [
    "Flattened all folders to make combining into one CSV easier."
   ]
  },
  {
   "cell_type": "code",
   "execution_count": null,
   "id": "ab25d41b",
   "metadata": {},
   "outputs": [],
   "source": [
    "tweets_path = \"/Users/dmusa/Documents/UCSD/2021-2022/Tweets_BLM/\"\n",
    "file_list = [tweets_path + f for f in os.listdir(tweets_path)]\n",
    "csv_list = []"
   ]
  },
  {
   "cell_type": "code",
   "execution_count": null,
   "id": "e839d125",
   "metadata": {},
   "outputs": [],
   "source": [
    "for file in sorted(file_list):\n",
    "    csv_list.append(pd.read_csv(file).assign(File_Name = os.path.basename(file)))\n",
    "\n",
    "csv_merged = pd.concat(csv_list, ignore_index=True)\n",
    "csv_merged.to_csv(tweets_path + 'tweets_full.csv', index=False)"
   ]
  },
  {
   "cell_type": "markdown",
   "id": "f2a63672",
   "metadata": {},
   "source": [
    "Tweet IDs successfully merged into one big CSV ready to be permutated."
   ]
  },
  {
   "cell_type": "code",
   "execution_count": null,
   "id": "bc94df6d",
   "metadata": {},
   "outputs": [],
   "source": [
    "tweets = pd.read_csv('/Users/dmusa/Documents/UCSD/2021-2022/Tweets_BLM/tweets_full.csv')\n",
    "tweets.head()"
   ]
  },
  {
   "cell_type": "code",
   "execution_count": null,
   "id": "5008f628",
   "metadata": {},
   "outputs": [],
   "source": [
    "tweets_sample = tweets.sample(n = 2000000)\n",
    "tweets_sample.head()"
   ]
  },
  {
   "cell_type": "markdown",
   "id": "b64fb233",
   "metadata": {},
   "source": [
    "Randomly selected 2,000,000 tweet IDs. Now, we need to export back to CSV file with just the IDs to hydrate the tweets."
   ]
  },
  {
   "cell_type": "code",
   "execution_count": null,
   "id": "6fcedabf",
   "metadata": {},
   "outputs": [],
   "source": [
    "tweets_sample_id = tweets_sample['status_id']"
   ]
  },
  {
   "cell_type": "code",
   "execution_count": null,
   "id": "c2f942b7",
   "metadata": {},
   "outputs": [],
   "source": [
    "tweets_sample_id.to_csv('/Users/dmusa/Documents/UCSD/2021-2022/Tweets_BLM/tweets_sample_id2.csv', header=False, index=False)"
   ]
  },
  {
   "cell_type": "code",
   "execution_count": 47,
   "id": "c4b32d4f",
   "metadata": {},
   "outputs": [
    {
     "data": {
      "text/html": [
       "<div>\n",
       "<style scoped>\n",
       "    .dataframe tbody tr th:only-of-type {\n",
       "        vertical-align: middle;\n",
       "    }\n",
       "\n",
       "    .dataframe tbody tr th {\n",
       "        vertical-align: top;\n",
       "    }\n",
       "\n",
       "    .dataframe thead th {\n",
       "        text-align: right;\n",
       "    }\n",
       "</style>\n",
       "<table border=\"1\" class=\"dataframe\">\n",
       "  <thead>\n",
       "    <tr style=\"text-align: right;\">\n",
       "      <th></th>\n",
       "      <th>status_id</th>\n",
       "      <th>blacklivesmatter</th>\n",
       "      <th>alllivesmatter</th>\n",
       "      <th>bluelivesmatter</th>\n",
       "      <th>File_Name</th>\n",
       "    </tr>\n",
       "  </thead>\n",
       "  <tbody>\n",
       "    <tr>\n",
       "      <th>0</th>\n",
       "      <td>296004745028567040</td>\n",
       "      <td>1.0</td>\n",
       "      <td>0.0</td>\n",
       "      <td>0.0</td>\n",
       "      <td>2013-01.csv</td>\n",
       "    </tr>\n",
       "    <tr>\n",
       "      <th>1</th>\n",
       "      <td>299022201141735424</td>\n",
       "      <td>0.0</td>\n",
       "      <td>1.0</td>\n",
       "      <td>0.0</td>\n",
       "      <td>2013-02.csv</td>\n",
       "    </tr>\n",
       "    <tr>\n",
       "      <th>2</th>\n",
       "      <td>316973754951540737</td>\n",
       "      <td>1.0</td>\n",
       "      <td>0.0</td>\n",
       "      <td>0.0</td>\n",
       "      <td>2013-03.csv</td>\n",
       "    </tr>\n",
       "    <tr>\n",
       "      <th>3</th>\n",
       "      <td>315462982803009536</td>\n",
       "      <td>1.0</td>\n",
       "      <td>0.0</td>\n",
       "      <td>0.0</td>\n",
       "      <td>2013-03.csv</td>\n",
       "    </tr>\n",
       "    <tr>\n",
       "      <th>4</th>\n",
       "      <td>316242983945129984</td>\n",
       "      <td>1.0</td>\n",
       "      <td>0.0</td>\n",
       "      <td>0.0</td>\n",
       "      <td>2013-03.csv</td>\n",
       "    </tr>\n",
       "  </tbody>\n",
       "</table>\n",
       "</div>"
      ],
      "text/plain": [
       "            status_id  blacklivesmatter  alllivesmatter  bluelivesmatter  \\\n",
       "0  296004745028567040               1.0             0.0              0.0   \n",
       "1  299022201141735424               0.0             1.0              0.0   \n",
       "2  316973754951540737               1.0             0.0              0.0   \n",
       "3  315462982803009536               1.0             0.0              0.0   \n",
       "4  316242983945129984               1.0             0.0              0.0   \n",
       "\n",
       "     File_Name  \n",
       "0  2013-01.csv  \n",
       "1  2013-02.csv  \n",
       "2  2013-03.csv  \n",
       "3  2013-03.csv  \n",
       "4  2013-03.csv  "
      ]
     },
     "execution_count": 47,
     "metadata": {},
     "output_type": "execute_result"
    }
   ],
   "source": [
    "tweets_ids_full = pd.read_csv('/Users/dmusa/Documents/UCSD/2021-2022/Tweets_BLM/tweets_full.csv')\n",
    "tweets_ids_full.head()"
   ]
  },
  {
   "cell_type": "code",
   "execution_count": null,
   "id": "7e681d26",
   "metadata": {},
   "outputs": [],
   "source": [
    "tweets_ids = pd.read_csv('/Users/dmusa/Documents/UCSD/2021-2022/Tweets_BLM/tweets_sample_id2.csv')"
   ]
  },
  {
   "cell_type": "code",
   "execution_count": null,
   "id": "f3193359",
   "metadata": {},
   "outputs": [],
   "source": [
    "tweets_ids.rename(columns={'1290186396066385920': 'status_id'}, inplace=True)\n",
    "tweets_ids.head()"
   ]
  },
  {
   "cell_type": "code",
   "execution_count": null,
   "id": "66870e22",
   "metadata": {},
   "outputs": [],
   "source": [
    "tweets_ids = tweets_ids.append({'status_id': 1290186396066385920}, ignore_index=True)"
   ]
  },
  {
   "cell_type": "code",
   "execution_count": null,
   "id": "b63ce26a",
   "metadata": {},
   "outputs": [],
   "source": [
    "tweets_ids.shape"
   ]
  },
  {
   "cell_type": "markdown",
   "id": "39c72bbe",
   "metadata": {},
   "source": [
    "Tweet IDs from our sample. Merge onto dataframe with labels."
   ]
  },
  {
   "cell_type": "code",
   "execution_count": null,
   "id": "718c5837",
   "metadata": {},
   "outputs": [],
   "source": [
    "merged_ids= pd.merge(tweets_ids, tweets_ids_full, on=\"status_id\", how=\"inner\")\n",
    "merged_ids.shape"
   ]
  },
  {
   "cell_type": "code",
   "execution_count": null,
   "id": "1b6b764b",
   "metadata": {},
   "outputs": [],
   "source": [
    "merged_ids"
   ]
  },
  {
   "cell_type": "markdown",
   "id": "23e16f47",
   "metadata": {},
   "source": [
    "Thank you to Stanley Sisson for creating the next cell!"
   ]
  },
  {
   "cell_type": "code",
   "execution_count": null,
   "id": "af5f4fd5",
   "metadata": {},
   "outputs": [],
   "source": [
    "# Pandas, for the dataframe\n",
    "import pandas as pd\n",
    "# JSON, for reading json objects\n",
    "import json\n",
    "# Time for measuring how long it will take\n",
    "import time\n",
    "import numpy as np\n",
    "def currentTime():\n",
    "    return round(time.time() * 1000)\n",
    "# Date format changer\n",
    "import dateutil.parser as parser\n",
    "def convertDate(t):\n",
    "    return parser.parse(t).isoformat()\n",
    "    \n",
    "# Counting variables\n",
    "ct = 0          # Number of items done\n",
    "total = 1928721 # Total items to do\n",
    "\n",
    "# Timing variables\n",
    "start = currentTime()\n",
    "last = start\n",
    "now = start\n",
    "\n",
    "# Open the json file in READ mode...\n",
    "with open('/Users/dmusa/Documents/UCSD/2021-2022/Tweets_BLM/tweets_sample_id2_hydrated.json','r', encoding=\"utf8\") as f:\n",
    "    # Open the csv file in WRITE mode...\n",
    "    with open('tweets.csv','w', encoding=\"utf8\") as f2:\n",
    "        # Write the CSV header (column names seperated with a comma)\n",
    "        f2.write('id,time\\n')\n",
    "        \n",
    "        # For each line in the input file\n",
    "        for line in f:\n",
    "            # Read each line as json,\n",
    "            obj = json.loads(line)\n",
    "            # Get its ID as a string\n",
    "            # Get its TIME and parse it to ISO format\n",
    "            # Write it to output file in CSV format:\n",
    "            #   - put a comma between values\n",
    "            #   - end with a newline\n",
    "            f2.write(str(obj[\"id\"])+\",\"+convertDate(obj[\"created_at\"])+\"\\n\")\n",
    "            \n",
    "            # Progress updates\n",
    "            ct=ct+1\n",
    "            now = currentTime()\n",
    "            # If ten seconds have passed, display progress update\n",
    "            if (last+10000<now):\n",
    "                dt = (now-start)/1000. # delta time, aka time passed since start\n",
    "                v = ct/dt              # velocity, aka how fast things are done\n",
    "                rems = (total-ct)/v    # remaining seconds (total time in seconds)\n",
    "                remm = round(np.floor(rems/60)) # remaining minutes (from mm:ss)\n",
    "                rems = round(np.floor(rems%60)) # remaining seconds (from mm:ss)\n",
    "                # Display\n",
    "                print(str(ct) + \" items loaded in \"+str(round(dt))+\"s (\"+str(round(10000*ct/total)/100)+\"% done)\")\n",
    "                print(\"  \"+str(round(v)) + \" items per second: \"+str(remm)+\" min \"+str(rems)+\" sec left\")\n",
    "                # Update last output time\n",
    "                last = now"
   ]
  },
  {
   "cell_type": "markdown",
   "id": "7a00c836",
   "metadata": {},
   "source": [
    "Tweets with time and id."
   ]
  },
  {
   "cell_type": "code",
   "execution_count": null,
   "id": "a04ecea2",
   "metadata": {},
   "outputs": [],
   "source": [
    "C:\\Users\\dmusa\\Documents\\UCSD\\2021-2022\\DDS_BLM\\tweets.csv"
   ]
  },
  {
   "cell_type": "code",
   "execution_count": 53,
   "id": "268edfdc",
   "metadata": {},
   "outputs": [
    {
     "data": {
      "text/html": [
       "<div>\n",
       "<style scoped>\n",
       "    .dataframe tbody tr th:only-of-type {\n",
       "        vertical-align: middle;\n",
       "    }\n",
       "\n",
       "    .dataframe tbody tr th {\n",
       "        vertical-align: top;\n",
       "    }\n",
       "\n",
       "    .dataframe thead th {\n",
       "        text-align: right;\n",
       "    }\n",
       "</style>\n",
       "<table border=\"1\" class=\"dataframe\">\n",
       "  <thead>\n",
       "    <tr style=\"text-align: right;\">\n",
       "      <th></th>\n",
       "      <th>id</th>\n",
       "      <th>time</th>\n",
       "    </tr>\n",
       "  </thead>\n",
       "  <tbody>\n",
       "    <tr>\n",
       "      <th>0</th>\n",
       "      <td>1298955271587405800</td>\n",
       "      <td>2020-08-27T12:07:24+00:00</td>\n",
       "    </tr>\n",
       "    <tr>\n",
       "      <th>1</th>\n",
       "      <td>1279794731866894300</td>\n",
       "      <td>2020-07-05T15:10:16+00:00</td>\n",
       "    </tr>\n",
       "    <tr>\n",
       "      <th>2</th>\n",
       "      <td>1272116933740114000</td>\n",
       "      <td>2020-06-14T10:41:26+00:00</td>\n",
       "    </tr>\n",
       "    <tr>\n",
       "      <th>3</th>\n",
       "      <td>1269704052532789200</td>\n",
       "      <td>2020-06-07T18:53:30+00:00</td>\n",
       "    </tr>\n",
       "    <tr>\n",
       "      <th>4</th>\n",
       "      <td>1350089310587003000</td>\n",
       "      <td>2021-01-15T14:35:49+00:00</td>\n",
       "    </tr>\n",
       "  </tbody>\n",
       "</table>\n",
       "</div>"
      ],
      "text/plain": [
       "                    id                       time\n",
       "0  1298955271587405800  2020-08-27T12:07:24+00:00\n",
       "1  1279794731866894300  2020-07-05T15:10:16+00:00\n",
       "2  1272116933740114000  2020-06-14T10:41:26+00:00\n",
       "3  1269704052532789200  2020-06-07T18:53:30+00:00\n",
       "4  1350089310587003000  2021-01-15T14:35:49+00:00"
      ]
     },
     "execution_count": 53,
     "metadata": {},
     "output_type": "execute_result"
    }
   ],
   "source": [
    "tweets_id_dates = pd.read_csv(\"/Users/dmusa/Documents/UCSD/2021-2022/DDS_BLM/tweets.csv\")\n",
    "tweets_id_dates.head()"
   ]
  },
  {
   "cell_type": "code",
   "execution_count": 54,
   "id": "ddd7f4aa",
   "metadata": {},
   "outputs": [
    {
     "data": {
      "text/plain": [
       "(783236, 2)"
      ]
     },
     "execution_count": 54,
     "metadata": {},
     "output_type": "execute_result"
    }
   ],
   "source": [
    "tweets_id_dates.shape"
   ]
  },
  {
   "cell_type": "markdown",
   "id": "0ed15ffa",
   "metadata": {},
   "source": [
    "Rename so we can merge onto the dataframe with labels."
   ]
  },
  {
   "cell_type": "code",
   "execution_count": 55,
   "id": "eb82e576",
   "metadata": {},
   "outputs": [
    {
     "data": {
      "text/html": [
       "<div>\n",
       "<style scoped>\n",
       "    .dataframe tbody tr th:only-of-type {\n",
       "        vertical-align: middle;\n",
       "    }\n",
       "\n",
       "    .dataframe tbody tr th {\n",
       "        vertical-align: top;\n",
       "    }\n",
       "\n",
       "    .dataframe thead th {\n",
       "        text-align: right;\n",
       "    }\n",
       "</style>\n",
       "<table border=\"1\" class=\"dataframe\">\n",
       "  <thead>\n",
       "    <tr style=\"text-align: right;\">\n",
       "      <th></th>\n",
       "      <th>status_id</th>\n",
       "      <th>time</th>\n",
       "    </tr>\n",
       "  </thead>\n",
       "  <tbody>\n",
       "    <tr>\n",
       "      <th>0</th>\n",
       "      <td>1298955271587405800</td>\n",
       "      <td>2020-08-27T12:07:24+00:00</td>\n",
       "    </tr>\n",
       "    <tr>\n",
       "      <th>1</th>\n",
       "      <td>1279794731866894300</td>\n",
       "      <td>2020-07-05T15:10:16+00:00</td>\n",
       "    </tr>\n",
       "    <tr>\n",
       "      <th>2</th>\n",
       "      <td>1272116933740114000</td>\n",
       "      <td>2020-06-14T10:41:26+00:00</td>\n",
       "    </tr>\n",
       "    <tr>\n",
       "      <th>3</th>\n",
       "      <td>1269704052532789200</td>\n",
       "      <td>2020-06-07T18:53:30+00:00</td>\n",
       "    </tr>\n",
       "    <tr>\n",
       "      <th>4</th>\n",
       "      <td>1350089310587003000</td>\n",
       "      <td>2021-01-15T14:35:49+00:00</td>\n",
       "    </tr>\n",
       "  </tbody>\n",
       "</table>\n",
       "</div>"
      ],
      "text/plain": [
       "             status_id                       time\n",
       "0  1298955271587405800  2020-08-27T12:07:24+00:00\n",
       "1  1279794731866894300  2020-07-05T15:10:16+00:00\n",
       "2  1272116933740114000  2020-06-14T10:41:26+00:00\n",
       "3  1269704052532789200  2020-06-07T18:53:30+00:00\n",
       "4  1350089310587003000  2021-01-15T14:35:49+00:00"
      ]
     },
     "execution_count": 55,
     "metadata": {},
     "output_type": "execute_result"
    }
   ],
   "source": [
    "tweets_id_dates.rename(columns={\"id\": \"status_id\"}, inplace=True)\n",
    "tweets_id_dates.head()"
   ]
  },
  {
   "cell_type": "markdown",
   "id": "96a8c424",
   "metadata": {},
   "source": [
    "Merge so we have IDs, time, and labels."
   ]
  },
  {
   "cell_type": "code",
   "execution_count": 56,
   "id": "33b7633c",
   "metadata": {},
   "outputs": [
    {
     "data": {
      "text/plain": [
       "(32524, 6)"
      ]
     },
     "execution_count": 56,
     "metadata": {},
     "output_type": "execute_result"
    }
   ],
   "source": [
    "final_tweets = pd.merge(tweets_id_dates, tweets_ids_full, on=\"status_id\", how=\"inner\")\n",
    "final_tweets.shape"
   ]
  },
  {
   "cell_type": "code",
   "execution_count": 57,
   "id": "ca3f0742",
   "metadata": {},
   "outputs": [
    {
     "data": {
      "text/html": [
       "<div>\n",
       "<style scoped>\n",
       "    .dataframe tbody tr th:only-of-type {\n",
       "        vertical-align: middle;\n",
       "    }\n",
       "\n",
       "    .dataframe tbody tr th {\n",
       "        vertical-align: top;\n",
       "    }\n",
       "\n",
       "    .dataframe thead th {\n",
       "        text-align: right;\n",
       "    }\n",
       "</style>\n",
       "<table border=\"1\" class=\"dataframe\">\n",
       "  <thead>\n",
       "    <tr style=\"text-align: right;\">\n",
       "      <th></th>\n",
       "      <th>status_id</th>\n",
       "      <th>time</th>\n",
       "      <th>blacklivesmatter</th>\n",
       "      <th>alllivesmatter</th>\n",
       "      <th>bluelivesmatter</th>\n",
       "      <th>File_Name</th>\n",
       "    </tr>\n",
       "  </thead>\n",
       "  <tbody>\n",
       "    <tr>\n",
       "      <th>0</th>\n",
       "      <td>537684004657725440</td>\n",
       "      <td>2014-11-26T19:07:11+00:00</td>\n",
       "      <td>1.0</td>\n",
       "      <td>0.0</td>\n",
       "      <td>0.0</td>\n",
       "      <td>2014-11.csv</td>\n",
       "    </tr>\n",
       "    <tr>\n",
       "      <th>1</th>\n",
       "      <td>537684004657725440</td>\n",
       "      <td>2014-11-26T19:07:11+00:00</td>\n",
       "      <td>1.0</td>\n",
       "      <td>0.0</td>\n",
       "      <td>0.0</td>\n",
       "      <td>2014-11.csv</td>\n",
       "    </tr>\n",
       "    <tr>\n",
       "      <th>2</th>\n",
       "      <td>1269868146640384000</td>\n",
       "      <td>2020-06-08T05:45:33+00:00</td>\n",
       "      <td>1.0</td>\n",
       "      <td>0.0</td>\n",
       "      <td>0.0</td>\n",
       "      <td>2020-06.csv</td>\n",
       "    </tr>\n",
       "    <tr>\n",
       "      <th>3</th>\n",
       "      <td>1269868146640384000</td>\n",
       "      <td>2020-06-08T05:45:33+00:00</td>\n",
       "      <td>1.0</td>\n",
       "      <td>0.0</td>\n",
       "      <td>0.0</td>\n",
       "      <td>2020-06.csv</td>\n",
       "    </tr>\n",
       "    <tr>\n",
       "      <th>4</th>\n",
       "      <td>930503267662131200</td>\n",
       "      <td>2017-11-14T18:30:41+00:00</td>\n",
       "      <td>1.0</td>\n",
       "      <td>0.0</td>\n",
       "      <td>0.0</td>\n",
       "      <td>2017-11.csv</td>\n",
       "    </tr>\n",
       "  </tbody>\n",
       "</table>\n",
       "</div>"
      ],
      "text/plain": [
       "             status_id                       time  blacklivesmatter  \\\n",
       "0   537684004657725440  2014-11-26T19:07:11+00:00               1.0   \n",
       "1   537684004657725440  2014-11-26T19:07:11+00:00               1.0   \n",
       "2  1269868146640384000  2020-06-08T05:45:33+00:00               1.0   \n",
       "3  1269868146640384000  2020-06-08T05:45:33+00:00               1.0   \n",
       "4   930503267662131200  2017-11-14T18:30:41+00:00               1.0   \n",
       "\n",
       "   alllivesmatter  bluelivesmatter    File_Name  \n",
       "0             0.0              0.0  2014-11.csv  \n",
       "1             0.0              0.0  2014-11.csv  \n",
       "2             0.0              0.0  2020-06.csv  \n",
       "3             0.0              0.0  2020-06.csv  \n",
       "4             0.0              0.0  2017-11.csv  "
      ]
     },
     "execution_count": 57,
     "metadata": {},
     "output_type": "execute_result"
    }
   ],
   "source": [
    "final_tweets.head()"
   ]
  },
  {
   "cell_type": "markdown",
   "id": "071afd24",
   "metadata": {},
   "source": [
    "Change date into datetime format and remove time."
   ]
  },
  {
   "cell_type": "code",
   "execution_count": 58,
   "id": "4785ddab",
   "metadata": {},
   "outputs": [
    {
     "data": {
      "text/plain": [
       "0       2014-11-26\n",
       "1       2014-11-26\n",
       "2       2020-06-08\n",
       "3       2020-06-08\n",
       "4       2017-11-14\n",
       "           ...    \n",
       "32519   2020-08-20\n",
       "32520   2014-12-14\n",
       "32521   2014-12-14\n",
       "32522   2020-07-01\n",
       "32523   2020-07-01\n",
       "Name: time, Length: 32524, dtype: datetime64[ns]"
      ]
     },
     "execution_count": 58,
     "metadata": {},
     "output_type": "execute_result"
    }
   ],
   "source": [
    "final_tweets[\"time\"] = pd.to_datetime(final_tweets['time'])\n",
    "final_tweets[\"time\"] = final_tweets[\"time\"].dt.date\n",
    "final_tweets['time']= pd.to_datetime(final_tweets['time'])\n",
    "final_tweets['time']"
   ]
  },
  {
   "cell_type": "markdown",
   "id": "0fdd60e6",
   "metadata": {},
   "source": [
    "Rename columns to shorten."
   ]
  },
  {
   "cell_type": "code",
   "execution_count": 59,
   "id": "0994ea3a",
   "metadata": {},
   "outputs": [
    {
     "data": {
      "text/html": [
       "<div>\n",
       "<style scoped>\n",
       "    .dataframe tbody tr th:only-of-type {\n",
       "        vertical-align: middle;\n",
       "    }\n",
       "\n",
       "    .dataframe tbody tr th {\n",
       "        vertical-align: top;\n",
       "    }\n",
       "\n",
       "    .dataframe thead th {\n",
       "        text-align: right;\n",
       "    }\n",
       "</style>\n",
       "<table border=\"1\" class=\"dataframe\">\n",
       "  <thead>\n",
       "    <tr style=\"text-align: right;\">\n",
       "      <th></th>\n",
       "      <th>status_id</th>\n",
       "      <th>time</th>\n",
       "      <th>blm</th>\n",
       "      <th>alm</th>\n",
       "      <th>blulm</th>\n",
       "      <th>File_Name</th>\n",
       "    </tr>\n",
       "  </thead>\n",
       "  <tbody>\n",
       "    <tr>\n",
       "      <th>0</th>\n",
       "      <td>537684004657725440</td>\n",
       "      <td>2014-11-26</td>\n",
       "      <td>1.0</td>\n",
       "      <td>0.0</td>\n",
       "      <td>0.0</td>\n",
       "      <td>2014-11.csv</td>\n",
       "    </tr>\n",
       "    <tr>\n",
       "      <th>1</th>\n",
       "      <td>537684004657725440</td>\n",
       "      <td>2014-11-26</td>\n",
       "      <td>1.0</td>\n",
       "      <td>0.0</td>\n",
       "      <td>0.0</td>\n",
       "      <td>2014-11.csv</td>\n",
       "    </tr>\n",
       "    <tr>\n",
       "      <th>2</th>\n",
       "      <td>1269868146640384000</td>\n",
       "      <td>2020-06-08</td>\n",
       "      <td>1.0</td>\n",
       "      <td>0.0</td>\n",
       "      <td>0.0</td>\n",
       "      <td>2020-06.csv</td>\n",
       "    </tr>\n",
       "    <tr>\n",
       "      <th>3</th>\n",
       "      <td>1269868146640384000</td>\n",
       "      <td>2020-06-08</td>\n",
       "      <td>1.0</td>\n",
       "      <td>0.0</td>\n",
       "      <td>0.0</td>\n",
       "      <td>2020-06.csv</td>\n",
       "    </tr>\n",
       "    <tr>\n",
       "      <th>4</th>\n",
       "      <td>930503267662131200</td>\n",
       "      <td>2017-11-14</td>\n",
       "      <td>1.0</td>\n",
       "      <td>0.0</td>\n",
       "      <td>0.0</td>\n",
       "      <td>2017-11.csv</td>\n",
       "    </tr>\n",
       "  </tbody>\n",
       "</table>\n",
       "</div>"
      ],
      "text/plain": [
       "             status_id       time  blm  alm  blulm    File_Name\n",
       "0   537684004657725440 2014-11-26  1.0  0.0    0.0  2014-11.csv\n",
       "1   537684004657725440 2014-11-26  1.0  0.0    0.0  2014-11.csv\n",
       "2  1269868146640384000 2020-06-08  1.0  0.0    0.0  2020-06.csv\n",
       "3  1269868146640384000 2020-06-08  1.0  0.0    0.0  2020-06.csv\n",
       "4   930503267662131200 2017-11-14  1.0  0.0    0.0  2017-11.csv"
      ]
     },
     "execution_count": 59,
     "metadata": {},
     "output_type": "execute_result"
    }
   ],
   "source": [
    "final_tweets.rename(columns={\"blacklivesmatter\": \"blm\",\"alllivesmatter\":\"alm\",\"bluelivesmatter\":\"blulm\"}, inplace=True)\n",
    "final_tweets.head()"
   ]
  },
  {
   "cell_type": "markdown",
   "id": "c7858ca0",
   "metadata": {},
   "source": [
    "Change labels from one-hot encoded to category labels. First, create new dataframe with just labels."
   ]
  },
  {
   "cell_type": "code",
   "execution_count": 60,
   "id": "eb091864",
   "metadata": {},
   "outputs": [
    {
     "data": {
      "text/html": [
       "<div>\n",
       "<style scoped>\n",
       "    .dataframe tbody tr th:only-of-type {\n",
       "        vertical-align: middle;\n",
       "    }\n",
       "\n",
       "    .dataframe tbody tr th {\n",
       "        vertical-align: top;\n",
       "    }\n",
       "\n",
       "    .dataframe thead th {\n",
       "        text-align: right;\n",
       "    }\n",
       "</style>\n",
       "<table border=\"1\" class=\"dataframe\">\n",
       "  <thead>\n",
       "    <tr style=\"text-align: right;\">\n",
       "      <th></th>\n",
       "      <th>blm</th>\n",
       "      <th>alm</th>\n",
       "      <th>blulm</th>\n",
       "    </tr>\n",
       "  </thead>\n",
       "  <tbody>\n",
       "    <tr>\n",
       "      <th>0</th>\n",
       "      <td>1.0</td>\n",
       "      <td>0.0</td>\n",
       "      <td>0.0</td>\n",
       "    </tr>\n",
       "    <tr>\n",
       "      <th>1</th>\n",
       "      <td>1.0</td>\n",
       "      <td>0.0</td>\n",
       "      <td>0.0</td>\n",
       "    </tr>\n",
       "    <tr>\n",
       "      <th>2</th>\n",
       "      <td>1.0</td>\n",
       "      <td>0.0</td>\n",
       "      <td>0.0</td>\n",
       "    </tr>\n",
       "    <tr>\n",
       "      <th>3</th>\n",
       "      <td>1.0</td>\n",
       "      <td>0.0</td>\n",
       "      <td>0.0</td>\n",
       "    </tr>\n",
       "    <tr>\n",
       "      <th>4</th>\n",
       "      <td>1.0</td>\n",
       "      <td>0.0</td>\n",
       "      <td>0.0</td>\n",
       "    </tr>\n",
       "  </tbody>\n",
       "</table>\n",
       "</div>"
      ],
      "text/plain": [
       "   blm  alm  blulm\n",
       "0  1.0  0.0    0.0\n",
       "1  1.0  0.0    0.0\n",
       "2  1.0  0.0    0.0\n",
       "3  1.0  0.0    0.0\n",
       "4  1.0  0.0    0.0"
      ]
     },
     "execution_count": 60,
     "metadata": {},
     "output_type": "execute_result"
    }
   ],
   "source": [
    "labels= final_tweets[['blm','alm', 'blulm']]\n",
    "labels.head()"
   ]
  },
  {
   "cell_type": "markdown",
   "id": "fae254eb",
   "metadata": {},
   "source": [
    "Replace 1's with respect label in each column and replace 0's with NaN."
   ]
  },
  {
   "cell_type": "code",
   "execution_count": 61,
   "id": "4a856c65",
   "metadata": {},
   "outputs": [
    {
     "name": "stderr",
     "output_type": "stream",
     "text": [
      "C:\\Users\\dmusa\\AppData\\Local\\Temp\\ipykernel_34972\\1126092795.py:1: SettingWithCopyWarning: \n",
      "A value is trying to be set on a copy of a slice from a DataFrame\n",
      "\n",
      "See the caveats in the documentation: https://pandas.pydata.org/pandas-docs/stable/user_guide/indexing.html#returning-a-view-versus-a-copy\n",
      "  labels['blm'].replace({1:\"blm\", 0: float(\"nan\")}, inplace=True)\n"
     ]
    },
    {
     "data": {
      "text/plain": [
       "0        blm\n",
       "1        blm\n",
       "2        blm\n",
       "3        blm\n",
       "4        blm\n",
       "        ... \n",
       "32519    blm\n",
       "32520    NaN\n",
       "32521    NaN\n",
       "32522    blm\n",
       "32523    blm\n",
       "Name: blm, Length: 32524, dtype: object"
      ]
     },
     "execution_count": 61,
     "metadata": {},
     "output_type": "execute_result"
    }
   ],
   "source": [
    "labels['blm'].replace({1:\"blm\", 0: float(\"nan\")}, inplace=True)\n",
    "labels['blm']"
   ]
  },
  {
   "cell_type": "code",
   "execution_count": 62,
   "id": "6eee285a",
   "metadata": {},
   "outputs": [
    {
     "name": "stderr",
     "output_type": "stream",
     "text": [
      "C:\\Users\\dmusa\\AppData\\Local\\Temp\\ipykernel_34972\\3944052779.py:1: SettingWithCopyWarning: \n",
      "A value is trying to be set on a copy of a slice from a DataFrame\n",
      "\n",
      "See the caveats in the documentation: https://pandas.pydata.org/pandas-docs/stable/user_guide/indexing.html#returning-a-view-versus-a-copy\n",
      "  labels['alm'].replace({1:\"alm\", 0: float(\"nan\")}, inplace=True)\n"
     ]
    },
    {
     "data": {
      "text/plain": [
       "0        NaN\n",
       "1        NaN\n",
       "2        NaN\n",
       "3        NaN\n",
       "4        NaN\n",
       "        ... \n",
       "32519    NaN\n",
       "32520    alm\n",
       "32521    alm\n",
       "32522    NaN\n",
       "32523    NaN\n",
       "Name: alm, Length: 32524, dtype: object"
      ]
     },
     "execution_count": 62,
     "metadata": {},
     "output_type": "execute_result"
    }
   ],
   "source": [
    "labels['alm'].replace({1:\"alm\", 0: float(\"nan\")}, inplace=True)\n",
    "labels['alm']"
   ]
  },
  {
   "cell_type": "code",
   "execution_count": 63,
   "id": "07231e43",
   "metadata": {},
   "outputs": [
    {
     "name": "stderr",
     "output_type": "stream",
     "text": [
      "C:\\Users\\dmusa\\AppData\\Local\\Temp\\ipykernel_34972\\2821707966.py:1: SettingWithCopyWarning: \n",
      "A value is trying to be set on a copy of a slice from a DataFrame\n",
      "\n",
      "See the caveats in the documentation: https://pandas.pydata.org/pandas-docs/stable/user_guide/indexing.html#returning-a-view-versus-a-copy\n",
      "  labels['blulm'].replace({1:\"blulm\", 0: float(\"nan\")}, inplace=True)\n"
     ]
    },
    {
     "data": {
      "text/plain": [
       "0        NaN\n",
       "1        NaN\n",
       "2        NaN\n",
       "3        NaN\n",
       "4        NaN\n",
       "        ... \n",
       "32519    NaN\n",
       "32520    NaN\n",
       "32521    NaN\n",
       "32522    NaN\n",
       "32523    NaN\n",
       "Name: blulm, Length: 32524, dtype: object"
      ]
     },
     "execution_count": 63,
     "metadata": {},
     "output_type": "execute_result"
    }
   ],
   "source": [
    "labels['blulm'].replace({1:\"blulm\", 0: float(\"nan\")}, inplace=True)\n",
    "labels['blulm']"
   ]
  },
  {
   "cell_type": "markdown",
   "id": "553b41ac",
   "metadata": {},
   "source": [
    "Flatten three columns into one with labels."
   ]
  },
  {
   "cell_type": "code",
   "execution_count": 64,
   "id": "c89a501a",
   "metadata": {},
   "outputs": [
    {
     "name": "stderr",
     "output_type": "stream",
     "text": [
      "C:\\Users\\dmusa\\AppData\\Local\\Temp\\ipykernel_34972\\4290031881.py:1: SettingWithCopyWarning: \n",
      "A value is trying to be set on a copy of a slice from a DataFrame\n",
      "\n",
      "See the caveats in the documentation: https://pandas.pydata.org/pandas-docs/stable/user_guide/indexing.html#returning-a-view-versus-a-copy\n",
      "  labels['alm'].loc[labels['blm'].loc[~labels['blm'].isnull()].index] = 'blm'\n"
     ]
    },
    {
     "name": "stdout",
     "output_type": "stream",
     "text": [
      "0        blm\n",
      "1        blm\n",
      "2        blm\n",
      "3        blm\n",
      "4        blm\n",
      "        ... \n",
      "32519    blm\n",
      "32520    alm\n",
      "32521    alm\n",
      "32522    blm\n",
      "32523    blm\n",
      "Name: alm, Length: 32524, dtype: object\n"
     ]
    },
    {
     "name": "stderr",
     "output_type": "stream",
     "text": [
      "C:\\Users\\dmusa\\AppData\\Local\\Temp\\ipykernel_34972\\4290031881.py:2: SettingWithCopyWarning: \n",
      "A value is trying to be set on a copy of a slice from a DataFrame\n",
      "\n",
      "See the caveats in the documentation: https://pandas.pydata.org/pandas-docs/stable/user_guide/indexing.html#returning-a-view-versus-a-copy\n",
      "  labels['alm'].loc[labels['blulm'].loc[~labels['blulm'].isnull()].index] = 'blulm'\n"
     ]
    }
   ],
   "source": [
    "labels['alm'].loc[labels['blm'].loc[~labels['blm'].isnull()].index] = 'blm'\n",
    "labels['alm'].loc[labels['blulm'].loc[~labels['blulm'].isnull()].index] = 'blulm'\n",
    "print(labels['alm'])"
   ]
  },
  {
   "cell_type": "markdown",
   "id": "bf2e18c5",
   "metadata": {},
   "source": [
    "Rename column."
   ]
  },
  {
   "cell_type": "code",
   "execution_count": 65,
   "id": "d7c8fa0a",
   "metadata": {},
   "outputs": [
    {
     "name": "stderr",
     "output_type": "stream",
     "text": [
      "C:\\Users\\dmusa\\AppData\\Local\\Temp\\ipykernel_34972\\3474713512.py:1: SettingWithCopyWarning: \n",
      "A value is trying to be set on a copy of a slice from a DataFrame\n",
      "\n",
      "See the caveats in the documentation: https://pandas.pydata.org/pandas-docs/stable/user_guide/indexing.html#returning-a-view-versus-a-copy\n",
      "  labels.rename(columns={'alm':'label'}, inplace=True)\n"
     ]
    }
   ],
   "source": [
    "labels.rename(columns={'alm':'label'}, inplace=True)"
   ]
  },
  {
   "cell_type": "code",
   "execution_count": 66,
   "id": "887666b5",
   "metadata": {},
   "outputs": [],
   "source": [
    "labels = labels.drop(columns=['blm', 'blulm'])"
   ]
  },
  {
   "cell_type": "code",
   "execution_count": 67,
   "id": "62ef9260",
   "metadata": {},
   "outputs": [
    {
     "data": {
      "text/html": [
       "<div>\n",
       "<style scoped>\n",
       "    .dataframe tbody tr th:only-of-type {\n",
       "        vertical-align: middle;\n",
       "    }\n",
       "\n",
       "    .dataframe tbody tr th {\n",
       "        vertical-align: top;\n",
       "    }\n",
       "\n",
       "    .dataframe thead th {\n",
       "        text-align: right;\n",
       "    }\n",
       "</style>\n",
       "<table border=\"1\" class=\"dataframe\">\n",
       "  <thead>\n",
       "    <tr style=\"text-align: right;\">\n",
       "      <th></th>\n",
       "      <th>label</th>\n",
       "    </tr>\n",
       "  </thead>\n",
       "  <tbody>\n",
       "    <tr>\n",
       "      <th>0</th>\n",
       "      <td>blm</td>\n",
       "    </tr>\n",
       "    <tr>\n",
       "      <th>1</th>\n",
       "      <td>blm</td>\n",
       "    </tr>\n",
       "    <tr>\n",
       "      <th>2</th>\n",
       "      <td>blm</td>\n",
       "    </tr>\n",
       "    <tr>\n",
       "      <th>3</th>\n",
       "      <td>blm</td>\n",
       "    </tr>\n",
       "    <tr>\n",
       "      <th>4</th>\n",
       "      <td>blm</td>\n",
       "    </tr>\n",
       "  </tbody>\n",
       "</table>\n",
       "</div>"
      ],
      "text/plain": [
       "  label\n",
       "0   blm\n",
       "1   blm\n",
       "2   blm\n",
       "3   blm\n",
       "4   blm"
      ]
     },
     "execution_count": 67,
     "metadata": {},
     "output_type": "execute_result"
    }
   ],
   "source": [
    "labels.head()"
   ]
  },
  {
   "cell_type": "markdown",
   "id": "256aa11e",
   "metadata": {},
   "source": [
    "Merge label to final tweet dataframe."
   ]
  },
  {
   "cell_type": "code",
   "execution_count": 68,
   "id": "80ad7a58",
   "metadata": {},
   "outputs": [],
   "source": [
    "final_tweets = final_tweets.join(labels)"
   ]
  },
  {
   "cell_type": "code",
   "execution_count": 69,
   "id": "8dbba7ac",
   "metadata": {},
   "outputs": [
    {
     "data": {
      "text/plain": [
       "(32524, 7)"
      ]
     },
     "execution_count": 69,
     "metadata": {},
     "output_type": "execute_result"
    }
   ],
   "source": [
    "final_tweets.shape"
   ]
  },
  {
   "cell_type": "code",
   "execution_count": 70,
   "id": "682750e1",
   "metadata": {},
   "outputs": [
    {
     "data": {
      "text/html": [
       "<div>\n",
       "<style scoped>\n",
       "    .dataframe tbody tr th:only-of-type {\n",
       "        vertical-align: middle;\n",
       "    }\n",
       "\n",
       "    .dataframe tbody tr th {\n",
       "        vertical-align: top;\n",
       "    }\n",
       "\n",
       "    .dataframe thead th {\n",
       "        text-align: right;\n",
       "    }\n",
       "</style>\n",
       "<table border=\"1\" class=\"dataframe\">\n",
       "  <thead>\n",
       "    <tr style=\"text-align: right;\">\n",
       "      <th></th>\n",
       "      <th>status_id</th>\n",
       "      <th>time</th>\n",
       "      <th>blm</th>\n",
       "      <th>alm</th>\n",
       "      <th>blulm</th>\n",
       "      <th>File_Name</th>\n",
       "      <th>label</th>\n",
       "    </tr>\n",
       "  </thead>\n",
       "  <tbody>\n",
       "    <tr>\n",
       "      <th>0</th>\n",
       "      <td>537684004657725440</td>\n",
       "      <td>2014-11-26</td>\n",
       "      <td>1.0</td>\n",
       "      <td>0.0</td>\n",
       "      <td>0.0</td>\n",
       "      <td>2014-11.csv</td>\n",
       "      <td>blm</td>\n",
       "    </tr>\n",
       "    <tr>\n",
       "      <th>1</th>\n",
       "      <td>537684004657725440</td>\n",
       "      <td>2014-11-26</td>\n",
       "      <td>1.0</td>\n",
       "      <td>0.0</td>\n",
       "      <td>0.0</td>\n",
       "      <td>2014-11.csv</td>\n",
       "      <td>blm</td>\n",
       "    </tr>\n",
       "    <tr>\n",
       "      <th>2</th>\n",
       "      <td>1269868146640384000</td>\n",
       "      <td>2020-06-08</td>\n",
       "      <td>1.0</td>\n",
       "      <td>0.0</td>\n",
       "      <td>0.0</td>\n",
       "      <td>2020-06.csv</td>\n",
       "      <td>blm</td>\n",
       "    </tr>\n",
       "    <tr>\n",
       "      <th>3</th>\n",
       "      <td>1269868146640384000</td>\n",
       "      <td>2020-06-08</td>\n",
       "      <td>1.0</td>\n",
       "      <td>0.0</td>\n",
       "      <td>0.0</td>\n",
       "      <td>2020-06.csv</td>\n",
       "      <td>blm</td>\n",
       "    </tr>\n",
       "    <tr>\n",
       "      <th>4</th>\n",
       "      <td>930503267662131200</td>\n",
       "      <td>2017-11-14</td>\n",
       "      <td>1.0</td>\n",
       "      <td>0.0</td>\n",
       "      <td>0.0</td>\n",
       "      <td>2017-11.csv</td>\n",
       "      <td>blm</td>\n",
       "    </tr>\n",
       "  </tbody>\n",
       "</table>\n",
       "</div>"
      ],
      "text/plain": [
       "             status_id       time  blm  alm  blulm    File_Name label\n",
       "0   537684004657725440 2014-11-26  1.0  0.0    0.0  2014-11.csv   blm\n",
       "1   537684004657725440 2014-11-26  1.0  0.0    0.0  2014-11.csv   blm\n",
       "2  1269868146640384000 2020-06-08  1.0  0.0    0.0  2020-06.csv   blm\n",
       "3  1269868146640384000 2020-06-08  1.0  0.0    0.0  2020-06.csv   blm\n",
       "4   930503267662131200 2017-11-14  1.0  0.0    0.0  2017-11.csv   blm"
      ]
     },
     "execution_count": 70,
     "metadata": {},
     "output_type": "execute_result"
    }
   ],
   "source": [
    "final_tweets.head()"
   ]
  },
  {
   "cell_type": "markdown",
   "id": "897b32ba",
   "metadata": {},
   "source": [
    "Convert to CSV so we can access it easier."
   ]
  },
  {
   "cell_type": "code",
   "execution_count": 72,
   "id": "884029ab",
   "metadata": {},
   "outputs": [
    {
     "data": {
      "text/html": [
       "<div>\n",
       "<style scoped>\n",
       "    .dataframe tbody tr th:only-of-type {\n",
       "        vertical-align: middle;\n",
       "    }\n",
       "\n",
       "    .dataframe tbody tr th {\n",
       "        vertical-align: top;\n",
       "    }\n",
       "\n",
       "    .dataframe thead th {\n",
       "        text-align: right;\n",
       "    }\n",
       "</style>\n",
       "<table border=\"1\" class=\"dataframe\">\n",
       "  <thead>\n",
       "    <tr style=\"text-align: right;\">\n",
       "      <th></th>\n",
       "      <th>status_id</th>\n",
       "      <th>blacklivesmatter</th>\n",
       "      <th>alllivesmatter</th>\n",
       "      <th>bluelivesmatter</th>\n",
       "      <th>File_Name</th>\n",
       "    </tr>\n",
       "  </thead>\n",
       "  <tbody>\n",
       "    <tr>\n",
       "      <th>0</th>\n",
       "      <td>296004745028567040</td>\n",
       "      <td>1.0</td>\n",
       "      <td>0.0</td>\n",
       "      <td>0.0</td>\n",
       "      <td>2013-01.csv</td>\n",
       "    </tr>\n",
       "    <tr>\n",
       "      <th>1</th>\n",
       "      <td>299022201141735424</td>\n",
       "      <td>0.0</td>\n",
       "      <td>1.0</td>\n",
       "      <td>0.0</td>\n",
       "      <td>2013-02.csv</td>\n",
       "    </tr>\n",
       "    <tr>\n",
       "      <th>2</th>\n",
       "      <td>316973754951540737</td>\n",
       "      <td>1.0</td>\n",
       "      <td>0.0</td>\n",
       "      <td>0.0</td>\n",
       "      <td>2013-03.csv</td>\n",
       "    </tr>\n",
       "    <tr>\n",
       "      <th>3</th>\n",
       "      <td>315462982803009536</td>\n",
       "      <td>1.0</td>\n",
       "      <td>0.0</td>\n",
       "      <td>0.0</td>\n",
       "      <td>2013-03.csv</td>\n",
       "    </tr>\n",
       "    <tr>\n",
       "      <th>4</th>\n",
       "      <td>316242983945129984</td>\n",
       "      <td>1.0</td>\n",
       "      <td>0.0</td>\n",
       "      <td>0.0</td>\n",
       "      <td>2013-03.csv</td>\n",
       "    </tr>\n",
       "  </tbody>\n",
       "</table>\n",
       "</div>"
      ],
      "text/plain": [
       "            status_id  blacklivesmatter  alllivesmatter  bluelivesmatter  \\\n",
       "0  296004745028567040               1.0             0.0              0.0   \n",
       "1  299022201141735424               0.0             1.0              0.0   \n",
       "2  316973754951540737               1.0             0.0              0.0   \n",
       "3  315462982803009536               1.0             0.0              0.0   \n",
       "4  316242983945129984               1.0             0.0              0.0   \n",
       "\n",
       "     File_Name  \n",
       "0  2013-01.csv  \n",
       "1  2013-02.csv  \n",
       "2  2013-03.csv  \n",
       "3  2013-03.csv  \n",
       "4  2013-03.csv  "
      ]
     },
     "execution_count": 72,
     "metadata": {},
     "output_type": "execute_result"
    }
   ],
   "source": [
    "tweets_ids_full.head()"
   ]
  },
  {
   "cell_type": "code",
   "execution_count": 73,
   "id": "10046601",
   "metadata": {},
   "outputs": [],
   "source": [
    "tweets_ids_full['blacklivesmatter'].replace({1:\"blm\", 0: float(\"nan\")}, inplace=True)\n",
    "tweets_ids_full['alllivesmatter'].replace({1:\"alm\", 0: float(\"nan\")}, inplace=True)\n",
    "tweets_ids_full['bluelivesmatter'].replace({1:\"blulm\", 0: float(\"nan\")}, inplace=True)"
   ]
  },
  {
   "cell_type": "code",
   "execution_count": 74,
   "id": "1ca32448",
   "metadata": {},
   "outputs": [],
   "source": [
    "tweets_ids_full['alllivesmatter'].loc[tweets_ids_full['blacklivesmatter'].loc[~tweets_ids_full['blacklivesmatter'].isnull()].index] = 'blm'\n",
    "tweets_ids_full['alllivesmatter'].loc[tweets_ids_full['bluelivesmatter'].loc[~tweets_ids_full['bluelivesmatter'].isnull()].index] = 'blulm'"
   ]
  },
  {
   "cell_type": "code",
   "execution_count": 75,
   "id": "d921a419",
   "metadata": {},
   "outputs": [],
   "source": [
    "tweets_ids_full.rename(columns={'alllivesmatter':'label'}, inplace=True)"
   ]
  },
  {
   "cell_type": "code",
   "execution_count": 76,
   "id": "0703fa52",
   "metadata": {},
   "outputs": [
    {
     "data": {
      "text/plain": [
       "(127769598, 5)"
      ]
     },
     "execution_count": 76,
     "metadata": {},
     "output_type": "execute_result"
    }
   ],
   "source": [
    "tweets_ids_full.shape"
   ]
  },
  {
   "cell_type": "markdown",
   "id": "775f560d",
   "metadata": {},
   "source": [
    "## Tweets EDA"
   ]
  },
  {
   "cell_type": "markdown",
   "id": "979ec1ee",
   "metadata": {},
   "source": [
    "Counts by label"
   ]
  },
  {
   "cell_type": "code",
   "execution_count": 77,
   "id": "420420d2",
   "metadata": {},
   "outputs": [
    {
     "data": {
      "text/plain": [
       "<AxesSubplot:title={'center':'Tweet Label Count of Original Dataset'}>"
      ]
     },
     "execution_count": 77,
     "metadata": {},
     "output_type": "execute_result"
    },
    {
     "data": {
      "image/png": "[encoded data removed]",
      "text/plain": [
       "<Figure size 432x288 with 1 Axes>"
      ]
     },
     "metadata": {
      "needs_background": "light"
     },
     "output_type": "display_data"
    }
   ],
   "source": [
    "tweets_ids_full['label'].value_counts().plot(kind='bar', title=\"Tweet Label Count of Original Dataset\")"
   ]
  },
  {
   "cell_type": "code",
   "execution_count": 78,
   "id": "218b9d94",
   "metadata": {},
   "outputs": [
    {
     "data": {
      "text/plain": [
       "<AxesSubplot:title={'center':'Tweet Label Count of Sample'}>"
      ]
     },
     "execution_count": 78,
     "metadata": {},
     "output_type": "execute_result"
    },
    {
     "data": {
      "image/png": "[encoded data removed]",
      "text/plain": [
       "<Figure size 432x288 with 1 Axes>"
      ]
     },
     "metadata": {
      "needs_background": "light"
     },
     "output_type": "display_data"
    }
   ],
   "source": [
    "final_tweets['label'].value_counts().plot(kind='bar', title=\"Tweet Label Count of Sample\")"
   ]
  },
  {
   "cell_type": "markdown",
   "id": "72581d8a",
   "metadata": {},
   "source": [
    "Tweets by year."
   ]
  },
  {
   "cell_type": "markdown",
   "id": "833bc9f0",
   "metadata": {},
   "source": [
    "### Tweets Over Time"
   ]
  },
  {
   "cell_type": "code",
   "execution_count": 14,
   "id": "42e92015",
   "metadata": {},
   "outputs": [
    {
     "data": {
      "text/plain": [
       "[Text(0.5, 1.0, 'Total Tweets Over Time')]"
      ]
     },
     "execution_count": 14,
     "metadata": {},
     "output_type": "execute_result"
    },
    {
     "data": {
      "image/png": "[encoded data removed]",
      "text/plain": [
       "<Figure size 432x288 with 1 Axes>"
      ]
     },
     "metadata": {
      "needs_background": "light"
     },
     "output_type": "display_data"
    }
   ],
   "source": [
    "sns.lineplot(\n",
    "    data=total_count_by_year,\n",
    "    x='year',\n",
    "    y='counts',\n",
    "    ).set(title = \"Total Tweets Over Time\")"
   ]
  },
  {
   "cell_type": "markdown",
   "id": "36acefcf",
   "metadata": {},
   "source": [
    "Let's break it down by label."
   ]
  },
  {
   "cell_type": "code",
   "execution_count": 81,
   "id": "e30ac85f",
   "metadata": {},
   "outputs": [
    {
     "data": {
      "text/html": [
       "<div>\n",
       "<style scoped>\n",
       "    .dataframe tbody tr th:only-of-type {\n",
       "        vertical-align: middle;\n",
       "    }\n",
       "\n",
       "    .dataframe tbody tr th {\n",
       "        vertical-align: top;\n",
       "    }\n",
       "\n",
       "    .dataframe thead tr th {\n",
       "        text-align: left;\n",
       "    }\n",
       "\n",
       "    .dataframe thead tr:last-of-type th {\n",
       "        text-align: right;\n",
       "    }\n",
       "</style>\n",
       "<table border=\"1\" class=\"dataframe\">\n",
       "  <thead>\n",
       "    <tr>\n",
       "      <th></th>\n",
       "      <th colspan=\"3\" halign=\"left\">time</th>\n",
       "    </tr>\n",
       "    <tr>\n",
       "      <th>label</th>\n",
       "      <th>alm</th>\n",
       "      <th>blm</th>\n",
       "      <th>blulm</th>\n",
       "    </tr>\n",
       "    <tr>\n",
       "      <th>year</th>\n",
       "      <th></th>\n",
       "      <th></th>\n",
       "      <th></th>\n",
       "    </tr>\n",
       "  </thead>\n",
       "  <tbody>\n",
       "    <tr>\n",
       "      <th>2014</th>\n",
       "      <td>104</td>\n",
       "      <td>1258</td>\n",
       "      <td>40</td>\n",
       "    </tr>\n",
       "    <tr>\n",
       "      <th>2015</th>\n",
       "      <td>352</td>\n",
       "      <td>1894</td>\n",
       "      <td>56</td>\n",
       "    </tr>\n",
       "    <tr>\n",
       "      <th>2016</th>\n",
       "      <td>334</td>\n",
       "      <td>1272</td>\n",
       "      <td>368</td>\n",
       "    </tr>\n",
       "    <tr>\n",
       "      <th>2017</th>\n",
       "      <td>108</td>\n",
       "      <td>1262</td>\n",
       "      <td>348</td>\n",
       "    </tr>\n",
       "    <tr>\n",
       "      <th>2018</th>\n",
       "      <td>44</td>\n",
       "      <td>722</td>\n",
       "      <td>204</td>\n",
       "    </tr>\n",
       "    <tr>\n",
       "      <th>2019</th>\n",
       "      <td>52</td>\n",
       "      <td>648</td>\n",
       "      <td>246</td>\n",
       "    </tr>\n",
       "    <tr>\n",
       "      <th>2020</th>\n",
       "      <td>412</td>\n",
       "      <td>19972</td>\n",
       "      <td>656</td>\n",
       "    </tr>\n",
       "    <tr>\n",
       "      <th>2021</th>\n",
       "      <td>54</td>\n",
       "      <td>1928</td>\n",
       "      <td>190</td>\n",
       "    </tr>\n",
       "  </tbody>\n",
       "</table>\n",
       "</div>"
      ],
      "text/plain": [
       "      time             \n",
       "label  alm    blm blulm\n",
       "year                   \n",
       "2014   104   1258    40\n",
       "2015   352   1894    56\n",
       "2016   334   1272   368\n",
       "2017   108   1262   348\n",
       "2018    44    722   204\n",
       "2019    52    648   246\n",
       "2020   412  19972   656\n",
       "2021    54   1928   190"
      ]
     },
     "execution_count": 81,
     "metadata": {},
     "output_type": "execute_result"
    }
   ],
   "source": [
    "final_tweets['year'] = pd.DatetimeIndex(final_tweets['time']).year\n",
    "label_year = pd.pivot_table(data=(final_tweets.groupby(['year','label']).count())[['time']],\n",
    "                         index='year',columns='label',aggfunc=np.sum)\n",
    "label_year"
   ]
  },
  {
   "cell_type": "code",
   "execution_count": 82,
   "id": "612d2999",
   "metadata": {},
   "outputs": [
    {
     "data": {
      "text/plain": [
       "<AxesSubplot:title={'center':'Total Tweets Over Time, by Label'}, xlabel='year', ylabel='year'>"
      ]
     },
     "execution_count": 82,
     "metadata": {},
     "output_type": "execute_result"
    },
    {
     "data": {
      "image/png": "[encoded data removed]",
      "text/plain": [
       "<Figure size 1080x720 with 1 Axes>"
      ]
     },
     "metadata": {
      "needs_background": "light"
     },
     "output_type": "display_data"
    }
   ],
   "source": [
    "label_year.plot(figsize=(15,10), title='Total Tweets Over Time, by Label', ylabel='year')"
   ]
  },
  {
   "cell_type": "markdown",
   "id": "36562920",
   "metadata": {},
   "source": [
    "Let's look at how the counts of tweets compares with the counts of death caused by police."
   ]
  },
  {
   "cell_type": "code",
   "execution_count": 20,
   "id": "c41fc129",
   "metadata": {},
   "outputs": [
    {
     "data": {
      "image/png": "[encoded data removed]",
      "text/plain": [
       "<Figure size 936x432 with 2 Axes>"
      ]
     },
     "metadata": {
      "needs_background": "light"
     },
     "output_type": "display_data"
    }
   ],
   "source": [
    "fig, ax = plt.subplots(figsize=(13,6))\n",
    "#tweets line chart\n",
    "lineplot = sns.lineplot(x='year', y='counts', data=total_count_by_year, label= 'Tweets', legend=False)\n",
    "sns.despine()\n",
    "plt.ylabel('Counts')\n",
    "plt.title('Counts of Death vs Tweets over Time', pad=20);\n",
    "#police line chart\n",
    "ax2 = ax.twinx()\n",
    "lineplot2 = sns.lineplot(x='year', y='count', data=deaths_table[deaths_table.year <= 2021], ax=ax2, color='r', label='Police Victims', legend=False)\n",
    "sns.despine(right=False)\n",
    "plt.ylabel('Counts')\n",
    "ax.figure.legend();"
   ]
  },
  {
   "cell_type": "markdown",
   "id": "81552d5c",
   "metadata": {},
   "source": [
    "Now that we have the tweets, let's go over the variables in the dataframe. \n",
    "\n",
    "The creators of the dataset categorized each tweet as supporting one of three major movements: Black Lives Matter, All Lives Matter, and Blue Lives Matter. The tweets are one hot encoded. \n",
    "\n",
    "The used an assortment of keywords and hashtags, as shown below, to categorize the tweets. These terms have a weight. The weight indicates how unique a term is to the topic. So a \"1.0\" tells us this term showed up only in that topic."
   ]
  },
  {
   "cell_type": "code",
   "execution_count": 84,
   "id": "ea167650",
   "metadata": {},
   "outputs": [
    {
     "data": {
      "text/html": [
       "<div>\n",
       "<style scoped>\n",
       "    .dataframe tbody tr th:only-of-type {\n",
       "        vertical-align: middle;\n",
       "    }\n",
       "\n",
       "    .dataframe tbody tr th {\n",
       "        vertical-align: top;\n",
       "    }\n",
       "\n",
       "    .dataframe thead th {\n",
       "        text-align: right;\n",
       "    }\n",
       "</style>\n",
       "<table border=\"1\" class=\"dataframe\">\n",
       "  <thead>\n",
       "    <tr style=\"text-align: right;\">\n",
       "      <th></th>\n",
       "      <th>term</th>\n",
       "      <th>weight</th>\n",
       "    </tr>\n",
       "  </thead>\n",
       "  <tbody>\n",
       "    <tr>\n",
       "      <th>8</th>\n",
       "      <td>#bible</td>\n",
       "      <td>1.0</td>\n",
       "    </tr>\n",
       "    <tr>\n",
       "      <th>32</th>\n",
       "      <td>#ilovejesus</td>\n",
       "      <td>1.0</td>\n",
       "    </tr>\n",
       "    <tr>\n",
       "      <th>38</th>\n",
       "      <td>#lfj</td>\n",
       "      <td>1.0</td>\n",
       "    </tr>\n",
       "    <tr>\n",
       "      <th>57</th>\n",
       "      <td>#prayergift</td>\n",
       "      <td>1.0</td>\n",
       "    </tr>\n",
       "    <tr>\n",
       "      <th>70</th>\n",
       "      <td>#taniaspeaks</td>\n",
       "      <td>1.0</td>\n",
       "    </tr>\n",
       "    <tr>\n",
       "      <th>...</th>\n",
       "      <td>...</td>\n",
       "      <td>...</td>\n",
       "    </tr>\n",
       "    <tr>\n",
       "      <th>14471</th>\n",
       "      <td>gsr</td>\n",
       "      <td>1.0</td>\n",
       "    </tr>\n",
       "    <tr>\n",
       "      <th>14485</th>\n",
       "      <td>justice4cephus</td>\n",
       "      <td>1.0</td>\n",
       "    </tr>\n",
       "    <tr>\n",
       "      <th>14489</th>\n",
       "      <td>misconstrues</td>\n",
       "      <td>1.0</td>\n",
       "    </tr>\n",
       "    <tr>\n",
       "      <th>14499</th>\n",
       "      <td>stippling</td>\n",
       "      <td>1.0</td>\n",
       "    </tr>\n",
       "    <tr>\n",
       "      <th>14500</th>\n",
       "      <td>suicide</td>\n",
       "      <td>1.0</td>\n",
       "    </tr>\n",
       "  </tbody>\n",
       "</table>\n",
       "<p>352 rows × 2 columns</p>\n",
       "</div>"
      ],
      "text/plain": [
       "                 term  weight\n",
       "8              #bible     1.0\n",
       "32        #ilovejesus     1.0\n",
       "38               #lfj     1.0\n",
       "57        #prayergift     1.0\n",
       "70       #taniaspeaks     1.0\n",
       "...               ...     ...\n",
       "14471             gsr     1.0\n",
       "14485  justice4cephus     1.0\n",
       "14489    misconstrues     1.0\n",
       "14499       stippling     1.0\n",
       "14500         suicide     1.0\n",
       "\n",
       "[352 rows x 2 columns]"
      ]
     },
     "execution_count": 84,
     "metadata": {},
     "output_type": "execute_result"
    }
   ],
   "source": [
    "alm = pd.read_csv('/Users/dmusa/Documents/UCSD/2021-2022/BLM_Tweets/topics/alm50.csv')\n",
    "alm = alm[['term', 'weight']]\n",
    "alm.sort_values(by=['weight'],ascending=False)\n",
    "alm.loc[alm['weight'] == 1.0]"
   ]
  },
  {
   "cell_type": "code",
   "execution_count": 85,
   "id": "584efedd",
   "metadata": {},
   "outputs": [
    {
     "data": {
      "text/html": [
       "<div>\n",
       "<style scoped>\n",
       "    .dataframe tbody tr th:only-of-type {\n",
       "        vertical-align: middle;\n",
       "    }\n",
       "\n",
       "    .dataframe tbody tr th {\n",
       "        vertical-align: top;\n",
       "    }\n",
       "\n",
       "    .dataframe thead th {\n",
       "        text-align: right;\n",
       "    }\n",
       "</style>\n",
       "<table border=\"1\" class=\"dataframe\">\n",
       "  <thead>\n",
       "    <tr style=\"text-align: right;\">\n",
       "      <th></th>\n",
       "      <th>term</th>\n",
       "      <th>weight</th>\n",
       "    </tr>\n",
       "  </thead>\n",
       "  <tbody>\n",
       "    <tr>\n",
       "      <th>33</th>\n",
       "      <td>application</td>\n",
       "      <td>1.0</td>\n",
       "    </tr>\n",
       "    <tr>\n",
       "      <th>3072</th>\n",
       "      <td>luther</td>\n",
       "      <td>1.0</td>\n",
       "    </tr>\n",
       "    <tr>\n",
       "      <th>4579</th>\n",
       "      <td>#russelllee</td>\n",
       "      <td>1.0</td>\n",
       "    </tr>\n",
       "    <tr>\n",
       "      <th>9064</th>\n",
       "      <td>archive</td>\n",
       "      <td>1.0</td>\n",
       "    </tr>\n",
       "    <tr>\n",
       "      <th>9306</th>\n",
       "      <td>barack</td>\n",
       "      <td>1.0</td>\n",
       "    </tr>\n",
       "    <tr>\n",
       "      <th>...</th>\n",
       "      <td>...</td>\n",
       "      <td>...</td>\n",
       "    </tr>\n",
       "    <tr>\n",
       "      <th>44566</th>\n",
       "      <td>walter</td>\n",
       "      <td>1.0</td>\n",
       "    </tr>\n",
       "    <tr>\n",
       "      <th>44611</th>\n",
       "      <td>#kohkanta</td>\n",
       "      <td>1.0</td>\n",
       "    </tr>\n",
       "    <tr>\n",
       "      <th>44626</th>\n",
       "      <td>#sb50</td>\n",
       "      <td>1.0</td>\n",
       "    </tr>\n",
       "    <tr>\n",
       "      <th>45471</th>\n",
       "      <td>#blackqueen</td>\n",
       "      <td>1.0</td>\n",
       "    </tr>\n",
       "    <tr>\n",
       "      <th>45551</th>\n",
       "      <td>#melaninpoppin</td>\n",
       "      <td>1.0</td>\n",
       "    </tr>\n",
       "  </tbody>\n",
       "</table>\n",
       "<p>75 rows × 2 columns</p>\n",
       "</div>"
      ],
      "text/plain": [
       "                 term  weight\n",
       "33        application     1.0\n",
       "3072           luther     1.0\n",
       "4579      #russelllee     1.0\n",
       "9064          archive     1.0\n",
       "9306           barack     1.0\n",
       "...               ...     ...\n",
       "44566          walter     1.0\n",
       "44611       #kohkanta     1.0\n",
       "44626           #sb50     1.0\n",
       "45471     #blackqueen     1.0\n",
       "45551  #melaninpoppin     1.0\n",
       "\n",
       "[75 rows x 2 columns]"
      ]
     },
     "execution_count": 85,
     "metadata": {},
     "output_type": "execute_result"
    }
   ],
   "source": [
    "blm = pd.read_csv('/Users/dmusa/Documents/UCSD/2021-2022/BLM_Tweets/topics/blm100.csv')\n",
    "blm = blm[['term', 'weight']]\n",
    "blm.head()\n",
    "#pd.set_option('display.max_rows', None)\n",
    "blm.loc[blm['weight'] == 1.0]"
   ]
  },
  {
   "cell_type": "code",
   "execution_count": 86,
   "id": "b2dd12f9",
   "metadata": {},
   "outputs": [
    {
     "data": {
      "text/html": [
       "<div>\n",
       "<style scoped>\n",
       "    .dataframe tbody tr th:only-of-type {\n",
       "        vertical-align: middle;\n",
       "    }\n",
       "\n",
       "    .dataframe tbody tr th {\n",
       "        vertical-align: top;\n",
       "    }\n",
       "\n",
       "    .dataframe thead th {\n",
       "        text-align: right;\n",
       "    }\n",
       "</style>\n",
       "<table border=\"1\" class=\"dataframe\">\n",
       "  <thead>\n",
       "    <tr style=\"text-align: right;\">\n",
       "      <th></th>\n",
       "      <th>term</th>\n",
       "      <th>weight</th>\n",
       "    </tr>\n",
       "  </thead>\n",
       "  <tbody>\n",
       "    <tr>\n",
       "      <th>0</th>\n",
       "      <td>#axlesgarage</td>\n",
       "      <td>1.0</td>\n",
       "    </tr>\n",
       "    <tr>\n",
       "      <th>8</th>\n",
       "      <td>#ghetto</td>\n",
       "      <td>1.0</td>\n",
       "    </tr>\n",
       "    <tr>\n",
       "      <th>10</th>\n",
       "      <td>#igotyour6</td>\n",
       "      <td>1.0</td>\n",
       "    </tr>\n",
       "    <tr>\n",
       "      <th>13</th>\n",
       "      <td>#jeepwrangler</td>\n",
       "      <td>1.0</td>\n",
       "    </tr>\n",
       "    <tr>\n",
       "      <th>14</th>\n",
       "      <td>#lawenforcementofficers</td>\n",
       "      <td>1.0</td>\n",
       "    </tr>\n",
       "    <tr>\n",
       "      <th>...</th>\n",
       "      <td>...</td>\n",
       "      <td>...</td>\n",
       "    </tr>\n",
       "    <tr>\n",
       "      <th>10025</th>\n",
       "      <td>junior</td>\n",
       "      <td>1.0</td>\n",
       "    </tr>\n",
       "    <tr>\n",
       "      <th>10029</th>\n",
       "      <td>leslie</td>\n",
       "      <td>1.0</td>\n",
       "    </tr>\n",
       "    <tr>\n",
       "      <th>10043</th>\n",
       "      <td>pearce</td>\n",
       "      <td>1.0</td>\n",
       "    </tr>\n",
       "    <tr>\n",
       "      <th>10075</th>\n",
       "      <td>wade</td>\n",
       "      <td>1.0</td>\n",
       "    </tr>\n",
       "    <tr>\n",
       "      <th>10077</th>\n",
       "      <td>who's</td>\n",
       "      <td>1.0</td>\n",
       "    </tr>\n",
       "  </tbody>\n",
       "</table>\n",
       "<p>326 rows × 2 columns</p>\n",
       "</div>"
      ],
      "text/plain": [
       "                          term  weight\n",
       "0                 #axlesgarage     1.0\n",
       "8                      #ghetto     1.0\n",
       "10                  #igotyour6     1.0\n",
       "13               #jeepwrangler     1.0\n",
       "14     #lawenforcementofficers     1.0\n",
       "...                        ...     ...\n",
       "10025                   junior     1.0\n",
       "10029                   leslie     1.0\n",
       "10043                   pearce     1.0\n",
       "10075                     wade     1.0\n",
       "10077                    who's     1.0\n",
       "\n",
       "[326 rows x 2 columns]"
      ]
     },
     "execution_count": 86,
     "metadata": {},
     "output_type": "execute_result"
    }
   ],
   "source": [
    "blulm = pd.read_csv('/Users/dmusa/Documents/UCSD/2021-2022/BLM_Tweets/topics/blulm25.csv')\n",
    "blulm = blulm[['term', 'weight']]\n",
    "blulm.head()\n",
    "#pd.set_option('display.max_rows', None)\n",
    "blulm.loc[blulm['weight'] == 1.0]"
   ]
  },
  {
   "cell_type": "markdown",
   "id": "43720d83",
   "metadata": {},
   "source": [
    "# Correlation"
   ]
  },
  {
   "cell_type": "code",
   "execution_count": 87,
   "id": "cfc5510c",
   "metadata": {},
   "outputs": [
    {
     "data": {
      "text/html": [
       "<div>\n",
       "<style scoped>\n",
       "    .dataframe tbody tr th:only-of-type {\n",
       "        vertical-align: middle;\n",
       "    }\n",
       "\n",
       "    .dataframe tbody tr th {\n",
       "        vertical-align: top;\n",
       "    }\n",
       "\n",
       "    .dataframe thead th {\n",
       "        text-align: right;\n",
       "    }\n",
       "</style>\n",
       "<table border=\"1\" class=\"dataframe\">\n",
       "  <thead>\n",
       "    <tr style=\"text-align: right;\">\n",
       "      <th></th>\n",
       "      <th>year</th>\n",
       "      <th>counts</th>\n",
       "    </tr>\n",
       "  </thead>\n",
       "  <tbody>\n",
       "    <tr>\n",
       "      <th>0</th>\n",
       "      <td>2013</td>\n",
       "      <td>1902</td>\n",
       "    </tr>\n",
       "    <tr>\n",
       "      <th>1</th>\n",
       "      <td>2014</td>\n",
       "      <td>537748</td>\n",
       "    </tr>\n",
       "    <tr>\n",
       "      <th>2</th>\n",
       "      <td>2015</td>\n",
       "      <td>1892016</td>\n",
       "    </tr>\n",
       "    <tr>\n",
       "      <th>3</th>\n",
       "      <td>2016</td>\n",
       "      <td>2343874</td>\n",
       "    </tr>\n",
       "    <tr>\n",
       "      <th>4</th>\n",
       "      <td>2017</td>\n",
       "      <td>2842851</td>\n",
       "    </tr>\n",
       "    <tr>\n",
       "      <th>5</th>\n",
       "      <td>2018</td>\n",
       "      <td>1618370</td>\n",
       "    </tr>\n",
       "    <tr>\n",
       "      <th>6</th>\n",
       "      <td>2019</td>\n",
       "      <td>1812953</td>\n",
       "    </tr>\n",
       "    <tr>\n",
       "      <th>7</th>\n",
       "      <td>2020</td>\n",
       "      <td>47358076</td>\n",
       "    </tr>\n",
       "    <tr>\n",
       "      <th>8</th>\n",
       "      <td>2021</td>\n",
       "      <td>5477009</td>\n",
       "    </tr>\n",
       "  </tbody>\n",
       "</table>\n",
       "</div>"
      ],
      "text/plain": [
       "   year    counts\n",
       "0  2013      1902\n",
       "1  2014    537748\n",
       "2  2015   1892016\n",
       "3  2016   2343874\n",
       "4  2017   2842851\n",
       "5  2018   1618370\n",
       "6  2019   1812953\n",
       "7  2020  47358076\n",
       "8  2021   5477009"
      ]
     },
     "execution_count": 87,
     "metadata": {},
     "output_type": "execute_result"
    }
   ],
   "source": [
    "total_count_by_year"
   ]
  },
  {
   "cell_type": "code",
   "execution_count": 22,
   "id": "9fa917b5",
   "metadata": {},
   "outputs": [
    {
     "data": {
      "text/html": [
       "<div>\n",
       "<style scoped>\n",
       "    .dataframe tbody tr th:only-of-type {\n",
       "        vertical-align: middle;\n",
       "    }\n",
       "\n",
       "    .dataframe tbody tr th {\n",
       "        vertical-align: top;\n",
       "    }\n",
       "\n",
       "    .dataframe thead th {\n",
       "        text-align: right;\n",
       "    }\n",
       "</style>\n",
       "<table border=\"1\" class=\"dataframe\">\n",
       "  <thead>\n",
       "    <tr style=\"text-align: right;\">\n",
       "      <th></th>\n",
       "      <th>cause_of_death</th>\n",
       "      <th>race</th>\n",
       "      <th>date</th>\n",
       "      <th>officer_charged</th>\n",
       "      <th>armed</th>\n",
       "      <th>count</th>\n",
       "      <th>year</th>\n",
       "    </tr>\n",
       "  </thead>\n",
       "  <tbody>\n",
       "    <tr>\n",
       "      <th>170</th>\n",
       "      <td>Gunshot</td>\n",
       "      <td>Unknown race</td>\n",
       "      <td>2021-12-31</td>\n",
       "      <td>No Known Charges</td>\n",
       "      <td>Vehicle</td>\n",
       "      <td>1</td>\n",
       "      <td>2021</td>\n",
       "    </tr>\n",
       "    <tr>\n",
       "      <th>171</th>\n",
       "      <td>Gunshot</td>\n",
       "      <td>Unknown race</td>\n",
       "      <td>2021-12-31</td>\n",
       "      <td>No Known Charges</td>\n",
       "      <td>Allegedly Armed</td>\n",
       "      <td>1</td>\n",
       "      <td>2021</td>\n",
       "    </tr>\n",
       "    <tr>\n",
       "      <th>172</th>\n",
       "      <td>Gunshot</td>\n",
       "      <td>Black</td>\n",
       "      <td>2021-12-29</td>\n",
       "      <td>No Known Charges</td>\n",
       "      <td>Allegedly Armed</td>\n",
       "      <td>1</td>\n",
       "      <td>2021</td>\n",
       "    </tr>\n",
       "    <tr>\n",
       "      <th>173</th>\n",
       "      <td>Gunshot</td>\n",
       "      <td>Black</td>\n",
       "      <td>2021-12-29</td>\n",
       "      <td>No Known Charges</td>\n",
       "      <td>Unclear</td>\n",
       "      <td>1</td>\n",
       "      <td>2021</td>\n",
       "    </tr>\n",
       "    <tr>\n",
       "      <th>174</th>\n",
       "      <td>Gunshot</td>\n",
       "      <td>Black</td>\n",
       "      <td>2021-12-28</td>\n",
       "      <td>No Known Charges</td>\n",
       "      <td>Allegedly Armed</td>\n",
       "      <td>1</td>\n",
       "      <td>2021</td>\n",
       "    </tr>\n",
       "    <tr>\n",
       "      <th>...</th>\n",
       "      <td>...</td>\n",
       "      <td>...</td>\n",
       "      <td>...</td>\n",
       "      <td>...</td>\n",
       "      <td>...</td>\n",
       "      <td>...</td>\n",
       "      <td>...</td>\n",
       "    </tr>\n",
       "    <tr>\n",
       "      <th>10068</th>\n",
       "      <td>Gunshot</td>\n",
       "      <td>Unknown race</td>\n",
       "      <td>2013-01-02</td>\n",
       "      <td>No Known Charges</td>\n",
       "      <td>Allegedly Armed</td>\n",
       "      <td>1</td>\n",
       "      <td>2013</td>\n",
       "    </tr>\n",
       "    <tr>\n",
       "      <th>10069</th>\n",
       "      <td>Gunshot</td>\n",
       "      <td>Hispanic</td>\n",
       "      <td>2013-01-01</td>\n",
       "      <td>No Known Charges</td>\n",
       "      <td>Allegedly Armed</td>\n",
       "      <td>1</td>\n",
       "      <td>2013</td>\n",
       "    </tr>\n",
       "    <tr>\n",
       "      <th>10070</th>\n",
       "      <td>Gunshot</td>\n",
       "      <td>Hispanic</td>\n",
       "      <td>2013-01-01</td>\n",
       "      <td>No Known Charges</td>\n",
       "      <td>Unclear</td>\n",
       "      <td>1</td>\n",
       "      <td>2013</td>\n",
       "    </tr>\n",
       "    <tr>\n",
       "      <th>10071</th>\n",
       "      <td>Gunshot</td>\n",
       "      <td>Black</td>\n",
       "      <td>2013-01-01</td>\n",
       "      <td>No Known Charges</td>\n",
       "      <td>Allegedly Armed</td>\n",
       "      <td>1</td>\n",
       "      <td>2013</td>\n",
       "    </tr>\n",
       "    <tr>\n",
       "      <th>10073</th>\n",
       "      <td>Gunshot</td>\n",
       "      <td>Hispanic</td>\n",
       "      <td>2013-01-01</td>\n",
       "      <td>No Known Charges</td>\n",
       "      <td>Allegedly Armed</td>\n",
       "      <td>1</td>\n",
       "      <td>2013</td>\n",
       "    </tr>\n",
       "  </tbody>\n",
       "</table>\n",
       "<p>5557 rows × 7 columns</p>\n",
       "</div>"
      ],
      "text/plain": [
       "      cause_of_death          race       date   officer_charged  \\\n",
       "170          Gunshot  Unknown race 2021-12-31  No Known Charges   \n",
       "171          Gunshot  Unknown race 2021-12-31  No Known Charges   \n",
       "172          Gunshot         Black 2021-12-29  No Known Charges   \n",
       "173          Gunshot         Black 2021-12-29  No Known Charges   \n",
       "174          Gunshot         Black 2021-12-28  No Known Charges   \n",
       "...              ...           ...        ...               ...   \n",
       "10068        Gunshot  Unknown race 2013-01-02  No Known Charges   \n",
       "10069        Gunshot      Hispanic 2013-01-01  No Known Charges   \n",
       "10070        Gunshot      Hispanic 2013-01-01  No Known Charges   \n",
       "10071        Gunshot         Black 2013-01-01  No Known Charges   \n",
       "10073        Gunshot      Hispanic 2013-01-01  No Known Charges   \n",
       "\n",
       "                 armed  count  year  \n",
       "170            Vehicle      1  2021  \n",
       "171    Allegedly Armed      1  2021  \n",
       "172    Allegedly Armed      1  2021  \n",
       "173            Unclear      1  2021  \n",
       "174    Allegedly Armed      1  2021  \n",
       "...                ...    ...   ...  \n",
       "10068  Allegedly Armed      1  2013  \n",
       "10069  Allegedly Armed      1  2013  \n",
       "10070          Unclear      1  2013  \n",
       "10071  Allegedly Armed      1  2013  \n",
       "10073  Allegedly Armed      1  2013  \n",
       "\n",
       "[5557 rows x 7 columns]"
      ]
     },
     "execution_count": 22,
     "metadata": {},
     "output_type": "execute_result"
    }
   ],
   "source": [
    "mpv[mpv['race'] != 'White']"
   ]
  },
  {
   "cell_type": "code",
   "execution_count": 23,
   "id": "440f76fb",
   "metadata": {},
   "outputs": [
    {
     "data": {
      "text/html": [
       "<div>\n",
       "<style scoped>\n",
       "    .dataframe tbody tr th:only-of-type {\n",
       "        vertical-align: middle;\n",
       "    }\n",
       "\n",
       "    .dataframe tbody tr th {\n",
       "        vertical-align: top;\n",
       "    }\n",
       "\n",
       "    .dataframe thead th {\n",
       "        text-align: right;\n",
       "    }\n",
       "</style>\n",
       "<table border=\"1\" class=\"dataframe\">\n",
       "  <thead>\n",
       "    <tr style=\"text-align: right;\">\n",
       "      <th></th>\n",
       "      <th>year</th>\n",
       "      <th>count</th>\n",
       "    </tr>\n",
       "  </thead>\n",
       "  <tbody>\n",
       "    <tr>\n",
       "      <th>0</th>\n",
       "      <td>2013</td>\n",
       "      <td>657</td>\n",
       "    </tr>\n",
       "    <tr>\n",
       "      <th>1</th>\n",
       "      <td>2014</td>\n",
       "      <td>569</td>\n",
       "    </tr>\n",
       "    <tr>\n",
       "      <th>2</th>\n",
       "      <td>2015</td>\n",
       "      <td>559</td>\n",
       "    </tr>\n",
       "    <tr>\n",
       "      <th>3</th>\n",
       "      <td>2016</td>\n",
       "      <td>537</td>\n",
       "    </tr>\n",
       "    <tr>\n",
       "      <th>4</th>\n",
       "      <td>2017</td>\n",
       "      <td>583</td>\n",
       "    </tr>\n",
       "    <tr>\n",
       "      <th>5</th>\n",
       "      <td>2018</td>\n",
       "      <td>632</td>\n",
       "    </tr>\n",
       "    <tr>\n",
       "      <th>6</th>\n",
       "      <td>2019</td>\n",
       "      <td>647</td>\n",
       "    </tr>\n",
       "    <tr>\n",
       "      <th>7</th>\n",
       "      <td>2020</td>\n",
       "      <td>716</td>\n",
       "    </tr>\n",
       "    <tr>\n",
       "      <th>8</th>\n",
       "      <td>2021</td>\n",
       "      <td>657</td>\n",
       "    </tr>\n",
       "  </tbody>\n",
       "</table>\n",
       "</div>"
      ],
      "text/plain": [
       "   year  count\n",
       "0  2013    657\n",
       "1  2014    569\n",
       "2  2015    559\n",
       "3  2016    537\n",
       "4  2017    583\n",
       "5  2018    632\n",
       "6  2019    647\n",
       "7  2020    716\n",
       "8  2021    657"
      ]
     },
     "execution_count": 23,
     "metadata": {},
     "output_type": "execute_result"
    }
   ],
   "source": [
    "deaths_over_time_poc = mpv[mpv['race'] != 'White'].groupby('year', as_index=False).count()\n",
    "deaths_table_poc = deaths_over_time_poc[['year', 'count']].copy()\n",
    "deaths_table_poc"
   ]
  },
  {
   "cell_type": "code",
   "execution_count": 30,
   "id": "bf14355e",
   "metadata": {},
   "outputs": [],
   "source": [
    "column_1 = total_count_by_year['counts']\n",
    "column_2 = deaths_table_poc['count']\n",
    "column_3 = deaths_table['count']"
   ]
  },
  {
   "cell_type": "markdown",
   "id": "4b011a0b",
   "metadata": {},
   "source": [
    "### Pearson's Correlation"
   ]
  },
  {
   "cell_type": "markdown",
   "id": "cdc789b2",
   "metadata": {},
   "source": [
    "Correlation between total counts and all deaths."
   ]
  },
  {
   "cell_type": "code",
   "execution_count": 31,
   "id": "ff5a65c9",
   "metadata": {},
   "outputs": [
    {
     "data": {
      "text/plain": [
       "0.3789665316253066"
      ]
     },
     "execution_count": 31,
     "metadata": {},
     "output_type": "execute_result"
    }
   ],
   "source": [
    "column_1.corr(column_3, method='pearson')"
   ]
  },
  {
   "cell_type": "markdown",
   "id": "deea97c4",
   "metadata": {},
   "source": [
    "Correlation between total counts and only deaths of people of color."
   ]
  },
  {
   "cell_type": "code",
   "execution_count": 25,
   "id": "dc9e1d0c",
   "metadata": {},
   "outputs": [
    {
     "data": {
      "text/plain": [
       "0.6392822140531931"
      ]
     },
     "execution_count": 25,
     "metadata": {},
     "output_type": "execute_result"
    }
   ],
   "source": [
    "column_1.corr(column_2, method='pearson')"
   ]
  },
  {
   "cell_type": "markdown",
   "id": "89f8d038",
   "metadata": {},
   "source": [
    "### Spearman's Correlation"
   ]
  },
  {
   "cell_type": "markdown",
   "id": "d162158c",
   "metadata": {},
   "source": [
    "Correlation between total counts and all deaths."
   ]
  },
  {
   "cell_type": "code",
   "execution_count": 32,
   "id": "d3421176",
   "metadata": {},
   "outputs": [
    {
     "data": {
      "text/plain": [
       "0.39999999999999997"
      ]
     },
     "execution_count": 32,
     "metadata": {},
     "output_type": "execute_result"
    }
   ],
   "source": [
    "column_1.corr(column_3, method='spearman')"
   ]
  },
  {
   "cell_type": "markdown",
   "id": "bbb967cc",
   "metadata": {},
   "source": [
    "Correlation between total counts and only deaths of people of color."
   ]
  },
  {
   "cell_type": "code",
   "execution_count": 33,
   "id": "13046d10",
   "metadata": {},
   "outputs": [
    {
     "data": {
      "text/plain": [
       "0.20920685218893076"
      ]
     },
     "execution_count": 33,
     "metadata": {},
     "output_type": "execute_result"
    }
   ],
   "source": [
    "column_1.corr(column_2, method='spearman')"
   ]
  },
  {
   "cell_type": "markdown",
   "id": "c696e2b9",
   "metadata": {},
   "source": [
    "### Kendall's Correlation"
   ]
  },
  {
   "cell_type": "markdown",
   "id": "9fd66c59",
   "metadata": {},
   "source": [
    "Correlation between total counts and all deaths."
   ]
  },
  {
   "cell_type": "code",
   "execution_count": 34,
   "id": "9678d8f5",
   "metadata": {},
   "outputs": [
    {
     "data": {
      "text/plain": [
       "0.2777777777777778"
      ]
     },
     "execution_count": 34,
     "metadata": {},
     "output_type": "execute_result"
    }
   ],
   "source": [
    "column_1.corr(column_3, method='kendall')"
   ]
  },
  {
   "cell_type": "markdown",
   "id": "6a29e669",
   "metadata": {},
   "source": [
    "Correlation between total counts and only deaths of people of color."
   ]
  },
  {
   "cell_type": "code",
   "execution_count": 35,
   "id": "67773aca",
   "metadata": {},
   "outputs": [
    {
     "data": {
      "text/plain": [
       "0.14085904245475278"
      ]
     },
     "execution_count": 35,
     "metadata": {},
     "output_type": "execute_result"
    }
   ],
   "source": [
    "column_1.corr(column_2, method='kendall')"
   ]
  },
  {
   "cell_type": "markdown",
   "id": "1cd3018b",
   "metadata": {},
   "source": [
    "We can see there is a small positive correlation in all correlation measures. This is opposite to what we expected to happen. This suggests there is a small relationship of increased BLM activism on Twitter and increased death by police. "
   ]
  },
  {
   "cell_type": "markdown",
   "id": "22493cf8",
   "metadata": {},
   "source": [
    "# Conclusion"
   ]
  },
  {
   "cell_type": "markdown",
   "id": "5307956f",
   "metadata": {},
   "source": [
    "We fail to reject the null hypothesis. Increased BLM activism on Twitter did not lead to less deaths by police, especially of people of color. "
   ]
  },
  {
   "cell_type": "markdown",
   "id": "61bd2473",
   "metadata": {},
   "source": []
  }
 ],
 "metadata": {
  "interpreter": {
   "hash": "2fbdcd92d580ff00aff1c6c19a5d1b3d245e9f6532b4a965ba38cf71846c5f75"
  },
  "kernelspec": {
   "display_name": "Python 3.10.4 64-bit",
   "language": "python",
   "name": "python3"
  },
  "language_info": {
   "codemirror_mode": {
    "name": "ipython",
    "version": 3
   },
   "file_extension": ".py",
   "mimetype": "text/x-python",
   "name": "python",
   "nbconvert_exporter": "python",
   "pygments_lexer": "ipython3",
   "version": "3.10.4"
  }
 },
 "nbformat": 4,
 "nbformat_minor": 5
}
