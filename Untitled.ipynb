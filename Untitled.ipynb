{
 "cells": [
  {
   "cell_type": "markdown",
   "id": "d36999f7",
   "metadata": {},
   "source": [
    "### Police Data Cleaning"
   ]
  },
  {
   "cell_type": "markdown",
   "id": "553a6e73",
   "metadata": {},
   "source": []
  }
 ],
 "metadata": {
  "language_info": {
   "name": "python"
  }
 },
 "nbformat": 4,
 "nbformat_minor": 5
}
