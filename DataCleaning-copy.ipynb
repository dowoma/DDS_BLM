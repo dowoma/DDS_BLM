{
 "cells": [
  {
   "cell_type": "markdown",
   "id": "d36999f7",
   "metadata": {},
   "source": [
    "## Police Data Cleaning"
   ]
  },
  {
   "cell_type": "code",
   "execution_count": 1,
   "id": "2dddc764",
   "metadata": {},
   "outputs": [],
   "source": [
    "# imports\n",
    "import numpy as np\n",
    "import pandas as pd"
   ]
  },
  {
   "cell_type": "code",
   "execution_count": 2,
   "id": "d6fc9ee9",
   "metadata": {},
   "outputs": [
    {
     "data": {
      "text/html": [
       "<div>\n",
       "<style scoped>\n",
       "    .dataframe tbody tr th:only-of-type {\n",
       "        vertical-align: middle;\n",
       "    }\n",
       "\n",
       "    .dataframe tbody tr th {\n",
       "        vertical-align: top;\n",
       "    }\n",
       "\n",
       "    .dataframe thead th {\n",
       "        text-align: right;\n",
       "    }\n",
       "</style>\n",
       "<table border=\"1\" class=\"dataframe\">\n",
       "  <thead>\n",
       "    <tr style=\"text-align: right;\">\n",
       "      <th></th>\n",
       "      <th>cause_of_death</th>\n",
       "      <th>race</th>\n",
       "      <th>date</th>\n",
       "      <th>officer_charged</th>\n",
       "      <th>armed</th>\n",
       "    </tr>\n",
       "  </thead>\n",
       "  <tbody>\n",
       "    <tr>\n",
       "      <th>0</th>\n",
       "      <td>NaN</td>\n",
       "      <td>Black</td>\n",
       "      <td>3/14/2022</td>\n",
       "      <td>NaN</td>\n",
       "      <td>Allegedly Armed</td>\n",
       "    </tr>\n",
       "    <tr>\n",
       "      <th>1</th>\n",
       "      <td>NaN</td>\n",
       "      <td>White</td>\n",
       "      <td>3/12/2022</td>\n",
       "      <td>NaN</td>\n",
       "      <td>Allegedly Armed</td>\n",
       "    </tr>\n",
       "    <tr>\n",
       "      <th>2</th>\n",
       "      <td>Gunshot</td>\n",
       "      <td>White</td>\n",
       "      <td>3/12/2022</td>\n",
       "      <td>No Known Charges</td>\n",
       "      <td>Allegedly Armed</td>\n",
       "    </tr>\n",
       "    <tr>\n",
       "      <th>3</th>\n",
       "      <td>Gunshot</td>\n",
       "      <td>NaN</td>\n",
       "      <td>3/12/2022</td>\n",
       "      <td>No Known Charges</td>\n",
       "      <td>Allegedly Armed</td>\n",
       "    </tr>\n",
       "    <tr>\n",
       "      <th>4</th>\n",
       "      <td>Gunshot</td>\n",
       "      <td>White</td>\n",
       "      <td>3/11/2022</td>\n",
       "      <td>No Known Charges</td>\n",
       "      <td>Allegedly Armed</td>\n",
       "    </tr>\n",
       "    <tr>\n",
       "      <th>...</th>\n",
       "      <td>...</td>\n",
       "      <td>...</td>\n",
       "      <td>...</td>\n",
       "      <td>...</td>\n",
       "      <td>...</td>\n",
       "    </tr>\n",
       "    <tr>\n",
       "      <th>10070</th>\n",
       "      <td>Gunshot</td>\n",
       "      <td>Hispanic</td>\n",
       "      <td>1/1/2013</td>\n",
       "      <td>No Known Charges</td>\n",
       "      <td>Unclear</td>\n",
       "    </tr>\n",
       "    <tr>\n",
       "      <th>10071</th>\n",
       "      <td>Gunshot</td>\n",
       "      <td>Black</td>\n",
       "      <td>1/1/2013</td>\n",
       "      <td>No Known Charges</td>\n",
       "      <td>Allegedly Armed</td>\n",
       "    </tr>\n",
       "    <tr>\n",
       "      <th>10072</th>\n",
       "      <td>Gunshot</td>\n",
       "      <td>White</td>\n",
       "      <td>1/1/2013</td>\n",
       "      <td>No Known Charges</td>\n",
       "      <td>Allegedly Armed</td>\n",
       "    </tr>\n",
       "    <tr>\n",
       "      <th>10073</th>\n",
       "      <td>Gunshot</td>\n",
       "      <td>Hispanic</td>\n",
       "      <td>1/1/2013</td>\n",
       "      <td>No Known Charges</td>\n",
       "      <td>Allegedly Armed</td>\n",
       "    </tr>\n",
       "    <tr>\n",
       "      <th>10074</th>\n",
       "      <td>Taser</td>\n",
       "      <td>White</td>\n",
       "      <td>1/1/2013</td>\n",
       "      <td>No Known Charges</td>\n",
       "      <td>Unarmed/Did Not Have Actual Weapon</td>\n",
       "    </tr>\n",
       "  </tbody>\n",
       "</table>\n",
       "<p>10075 rows × 5 columns</p>\n",
       "</div>"
      ],
      "text/plain": [
       "      cause_of_death      race       date   officer_charged  \\\n",
       "0                NaN     Black  3/14/2022               NaN   \n",
       "1                NaN     White  3/12/2022               NaN   \n",
       "2            Gunshot     White  3/12/2022  No Known Charges   \n",
       "3            Gunshot       NaN  3/12/2022  No Known Charges   \n",
       "4            Gunshot     White  3/11/2022  No Known Charges   \n",
       "...              ...       ...        ...               ...   \n",
       "10070        Gunshot  Hispanic   1/1/2013  No Known Charges   \n",
       "10071        Gunshot     Black   1/1/2013  No Known Charges   \n",
       "10072        Gunshot     White   1/1/2013  No Known Charges   \n",
       "10073        Gunshot  Hispanic   1/1/2013  No Known Charges   \n",
       "10074          Taser     White   1/1/2013  No Known Charges   \n",
       "\n",
       "                                    armed  \n",
       "0                         Allegedly Armed  \n",
       "1                         Allegedly Armed  \n",
       "2                         Allegedly Armed  \n",
       "3                         Allegedly Armed  \n",
       "4                         Allegedly Armed  \n",
       "...                                   ...  \n",
       "10070                             Unclear  \n",
       "10071                     Allegedly Armed  \n",
       "10072                     Allegedly Armed  \n",
       "10073                     Allegedly Armed  \n",
       "10074  Unarmed/Did Not Have Actual Weapon  \n",
       "\n",
       "[10075 rows x 5 columns]"
      ]
     },
     "execution_count": 2,
     "metadata": {},
     "output_type": "execute_result"
    }
   ],
   "source": [
    "df = pd.read_csv('Mapping Police Violence-Grid view.csv')\n",
    "mpv = df[['cause_of_death','race','date','officer_charged','allegedly_armed']]\n",
    "#renaming \"allegedly_armed\" to \"armed\"\n",
    "mpv = mpv.rename(columns={'allegedly_armed': 'armed'})\n",
    "mpv"
   ]
  },
  {
   "cell_type": "code",
   "execution_count": 3,
   "id": "ff520695",
   "metadata": {},
   "outputs": [
    {
     "name": "stdout",
     "output_type": "stream",
     "text": [
      "['Black' 'White' nan 'Hispanic' 'Non-white' 'Unknown race'\n",
      " 'Pacific Islander' 'Native American' 'Asian']\n",
      "[nan 'Gunshot' 'Vehicle' 'Gunshot,Taser' 'Other'\n",
      " 'Physical Restraint,Beaten' 'Taser' 'Beaten' 'Physical Restraint'\n",
      " 'Taser,Physical Restraint' 'Gunshot,Vehicle' 'Chemical Agent' 'Bean bag'\n",
      " 'Pepper Spray' 'Asphyxiated' 'Bomb']\n",
      "['Allegedly Armed' 'Unarmed/Did Not Have Actual Weapon' nan 'Unclear'\n",
      " 'Vehicle']\n"
     ]
    }
   ],
   "source": [
    "print(mpv['race'].unique())\n",
    "print(mpv['cause_of_death'].unique())\n",
    "print(mpv['armed'].unique())"
   ]
  },
  {
   "cell_type": "code",
   "execution_count": 4,
   "id": "6a3b4f50",
   "metadata": {},
   "outputs": [
    {
     "name": "stdout",
     "output_type": "stream",
     "text": [
      "[nan 'No Known Charges' 'Charged with vehicular homicide'\n",
      " 'Charged with a crime' '\"Charged, Charges Dropped\"'\n",
      " '\"Charged, Convicted of Manslaughter\"'\n",
      " '\"Charged, Convicted, Sentenced to 22.5 years in prison\"'\n",
      " '\"Charged, Convicted\"'\n",
      " '\"Charged, Convicted, Sentenced to life in prison\"'\n",
      " '\"Charged, Convicted, Sentenced to 10 years in prison\"'\n",
      " '\"Charged, Convicted, Sentenced to 7 years in prison\"'\n",
      " '\"Charged, Acquitted\"'\n",
      " '\"Charged, Plead Guilty to Voluntary Manslaughter\"'\n",
      " '\"Charged, Convicted, Sentenced to 1 year in prison and 4 years probation\"'\n",
      " '\"Charged, Convicted, Sentenced to 25 years in prison\"'\n",
      " '\"Charged, Convicted, Sentenced to 2 years suspension and 3 years probation\"'\n",
      " '\"Charged, Convicted, Sentenced to 5-15 years in prison\"'\n",
      " '\"Charged, Convicted, Sentenced to 4.75 years in prison\"'\n",
      " '\"Charged, Mistrial\"'\n",
      " '\"Charged, Convicted, Sentenced to 15 years in prison\"'\n",
      " '\"Charged, Plead No Contest, Sentenced to 10 years probation\"'\n",
      " '\"Charged, Convicted, Sentenced to 6 years in prison\"'\n",
      " '\"Charged, Convicted, Sentenced to 10 Years of Prison\"'\n",
      " '\"Charged, Convicted, Sentenced to 1 year in prison\"'\n",
      " '\"Charged, Convicted, Sentenced to 14 years in prison\"'\n",
      " '\"Charged, Convicted, Sentenced to 3.5 years in prison\"'\n",
      " '\"Charged, Convicted, Sentenced to 5 years in prison\"'\n",
      " '\"Charged, Convicted, Sentenced to 55 years in prison\"'\n",
      " '\"Charged, Convicted, Sentenced to 40 years in prison\"'\n",
      " '\"Charged, Convicted, Sentenced to 3 months in jail\"'\n",
      " '\"Charged, Convicted, Sentenced to 30 years in prison\"'\n",
      " '\"Charged, Plead Guilty to Manslaughter, Sentenced to 5 years in prison\"'\n",
      " '\"Charged, Mistrial, Plead Guilty to Manslaughter\"'\n",
      " '\"Charged, Convicted, Sentenced to 2.5 years in prison\"'\n",
      " '\"Charged, Mistrial, Plead Guilty to Civil Rights Charges\"'\n",
      " '\"Charged, Convicted, Sentenced to 4 years\"'\n",
      " '\"Charged, Convicted, Sentenced to 40 years to Life in prison\"'\n",
      " '\"Charged, Convicted, Sentenced to 12 years in prison and 8 years in probation\"'\n",
      " '\"Charged, Convicted, Sentenced to 5 years probation.\"'\n",
      " '\"Charged, Convicted, Sentenced to 20 years in prison\"'\n",
      " '\"Charged, Convicted, Sentenced to 16 years in prison\"'\n",
      " '\"Charged, Convicted, Sentenced to life in prison without parole, plus 16 years\"'\n",
      " '\"Charged, Convicted, Sentenced to Life in Prison\"'\n",
      " '\"Charged, Convicted, Sentenced to 1 year in jail, 3 years suspended\"'\n",
      " '\"Charged, Convicted, Sentenced to 50 years\"'\n",
      " '\"Charged, Convicted, Sentenced to 18 months\"'\n",
      " '\"Charged, Convicted, Sentenced to 6 years\"']\n"
     ]
    }
   ],
   "source": [
    "print(mpv['officer_charged'].unique())"
   ]
  },
  {
   "cell_type": "code",
   "execution_count": 5,
   "id": "3a9094de",
   "metadata": {},
   "outputs": [
    {
     "data": {
      "text/html": [
       "<div>\n",
       "<style scoped>\n",
       "    .dataframe tbody tr th:only-of-type {\n",
       "        vertical-align: middle;\n",
       "    }\n",
       "\n",
       "    .dataframe tbody tr th {\n",
       "        vertical-align: top;\n",
       "    }\n",
       "\n",
       "    .dataframe thead th {\n",
       "        text-align: right;\n",
       "    }\n",
       "</style>\n",
       "<table border=\"1\" class=\"dataframe\">\n",
       "  <thead>\n",
       "    <tr style=\"text-align: right;\">\n",
       "      <th></th>\n",
       "      <th>cause_of_death</th>\n",
       "      <th>race</th>\n",
       "      <th>date</th>\n",
       "      <th>officer_charged</th>\n",
       "      <th>armed</th>\n",
       "    </tr>\n",
       "  </thead>\n",
       "  <tbody>\n",
       "    <tr>\n",
       "      <th>0</th>\n",
       "      <td>NaN</td>\n",
       "      <td>Black</td>\n",
       "      <td>3/14/2022</td>\n",
       "      <td>NaN</td>\n",
       "      <td>Allegedly Armed</td>\n",
       "    </tr>\n",
       "    <tr>\n",
       "      <th>1</th>\n",
       "      <td>NaN</td>\n",
       "      <td>White</td>\n",
       "      <td>3/12/2022</td>\n",
       "      <td>NaN</td>\n",
       "      <td>Allegedly Armed</td>\n",
       "    </tr>\n",
       "    <tr>\n",
       "      <th>2</th>\n",
       "      <td>Gunshot</td>\n",
       "      <td>White</td>\n",
       "      <td>3/12/2022</td>\n",
       "      <td>0</td>\n",
       "      <td>Allegedly Armed</td>\n",
       "    </tr>\n",
       "    <tr>\n",
       "      <th>3</th>\n",
       "      <td>Gunshot</td>\n",
       "      <td>NaN</td>\n",
       "      <td>3/12/2022</td>\n",
       "      <td>0</td>\n",
       "      <td>Allegedly Armed</td>\n",
       "    </tr>\n",
       "    <tr>\n",
       "      <th>4</th>\n",
       "      <td>Gunshot</td>\n",
       "      <td>White</td>\n",
       "      <td>3/11/2022</td>\n",
       "      <td>0</td>\n",
       "      <td>Allegedly Armed</td>\n",
       "    </tr>\n",
       "    <tr>\n",
       "      <th>...</th>\n",
       "      <td>...</td>\n",
       "      <td>...</td>\n",
       "      <td>...</td>\n",
       "      <td>...</td>\n",
       "      <td>...</td>\n",
       "    </tr>\n",
       "    <tr>\n",
       "      <th>10070</th>\n",
       "      <td>Gunshot</td>\n",
       "      <td>Hispanic</td>\n",
       "      <td>1/1/2013</td>\n",
       "      <td>0</td>\n",
       "      <td>Unclear</td>\n",
       "    </tr>\n",
       "    <tr>\n",
       "      <th>10071</th>\n",
       "      <td>Gunshot</td>\n",
       "      <td>Black</td>\n",
       "      <td>1/1/2013</td>\n",
       "      <td>0</td>\n",
       "      <td>Allegedly Armed</td>\n",
       "    </tr>\n",
       "    <tr>\n",
       "      <th>10072</th>\n",
       "      <td>Gunshot</td>\n",
       "      <td>White</td>\n",
       "      <td>1/1/2013</td>\n",
       "      <td>0</td>\n",
       "      <td>Allegedly Armed</td>\n",
       "    </tr>\n",
       "    <tr>\n",
       "      <th>10073</th>\n",
       "      <td>Gunshot</td>\n",
       "      <td>Hispanic</td>\n",
       "      <td>1/1/2013</td>\n",
       "      <td>0</td>\n",
       "      <td>Allegedly Armed</td>\n",
       "    </tr>\n",
       "    <tr>\n",
       "      <th>10074</th>\n",
       "      <td>Taser</td>\n",
       "      <td>White</td>\n",
       "      <td>1/1/2013</td>\n",
       "      <td>0</td>\n",
       "      <td>Unarmed/Did Not Have Actual Weapon</td>\n",
       "    </tr>\n",
       "  </tbody>\n",
       "</table>\n",
       "<p>10075 rows × 5 columns</p>\n",
       "</div>"
      ],
      "text/plain": [
       "      cause_of_death      race       date officer_charged  \\\n",
       "0                NaN     Black  3/14/2022             NaN   \n",
       "1                NaN     White  3/12/2022             NaN   \n",
       "2            Gunshot     White  3/12/2022               0   \n",
       "3            Gunshot       NaN  3/12/2022               0   \n",
       "4            Gunshot     White  3/11/2022               0   \n",
       "...              ...       ...        ...             ...   \n",
       "10070        Gunshot  Hispanic   1/1/2013               0   \n",
       "10071        Gunshot     Black   1/1/2013               0   \n",
       "10072        Gunshot     White   1/1/2013               0   \n",
       "10073        Gunshot  Hispanic   1/1/2013               0   \n",
       "10074          Taser     White   1/1/2013               0   \n",
       "\n",
       "                                    armed  \n",
       "0                         Allegedly Armed  \n",
       "1                         Allegedly Armed  \n",
       "2                         Allegedly Armed  \n",
       "3                         Allegedly Armed  \n",
       "4                         Allegedly Armed  \n",
       "...                                   ...  \n",
       "10070                             Unclear  \n",
       "10071                     Allegedly Armed  \n",
       "10072                     Allegedly Armed  \n",
       "10073                     Allegedly Armed  \n",
       "10074  Unarmed/Did Not Have Actual Weapon  \n",
       "\n",
       "[10075 rows x 5 columns]"
      ]
     },
     "execution_count": 5,
     "metadata": {},
     "output_type": "execute_result"
    }
   ],
   "source": [
    "#cleaning \"officer_charged\"\n",
    "mpv.loc[mpv['officer_charged'].str.contains('Charged') == True, \"officer_charged\"] = 1\n",
    "mpv.loc[mpv['officer_charged'] == 'No Known Charges', 'officer_charged'] = 0\n",
    "mpv"
   ]
  },
  {
   "cell_type": "code",
   "execution_count": 6,
   "id": "cac7e9a5",
   "metadata": {},
   "outputs": [
    {
     "name": "stdout",
     "output_type": "stream",
     "text": [
      "[nan 0 1]\n"
     ]
    }
   ],
   "source": [
    "print(mpv['officer_charged'].unique())"
   ]
  },
  {
   "cell_type": "code",
   "execution_count": 7,
   "id": "fb7fef89",
   "metadata": {},
   "outputs": [
    {
     "data": {
      "text/plain": [
       "cause_of_death     object\n",
       "race               object\n",
       "date               object\n",
       "officer_charged    object\n",
       "armed              object\n",
       "dtype: object"
      ]
     },
     "execution_count": 7,
     "metadata": {},
     "output_type": "execute_result"
    }
   ],
   "source": [
    "mpv.dtypes"
   ]
  },
  {
   "cell_type": "code",
   "execution_count": 8,
   "id": "a8447062",
   "metadata": {},
   "outputs": [],
   "source": [
    "#why the heck is it object and not int"
   ]
  },
  {
   "cell_type": "markdown",
   "id": "55dd92a4",
   "metadata": {},
   "source": [
    "## Variables"
   ]
  },
  {
   "cell_type": "markdown",
   "id": "b0e0118f",
   "metadata": {},
   "source": [
    "### cause_of_death\n",
    "\n",
    "Data type: string\n",
    "\n",
    "Lists cause of death of police victims. Includes: NaN, gunshot, vehicle, taser, beaten, physical restraint, chemical agent, bean bag, pepper spray, asphyxiated, bomb, or multiple causes."
   ]
  },
  {
   "cell_type": "markdown",
   "id": "8d82f47e",
   "metadata": {},
   "source": [
    "### race\n",
    "\n",
    "Data type: string\n",
    "\n",
    "Race of police victim, includes NaN, Black, White, Hispanic, Non-white, Unknown race, Pacific Islander, Native American, or Asian"
   ]
  },
  {
   "cell_type": "markdown",
   "id": "bc3c7dfd",
   "metadata": {},
   "source": [
    "### date\n",
    "\n",
    "Data type: datetype\n",
    "\n",
    "Dates from 1/1/2013 to 10/1/2020 (MM/DD/YY)"
   ]
  },
  {
   "cell_type": "markdown",
   "id": "25062236",
   "metadata": {},
   "source": [
    "### officer_charged\n",
    "\n",
    "Data type: bool\n",
    "\n",
    "Whether or not the police officer responsible for violence was crimnally or civilly charged. \n",
    "If not charged, False or 0. If charged, True or 1. Otherwise, NaN."
   ]
  },
  {
   "cell_type": "markdown",
   "id": "8dd61c33",
   "metadata": {},
   "source": [
    "### armed\n",
    "\n",
    "Originally, allegedly_armed\n",
    "Data type: int\n",
    "\n",
    "Whether or not victim was armed.\n",
    "If unarmed (0), armed (1), unclear (3) otherwise (NaN)."
   ]
  },
  {
   "cell_type": "markdown",
   "id": "47a1eddb",
   "metadata": {},
   "source": [
    "## Twitter Data"
   ]
  },
  {
   "cell_type": "code",
   "execution_count": 9,
   "id": "a39e48a5",
   "metadata": {},
   "outputs": [],
   "source": [
    "import os \n",
    "import shutil"
   ]
  },
  {
   "cell_type": "markdown",
   "id": "7ac24872",
   "metadata": {},
   "source": [
    "We need to combine the multiple csv folders of tweet ids into one big one to then randomlly select tweets to hydrate."
   ]
  },
  {
   "cell_type": "code",
   "execution_count": 10,
   "id": "cf7cb442",
   "metadata": {},
   "outputs": [],
   "source": [
    "def flatten(directory):\n",
    "    for dirpath, _, filenames in os.walk(directory, topdown=False):\n",
    "        for filename in filenames:\n",
    "            i = 0\n",
    "            source = os.path.join(dirpath, filename)\n",
    "            target = os.path.join(directory, filename)\n",
    "\n",
    "            while os.path.exists(target):\n",
    "                i += 1\n",
    "                file_parts = os.path.splitext(os.path.basename(filename))\n",
    "\n",
    "                target = os.path.join(\n",
    "                    directory,\n",
    "                    file_parts[0] + \"_\" + str(i) + file_parts[1],\n",
    "                )\n",
    "\n",
    "            shutil.move(source, target)\n",
    "\n",
    "            print(\"Moved \", source, \" to \", target)\n",
    "\n",
    "        if dirpath != directory:\n",
    "            os.rmdir(dirpath)\n",
    "\n",
    "            print(\"Deleted \", dirpath)\n",
    "\n",
    "#credit to: https://amitd.co/code/python/flatten-a-directory"
   ]
  },
  {
   "cell_type": "code",
   "execution_count": 11,
   "id": "91bbddc7",
   "metadata": {},
   "outputs": [],
   "source": [
    "flatten(os.path.dirname(\"/Users/dmusa/Documents/UCSD/2021-2022/DDS_BLM/BLM_Tweets/twitter\"))"
   ]
  },
  {
   "cell_type": "code",
   "execution_count": 12,
   "id": "ab25d41b",
   "metadata": {},
   "outputs": [
    {
     "ename": "FileNotFoundError",
     "evalue": "[Errno 2] No such file or directory: '/Users/dmusa/Documents/UCSD/2021-2022/DDS_BLM/BLM_Tweets/'",
     "output_type": "error",
     "traceback": [
      "\u001b[0;31m---------------------------------------------------------------------------\u001b[0m",
      "\u001b[0;31mFileNotFoundError\u001b[0m                         Traceback (most recent call last)",
      "\u001b[1;32m/Users/apple/Desktop/DDS_BLM/DataCleaning-copy.ipynb Cell 21'\u001b[0m in \u001b[0;36m<cell line: 2>\u001b[0;34m()\u001b[0m\n\u001b[1;32m      <a href='vscode-notebook-cell:/Users/apple/Desktop/DDS_BLM/DataCleaning-copy.ipynb#ch0000020?line=0'>1</a>\u001b[0m tweets_path \u001b[39m=\u001b[39m \u001b[39m\"\u001b[39m\u001b[39m/Users/dmusa/Documents/UCSD/2021-2022/DDS_BLM/BLM_Tweets/\u001b[39m\u001b[39m\"\u001b[39m\n\u001b[0;32m----> <a href='vscode-notebook-cell:/Users/apple/Desktop/DDS_BLM/DataCleaning-copy.ipynb#ch0000020?line=1'>2</a>\u001b[0m file_list \u001b[39m=\u001b[39m [tweets_path \u001b[39m+\u001b[39m f \u001b[39mfor\u001b[39;00m f \u001b[39min\u001b[39;00m os\u001b[39m.\u001b[39;49mlistdir(tweets_path)]\n\u001b[1;32m      <a href='vscode-notebook-cell:/Users/apple/Desktop/DDS_BLM/DataCleaning-copy.ipynb#ch0000020?line=2'>3</a>\u001b[0m csv_list \u001b[39m=\u001b[39m []\n",
      "\u001b[0;31mFileNotFoundError\u001b[0m: [Errno 2] No such file or directory: '/Users/dmusa/Documents/UCSD/2021-2022/DDS_BLM/BLM_Tweets/'"
     ]
    }
   ],
   "source": [
    "tweets_path = \"/Users/dmusa/Documents/UCSD/2021-2022/DDS_BLM/BLM_Tweets/\"\n",
    "file_list = [tweets_path + f for f in os.listdir(tweets_path)]\n",
    "csv_list = []"
   ]
  },
  {
   "cell_type": "code",
   "execution_count": null,
   "id": "e839d125",
   "metadata": {},
   "outputs": [],
   "source": [
    "for file in sorted(file_list):\n",
    "    csv_list.append(pd.read_csv(file).assign(File_Name = os.path.basename(file)))\n",
    "\n",
    "csv_merged = pd.concat(csv_list, ignore_index=True)\n",
    "csv_merged.to_csv(tweets_path + 'tweets_id_full.csv', index=False)"
   ]
  },
  {
   "cell_type": "markdown",
   "id": "f2a63672",
   "metadata": {},
   "source": [
    "Tweet IDs successfully merged into one big CSV ready to be permutated."
   ]
  },
  {
   "cell_type": "markdown",
   "id": "b4a8e6c2",
   "metadata": {},
   "source": []
  }
 ],
 "metadata": {
  "interpreter": {
   "hash": "9dea8fb9736a16de4b83243e9a188a0ad992665020bf666c4b4262e5b71e7faa"
  },
  "kernelspec": {
   "display_name": "Python 3.8.5 64-bit",
   "language": "python",
   "name": "python3"
  },
  "language_info": {
   "codemirror_mode": {
    "name": "ipython",
    "version": 3
   },
   "file_extension": ".py",
   "mimetype": "text/x-python",
   "name": "python",
   "nbconvert_exporter": "python",
   "pygments_lexer": "ipython3",
   "version": "3.8.13"
  }
 },
 "nbformat": 4,
 "nbformat_minor": 5
}
