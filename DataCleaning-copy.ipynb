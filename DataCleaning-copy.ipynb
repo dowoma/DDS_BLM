{
 "cells": [
  {
   "cell_type": "markdown",
   "id": "70019d48",
   "metadata": {},
   "source": [
    "## Setup"
   ]
  },
  {
   "cell_type": "code",
   "execution_count": 1,
   "id": "2dddc764",
   "metadata": {},
   "outputs": [],
   "source": [
    "# imports\n",
    "import numpy as np\n",
    "import pandas as pd\n",
    "import seaborn as sns\n",
    "from matplotlib import pyplot as plt\n",
    "\n",
    "import os \n",
    "import shutil"
   ]
  },
  {
   "cell_type": "markdown",
   "id": "afc263c1",
   "metadata": {},
   "source": [
    "## Police Data Cleaning"
   ]
  },
  {
   "cell_type": "code",
   "execution_count": 2,
   "id": "d6fc9ee9",
   "metadata": {},
   "outputs": [
    {
     "data": {
      "text/html": [
       "<div>\n",
       "<style scoped>\n",
       "    .dataframe tbody tr th:only-of-type {\n",
       "        vertical-align: middle;\n",
       "    }\n",
       "\n",
       "    .dataframe tbody tr th {\n",
       "        vertical-align: top;\n",
       "    }\n",
       "\n",
       "    .dataframe thead th {\n",
       "        text-align: right;\n",
       "    }\n",
       "</style>\n",
       "<table border=\"1\" class=\"dataframe\">\n",
       "  <thead>\n",
       "    <tr style=\"text-align: right;\">\n",
       "      <th></th>\n",
       "      <th>cause_of_death</th>\n",
       "      <th>race</th>\n",
       "      <th>date</th>\n",
       "      <th>officer_charged</th>\n",
       "      <th>armed</th>\n",
       "    </tr>\n",
       "  </thead>\n",
       "  <tbody>\n",
       "    <tr>\n",
       "      <th>0</th>\n",
       "      <td>NaN</td>\n",
       "      <td>Black</td>\n",
       "      <td>3/14/2022</td>\n",
       "      <td>NaN</td>\n",
       "      <td>Allegedly Armed</td>\n",
       "    </tr>\n",
       "    <tr>\n",
       "      <th>1</th>\n",
       "      <td>NaN</td>\n",
       "      <td>White</td>\n",
       "      <td>3/12/2022</td>\n",
       "      <td>NaN</td>\n",
       "      <td>Allegedly Armed</td>\n",
       "    </tr>\n",
       "    <tr>\n",
       "      <th>2</th>\n",
       "      <td>Gunshot</td>\n",
       "      <td>White</td>\n",
       "      <td>3/12/2022</td>\n",
       "      <td>No Known Charges</td>\n",
       "      <td>Allegedly Armed</td>\n",
       "    </tr>\n",
       "    <tr>\n",
       "      <th>3</th>\n",
       "      <td>Gunshot</td>\n",
       "      <td>NaN</td>\n",
       "      <td>3/12/2022</td>\n",
       "      <td>No Known Charges</td>\n",
       "      <td>Allegedly Armed</td>\n",
       "    </tr>\n",
       "    <tr>\n",
       "      <th>4</th>\n",
       "      <td>Gunshot</td>\n",
       "      <td>White</td>\n",
       "      <td>3/11/2022</td>\n",
       "      <td>No Known Charges</td>\n",
       "      <td>Allegedly Armed</td>\n",
       "    </tr>\n",
       "    <tr>\n",
       "      <th>...</th>\n",
       "      <td>...</td>\n",
       "      <td>...</td>\n",
       "      <td>...</td>\n",
       "      <td>...</td>\n",
       "      <td>...</td>\n",
       "    </tr>\n",
       "    <tr>\n",
       "      <th>10070</th>\n",
       "      <td>Gunshot</td>\n",
       "      <td>Hispanic</td>\n",
       "      <td>1/1/2013</td>\n",
       "      <td>No Known Charges</td>\n",
       "      <td>Unclear</td>\n",
       "    </tr>\n",
       "    <tr>\n",
       "      <th>10071</th>\n",
       "      <td>Gunshot</td>\n",
       "      <td>Black</td>\n",
       "      <td>1/1/2013</td>\n",
       "      <td>No Known Charges</td>\n",
       "      <td>Allegedly Armed</td>\n",
       "    </tr>\n",
       "    <tr>\n",
       "      <th>10072</th>\n",
       "      <td>Gunshot</td>\n",
       "      <td>White</td>\n",
       "      <td>1/1/2013</td>\n",
       "      <td>No Known Charges</td>\n",
       "      <td>Allegedly Armed</td>\n",
       "    </tr>\n",
       "    <tr>\n",
       "      <th>10073</th>\n",
       "      <td>Gunshot</td>\n",
       "      <td>Hispanic</td>\n",
       "      <td>1/1/2013</td>\n",
       "      <td>No Known Charges</td>\n",
       "      <td>Allegedly Armed</td>\n",
       "    </tr>\n",
       "    <tr>\n",
       "      <th>10074</th>\n",
       "      <td>Taser</td>\n",
       "      <td>White</td>\n",
       "      <td>1/1/2013</td>\n",
       "      <td>No Known Charges</td>\n",
       "      <td>Unarmed/Did Not Have Actual Weapon</td>\n",
       "    </tr>\n",
       "  </tbody>\n",
       "</table>\n",
       "<p>10075 rows × 5 columns</p>\n",
       "</div>"
      ],
      "text/plain": [
       "      cause_of_death      race       date   officer_charged  \\\n",
       "0                NaN     Black  3/14/2022               NaN   \n",
       "1                NaN     White  3/12/2022               NaN   \n",
       "2            Gunshot     White  3/12/2022  No Known Charges   \n",
       "3            Gunshot       NaN  3/12/2022  No Known Charges   \n",
       "4            Gunshot     White  3/11/2022  No Known Charges   \n",
       "...              ...       ...        ...               ...   \n",
       "10070        Gunshot  Hispanic   1/1/2013  No Known Charges   \n",
       "10071        Gunshot     Black   1/1/2013  No Known Charges   \n",
       "10072        Gunshot     White   1/1/2013  No Known Charges   \n",
       "10073        Gunshot  Hispanic   1/1/2013  No Known Charges   \n",
       "10074          Taser     White   1/1/2013  No Known Charges   \n",
       "\n",
       "                                    armed  \n",
       "0                         Allegedly Armed  \n",
       "1                         Allegedly Armed  \n",
       "2                         Allegedly Armed  \n",
       "3                         Allegedly Armed  \n",
       "4                         Allegedly Armed  \n",
       "...                                   ...  \n",
       "10070                             Unclear  \n",
       "10071                     Allegedly Armed  \n",
       "10072                     Allegedly Armed  \n",
       "10073                     Allegedly Armed  \n",
       "10074  Unarmed/Did Not Have Actual Weapon  \n",
       "\n",
       "[10075 rows x 5 columns]"
      ]
     },
     "execution_count": 2,
     "metadata": {},
     "output_type": "execute_result"
    }
   ],
   "source": [
    "df = pd.read_csv('Mapping Police Violence-Grid view.csv')\n",
    "mpv = df[['cause_of_death','race','date','officer_charged','allegedly_armed']]\n",
    "#renaming \"allegedly_armed\" to \"armed\"\n",
    "mpv = mpv.rename(columns={'allegedly_armed': 'armed'})\n",
    "mpv"
   ]
  },
  {
   "cell_type": "code",
   "execution_count": 3,
   "id": "ff520695",
   "metadata": {},
   "outputs": [
    {
     "name": "stdout",
     "output_type": "stream",
     "text": [
      "['Black' 'White' nan 'Hispanic' 'Non-white' 'Unknown race'\n",
      " 'Pacific Islander' 'Native American' 'Asian']\n",
      "[nan 'Gunshot' 'Vehicle' 'Gunshot,Taser' 'Other'\n",
      " 'Physical Restraint,Beaten' 'Taser' 'Beaten' 'Physical Restraint'\n",
      " 'Taser,Physical Restraint' 'Gunshot,Vehicle' 'Chemical Agent' 'Bean bag'\n",
      " 'Pepper Spray' 'Asphyxiated' 'Bomb']\n",
      "['Allegedly Armed' 'Unarmed/Did Not Have Actual Weapon' nan 'Unclear'\n",
      " 'Vehicle']\n"
     ]
    }
   ],
   "source": [
    "print(mpv['race'].unique())\n",
    "print(mpv['cause_of_death'].unique())\n",
    "print(mpv['armed'].unique())"
   ]
  },
  {
   "cell_type": "code",
   "execution_count": 4,
   "id": "af0c558d",
   "metadata": {},
   "outputs": [
    {
     "data": {
      "text/plain": [
       "Allegedly Armed                       7185\n",
       "Unarmed/Did Not Have Actual Weapon    1329\n",
       "Unclear                                912\n",
       "Vehicle                                635\n",
       "Name: armed, dtype: int64"
      ]
     },
     "execution_count": 4,
     "metadata": {},
     "output_type": "execute_result"
    }
   ],
   "source": [
    "mpv['armed'].value_counts()"
   ]
  },
  {
   "cell_type": "code",
   "execution_count": 5,
   "id": "03bfbf6e",
   "metadata": {},
   "outputs": [
    {
     "data": {
      "text/plain": [
       "Gunshot                      9312\n",
       "Taser                         292\n",
       "Gunshot,Taser                 287\n",
       "Vehicle                        59\n",
       "Physical Restraint             53\n",
       "Beaten                         33\n",
       "Asphyxiated                     9\n",
       "Other                           7\n",
       "Pepper Spray                    5\n",
       "Taser,Physical Restraint        4\n",
       "Gunshot,Vehicle                 2\n",
       "Bean bag                        2\n",
       "Physical Restraint,Beaten       1\n",
       "Chemical Agent                  1\n",
       "Bomb                            1\n",
       "Name: cause_of_death, dtype: int64"
      ]
     },
     "execution_count": 5,
     "metadata": {},
     "output_type": "execute_result"
    }
   ],
   "source": [
    "mpv['cause_of_death'].value_counts()\n",
    "#proportion of gunshot vs taser, assign to gunshot then"
   ]
  },
  {
   "cell_type": "code",
   "execution_count": 6,
   "id": "6a3b4f50",
   "metadata": {},
   "outputs": [
    {
     "name": "stdout",
     "output_type": "stream",
     "text": [
      "[nan 'No Known Charges' 'Charged with vehicular homicide'\n",
      " 'Charged with a crime' '\"Charged, Charges Dropped\"'\n",
      " '\"Charged, Convicted of Manslaughter\"'\n",
      " '\"Charged, Convicted, Sentenced to 22.5 years in prison\"'\n",
      " '\"Charged, Convicted\"'\n",
      " '\"Charged, Convicted, Sentenced to life in prison\"'\n",
      " '\"Charged, Convicted, Sentenced to 10 years in prison\"'\n",
      " '\"Charged, Convicted, Sentenced to 7 years in prison\"'\n",
      " '\"Charged, Acquitted\"'\n",
      " '\"Charged, Plead Guilty to Voluntary Manslaughter\"'\n",
      " '\"Charged, Convicted, Sentenced to 1 year in prison and 4 years probation\"'\n",
      " '\"Charged, Convicted, Sentenced to 25 years in prison\"'\n",
      " '\"Charged, Convicted, Sentenced to 2 years suspension and 3 years probation\"'\n",
      " '\"Charged, Convicted, Sentenced to 5-15 years in prison\"'\n",
      " '\"Charged, Convicted, Sentenced to 4.75 years in prison\"'\n",
      " '\"Charged, Mistrial\"'\n",
      " '\"Charged, Convicted, Sentenced to 15 years in prison\"'\n",
      " '\"Charged, Plead No Contest, Sentenced to 10 years probation\"'\n",
      " '\"Charged, Convicted, Sentenced to 6 years in prison\"'\n",
      " '\"Charged, Convicted, Sentenced to 10 Years of Prison\"'\n",
      " '\"Charged, Convicted, Sentenced to 1 year in prison\"'\n",
      " '\"Charged, Convicted, Sentenced to 14 years in prison\"'\n",
      " '\"Charged, Convicted, Sentenced to 3.5 years in prison\"'\n",
      " '\"Charged, Convicted, Sentenced to 5 years in prison\"'\n",
      " '\"Charged, Convicted, Sentenced to 55 years in prison\"'\n",
      " '\"Charged, Convicted, Sentenced to 40 years in prison\"'\n",
      " '\"Charged, Convicted, Sentenced to 3 months in jail\"'\n",
      " '\"Charged, Convicted, Sentenced to 30 years in prison\"'\n",
      " '\"Charged, Plead Guilty to Manslaughter, Sentenced to 5 years in prison\"'\n",
      " '\"Charged, Mistrial, Plead Guilty to Manslaughter\"'\n",
      " '\"Charged, Convicted, Sentenced to 2.5 years in prison\"'\n",
      " '\"Charged, Mistrial, Plead Guilty to Civil Rights Charges\"'\n",
      " '\"Charged, Convicted, Sentenced to 4 years\"'\n",
      " '\"Charged, Convicted, Sentenced to 40 years to Life in prison\"'\n",
      " '\"Charged, Convicted, Sentenced to 12 years in prison and 8 years in probation\"'\n",
      " '\"Charged, Convicted, Sentenced to 5 years probation.\"'\n",
      " '\"Charged, Convicted, Sentenced to 20 years in prison\"'\n",
      " '\"Charged, Convicted, Sentenced to 16 years in prison\"'\n",
      " '\"Charged, Convicted, Sentenced to life in prison without parole, plus 16 years\"'\n",
      " '\"Charged, Convicted, Sentenced to Life in Prison\"'\n",
      " '\"Charged, Convicted, Sentenced to 1 year in jail, 3 years suspended\"'\n",
      " '\"Charged, Convicted, Sentenced to 50 years\"'\n",
      " '\"Charged, Convicted, Sentenced to 18 months\"'\n",
      " '\"Charged, Convicted, Sentenced to 6 years\"']\n"
     ]
    }
   ],
   "source": [
    "print(mpv['officer_charged'].unique())"
   ]
  },
  {
   "cell_type": "code",
   "execution_count": 7,
   "id": "3a9094de",
   "metadata": {},
   "outputs": [
    {
     "data": {
      "text/html": [
       "<div>\n",
       "<style scoped>\n",
       "    .dataframe tbody tr th:only-of-type {\n",
       "        vertical-align: middle;\n",
       "    }\n",
       "\n",
       "    .dataframe tbody tr th {\n",
       "        vertical-align: top;\n",
       "    }\n",
       "\n",
       "    .dataframe thead th {\n",
       "        text-align: right;\n",
       "    }\n",
       "</style>\n",
       "<table border=\"1\" class=\"dataframe\">\n",
       "  <thead>\n",
       "    <tr style=\"text-align: right;\">\n",
       "      <th></th>\n",
       "      <th>cause_of_death</th>\n",
       "      <th>race</th>\n",
       "      <th>date</th>\n",
       "      <th>officer_charged</th>\n",
       "      <th>armed</th>\n",
       "    </tr>\n",
       "  </thead>\n",
       "  <tbody>\n",
       "    <tr>\n",
       "      <th>0</th>\n",
       "      <td>NaN</td>\n",
       "      <td>Black</td>\n",
       "      <td>3/14/2022</td>\n",
       "      <td>Unknown</td>\n",
       "      <td>Allegedly Armed</td>\n",
       "    </tr>\n",
       "    <tr>\n",
       "      <th>1</th>\n",
       "      <td>NaN</td>\n",
       "      <td>White</td>\n",
       "      <td>3/12/2022</td>\n",
       "      <td>Unknown</td>\n",
       "      <td>Allegedly Armed</td>\n",
       "    </tr>\n",
       "    <tr>\n",
       "      <th>2</th>\n",
       "      <td>Gunshot</td>\n",
       "      <td>White</td>\n",
       "      <td>3/12/2022</td>\n",
       "      <td>Not Charged</td>\n",
       "      <td>Allegedly Armed</td>\n",
       "    </tr>\n",
       "    <tr>\n",
       "      <th>3</th>\n",
       "      <td>Gunshot</td>\n",
       "      <td>NaN</td>\n",
       "      <td>3/12/2022</td>\n",
       "      <td>Not Charged</td>\n",
       "      <td>Allegedly Armed</td>\n",
       "    </tr>\n",
       "    <tr>\n",
       "      <th>4</th>\n",
       "      <td>Gunshot</td>\n",
       "      <td>White</td>\n",
       "      <td>3/11/2022</td>\n",
       "      <td>Not Charged</td>\n",
       "      <td>Allegedly Armed</td>\n",
       "    </tr>\n",
       "    <tr>\n",
       "      <th>...</th>\n",
       "      <td>...</td>\n",
       "      <td>...</td>\n",
       "      <td>...</td>\n",
       "      <td>...</td>\n",
       "      <td>...</td>\n",
       "    </tr>\n",
       "    <tr>\n",
       "      <th>10070</th>\n",
       "      <td>Gunshot</td>\n",
       "      <td>Hispanic</td>\n",
       "      <td>1/1/2013</td>\n",
       "      <td>Not Charged</td>\n",
       "      <td>Unclear</td>\n",
       "    </tr>\n",
       "    <tr>\n",
       "      <th>10071</th>\n",
       "      <td>Gunshot</td>\n",
       "      <td>Black</td>\n",
       "      <td>1/1/2013</td>\n",
       "      <td>Not Charged</td>\n",
       "      <td>Allegedly Armed</td>\n",
       "    </tr>\n",
       "    <tr>\n",
       "      <th>10072</th>\n",
       "      <td>Gunshot</td>\n",
       "      <td>White</td>\n",
       "      <td>1/1/2013</td>\n",
       "      <td>Not Charged</td>\n",
       "      <td>Allegedly Armed</td>\n",
       "    </tr>\n",
       "    <tr>\n",
       "      <th>10073</th>\n",
       "      <td>Gunshot</td>\n",
       "      <td>Hispanic</td>\n",
       "      <td>1/1/2013</td>\n",
       "      <td>Not Charged</td>\n",
       "      <td>Allegedly Armed</td>\n",
       "    </tr>\n",
       "    <tr>\n",
       "      <th>10074</th>\n",
       "      <td>Taser</td>\n",
       "      <td>White</td>\n",
       "      <td>1/1/2013</td>\n",
       "      <td>Not Charged</td>\n",
       "      <td>Unarmed/Did Not Have Actual Weapon</td>\n",
       "    </tr>\n",
       "  </tbody>\n",
       "</table>\n",
       "<p>10075 rows × 5 columns</p>\n",
       "</div>"
      ],
      "text/plain": [
       "      cause_of_death      race       date officer_charged  \\\n",
       "0                NaN     Black  3/14/2022         Unknown   \n",
       "1                NaN     White  3/12/2022         Unknown   \n",
       "2            Gunshot     White  3/12/2022     Not Charged   \n",
       "3            Gunshot       NaN  3/12/2022     Not Charged   \n",
       "4            Gunshot     White  3/11/2022     Not Charged   \n",
       "...              ...       ...        ...             ...   \n",
       "10070        Gunshot  Hispanic   1/1/2013     Not Charged   \n",
       "10071        Gunshot     Black   1/1/2013     Not Charged   \n",
       "10072        Gunshot     White   1/1/2013     Not Charged   \n",
       "10073        Gunshot  Hispanic   1/1/2013     Not Charged   \n",
       "10074          Taser     White   1/1/2013     Not Charged   \n",
       "\n",
       "                                    armed  \n",
       "0                         Allegedly Armed  \n",
       "1                         Allegedly Armed  \n",
       "2                         Allegedly Armed  \n",
       "3                         Allegedly Armed  \n",
       "4                         Allegedly Armed  \n",
       "...                                   ...  \n",
       "10070                             Unclear  \n",
       "10071                     Allegedly Armed  \n",
       "10072                     Allegedly Armed  \n",
       "10073                     Allegedly Armed  \n",
       "10074  Unarmed/Did Not Have Actual Weapon  \n",
       "\n",
       "[10075 rows x 5 columns]"
      ]
     },
     "execution_count": 7,
     "metadata": {},
     "output_type": "execute_result"
    }
   ],
   "source": [
    "#cleaning \"officer_charged\"\n",
    "\n",
    "mpv['officer_charged'] = mpv['officer_charged'].astype(str)\n",
    "\n",
    "mpv.loc[mpv['officer_charged'].str.contains('Charged') == True, \"officer_charged\"] = \"Charged\"\n",
    "mpv.loc[mpv['officer_charged'] == 'No Known Charges', 'officer_charged'] = \"Not Charged\"\n",
    "mpv.loc[mpv['officer_charged'] == 'nan', 'officer_charged'] = \"Unknown\"\n",
    "mpv"
   ]
  },
  {
   "cell_type": "code",
   "execution_count": 8,
   "id": "cac7e9a5",
   "metadata": {},
   "outputs": [
    {
     "name": "stdout",
     "output_type": "stream",
     "text": [
      "['Unknown' 'Not Charged' 'Charged']\n"
     ]
    },
    {
     "data": {
      "text/plain": [
       "str"
      ]
     },
     "execution_count": 8,
     "metadata": {},
     "output_type": "execute_result"
    }
   ],
   "source": [
    "print(mpv['officer_charged'].unique())\n",
    "type(mpv['officer_charged'].iloc[0])"
   ]
  },
  {
   "cell_type": "code",
   "execution_count": 9,
   "id": "df54440a",
   "metadata": {},
   "outputs": [
    {
     "name": "stdout",
     "output_type": "stream",
     "text": [
      "['Unknown' 'Not Charged' 'Charged']\n"
     ]
    }
   ],
   "source": [
    "print(mpv['officer_charged'].unique())"
   ]
  },
  {
   "cell_type": "code",
   "execution_count": 10,
   "id": "fb7fef89",
   "metadata": {},
   "outputs": [
    {
     "data": {
      "text/plain": [
       "cause_of_death     object\n",
       "race               object\n",
       "date               object\n",
       "officer_charged    object\n",
       "armed              object\n",
       "dtype: object"
      ]
     },
     "execution_count": 10,
     "metadata": {},
     "output_type": "execute_result"
    }
   ],
   "source": [
    "mpv.dtypes\n",
    "#probably nan"
   ]
  },
  {
   "cell_type": "code",
   "execution_count": 11,
   "id": "a8447062",
   "metadata": {},
   "outputs": [],
   "source": [
    "#why the heck is it object and not int"
   ]
  },
  {
   "cell_type": "markdown",
   "id": "55dd92a4",
   "metadata": {},
   "source": [
    "## Variables"
   ]
  },
  {
   "cell_type": "markdown",
   "id": "b0e0118f",
   "metadata": {},
   "source": [
    "### Cause of Death\n",
    "\n",
    "Variable name: cause_of_death\n",
    "\n",
    "Data type: string\n",
    "\n",
    "Lists cause of death of police victims. Includes: NaN, gunshot, vehicle, taser, beaten, physical restraint, chemical agent, bean bag, pepper spray, asphyxiated, bomb, or multiple causes."
   ]
  },
  {
   "cell_type": "markdown",
   "id": "8d82f47e",
   "metadata": {},
   "source": [
    "### Victim's Race\n",
    "\n",
    "Variable name: race\n",
    "\n",
    "Data type: string\n",
    "\n",
    "Race of police victim, includes NaN, Black, White, Hispanic, Non-white, Unknown race, Pacific Islander, Native American, or Asian"
   ]
  },
  {
   "cell_type": "markdown",
   "id": "bc3c7dfd",
   "metadata": {},
   "source": [
    "### Date of Encounter\n",
    "\n",
    "Variable name: date\n",
    "\n",
    "Data type: pandas Timestamp\n",
    "\n",
    "Dates from 1/1/2013 to 10/1/2020 (MM/DD/YY)"
   ]
  },
  {
   "cell_type": "markdown",
   "id": "25062236",
   "metadata": {},
   "source": [
    "### Officer Charged\n",
    "\n",
    "Variable name: officer_charged\n",
    "\n",
    "Data type: string\n",
    "\n",
    "Whether or not the police officer responsible for violence any criminal or civil charges."
   ]
  },
  {
   "cell_type": "markdown",
   "id": "8dd61c33",
   "metadata": {},
   "source": [
    "### Victim Armed\n",
    "\n",
    "Variable name (in original date): allegedly_armed\n",
    "\n",
    "Variable name (in our data): armed\n",
    "\n",
    "Data type: int\n",
    "\n",
    "Whether or not victim was armed.\n",
    "If unarmed (0), armed (1), unclear (3) otherwise (NaN)."
   ]
  },
  {
   "cell_type": "markdown",
   "id": "03f0d8b1",
   "metadata": {},
   "source": [
    "## EDA"
   ]
  },
  {
   "cell_type": "markdown",
   "id": "abc3113c",
   "metadata": {},
   "source": [
    "### Overview"
   ]
  },
  {
   "cell_type": "code",
   "execution_count": null,
   "id": "ebe1337d",
   "metadata": {},
   "outputs": [],
   "source": []
  },
  {
   "cell_type": "markdown",
   "id": "b0cba520",
   "metadata": {},
   "source": [
    "### Officer Charged\n",
    "\n",
    "We can start by looking at the data in the Officer Charged column to see some general statistics. Since the data is categorical, numerical analysis within this column is limited."
   ]
  },
  {
   "cell_type": "code",
   "execution_count": 12,
   "id": "503a2af9",
   "metadata": {},
   "outputs": [
    {
     "data": {
      "text/plain": [
       "Not Charged    9779\n",
       "Charged         185\n",
       "Unknown         111\n",
       "Name: officer_charged, dtype: int64"
      ]
     },
     "execution_count": 12,
     "metadata": {},
     "output_type": "execute_result"
    }
   ],
   "source": [
    "mpv['officer_charged'].value_counts()"
   ]
  },
  {
   "cell_type": "markdown",
   "id": "1176323a",
   "metadata": {},
   "source": [
    "As we can see, the officers were only charged in 185 cases, which is only 1.84% of all cases. Officers did not face any charges in 9779 cases, which represents 98.16% of cases.\n",
    "\n",
    "We can look at the breakdown of when officers were charged grouped by the race of the victim:"
   ]
  },
  {
   "cell_type": "code",
   "execution_count": 13,
   "id": "4d050efc",
   "metadata": {},
   "outputs": [
    {
     "data": {
      "text/html": [
       "<div>\n",
       "<style scoped>\n",
       "    .dataframe tbody tr th:only-of-type {\n",
       "        vertical-align: middle;\n",
       "    }\n",
       "\n",
       "    .dataframe tbody tr th {\n",
       "        vertical-align: top;\n",
       "    }\n",
       "\n",
       "    .dataframe thead th {\n",
       "        text-align: right;\n",
       "    }\n",
       "</style>\n",
       "<table border=\"1\" class=\"dataframe\">\n",
       "  <thead>\n",
       "    <tr style=\"text-align: right;\">\n",
       "      <th></th>\n",
       "      <th></th>\n",
       "      <th>cause_of_death</th>\n",
       "      <th>date</th>\n",
       "      <th>armed</th>\n",
       "      <th>count</th>\n",
       "    </tr>\n",
       "    <tr>\n",
       "      <th>officer_charged</th>\n",
       "      <th>race</th>\n",
       "      <th></th>\n",
       "      <th></th>\n",
       "      <th></th>\n",
       "      <th></th>\n",
       "    </tr>\n",
       "  </thead>\n",
       "  <tbody>\n",
       "    <tr>\n",
       "      <th rowspan=\"7\" valign=\"top\">Charged</th>\n",
       "      <th>Asian</th>\n",
       "      <td>3</td>\n",
       "      <td>3</td>\n",
       "      <td>3</td>\n",
       "      <td>3</td>\n",
       "    </tr>\n",
       "    <tr>\n",
       "      <th>Black</th>\n",
       "      <td>84</td>\n",
       "      <td>84</td>\n",
       "      <td>84</td>\n",
       "      <td>84</td>\n",
       "    </tr>\n",
       "    <tr>\n",
       "      <th>Hispanic</th>\n",
       "      <td>23</td>\n",
       "      <td>23</td>\n",
       "      <td>23</td>\n",
       "      <td>23</td>\n",
       "    </tr>\n",
       "    <tr>\n",
       "      <th>Native American</th>\n",
       "      <td>3</td>\n",
       "      <td>3</td>\n",
       "      <td>3</td>\n",
       "      <td>3</td>\n",
       "    </tr>\n",
       "    <tr>\n",
       "      <th>Pacific Islander</th>\n",
       "      <td>3</td>\n",
       "      <td>3</td>\n",
       "      <td>3</td>\n",
       "      <td>3</td>\n",
       "    </tr>\n",
       "    <tr>\n",
       "      <th>Unknown race</th>\n",
       "      <td>1</td>\n",
       "      <td>1</td>\n",
       "      <td>1</td>\n",
       "      <td>1</td>\n",
       "    </tr>\n",
       "    <tr>\n",
       "      <th>White</th>\n",
       "      <td>68</td>\n",
       "      <td>68</td>\n",
       "      <td>68</td>\n",
       "      <td>68</td>\n",
       "    </tr>\n",
       "    <tr>\n",
       "      <th rowspan=\"7\" valign=\"top\">Not Charged</th>\n",
       "      <th>Asian</th>\n",
       "      <td>140</td>\n",
       "      <td>140</td>\n",
       "      <td>140</td>\n",
       "      <td>140</td>\n",
       "    </tr>\n",
       "    <tr>\n",
       "      <th>Black</th>\n",
       "      <td>2413</td>\n",
       "      <td>2413</td>\n",
       "      <td>2413</td>\n",
       "      <td>2413</td>\n",
       "    </tr>\n",
       "    <tr>\n",
       "      <th>Hispanic</th>\n",
       "      <td>1755</td>\n",
       "      <td>1756</td>\n",
       "      <td>1756</td>\n",
       "      <td>1756</td>\n",
       "    </tr>\n",
       "    <tr>\n",
       "      <th>Native American</th>\n",
       "      <td>136</td>\n",
       "      <td>136</td>\n",
       "      <td>136</td>\n",
       "      <td>136</td>\n",
       "    </tr>\n",
       "    <tr>\n",
       "      <th>Pacific Islander</th>\n",
       "      <td>57</td>\n",
       "      <td>57</td>\n",
       "      <td>57</td>\n",
       "      <td>57</td>\n",
       "    </tr>\n",
       "    <tr>\n",
       "      <th>Unknown race</th>\n",
       "      <td>979</td>\n",
       "      <td>979</td>\n",
       "      <td>979</td>\n",
       "      <td>979</td>\n",
       "    </tr>\n",
       "    <tr>\n",
       "      <th>White</th>\n",
       "      <td>4291</td>\n",
       "      <td>4292</td>\n",
       "      <td>4292</td>\n",
       "      <td>4292</td>\n",
       "    </tr>\n",
       "    <tr>\n",
       "      <th rowspan=\"5\" valign=\"top\">Unknown</th>\n",
       "      <th>Black</th>\n",
       "      <td>16</td>\n",
       "      <td>17</td>\n",
       "      <td>16</td>\n",
       "      <td>17</td>\n",
       "    </tr>\n",
       "    <tr>\n",
       "      <th>Hispanic</th>\n",
       "      <td>12</td>\n",
       "      <td>12</td>\n",
       "      <td>10</td>\n",
       "      <td>12</td>\n",
       "    </tr>\n",
       "    <tr>\n",
       "      <th>Non-white</th>\n",
       "      <td>1</td>\n",
       "      <td>1</td>\n",
       "      <td>1</td>\n",
       "      <td>1</td>\n",
       "    </tr>\n",
       "    <tr>\n",
       "      <th>Unknown race</th>\n",
       "      <td>5</td>\n",
       "      <td>5</td>\n",
       "      <td>4</td>\n",
       "      <td>5</td>\n",
       "    </tr>\n",
       "    <tr>\n",
       "      <th>White</th>\n",
       "      <td>21</td>\n",
       "      <td>24</td>\n",
       "      <td>20</td>\n",
       "      <td>24</td>\n",
       "    </tr>\n",
       "  </tbody>\n",
       "</table>\n",
       "</div>"
      ],
      "text/plain": [
       "                                  cause_of_death  date  armed  count\n",
       "officer_charged race                                                \n",
       "Charged         Asian                          3     3      3      3\n",
       "                Black                         84    84     84     84\n",
       "                Hispanic                      23    23     23     23\n",
       "                Native American                3     3      3      3\n",
       "                Pacific Islander               3     3      3      3\n",
       "                Unknown race                   1     1      1      1\n",
       "                White                         68    68     68     68\n",
       "Not Charged     Asian                        140   140    140    140\n",
       "                Black                       2413  2413   2413   2413\n",
       "                Hispanic                    1755  1756   1756   1756\n",
       "                Native American              136   136    136    136\n",
       "                Pacific Islander              57    57     57     57\n",
       "                Unknown race                 979   979    979    979\n",
       "                White                       4291  4292   4292   4292\n",
       "Unknown         Black                         16    17     16     17\n",
       "                Hispanic                      12    12     10     12\n",
       "                Non-white                      1     1      1      1\n",
       "                Unknown race                   5     5      4      5\n",
       "                White                         21    24     20     24"
      ]
     },
     "execution_count": 13,
     "metadata": {},
     "output_type": "execute_result"
    }
   ],
   "source": [
    "# Temporarily adding a count column to help in making the pivot table. This will be dropped later.\n",
    "mpv['count'] = 1\n",
    "oc_by_race = mpv.groupby(['officer_charged', 'race']).count()\n",
    "oc_by_race"
   ]
  },
  {
   "cell_type": "code",
   "execution_count": 14,
   "id": "0a3d374d",
   "metadata": {},
   "outputs": [
    {
     "data": {
      "text/html": [
       "<div>\n",
       "<style scoped>\n",
       "    .dataframe tbody tr th:only-of-type {\n",
       "        vertical-align: middle;\n",
       "    }\n",
       "\n",
       "    .dataframe tbody tr th {\n",
       "        vertical-align: top;\n",
       "    }\n",
       "\n",
       "    .dataframe thead th {\n",
       "        text-align: right;\n",
       "    }\n",
       "</style>\n",
       "<table border=\"1\" class=\"dataframe\">\n",
       "  <thead>\n",
       "    <tr style=\"text-align: right;\">\n",
       "      <th>officer_charged</th>\n",
       "      <th>Charged</th>\n",
       "      <th>Not Charged</th>\n",
       "      <th>Unknown</th>\n",
       "      <th>Prop. Charged</th>\n",
       "    </tr>\n",
       "    <tr>\n",
       "      <th>race</th>\n",
       "      <th></th>\n",
       "      <th></th>\n",
       "      <th></th>\n",
       "      <th></th>\n",
       "    </tr>\n",
       "  </thead>\n",
       "  <tbody>\n",
       "    <tr>\n",
       "      <th>Asian</th>\n",
       "      <td>3</td>\n",
       "      <td>140</td>\n",
       "      <td>0</td>\n",
       "      <td>2.097902</td>\n",
       "    </tr>\n",
       "    <tr>\n",
       "      <th>Black</th>\n",
       "      <td>84</td>\n",
       "      <td>2413</td>\n",
       "      <td>17</td>\n",
       "      <td>3.341289</td>\n",
       "    </tr>\n",
       "    <tr>\n",
       "      <th>Hispanic</th>\n",
       "      <td>23</td>\n",
       "      <td>1756</td>\n",
       "      <td>12</td>\n",
       "      <td>1.284199</td>\n",
       "    </tr>\n",
       "    <tr>\n",
       "      <th>Native American</th>\n",
       "      <td>3</td>\n",
       "      <td>136</td>\n",
       "      <td>0</td>\n",
       "      <td>2.158273</td>\n",
       "    </tr>\n",
       "    <tr>\n",
       "      <th>Non-white</th>\n",
       "      <td>0</td>\n",
       "      <td>0</td>\n",
       "      <td>1</td>\n",
       "      <td>0.000000</td>\n",
       "    </tr>\n",
       "    <tr>\n",
       "      <th>Pacific Islander</th>\n",
       "      <td>3</td>\n",
       "      <td>57</td>\n",
       "      <td>0</td>\n",
       "      <td>5.000000</td>\n",
       "    </tr>\n",
       "    <tr>\n",
       "      <th>Unknown race</th>\n",
       "      <td>1</td>\n",
       "      <td>979</td>\n",
       "      <td>5</td>\n",
       "      <td>0.101523</td>\n",
       "    </tr>\n",
       "    <tr>\n",
       "      <th>White</th>\n",
       "      <td>68</td>\n",
       "      <td>4292</td>\n",
       "      <td>24</td>\n",
       "      <td>1.551095</td>\n",
       "    </tr>\n",
       "  </tbody>\n",
       "</table>\n",
       "</div>"
      ],
      "text/plain": [
       "officer_charged   Charged  Not Charged  Unknown  Prop. Charged\n",
       "race                                                          \n",
       "Asian                   3          140        0       2.097902\n",
       "Black                  84         2413       17       3.341289\n",
       "Hispanic               23         1756       12       1.284199\n",
       "Native American         3          136        0       2.158273\n",
       "Non-white               0            0        1       0.000000\n",
       "Pacific Islander        3           57        0       5.000000\n",
       "Unknown race            1          979        5       0.101523\n",
       "White                  68         4292       24       1.551095"
      ]
     },
     "execution_count": 14,
     "metadata": {},
     "output_type": "execute_result"
    }
   ],
   "source": [
    "obr_pvt_table = oc_by_race.pivot_table(index=['race'], columns='officer_charged', values='count', fill_value=0, aggfunc=np.sum)\n",
    "obr_pvt_table['Prop. Charged'] = 100 * obr_pvt_table['Charged'] / (obr_pvt_table['Charged'] + obr_pvt_table['Not Charged'] + obr_pvt_table['Unknown'])\n",
    "obr_pvt_table"
   ]
  },
  {
   "cell_type": "markdown",
   "id": "ef0f3f3f",
   "metadata": {},
   "source": [
    "We can graph this data in a stacked bar chart:"
   ]
  },
  {
   "cell_type": "code",
   "execution_count": 38,
   "id": "2d1984d8",
   "metadata": {},
   "outputs": [
    {
     "data": {
      "image/png": "[encoded data removed]",
      "text/plain": [
       "<Figure size 936x576 with 1 Axes>"
      ]
     },
     "metadata": {
      "needs_background": "light"
     },
     "output_type": "display_data"
    }
   ],
   "source": [
    "obr_pvt_table.plot.bar(figsize=(13,8), stacked=True)\n",
    "\n",
    "plt.ylabel('Race', fontsize=18)\n",
    "plt.xlabel('Officer Charged', fontsize=18)\n",
    "\n",
    "plt.xticks(fontsize=14)\n",
    "plt.yticks(fontsize=14)\n",
    "\n",
    "plt.show()\n",
    "# Not very useful due to small quantities"
   ]
  },
  {
   "cell_type": "code",
   "execution_count": 20,
   "id": "90dd5b10",
   "metadata": {},
   "outputs": [],
   "source": [
    "if 'count' in mpv.columns:\n",
    "    mpv.drop('count', axis=1, inplace=True)"
   ]
  },
  {
   "cell_type": "markdown",
   "id": "48b16f98",
   "metadata": {},
   "source": [
    "We can see how the Officer Charged variable behaves in comparison to changes in other variables to find any trends in the data."
   ]
  },
  {
   "cell_type": "markdown",
   "id": "47a1eddb",
   "metadata": {},
   "source": [
    "## Twitter Data"
   ]
  },
  {
   "cell_type": "markdown",
   "id": "7ac24872",
   "metadata": {},
   "source": [
    "We need to combine the multiple csv folders of tweet ids into one big one to then randomlly select tweets to hydrate."
   ]
  },
  {
   "cell_type": "code",
   "execution_count": 17,
   "id": "cf7cb442",
   "metadata": {},
   "outputs": [],
   "source": [
    "def flatten(directory):\n",
    "    for dirpath, _, filenames in os.walk(directory, topdown=False):\n",
    "        for filename in filenames:\n",
    "            i = 0\n",
    "            source = os.path.join(dirpath, filename)\n",
    "            target = os.path.join(directory, filename)\n",
    "\n",
    "            while os.path.exists(target):\n",
    "                i += 1\n",
    "                file_parts = os.path.splitext(os.path.basename(filename))\n",
    "\n",
    "                target = os.path.join(\n",
    "                    directory,\n",
    "                    file_parts[0] + \"_\" + str(i) + file_parts[1],\n",
    "                )\n",
    "\n",
    "            shutil.move(source, target)\n",
    "\n",
    "            print(\"Moved \", source, \" to \", target)\n",
    "\n",
    "        if dirpath != directory:\n",
    "            os.rmdir(dirpath)\n",
    "\n",
    "            print(\"Deleted \", dirpath)\n",
    "\n",
    "#credit to: https://amitd.co/code/python/flatten-a-directory"
   ]
  },
  {
   "cell_type": "code",
   "execution_count": 18,
   "id": "91bbddc7",
   "metadata": {},
   "outputs": [],
   "source": [
    "flatten(os.path.dirname(\"/Users/dmusa/Documents/UCSD/2021-2022/Tweets_BLM/twitter\"))"
   ]
  },
  {
   "cell_type": "markdown",
   "id": "11ff39a6",
   "metadata": {},
   "source": [
    "Flattened all folders to make combining into one CSV easier."
   ]
  },
  {
   "cell_type": "code",
   "execution_count": 19,
   "id": "ab25d41b",
   "metadata": {},
   "outputs": [
    {
     "ename": "FileNotFoundError",
     "evalue": "[WinError 3] The system cannot find the path specified: '/Users/dmusa/Documents/UCSD/2021-2022/Tweets_BLM/'",
     "output_type": "error",
     "traceback": [
      "\u001b[1;31m---------------------------------------------------------------------------\u001b[0m",
      "\u001b[1;31mFileNotFoundError\u001b[0m                         Traceback (most recent call last)",
      "\u001b[1;32mc:\\Users\\Krishiv\\Documents\\GitHub\\DDS_BLM\\DataCleaning-copy.ipynb Cell 37'\u001b[0m in \u001b[0;36m<cell line: 2>\u001b[1;34m()\u001b[0m\n\u001b[0;32m      <a href='vscode-notebook-cell:/c%3A/Users/Krishiv/Documents/GitHub/DDS_BLM/DataCleaning-copy.ipynb#ch0000031?line=0'>1</a>\u001b[0m tweets_path \u001b[39m=\u001b[39m \u001b[39m\"\u001b[39m\u001b[39m/Users/dmusa/Documents/UCSD/2021-2022/Tweets_BLM/\u001b[39m\u001b[39m\"\u001b[39m\n\u001b[1;32m----> <a href='vscode-notebook-cell:/c%3A/Users/Krishiv/Documents/GitHub/DDS_BLM/DataCleaning-copy.ipynb#ch0000031?line=1'>2</a>\u001b[0m file_list \u001b[39m=\u001b[39m [tweets_path \u001b[39m+\u001b[39m f \u001b[39mfor\u001b[39;00m f \u001b[39min\u001b[39;00m os\u001b[39m.\u001b[39;49mlistdir(tweets_path)]\n\u001b[0;32m      <a href='vscode-notebook-cell:/c%3A/Users/Krishiv/Documents/GitHub/DDS_BLM/DataCleaning-copy.ipynb#ch0000031?line=2'>3</a>\u001b[0m csv_list \u001b[39m=\u001b[39m []\n",
      "\u001b[1;31mFileNotFoundError\u001b[0m: [WinError 3] The system cannot find the path specified: '/Users/dmusa/Documents/UCSD/2021-2022/Tweets_BLM/'"
     ]
    }
   ],
   "source": [
    "tweets_path = \"/Users/dmusa/Documents/UCSD/2021-2022/Tweets_BLM/\"\n",
    "file_list = [tweets_path + f for f in os.listdir(tweets_path)]\n",
    "csv_list = []"
   ]
  },
  {
   "cell_type": "code",
   "execution_count": null,
   "id": "e839d125",
   "metadata": {},
   "outputs": [],
   "source": [
    "for file in sorted(file_list):\n",
    "    csv_list.append(pd.read_csv(file).assign(File_Name = os.path.basename(file)))\n",
    "\n",
    "csv_merged = pd.concat(csv_list, ignore_index=True)\n",
    "csv_merged.to_csv(tweets_path + 'tweets_full.csv', index=False)"
   ]
  },
  {
   "cell_type": "markdown",
   "id": "f2a63672",
   "metadata": {},
   "source": [
    "Tweet IDs successfully merged into one big CSV ready to be permutated."
   ]
  },
  {
   "cell_type": "code",
   "execution_count": null,
   "id": "bc94df6d",
   "metadata": {},
   "outputs": [],
   "source": [
    "tweets = pd.read_csv('/Users/dmusa/Documents/UCSD/2021-2022/Tweets_BLM/tweets_full.csv')\n",
    "tweets.head()"
   ]
  },
  {
   "cell_type": "code",
   "execution_count": null,
   "id": "5008f628",
   "metadata": {},
   "outputs": [],
   "source": [
    "tweets_sample = tweets.sample(n = 2000000)\n",
    "tweets_sample.head()"
   ]
  },
  {
   "cell_type": "markdown",
   "id": "b64fb233",
   "metadata": {},
   "source": [
    "Randomly selected 2,000,000 tweet IDs. Now, we need to export back to CSV file with just the IDs to hydrate the tweets."
   ]
  },
  {
   "cell_type": "code",
   "execution_count": null,
   "id": "6fcedabf",
   "metadata": {},
   "outputs": [],
   "source": [
    "tweets_sample_id = tweets_sample['status_id']"
   ]
  },
  {
   "cell_type": "code",
   "execution_count": null,
   "id": "c2f942b7",
   "metadata": {},
   "outputs": [],
   "source": [
    "tweets_sample_id.to_csv('/Users/dmusa/Documents/UCSD/2021-2022/Tweets_BLM/tweets_sample_id.csv', header=False, index=False)"
   ]
  },
  {
   "cell_type": "markdown",
   "id": "81552d5c",
   "metadata": {},
   "source": [
    "Now that we have the tweets, let's go over the variables in the dataframe. \n",
    "\n",
    "The creators of the dataset categorized each tweet as supporting one of three major movements: Black Lives Matter, All Lives Matter, and Blue Lives Matter. The tweets are one hot encoded. \n",
    "\n",
    "The used an assortment of keywords and hashtags, as shown below, to categorize the tweets. These terms have a weight. The weight indicates how unique a term is to the topic. So a \"1.0\" tells us this term showed up only in that topic."
   ]
  },
  {
   "cell_type": "code",
   "execution_count": null,
   "id": "ea167650",
   "metadata": {},
   "outputs": [],
   "source": [
    "alm = pd.read_csv('/Users/dmusa/Documents/UCSD/2021-2022/BLM_Tweets/topics/alm50.csv')\n",
    "alm = alm[['term', 'weight']]\n",
    "alm.sort_values(by=['weight'],ascending=False)\n",
    "alm.loc[alm['weight'] == 1.0]"
   ]
  },
  {
   "cell_type": "code",
   "execution_count": null,
   "id": "584efedd",
   "metadata": {},
   "outputs": [],
   "source": [
    "blm = pd.read_csv('/Users/dmusa/Documents/UCSD/2021-2022/BLM_Tweets/topics/blm100.csv')\n",
    "blm = blm[['term', 'weight']]\n",
    "blm.head()\n",
    "blm.loc[blm['weight'] == 1.0]"
   ]
  },
  {
   "cell_type": "code",
   "execution_count": null,
   "id": "b2dd12f9",
   "metadata": {},
   "outputs": [],
   "source": [
    "blulm = pd.read_csv('/Users/dmusa/Documents/UCSD/2021-2022/BLM_Tweets/topics/blulm25.csv')\n",
    "blulm = blulm[['term', 'weight']]\n",
    "blulm.head()\n",
    "blulm.loc[blulm['weight'] == 1.0]"
   ]
  },
  {
   "cell_type": "markdown",
   "id": "57bfbe5a",
   "metadata": {},
   "source": []
  }
 ],
 "metadata": {
  "interpreter": {
   "hash": "369f2c481f4da34e4445cda3fffd2e751bd1c4d706f27375911949ba6bb62e1c"
  },
  "kernelspec": {
   "display_name": "Python 3.10.4 64-bit",
   "language": "python",
   "name": "python3"
  },
  "language_info": {
   "codemirror_mode": {
    "name": "ipython",
    "version": 3
   },
   "file_extension": ".py",
   "mimetype": "text/x-python",
   "name": "python",
   "nbconvert_exporter": "python",
   "pygments_lexer": "ipython3",
   "version": "3.10.4"
  }
 },
 "nbformat": 4,
 "nbformat_minor": 5
}
