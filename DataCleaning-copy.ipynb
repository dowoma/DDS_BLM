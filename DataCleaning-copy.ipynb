{
 "cells": [
  {
   "cell_type": "markdown",
   "id": "70019d48",
   "metadata": {},
   "source": [
    "## Setup"
   ]
  },
  {
   "cell_type": "code",
   "execution_count": 147,
   "id": "2dddc764",
   "metadata": {},
   "outputs": [],
   "source": [
    "# imports\n",
    "import numpy as np\n",
    "import pandas as pd\n",
    "import seaborn as sns\n",
    "from matplotlib import pyplot as plt\n",
    "\n",
    "import os \n",
    "import shutil\n",
    "\n",
    "pd.options.mode.chained_assignment = None"
   ]
  },
  {
   "cell_type": "markdown",
   "id": "afc263c1",
   "metadata": {},
   "source": [
    "## Police Data Cleaning"
   ]
  },
  {
   "cell_type": "code",
   "execution_count": 148,
   "id": "d6fc9ee9",
   "metadata": {},
   "outputs": [
    {
     "data": {
      "text/html": [
       "<div>\n",
       "<style scoped>\n",
       "    .dataframe tbody tr th:only-of-type {\n",
       "        vertical-align: middle;\n",
       "    }\n",
       "\n",
       "    .dataframe tbody tr th {\n",
       "        vertical-align: top;\n",
       "    }\n",
       "\n",
       "    .dataframe thead th {\n",
       "        text-align: right;\n",
       "    }\n",
       "</style>\n",
       "<table border=\"1\" class=\"dataframe\">\n",
       "  <thead>\n",
       "    <tr style=\"text-align: right;\">\n",
       "      <th></th>\n",
       "      <th>cause_of_death</th>\n",
       "      <th>race</th>\n",
       "      <th>date</th>\n",
       "      <th>officer_charged</th>\n",
       "      <th>armed</th>\n",
       "    </tr>\n",
       "  </thead>\n",
       "  <tbody>\n",
       "    <tr>\n",
       "      <th>0</th>\n",
       "      <td>NaN</td>\n",
       "      <td>Black</td>\n",
       "      <td>3/14/2022</td>\n",
       "      <td>NaN</td>\n",
       "      <td>Allegedly Armed</td>\n",
       "    </tr>\n",
       "    <tr>\n",
       "      <th>1</th>\n",
       "      <td>NaN</td>\n",
       "      <td>White</td>\n",
       "      <td>3/12/2022</td>\n",
       "      <td>NaN</td>\n",
       "      <td>Allegedly Armed</td>\n",
       "    </tr>\n",
       "    <tr>\n",
       "      <th>2</th>\n",
       "      <td>Gunshot</td>\n",
       "      <td>White</td>\n",
       "      <td>3/12/2022</td>\n",
       "      <td>No Known Charges</td>\n",
       "      <td>Allegedly Armed</td>\n",
       "    </tr>\n",
       "    <tr>\n",
       "      <th>3</th>\n",
       "      <td>Gunshot</td>\n",
       "      <td>NaN</td>\n",
       "      <td>3/12/2022</td>\n",
       "      <td>No Known Charges</td>\n",
       "      <td>Allegedly Armed</td>\n",
       "    </tr>\n",
       "    <tr>\n",
       "      <th>4</th>\n",
       "      <td>Gunshot</td>\n",
       "      <td>White</td>\n",
       "      <td>3/11/2022</td>\n",
       "      <td>No Known Charges</td>\n",
       "      <td>Allegedly Armed</td>\n",
       "    </tr>\n",
       "    <tr>\n",
       "      <th>...</th>\n",
       "      <td>...</td>\n",
       "      <td>...</td>\n",
       "      <td>...</td>\n",
       "      <td>...</td>\n",
       "      <td>...</td>\n",
       "    </tr>\n",
       "    <tr>\n",
       "      <th>10070</th>\n",
       "      <td>Gunshot</td>\n",
       "      <td>Hispanic</td>\n",
       "      <td>1/1/2013</td>\n",
       "      <td>No Known Charges</td>\n",
       "      <td>Unclear</td>\n",
       "    </tr>\n",
       "    <tr>\n",
       "      <th>10071</th>\n",
       "      <td>Gunshot</td>\n",
       "      <td>Black</td>\n",
       "      <td>1/1/2013</td>\n",
       "      <td>No Known Charges</td>\n",
       "      <td>Allegedly Armed</td>\n",
       "    </tr>\n",
       "    <tr>\n",
       "      <th>10072</th>\n",
       "      <td>Gunshot</td>\n",
       "      <td>White</td>\n",
       "      <td>1/1/2013</td>\n",
       "      <td>No Known Charges</td>\n",
       "      <td>Allegedly Armed</td>\n",
       "    </tr>\n",
       "    <tr>\n",
       "      <th>10073</th>\n",
       "      <td>Gunshot</td>\n",
       "      <td>Hispanic</td>\n",
       "      <td>1/1/2013</td>\n",
       "      <td>No Known Charges</td>\n",
       "      <td>Allegedly Armed</td>\n",
       "    </tr>\n",
       "    <tr>\n",
       "      <th>10074</th>\n",
       "      <td>Taser</td>\n",
       "      <td>White</td>\n",
       "      <td>1/1/2013</td>\n",
       "      <td>No Known Charges</td>\n",
       "      <td>Unarmed/Did Not Have Actual Weapon</td>\n",
       "    </tr>\n",
       "  </tbody>\n",
       "</table>\n",
       "<p>10075 rows × 5 columns</p>\n",
       "</div>"
      ],
      "text/plain": [
       "      cause_of_death      race       date   officer_charged  \\\n",
       "0                NaN     Black  3/14/2022               NaN   \n",
       "1                NaN     White  3/12/2022               NaN   \n",
       "2            Gunshot     White  3/12/2022  No Known Charges   \n",
       "3            Gunshot       NaN  3/12/2022  No Known Charges   \n",
       "4            Gunshot     White  3/11/2022  No Known Charges   \n",
       "...              ...       ...        ...               ...   \n",
       "10070        Gunshot  Hispanic   1/1/2013  No Known Charges   \n",
       "10071        Gunshot     Black   1/1/2013  No Known Charges   \n",
       "10072        Gunshot     White   1/1/2013  No Known Charges   \n",
       "10073        Gunshot  Hispanic   1/1/2013  No Known Charges   \n",
       "10074          Taser     White   1/1/2013  No Known Charges   \n",
       "\n",
       "                                    armed  \n",
       "0                         Allegedly Armed  \n",
       "1                         Allegedly Armed  \n",
       "2                         Allegedly Armed  \n",
       "3                         Allegedly Armed  \n",
       "4                         Allegedly Armed  \n",
       "...                                   ...  \n",
       "10070                             Unclear  \n",
       "10071                     Allegedly Armed  \n",
       "10072                     Allegedly Armed  \n",
       "10073                     Allegedly Armed  \n",
       "10074  Unarmed/Did Not Have Actual Weapon  \n",
       "\n",
       "[10075 rows x 5 columns]"
      ]
     },
     "execution_count": 148,
     "metadata": {},
     "output_type": "execute_result"
    }
   ],
   "source": [
    "df = pd.read_csv('Mapping Police Violence-Grid view.csv')\n",
    "mpv = df[['cause_of_death','race','date','officer_charged','allegedly_armed']]\n",
    "#renaming \"allegedly_armed\" to \"armed\"\n",
    "mpv = mpv.rename(columns={'allegedly_armed': 'armed'})\n",
    "mpv"
   ]
  },
  {
   "cell_type": "code",
   "execution_count": 149,
   "id": "077043ba",
   "metadata": {},
   "outputs": [
    {
     "data": {
      "text/html": [
       "<div>\n",
       "<style scoped>\n",
       "    .dataframe tbody tr th:only-of-type {\n",
       "        vertical-align: middle;\n",
       "    }\n",
       "\n",
       "    .dataframe tbody tr th {\n",
       "        vertical-align: top;\n",
       "    }\n",
       "\n",
       "    .dataframe thead th {\n",
       "        text-align: right;\n",
       "    }\n",
       "</style>\n",
       "<table border=\"1\" class=\"dataframe\">\n",
       "  <thead>\n",
       "    <tr style=\"text-align: right;\">\n",
       "      <th></th>\n",
       "      <th>cause_of_death</th>\n",
       "      <th>race</th>\n",
       "      <th>date</th>\n",
       "      <th>officer_charged</th>\n",
       "      <th>armed</th>\n",
       "    </tr>\n",
       "  </thead>\n",
       "  <tbody>\n",
       "    <tr>\n",
       "      <th>0</th>\n",
       "      <td>NaN</td>\n",
       "      <td>Black</td>\n",
       "      <td>2022-03-14</td>\n",
       "      <td>NaN</td>\n",
       "      <td>Allegedly Armed</td>\n",
       "    </tr>\n",
       "    <tr>\n",
       "      <th>1</th>\n",
       "      <td>NaN</td>\n",
       "      <td>White</td>\n",
       "      <td>2022-03-12</td>\n",
       "      <td>NaN</td>\n",
       "      <td>Allegedly Armed</td>\n",
       "    </tr>\n",
       "    <tr>\n",
       "      <th>2</th>\n",
       "      <td>Gunshot</td>\n",
       "      <td>White</td>\n",
       "      <td>2022-03-12</td>\n",
       "      <td>No Known Charges</td>\n",
       "      <td>Allegedly Armed</td>\n",
       "    </tr>\n",
       "    <tr>\n",
       "      <th>3</th>\n",
       "      <td>Gunshot</td>\n",
       "      <td>NaN</td>\n",
       "      <td>2022-03-12</td>\n",
       "      <td>No Known Charges</td>\n",
       "      <td>Allegedly Armed</td>\n",
       "    </tr>\n",
       "    <tr>\n",
       "      <th>4</th>\n",
       "      <td>Gunshot</td>\n",
       "      <td>White</td>\n",
       "      <td>2022-03-11</td>\n",
       "      <td>No Known Charges</td>\n",
       "      <td>Allegedly Armed</td>\n",
       "    </tr>\n",
       "    <tr>\n",
       "      <th>...</th>\n",
       "      <td>...</td>\n",
       "      <td>...</td>\n",
       "      <td>...</td>\n",
       "      <td>...</td>\n",
       "      <td>...</td>\n",
       "    </tr>\n",
       "    <tr>\n",
       "      <th>10070</th>\n",
       "      <td>Gunshot</td>\n",
       "      <td>Hispanic</td>\n",
       "      <td>2013-01-01</td>\n",
       "      <td>No Known Charges</td>\n",
       "      <td>Unclear</td>\n",
       "    </tr>\n",
       "    <tr>\n",
       "      <th>10071</th>\n",
       "      <td>Gunshot</td>\n",
       "      <td>Black</td>\n",
       "      <td>2013-01-01</td>\n",
       "      <td>No Known Charges</td>\n",
       "      <td>Allegedly Armed</td>\n",
       "    </tr>\n",
       "    <tr>\n",
       "      <th>10072</th>\n",
       "      <td>Gunshot</td>\n",
       "      <td>White</td>\n",
       "      <td>2013-01-01</td>\n",
       "      <td>No Known Charges</td>\n",
       "      <td>Allegedly Armed</td>\n",
       "    </tr>\n",
       "    <tr>\n",
       "      <th>10073</th>\n",
       "      <td>Gunshot</td>\n",
       "      <td>Hispanic</td>\n",
       "      <td>2013-01-01</td>\n",
       "      <td>No Known Charges</td>\n",
       "      <td>Allegedly Armed</td>\n",
       "    </tr>\n",
       "    <tr>\n",
       "      <th>10074</th>\n",
       "      <td>Taser</td>\n",
       "      <td>White</td>\n",
       "      <td>2013-01-01</td>\n",
       "      <td>No Known Charges</td>\n",
       "      <td>Unarmed/Did Not Have Actual Weapon</td>\n",
       "    </tr>\n",
       "  </tbody>\n",
       "</table>\n",
       "<p>10075 rows × 5 columns</p>\n",
       "</div>"
      ],
      "text/plain": [
       "      cause_of_death      race       date   officer_charged  \\\n",
       "0                NaN     Black 2022-03-14               NaN   \n",
       "1                NaN     White 2022-03-12               NaN   \n",
       "2            Gunshot     White 2022-03-12  No Known Charges   \n",
       "3            Gunshot       NaN 2022-03-12  No Known Charges   \n",
       "4            Gunshot     White 2022-03-11  No Known Charges   \n",
       "...              ...       ...        ...               ...   \n",
       "10070        Gunshot  Hispanic 2013-01-01  No Known Charges   \n",
       "10071        Gunshot     Black 2013-01-01  No Known Charges   \n",
       "10072        Gunshot     White 2013-01-01  No Known Charges   \n",
       "10073        Gunshot  Hispanic 2013-01-01  No Known Charges   \n",
       "10074          Taser     White 2013-01-01  No Known Charges   \n",
       "\n",
       "                                    armed  \n",
       "0                         Allegedly Armed  \n",
       "1                         Allegedly Armed  \n",
       "2                         Allegedly Armed  \n",
       "3                         Allegedly Armed  \n",
       "4                         Allegedly Armed  \n",
       "...                                   ...  \n",
       "10070                             Unclear  \n",
       "10071                     Allegedly Armed  \n",
       "10072                     Allegedly Armed  \n",
       "10073                     Allegedly Armed  \n",
       "10074  Unarmed/Did Not Have Actual Weapon  \n",
       "\n",
       "[10075 rows x 5 columns]"
      ]
     },
     "execution_count": 149,
     "metadata": {},
     "output_type": "execute_result"
    }
   ],
   "source": [
    "# Converting 'date' column into datatype 'pandas Timestamp'\n",
    "\n",
    "mpv['date'] = pd.to_datetime(mpv['date'], infer_datetime_format=True)\n",
    "mpv"
   ]
  },
  {
   "cell_type": "code",
   "execution_count": 150,
   "id": "ddd75ebc",
   "metadata": {},
   "outputs": [
    {
     "data": {
      "text/plain": [
       "pandas._libs.tslibs.timestamps.Timestamp"
      ]
     },
     "execution_count": 150,
     "metadata": {},
     "output_type": "execute_result"
    }
   ],
   "source": [
    "type(mpv['date'].iloc[0])"
   ]
  },
  {
   "cell_type": "code",
   "execution_count": 151,
   "id": "4cd55ce5",
   "metadata": {},
   "outputs": [
    {
     "data": {
      "text/html": [
       "<div>\n",
       "<style scoped>\n",
       "    .dataframe tbody tr th:only-of-type {\n",
       "        vertical-align: middle;\n",
       "    }\n",
       "\n",
       "    .dataframe tbody tr th {\n",
       "        vertical-align: top;\n",
       "    }\n",
       "\n",
       "    .dataframe thead th {\n",
       "        text-align: right;\n",
       "    }\n",
       "</style>\n",
       "<table border=\"1\" class=\"dataframe\">\n",
       "  <thead>\n",
       "    <tr style=\"text-align: right;\">\n",
       "      <th></th>\n",
       "      <th>cause_of_death</th>\n",
       "      <th>race</th>\n",
       "      <th>officer_charged</th>\n",
       "      <th>armed</th>\n",
       "    </tr>\n",
       "    <tr>\n",
       "      <th>date</th>\n",
       "      <th></th>\n",
       "      <th></th>\n",
       "      <th></th>\n",
       "      <th></th>\n",
       "    </tr>\n",
       "  </thead>\n",
       "  <tbody>\n",
       "    <tr>\n",
       "      <th>2020-09-30</th>\n",
       "      <td>Gunshot</td>\n",
       "      <td>White</td>\n",
       "      <td>No Known Charges</td>\n",
       "      <td>Allegedly Armed</td>\n",
       "    </tr>\n",
       "    <tr>\n",
       "      <th>2020-09-30</th>\n",
       "      <td>Gunshot</td>\n",
       "      <td>Black</td>\n",
       "      <td>No Known Charges</td>\n",
       "      <td>Unclear</td>\n",
       "    </tr>\n",
       "    <tr>\n",
       "      <th>2020-09-29</th>\n",
       "      <td>Gunshot</td>\n",
       "      <td>Unknown race</td>\n",
       "      <td>No Known Charges</td>\n",
       "      <td>Allegedly Armed</td>\n",
       "    </tr>\n",
       "    <tr>\n",
       "      <th>2020-09-28</th>\n",
       "      <td>Gunshot</td>\n",
       "      <td>Black</td>\n",
       "      <td>No Known Charges</td>\n",
       "      <td>Allegedly Armed</td>\n",
       "    </tr>\n",
       "    <tr>\n",
       "      <th>2020-09-28</th>\n",
       "      <td>Gunshot</td>\n",
       "      <td>Hispanic</td>\n",
       "      <td>No Known Charges</td>\n",
       "      <td>Allegedly Armed</td>\n",
       "    </tr>\n",
       "    <tr>\n",
       "      <th>...</th>\n",
       "      <td>...</td>\n",
       "      <td>...</td>\n",
       "      <td>...</td>\n",
       "      <td>...</td>\n",
       "    </tr>\n",
       "    <tr>\n",
       "      <th>2013-01-01</th>\n",
       "      <td>Gunshot</td>\n",
       "      <td>Hispanic</td>\n",
       "      <td>No Known Charges</td>\n",
       "      <td>Unclear</td>\n",
       "    </tr>\n",
       "    <tr>\n",
       "      <th>2013-01-01</th>\n",
       "      <td>Gunshot</td>\n",
       "      <td>Black</td>\n",
       "      <td>No Known Charges</td>\n",
       "      <td>Allegedly Armed</td>\n",
       "    </tr>\n",
       "    <tr>\n",
       "      <th>2013-01-01</th>\n",
       "      <td>Gunshot</td>\n",
       "      <td>White</td>\n",
       "      <td>No Known Charges</td>\n",
       "      <td>Allegedly Armed</td>\n",
       "    </tr>\n",
       "    <tr>\n",
       "      <th>2013-01-01</th>\n",
       "      <td>Gunshot</td>\n",
       "      <td>Hispanic</td>\n",
       "      <td>No Known Charges</td>\n",
       "      <td>Allegedly Armed</td>\n",
       "    </tr>\n",
       "    <tr>\n",
       "      <th>2013-01-01</th>\n",
       "      <td>Taser</td>\n",
       "      <td>White</td>\n",
       "      <td>No Known Charges</td>\n",
       "      <td>Unarmed/Did Not Have Actual Weapon</td>\n",
       "    </tr>\n",
       "  </tbody>\n",
       "</table>\n",
       "<p>8473 rows × 4 columns</p>\n",
       "</div>"
      ],
      "text/plain": [
       "           cause_of_death          race   officer_charged  \\\n",
       "date                                                        \n",
       "2020-09-30        Gunshot         White  No Known Charges   \n",
       "2020-09-30        Gunshot         Black  No Known Charges   \n",
       "2020-09-29        Gunshot  Unknown race  No Known Charges   \n",
       "2020-09-28        Gunshot         Black  No Known Charges   \n",
       "2020-09-28        Gunshot      Hispanic  No Known Charges   \n",
       "...                   ...           ...               ...   \n",
       "2013-01-01        Gunshot      Hispanic  No Known Charges   \n",
       "2013-01-01        Gunshot         Black  No Known Charges   \n",
       "2013-01-01        Gunshot         White  No Known Charges   \n",
       "2013-01-01        Gunshot      Hispanic  No Known Charges   \n",
       "2013-01-01          Taser         White  No Known Charges   \n",
       "\n",
       "                                         armed  \n",
       "date                                            \n",
       "2020-09-30                     Allegedly Armed  \n",
       "2020-09-30                             Unclear  \n",
       "2020-09-29                     Allegedly Armed  \n",
       "2020-09-28                     Allegedly Armed  \n",
       "2020-09-28                     Allegedly Armed  \n",
       "...                                        ...  \n",
       "2013-01-01                             Unclear  \n",
       "2013-01-01                     Allegedly Armed  \n",
       "2013-01-01                     Allegedly Armed  \n",
       "2013-01-01                     Allegedly Armed  \n",
       "2013-01-01  Unarmed/Did Not Have Actual Weapon  \n",
       "\n",
       "[8473 rows x 4 columns]"
      ]
     },
     "execution_count": 151,
     "metadata": {},
     "output_type": "execute_result"
    }
   ],
   "source": [
    "# Removing incidents occuring after 2020-09 as we do not have tweets after that period\\n\",\n",
    "cutoff_date = pd.Timestamp(2020, 10, 1)\n",
    "\n",
    "mpv = mpv[mpv.date < cutoff_date]\n",
    "\n",
    "# Setting date as index\n",
    "mpv.set_index('date')"
   ]
  },
  {
   "cell_type": "code",
   "execution_count": 152,
   "id": "ff520695",
   "metadata": {},
   "outputs": [
    {
     "name": "stdout",
     "output_type": "stream",
     "text": [
      "['White' 'Black' 'Unknown race' 'Hispanic' 'Asian' 'Native American' nan\n",
      " 'Pacific Islander']\n",
      "['Gunshot' 'Gunshot,Taser' 'Taser' 'Vehicle' 'Physical Restraint'\n",
      " 'Chemical Agent' 'Beaten' 'Other' 'Bean bag' 'Pepper Spray' 'Asphyxiated'\n",
      " 'Bomb' 'Taser,Physical Restraint' nan 'Gunshot,Vehicle']\n",
      "['Allegedly Armed' 'Unclear' 'Unarmed/Did Not Have Actual Weapon'\n",
      " 'Vehicle' nan]\n"
     ]
    }
   ],
   "source": [
    "print(mpv['race'].unique())\n",
    "print(mpv['cause_of_death'].unique())\n",
    "print(mpv['armed'].unique())"
   ]
  },
  {
   "cell_type": "code",
   "execution_count": 153,
   "id": "af0c558d",
   "metadata": {},
   "outputs": [
    {
     "data": {
      "text/plain": [
       "Allegedly Armed                       5987\n",
       "Unarmed/Did Not Have Actual Weapon    1177\n",
       "Unclear                                741\n",
       "Vehicle                                567\n",
       "Name: armed, dtype: int64"
      ]
     },
     "execution_count": 153,
     "metadata": {},
     "output_type": "execute_result"
    }
   ],
   "source": [
    "mpv['armed'].value_counts()"
   ]
  },
  {
   "cell_type": "code",
   "execution_count": 154,
   "id": "03bfbf6e",
   "metadata": {},
   "outputs": [
    {
     "data": {
      "text/plain": [
       "Gunshot                     7815\n",
       "Taser                        273\n",
       "Gunshot,Taser                247\n",
       "Vehicle                       44\n",
       "Physical Restraint            34\n",
       "Beaten                        32\n",
       "Asphyxiated                    9\n",
       "Other                          5\n",
       "Pepper Spray                   5\n",
       "Bean bag                       2\n",
       "Taser,Physical Restraint       2\n",
       "Chemical Agent                 1\n",
       "Bomb                           1\n",
       "Gunshot,Vehicle                1\n",
       "Name: cause_of_death, dtype: int64"
      ]
     },
     "execution_count": 154,
     "metadata": {},
     "output_type": "execute_result"
    }
   ],
   "source": [
    "mpv['cause_of_death'].value_counts()\n",
    "#proportion of gunshot vs taser, assign to gunshot then"
   ]
  },
  {
   "cell_type": "code",
   "execution_count": 155,
   "id": "6a3b4f50",
   "metadata": {},
   "outputs": [
    {
     "name": "stdout",
     "output_type": "stream",
     "text": [
      "['No Known Charges' '\"Charged, Charges Dropped\"' 'Charged with a crime'\n",
      " nan '\"Charged, Convicted, Sentenced to 22.5 years in prison\"'\n",
      " '\"Charged, Convicted\"'\n",
      " '\"Charged, Convicted, Sentenced to life in prison\"'\n",
      " '\"Charged, Convicted, Sentenced to 10 years in prison\"'\n",
      " '\"Charged, Convicted, Sentenced to 7 years in prison\"'\n",
      " '\"Charged, Acquitted\"'\n",
      " '\"Charged, Plead Guilty to Voluntary Manslaughter\"'\n",
      " '\"Charged, Convicted, Sentenced to 1 year in prison and 4 years probation\"'\n",
      " '\"Charged, Convicted, Sentenced to 25 years in prison\"'\n",
      " '\"Charged, Convicted, Sentenced to 2 years suspension and 3 years probation\"'\n",
      " '\"Charged, Convicted, Sentenced to 5-15 years in prison\"'\n",
      " '\"Charged, Convicted, Sentenced to 4.75 years in prison\"'\n",
      " '\"Charged, Mistrial\"'\n",
      " '\"Charged, Convicted, Sentenced to 15 years in prison\"'\n",
      " '\"Charged, Plead No Contest, Sentenced to 10 years probation\"'\n",
      " '\"Charged, Convicted, Sentenced to 6 years in prison\"'\n",
      " '\"Charged, Convicted, Sentenced to 10 Years of Prison\"'\n",
      " '\"Charged, Convicted, Sentenced to 1 year in prison\"'\n",
      " '\"Charged, Convicted, Sentenced to 14 years in prison\"'\n",
      " '\"Charged, Convicted, Sentenced to 3.5 years in prison\"'\n",
      " '\"Charged, Convicted, Sentenced to 5 years in prison\"'\n",
      " '\"Charged, Convicted, Sentenced to 55 years in prison\"'\n",
      " '\"Charged, Convicted, Sentenced to 40 years in prison\"'\n",
      " '\"Charged, Convicted, Sentenced to 3 months in jail\"'\n",
      " '\"Charged, Convicted, Sentenced to 30 years in prison\"'\n",
      " '\"Charged, Plead Guilty to Manslaughter, Sentenced to 5 years in prison\"'\n",
      " '\"Charged, Mistrial, Plead Guilty to Manslaughter\"'\n",
      " '\"Charged, Convicted, Sentenced to 2.5 years in prison\"'\n",
      " '\"Charged, Mistrial, Plead Guilty to Civil Rights Charges\"'\n",
      " '\"Charged, Convicted, Sentenced to 4 years\"'\n",
      " '\"Charged, Convicted, Sentenced to 40 years to Life in prison\"'\n",
      " '\"Charged, Convicted, Sentenced to 12 years in prison and 8 years in probation\"'\n",
      " '\"Charged, Convicted, Sentenced to 5 years probation.\"'\n",
      " '\"Charged, Convicted, Sentenced to 20 years in prison\"'\n",
      " '\"Charged, Convicted, Sentenced to 16 years in prison\"'\n",
      " '\"Charged, Convicted, Sentenced to life in prison without parole, plus 16 years\"'\n",
      " '\"Charged, Convicted, Sentenced to Life in Prison\"'\n",
      " '\"Charged, Convicted, Sentenced to 1 year in jail, 3 years suspended\"'\n",
      " '\"Charged, Convicted, Sentenced to 50 years\"'\n",
      " '\"Charged, Convicted, Sentenced to 18 months\"'\n",
      " '\"Charged, Convicted, Sentenced to 6 years\"']\n"
     ]
    }
   ],
   "source": [
    "print(mpv['officer_charged'].unique())"
   ]
  },
  {
   "cell_type": "code",
   "execution_count": 156,
   "id": "3a9094de",
   "metadata": {},
   "outputs": [
    {
     "data": {
      "text/html": [
       "<div>\n",
       "<style scoped>\n",
       "    .dataframe tbody tr th:only-of-type {\n",
       "        vertical-align: middle;\n",
       "    }\n",
       "\n",
       "    .dataframe tbody tr th {\n",
       "        vertical-align: top;\n",
       "    }\n",
       "\n",
       "    .dataframe thead th {\n",
       "        text-align: right;\n",
       "    }\n",
       "</style>\n",
       "<table border=\"1\" class=\"dataframe\">\n",
       "  <thead>\n",
       "    <tr style=\"text-align: right;\">\n",
       "      <th></th>\n",
       "      <th>cause_of_death</th>\n",
       "      <th>race</th>\n",
       "      <th>date</th>\n",
       "      <th>officer_charged</th>\n",
       "      <th>armed</th>\n",
       "    </tr>\n",
       "  </thead>\n",
       "  <tbody>\n",
       "    <tr>\n",
       "      <th>1602</th>\n",
       "      <td>Gunshot</td>\n",
       "      <td>White</td>\n",
       "      <td>2020-09-30</td>\n",
       "      <td>Not Charged</td>\n",
       "      <td>Allegedly Armed</td>\n",
       "    </tr>\n",
       "    <tr>\n",
       "      <th>1603</th>\n",
       "      <td>Gunshot</td>\n",
       "      <td>Black</td>\n",
       "      <td>2020-09-30</td>\n",
       "      <td>Not Charged</td>\n",
       "      <td>Unclear</td>\n",
       "    </tr>\n",
       "    <tr>\n",
       "      <th>1604</th>\n",
       "      <td>Gunshot</td>\n",
       "      <td>Unknown race</td>\n",
       "      <td>2020-09-29</td>\n",
       "      <td>Not Charged</td>\n",
       "      <td>Allegedly Armed</td>\n",
       "    </tr>\n",
       "    <tr>\n",
       "      <th>1605</th>\n",
       "      <td>Gunshot</td>\n",
       "      <td>Black</td>\n",
       "      <td>2020-09-28</td>\n",
       "      <td>Not Charged</td>\n",
       "      <td>Allegedly Armed</td>\n",
       "    </tr>\n",
       "    <tr>\n",
       "      <th>1606</th>\n",
       "      <td>Gunshot</td>\n",
       "      <td>Hispanic</td>\n",
       "      <td>2020-09-28</td>\n",
       "      <td>Not Charged</td>\n",
       "      <td>Allegedly Armed</td>\n",
       "    </tr>\n",
       "    <tr>\n",
       "      <th>...</th>\n",
       "      <td>...</td>\n",
       "      <td>...</td>\n",
       "      <td>...</td>\n",
       "      <td>...</td>\n",
       "      <td>...</td>\n",
       "    </tr>\n",
       "    <tr>\n",
       "      <th>10070</th>\n",
       "      <td>Gunshot</td>\n",
       "      <td>Hispanic</td>\n",
       "      <td>2013-01-01</td>\n",
       "      <td>Not Charged</td>\n",
       "      <td>Unclear</td>\n",
       "    </tr>\n",
       "    <tr>\n",
       "      <th>10071</th>\n",
       "      <td>Gunshot</td>\n",
       "      <td>Black</td>\n",
       "      <td>2013-01-01</td>\n",
       "      <td>Not Charged</td>\n",
       "      <td>Allegedly Armed</td>\n",
       "    </tr>\n",
       "    <tr>\n",
       "      <th>10072</th>\n",
       "      <td>Gunshot</td>\n",
       "      <td>White</td>\n",
       "      <td>2013-01-01</td>\n",
       "      <td>Not Charged</td>\n",
       "      <td>Allegedly Armed</td>\n",
       "    </tr>\n",
       "    <tr>\n",
       "      <th>10073</th>\n",
       "      <td>Gunshot</td>\n",
       "      <td>Hispanic</td>\n",
       "      <td>2013-01-01</td>\n",
       "      <td>Not Charged</td>\n",
       "      <td>Allegedly Armed</td>\n",
       "    </tr>\n",
       "    <tr>\n",
       "      <th>10074</th>\n",
       "      <td>Taser</td>\n",
       "      <td>White</td>\n",
       "      <td>2013-01-01</td>\n",
       "      <td>Not Charged</td>\n",
       "      <td>Unarmed/Did Not Have Actual Weapon</td>\n",
       "    </tr>\n",
       "  </tbody>\n",
       "</table>\n",
       "<p>8473 rows × 5 columns</p>\n",
       "</div>"
      ],
      "text/plain": [
       "      cause_of_death          race       date officer_charged  \\\n",
       "1602         Gunshot         White 2020-09-30     Not Charged   \n",
       "1603         Gunshot         Black 2020-09-30     Not Charged   \n",
       "1604         Gunshot  Unknown race 2020-09-29     Not Charged   \n",
       "1605         Gunshot         Black 2020-09-28     Not Charged   \n",
       "1606         Gunshot      Hispanic 2020-09-28     Not Charged   \n",
       "...              ...           ...        ...             ...   \n",
       "10070        Gunshot      Hispanic 2013-01-01     Not Charged   \n",
       "10071        Gunshot         Black 2013-01-01     Not Charged   \n",
       "10072        Gunshot         White 2013-01-01     Not Charged   \n",
       "10073        Gunshot      Hispanic 2013-01-01     Not Charged   \n",
       "10074          Taser         White 2013-01-01     Not Charged   \n",
       "\n",
       "                                    armed  \n",
       "1602                      Allegedly Armed  \n",
       "1603                              Unclear  \n",
       "1604                      Allegedly Armed  \n",
       "1605                      Allegedly Armed  \n",
       "1606                      Allegedly Armed  \n",
       "...                                   ...  \n",
       "10070                             Unclear  \n",
       "10071                     Allegedly Armed  \n",
       "10072                     Allegedly Armed  \n",
       "10073                     Allegedly Armed  \n",
       "10074  Unarmed/Did Not Have Actual Weapon  \n",
       "\n",
       "[8473 rows x 5 columns]"
      ]
     },
     "execution_count": 156,
     "metadata": {},
     "output_type": "execute_result"
    }
   ],
   "source": [
    "#cleaning \"officer_charged\"\n",
    "\n",
    "mpv['officer_charged'] = mpv['officer_charged'].astype(str)\n",
    "\n",
    "mpv.loc[mpv['officer_charged'].str.contains('Charged') == True, \"officer_charged\"] = \"Charged\"\n",
    "mpv.loc[mpv['officer_charged'] == 'No Known Charges', 'officer_charged'] = \"Not Charged\"\n",
    "mpv.loc[mpv['officer_charged'] == 'nan', 'officer_charged'] = \"Unknown\"\n",
    "mpv"
   ]
  },
  {
   "cell_type": "code",
   "execution_count": 157,
   "id": "cac7e9a5",
   "metadata": {},
   "outputs": [
    {
     "name": "stdout",
     "output_type": "stream",
     "text": [
      "['Not Charged' 'Charged' 'Unknown']\n"
     ]
    },
    {
     "data": {
      "text/plain": [
       "str"
      ]
     },
     "execution_count": 157,
     "metadata": {},
     "output_type": "execute_result"
    }
   ],
   "source": [
    "print(mpv['officer_charged'].unique())\n",
    "type(mpv['officer_charged'].iloc[0])"
   ]
  },
  {
   "cell_type": "code",
   "execution_count": 158,
   "id": "df54440a",
   "metadata": {},
   "outputs": [
    {
     "name": "stdout",
     "output_type": "stream",
     "text": [
      "['Not Charged' 'Charged' 'Unknown']\n"
     ]
    }
   ],
   "source": [
    "print(mpv['officer_charged'].unique())"
   ]
  },
  {
   "cell_type": "code",
   "execution_count": 159,
   "id": "fb7fef89",
   "metadata": {},
   "outputs": [
    {
     "data": {
      "text/plain": [
       "cause_of_death             object\n",
       "race                       object\n",
       "date               datetime64[ns]\n",
       "officer_charged            object\n",
       "armed                      object\n",
       "dtype: object"
      ]
     },
     "execution_count": 159,
     "metadata": {},
     "output_type": "execute_result"
    }
   ],
   "source": [
    "mpv.dtypes\n",
    "#probably nan"
   ]
  },
  {
   "cell_type": "code",
   "execution_count": 160,
   "id": "a8447062",
   "metadata": {},
   "outputs": [],
   "source": [
    "#why the heck is it object and not int"
   ]
  },
  {
   "cell_type": "markdown",
   "id": "55dd92a4",
   "metadata": {},
   "source": [
    "## Variables"
   ]
  },
  {
   "cell_type": "markdown",
   "id": "b0e0118f",
   "metadata": {},
   "source": [
    "### Cause of Death\n",
    "\n",
    "Variable name: cause_of_death\n",
    "\n",
    "Data type: string\n",
    "\n",
    "Lists cause of death of police victims. Includes: NaN, gunshot, vehicle, taser, beaten, physical restraint, chemical agent, bean bag, pepper spray, asphyxiated, bomb, or multiple causes."
   ]
  },
  {
   "cell_type": "markdown",
   "id": "8d82f47e",
   "metadata": {},
   "source": [
    "### Victim's Race\n",
    "\n",
    "Variable name: race\n",
    "\n",
    "Data type: string\n",
    "\n",
    "Race of police victim, includes NaN, Black, White, Hispanic, Non-white, Unknown race, Pacific Islander, Native American, or Asian"
   ]
  },
  {
   "cell_type": "markdown",
   "id": "bc3c7dfd",
   "metadata": {},
   "source": [
    "### Date of Encounter\n",
    "\n",
    "Variable name: date\n",
    "\n",
    "Data type: pandas Timestamp\n",
    "\n",
    "Dates from 1/1/2013 to 10/1/2020 (MM/DD/YY)"
   ]
  },
  {
   "cell_type": "markdown",
   "id": "25062236",
   "metadata": {},
   "source": [
    "### Officer Charged\n",
    "\n",
    "Variable name: officer_charged\n",
    "\n",
    "Data type: string\n",
    "\n",
    "Whether or not the police officer responsible for violence any criminal or civil charges."
   ]
  },
  {
   "cell_type": "markdown",
   "id": "8dd61c33",
   "metadata": {},
   "source": [
    "### Victim Armed\n",
    "\n",
    "Variable name (in original date): allegedly_armed\n",
    "\n",
    "Variable name (in our data): armed\n",
    "\n",
    "Data type: int\n",
    "\n",
    "Whether or not victim was armed.\n",
    "If unarmed (0), armed (1), unclear (3) otherwise (NaN)."
   ]
  },
  {
   "cell_type": "markdown",
   "id": "03f0d8b1",
   "metadata": {},
   "source": [
    "## EDA"
   ]
  },
  {
   "cell_type": "markdown",
   "id": "abc3113c",
   "metadata": {},
   "source": [
    "### Overview\n",
    "\n",
    "We can start by looking at how many deaths there were each year."
   ]
  },
  {
   "cell_type": "code",
   "execution_count": 161,
   "id": "ebe1337d",
   "metadata": {},
   "outputs": [
    {
     "data": {
      "text/html": [
       "<div>\n",
       "<style scoped>\n",
       "    .dataframe tbody tr th:only-of-type {\n",
       "        vertical-align: middle;\n",
       "    }\n",
       "\n",
       "    .dataframe tbody tr th {\n",
       "        vertical-align: top;\n",
       "    }\n",
       "\n",
       "    .dataframe thead th {\n",
       "        text-align: right;\n",
       "    }\n",
       "</style>\n",
       "<table border=\"1\" class=\"dataframe\">\n",
       "  <thead>\n",
       "    <tr style=\"text-align: right;\">\n",
       "      <th></th>\n",
       "      <th>year</th>\n",
       "      <th>count</th>\n",
       "    </tr>\n",
       "  </thead>\n",
       "  <tbody>\n",
       "    <tr>\n",
       "      <th>0</th>\n",
       "      <td>2013</td>\n",
       "      <td>1087</td>\n",
       "    </tr>\n",
       "    <tr>\n",
       "      <th>1</th>\n",
       "      <td>2014</td>\n",
       "      <td>1049</td>\n",
       "    </tr>\n",
       "    <tr>\n",
       "      <th>2</th>\n",
       "      <td>2015</td>\n",
       "      <td>1102</td>\n",
       "    </tr>\n",
       "    <tr>\n",
       "      <th>3</th>\n",
       "      <td>2016</td>\n",
       "      <td>1070</td>\n",
       "    </tr>\n",
       "    <tr>\n",
       "      <th>4</th>\n",
       "      <td>2017</td>\n",
       "      <td>1092</td>\n",
       "    </tr>\n",
       "    <tr>\n",
       "      <th>5</th>\n",
       "      <td>2018</td>\n",
       "      <td>1144</td>\n",
       "    </tr>\n",
       "    <tr>\n",
       "      <th>6</th>\n",
       "      <td>2019</td>\n",
       "      <td>1096</td>\n",
       "    </tr>\n",
       "    <tr>\n",
       "      <th>7</th>\n",
       "      <td>2020</td>\n",
       "      <td>833</td>\n",
       "    </tr>\n",
       "  </tbody>\n",
       "</table>\n",
       "</div>"
      ],
      "text/plain": [
       "   year  count\n",
       "0  2013   1087\n",
       "1  2014   1049\n",
       "2  2015   1102\n",
       "3  2016   1070\n",
       "4  2017   1092\n",
       "5  2018   1144\n",
       "6  2019   1096\n",
       "7  2020    833"
      ]
     },
     "execution_count": 161,
     "metadata": {},
     "output_type": "execute_result"
    }
   ],
   "source": [
    "# Temporarily adding a count column to help in making pivot tables. This will be dropped later.\n",
    "mpv['count'] = 1\n",
    "# Temporarily adding a year column to help in making pivot tables. This will be dropped later.\n",
    "mpv['year'] = pd.DatetimeIndex(mpv['date']).year\n",
    "\n",
    "deaths_over_time = mpv.groupby('year', as_index=False).count()\n",
    "deaths_table = deaths_over_time[['year', 'count']].copy()\n",
    "deaths_table"
   ]
  },
  {
   "cell_type": "markdown",
   "id": "9e93d6a7",
   "metadata": {},
   "source": [
    "We can graph this table to get a visual representation of this."
   ]
  },
  {
   "cell_type": "code",
   "execution_count": 162,
   "id": "1c7b2103",
   "metadata": {},
   "outputs": [
    {
     "data": {
      "image/png": "[encoded data removed]",
      "text/plain": [
       "<Figure size 432x288 with 1 Axes>"
      ]
     },
     "metadata": {
      "needs_background": "light"
     },
     "output_type": "display_data"
    }
   ],
   "source": [
    "prop_charged_vs_time = sns.lineplot(\n",
    "    data=deaths_table,\n",
    "    x='year',\n",
    "    y='count',\n",
    "    ).set(title = \"Deaths in police encounters over time\")"
   ]
  },
  {
   "cell_type": "markdown",
   "id": "db84aa94",
   "metadata": {},
   "source": [
    "The marked drop in 2020 can be explained by the fact that we have only used data from the first 9 months of 2020, due to our Tweet data ending in September 2020."
   ]
  },
  {
   "cell_type": "markdown",
   "id": "56fa859f",
   "metadata": {},
   "source": [
    "### Victim's Race"
   ]
  },
  {
   "cell_type": "markdown",
   "id": "b33adfa9",
   "metadata": {},
   "source": [
    "Initial summary statistics"
   ]
  },
  {
   "cell_type": "code",
   "execution_count": 163,
   "id": "7bc3623c",
   "metadata": {},
   "outputs": [
    {
     "data": {
      "image/png": "[encoded data removed]",
      "text/plain": [
       "<Figure size 432x288 with 1 Axes>"
      ]
     },
     "metadata": {
      "needs_background": "light"
     },
     "output_type": "display_data"
    }
   ],
   "source": [
    "mpv['race'].value_counts().plot(kind='bar', title=\"Victim's Race Counts\")\n",
    "\n",
    "plt.show()"
   ]
  },
  {
   "cell_type": "markdown",
   "id": "af06135b",
   "metadata": {},
   "source": [
    "We observe that the majority of victims were White, followed by Black, with the Pacific Islander category exhibiting the fewest victim cases. More specifically, in terms of percentages:"
   ]
  },
  {
   "cell_type": "code",
   "execution_count": 164,
   "id": "f60148f9",
   "metadata": {},
   "outputs": [
    {
     "data": {
      "text/plain": [
       "White               0.445179\n",
       "Black               0.254219\n",
       "Hispanic            0.180692\n",
       "Unknown race        0.084150\n",
       "Asian               0.015697\n",
       "Native American     0.014163\n",
       "Pacific Islander    0.005783\n",
       "Name: race, dtype: float64"
      ]
     },
     "execution_count": 164,
     "metadata": {},
     "output_type": "execute_result"
    }
   ],
   "source": [
    "mpv['race'].value_counts() / len(mpv['race'])"
   ]
  },
  {
   "cell_type": "markdown",
   "id": "75903da9",
   "metadata": {},
   "source": [
    "Next, we seek to view race in relation to cause of death. Did certain racial groups experience certain treatment?"
   ]
  },
  {
   "cell_type": "code",
   "execution_count": 165,
   "id": "517455e4",
   "metadata": {},
   "outputs": [
    {
     "data": {
      "text/html": [
       "<div>\n",
       "<style scoped>\n",
       "    .dataframe tbody tr th:only-of-type {\n",
       "        vertical-align: middle;\n",
       "    }\n",
       "\n",
       "    .dataframe tbody tr th {\n",
       "        vertical-align: top;\n",
       "    }\n",
       "\n",
       "    .dataframe thead tr th {\n",
       "        text-align: left;\n",
       "    }\n",
       "\n",
       "    .dataframe thead tr:last-of-type th {\n",
       "        text-align: right;\n",
       "    }\n",
       "</style>\n",
       "<table border=\"1\" class=\"dataframe\">\n",
       "  <thead>\n",
       "    <tr>\n",
       "      <th></th>\n",
       "      <th colspan=\"7\" halign=\"left\">date</th>\n",
       "    </tr>\n",
       "    <tr>\n",
       "      <th>race</th>\n",
       "      <th>Asian</th>\n",
       "      <th>Black</th>\n",
       "      <th>Hispanic</th>\n",
       "      <th>Native American</th>\n",
       "      <th>Pacific Islander</th>\n",
       "      <th>Unknown race</th>\n",
       "      <th>White</th>\n",
       "    </tr>\n",
       "    <tr>\n",
       "      <th>cause_of_death</th>\n",
       "      <th></th>\n",
       "      <th></th>\n",
       "      <th></th>\n",
       "      <th></th>\n",
       "      <th></th>\n",
       "      <th></th>\n",
       "      <th></th>\n",
       "    </tr>\n",
       "  </thead>\n",
       "  <tbody>\n",
       "    <tr>\n",
       "      <th>Asphyxiated</th>\n",
       "      <td>NaN</td>\n",
       "      <td>1.0</td>\n",
       "      <td>1.0</td>\n",
       "      <td>NaN</td>\n",
       "      <td>NaN</td>\n",
       "      <td>1.0</td>\n",
       "      <td>6.0</td>\n",
       "    </tr>\n",
       "    <tr>\n",
       "      <th>Bean bag</th>\n",
       "      <td>NaN</td>\n",
       "      <td>NaN</td>\n",
       "      <td>NaN</td>\n",
       "      <td>NaN</td>\n",
       "      <td>NaN</td>\n",
       "      <td>1.0</td>\n",
       "      <td>1.0</td>\n",
       "    </tr>\n",
       "    <tr>\n",
       "      <th>Beaten</th>\n",
       "      <td>1.0</td>\n",
       "      <td>8.0</td>\n",
       "      <td>8.0</td>\n",
       "      <td>1.0</td>\n",
       "      <td>NaN</td>\n",
       "      <td>2.0</td>\n",
       "      <td>12.0</td>\n",
       "    </tr>\n",
       "    <tr>\n",
       "      <th>Bomb</th>\n",
       "      <td>NaN</td>\n",
       "      <td>1.0</td>\n",
       "      <td>NaN</td>\n",
       "      <td>NaN</td>\n",
       "      <td>NaN</td>\n",
       "      <td>NaN</td>\n",
       "      <td>NaN</td>\n",
       "    </tr>\n",
       "    <tr>\n",
       "      <th>Chemical Agent</th>\n",
       "      <td>NaN</td>\n",
       "      <td>NaN</td>\n",
       "      <td>NaN</td>\n",
       "      <td>NaN</td>\n",
       "      <td>NaN</td>\n",
       "      <td>NaN</td>\n",
       "      <td>1.0</td>\n",
       "    </tr>\n",
       "    <tr>\n",
       "      <th>Gunshot</th>\n",
       "      <td>123.0</td>\n",
       "      <td>1947.0</td>\n",
       "      <td>1400.0</td>\n",
       "      <td>115.0</td>\n",
       "      <td>42.0</td>\n",
       "      <td>670.0</td>\n",
       "      <td>3518.0</td>\n",
       "    </tr>\n",
       "    <tr>\n",
       "      <th>Gunshot,Taser</th>\n",
       "      <td>4.0</td>\n",
       "      <td>68.0</td>\n",
       "      <td>51.0</td>\n",
       "      <td>2.0</td>\n",
       "      <td>5.0</td>\n",
       "      <td>8.0</td>\n",
       "      <td>109.0</td>\n",
       "    </tr>\n",
       "    <tr>\n",
       "      <th>Gunshot,Vehicle</th>\n",
       "      <td>NaN</td>\n",
       "      <td>NaN</td>\n",
       "      <td>NaN</td>\n",
       "      <td>NaN</td>\n",
       "      <td>NaN</td>\n",
       "      <td>NaN</td>\n",
       "      <td>1.0</td>\n",
       "    </tr>\n",
       "    <tr>\n",
       "      <th>Other</th>\n",
       "      <td>NaN</td>\n",
       "      <td>2.0</td>\n",
       "      <td>3.0</td>\n",
       "      <td>NaN</td>\n",
       "      <td>NaN</td>\n",
       "      <td>NaN</td>\n",
       "      <td>NaN</td>\n",
       "    </tr>\n",
       "    <tr>\n",
       "      <th>Pepper Spray</th>\n",
       "      <td>NaN</td>\n",
       "      <td>2.0</td>\n",
       "      <td>1.0</td>\n",
       "      <td>NaN</td>\n",
       "      <td>NaN</td>\n",
       "      <td>NaN</td>\n",
       "      <td>2.0</td>\n",
       "    </tr>\n",
       "    <tr>\n",
       "      <th>Physical Restraint</th>\n",
       "      <td>3.0</td>\n",
       "      <td>16.0</td>\n",
       "      <td>8.0</td>\n",
       "      <td>NaN</td>\n",
       "      <td>1.0</td>\n",
       "      <td>1.0</td>\n",
       "      <td>5.0</td>\n",
       "    </tr>\n",
       "    <tr>\n",
       "      <th>Taser</th>\n",
       "      <td>2.0</td>\n",
       "      <td>94.0</td>\n",
       "      <td>51.0</td>\n",
       "      <td>2.0</td>\n",
       "      <td>1.0</td>\n",
       "      <td>19.0</td>\n",
       "      <td>103.0</td>\n",
       "    </tr>\n",
       "    <tr>\n",
       "      <th>Taser,Physical Restraint</th>\n",
       "      <td>NaN</td>\n",
       "      <td>1.0</td>\n",
       "      <td>NaN</td>\n",
       "      <td>NaN</td>\n",
       "      <td>NaN</td>\n",
       "      <td>NaN</td>\n",
       "      <td>1.0</td>\n",
       "    </tr>\n",
       "    <tr>\n",
       "      <th>Vehicle</th>\n",
       "      <td>NaN</td>\n",
       "      <td>14.0</td>\n",
       "      <td>7.0</td>\n",
       "      <td>NaN</td>\n",
       "      <td>NaN</td>\n",
       "      <td>11.0</td>\n",
       "      <td>12.0</td>\n",
       "    </tr>\n",
       "  </tbody>\n",
       "</table>\n",
       "</div>"
      ],
      "text/plain": [
       "                           date                                   \\\n",
       "race                      Asian   Black Hispanic Native American   \n",
       "cause_of_death                                                     \n",
       "Asphyxiated                 NaN     1.0      1.0             NaN   \n",
       "Bean bag                    NaN     NaN      NaN             NaN   \n",
       "Beaten                      1.0     8.0      8.0             1.0   \n",
       "Bomb                        NaN     1.0      NaN             NaN   \n",
       "Chemical Agent              NaN     NaN      NaN             NaN   \n",
       "Gunshot                   123.0  1947.0   1400.0           115.0   \n",
       "Gunshot,Taser               4.0    68.0     51.0             2.0   \n",
       "Gunshot,Vehicle             NaN     NaN      NaN             NaN   \n",
       "Other                       NaN     2.0      3.0             NaN   \n",
       "Pepper Spray                NaN     2.0      1.0             NaN   \n",
       "Physical Restraint          3.0    16.0      8.0             NaN   \n",
       "Taser                       2.0    94.0     51.0             2.0   \n",
       "Taser,Physical Restraint    NaN     1.0      NaN             NaN   \n",
       "Vehicle                     NaN    14.0      7.0             NaN   \n",
       "\n",
       "                                                                \n",
       "race                     Pacific Islander Unknown race   White  \n",
       "cause_of_death                                                  \n",
       "Asphyxiated                           NaN          1.0     6.0  \n",
       "Bean bag                              NaN          1.0     1.0  \n",
       "Beaten                                NaN          2.0    12.0  \n",
       "Bomb                                  NaN          NaN     NaN  \n",
       "Chemical Agent                        NaN          NaN     1.0  \n",
       "Gunshot                              42.0        670.0  3518.0  \n",
       "Gunshot,Taser                         5.0          8.0   109.0  \n",
       "Gunshot,Vehicle                       NaN          NaN     1.0  \n",
       "Other                                 NaN          NaN     NaN  \n",
       "Pepper Spray                          NaN          NaN     2.0  \n",
       "Physical Restraint                    1.0          1.0     5.0  \n",
       "Taser                                 1.0         19.0   103.0  \n",
       "Taser,Physical Restraint              NaN          NaN     1.0  \n",
       "Vehicle                               NaN         11.0    12.0  "
      ]
     },
     "execution_count": 165,
     "metadata": {},
     "output_type": "execute_result"
    }
   ],
   "source": [
    "race_cd = pd.pivot_table(data=(mpv.groupby(['cause_of_death','race']).count())[['date']],\n",
    "                         index='cause_of_death',columns='race',aggfunc=np.sum)\n",
    "race_cd"
   ]
  },
  {
   "cell_type": "code",
   "execution_count": 166,
   "id": "b7c80ade",
   "metadata": {},
   "outputs": [
    {
     "data": {
      "text/plain": [
       "      race            \n",
       "date  Asian               Gunshot\n",
       "      Black               Gunshot\n",
       "      Hispanic            Gunshot\n",
       "      Native American     Gunshot\n",
       "      Pacific Islander    Gunshot\n",
       "      Unknown race        Gunshot\n",
       "      White               Gunshot\n",
       "dtype: object"
      ]
     },
     "execution_count": 166,
     "metadata": {},
     "output_type": "execute_result"
    }
   ],
   "source": [
    "race_cd.idxmax()"
   ]
  },
  {
   "cell_type": "markdown",
   "id": "90c268e1",
   "metadata": {},
   "source": [
    "Here we actually see that gunshot was the most common cause of death across all races."
   ]
  },
  {
   "cell_type": "markdown",
   "id": "b578e3a9",
   "metadata": {},
   "source": [
    "Next, let's see how victim race relates to year of incident."
   ]
  },
  {
   "cell_type": "code",
   "execution_count": 167,
   "id": "991191c6",
   "metadata": {},
   "outputs": [
    {
     "data": {
      "text/html": [
       "<div>\n",
       "<style scoped>\n",
       "    .dataframe tbody tr th:only-of-type {\n",
       "        vertical-align: middle;\n",
       "    }\n",
       "\n",
       "    .dataframe tbody tr th {\n",
       "        vertical-align: top;\n",
       "    }\n",
       "\n",
       "    .dataframe thead tr th {\n",
       "        text-align: left;\n",
       "    }\n",
       "\n",
       "    .dataframe thead tr:last-of-type th {\n",
       "        text-align: right;\n",
       "    }\n",
       "</style>\n",
       "<table border=\"1\" class=\"dataframe\">\n",
       "  <thead>\n",
       "    <tr>\n",
       "      <th></th>\n",
       "      <th colspan=\"7\" halign=\"left\">date</th>\n",
       "    </tr>\n",
       "    <tr>\n",
       "      <th>race</th>\n",
       "      <th>Asian</th>\n",
       "      <th>Black</th>\n",
       "      <th>Hispanic</th>\n",
       "      <th>Native American</th>\n",
       "      <th>Pacific Islander</th>\n",
       "      <th>Unknown race</th>\n",
       "      <th>White</th>\n",
       "    </tr>\n",
       "    <tr>\n",
       "      <th>year</th>\n",
       "      <th></th>\n",
       "      <th></th>\n",
       "      <th></th>\n",
       "      <th></th>\n",
       "      <th></th>\n",
       "      <th></th>\n",
       "      <th></th>\n",
       "    </tr>\n",
       "  </thead>\n",
       "  <tbody>\n",
       "    <tr>\n",
       "      <th>2013</th>\n",
       "      <td>19</td>\n",
       "      <td>291</td>\n",
       "      <td>169</td>\n",
       "      <td>5</td>\n",
       "      <td>2</td>\n",
       "      <td>171</td>\n",
       "      <td>430</td>\n",
       "    </tr>\n",
       "    <tr>\n",
       "      <th>2014</th>\n",
       "      <td>16</td>\n",
       "      <td>276</td>\n",
       "      <td>183</td>\n",
       "      <td>10</td>\n",
       "      <td>5</td>\n",
       "      <td>79</td>\n",
       "      <td>480</td>\n",
       "    </tr>\n",
       "    <tr>\n",
       "      <th>2015</th>\n",
       "      <td>29</td>\n",
       "      <td>305</td>\n",
       "      <td>195</td>\n",
       "      <td>13</td>\n",
       "      <td>4</td>\n",
       "      <td>13</td>\n",
       "      <td>543</td>\n",
       "    </tr>\n",
       "    <tr>\n",
       "      <th>2016</th>\n",
       "      <td>14</td>\n",
       "      <td>279</td>\n",
       "      <td>195</td>\n",
       "      <td>23</td>\n",
       "      <td>6</td>\n",
       "      <td>20</td>\n",
       "      <td>533</td>\n",
       "    </tr>\n",
       "    <tr>\n",
       "      <th>2017</th>\n",
       "      <td>12</td>\n",
       "      <td>278</td>\n",
       "      <td>226</td>\n",
       "      <td>28</td>\n",
       "      <td>6</td>\n",
       "      <td>33</td>\n",
       "      <td>509</td>\n",
       "    </tr>\n",
       "    <tr>\n",
       "      <th>2018</th>\n",
       "      <td>15</td>\n",
       "      <td>265</td>\n",
       "      <td>213</td>\n",
       "      <td>20</td>\n",
       "      <td>11</td>\n",
       "      <td>108</td>\n",
       "      <td>512</td>\n",
       "    </tr>\n",
       "    <tr>\n",
       "      <th>2019</th>\n",
       "      <td>17</td>\n",
       "      <td>282</td>\n",
       "      <td>206</td>\n",
       "      <td>13</td>\n",
       "      <td>10</td>\n",
       "      <td>119</td>\n",
       "      <td>449</td>\n",
       "    </tr>\n",
       "    <tr>\n",
       "      <th>2020</th>\n",
       "      <td>11</td>\n",
       "      <td>178</td>\n",
       "      <td>144</td>\n",
       "      <td>8</td>\n",
       "      <td>5</td>\n",
       "      <td>170</td>\n",
       "      <td>316</td>\n",
       "    </tr>\n",
       "  </tbody>\n",
       "</table>\n",
       "</div>"
      ],
      "text/plain": [
       "      date                                                                   \n",
       "race Asian Black Hispanic Native American Pacific Islander Unknown race White\n",
       "year                                                                         \n",
       "2013    19   291      169               5                2          171   430\n",
       "2014    16   276      183              10                5           79   480\n",
       "2015    29   305      195              13                4           13   543\n",
       "2016    14   279      195              23                6           20   533\n",
       "2017    12   278      226              28                6           33   509\n",
       "2018    15   265      213              20               11          108   512\n",
       "2019    17   282      206              13               10          119   449\n",
       "2020    11   178      144               8                5          170   316"
      ]
     },
     "execution_count": 167,
     "metadata": {},
     "output_type": "execute_result"
    }
   ],
   "source": [
    "race_year = pd.pivot_table(data=(mpv.groupby(['year','race']).count())[['date']],\n",
    "                         index='year',columns='race',aggfunc=np.sum)\n",
    "race_year"
   ]
  },
  {
   "cell_type": "code",
   "execution_count": 168,
   "id": "0a356f68",
   "metadata": {},
   "outputs": [
    {
     "data": {
      "text/plain": [
       "<AxesSubplot:title={'center':'Time Series of Victim Race from 2013 to 2020'}, xlabel='year', ylabel='count'>"
      ]
     },
     "execution_count": 168,
     "metadata": {},
     "output_type": "execute_result"
    },
    {
     "data": {
      "image/png": "[encoded data removed]",
      "text/plain": [
       "<Figure size 1080x720 with 1 Axes>"
      ]
     },
     "metadata": {
      "needs_background": "light"
     },
     "output_type": "display_data"
    }
   ],
   "source": [
    "race_year.plot(figsize=(15,10),title='Time Series of Victim Race from 2013 to 2020',ylabel='count',\n",
    "            colormap='Accent')"
   ]
  },
  {
   "cell_type": "markdown",
   "id": "de53667b",
   "metadata": {},
   "source": [
    "From this time series, we can observe most notably that the number of white victims saw a drastic decline from 2018 to 2020, and the number of black victims steeply declined from 2019 to 2020. **However, we do see a steady increase in 'unknown race' during these periods of supposed decreases in police brutality, which could suggest that an increased lack of victim race reporting could be the cause of these decreases.**"
   ]
  },
  {
   "cell_type": "markdown",
   "id": "f8f92e2a",
   "metadata": {},
   "source": [
    "Lastly, let's look at victim race in relation to whether they were allegedly armed."
   ]
  },
  {
   "cell_type": "code",
   "execution_count": 169,
   "id": "744ac133",
   "metadata": {},
   "outputs": [
    {
     "data": {
      "text/html": [
       "<div>\n",
       "<style scoped>\n",
       "    .dataframe tbody tr th:only-of-type {\n",
       "        vertical-align: middle;\n",
       "    }\n",
       "\n",
       "    .dataframe tbody tr th {\n",
       "        vertical-align: top;\n",
       "    }\n",
       "\n",
       "    .dataframe thead tr th {\n",
       "        text-align: left;\n",
       "    }\n",
       "\n",
       "    .dataframe thead tr:last-of-type th {\n",
       "        text-align: right;\n",
       "    }\n",
       "</style>\n",
       "<table border=\"1\" class=\"dataframe\">\n",
       "  <thead>\n",
       "    <tr>\n",
       "      <th></th>\n",
       "      <th colspan=\"7\" halign=\"left\">date</th>\n",
       "    </tr>\n",
       "    <tr>\n",
       "      <th>race</th>\n",
       "      <th>Asian</th>\n",
       "      <th>Black</th>\n",
       "      <th>Hispanic</th>\n",
       "      <th>Native American</th>\n",
       "      <th>Pacific Islander</th>\n",
       "      <th>Unknown race</th>\n",
       "      <th>White</th>\n",
       "    </tr>\n",
       "    <tr>\n",
       "      <th>armed</th>\n",
       "      <th></th>\n",
       "      <th></th>\n",
       "      <th></th>\n",
       "      <th></th>\n",
       "      <th></th>\n",
       "      <th></th>\n",
       "      <th></th>\n",
       "    </tr>\n",
       "  </thead>\n",
       "  <tbody>\n",
       "    <tr>\n",
       "      <th>Allegedly Armed</th>\n",
       "      <td>107</td>\n",
       "      <td>1447</td>\n",
       "      <td>1044</td>\n",
       "      <td>78</td>\n",
       "      <td>32</td>\n",
       "      <td>536</td>\n",
       "      <td>2743</td>\n",
       "    </tr>\n",
       "    <tr>\n",
       "      <th>Unarmed/Did Not Have Actual Weapon</th>\n",
       "      <td>13</td>\n",
       "      <td>372</td>\n",
       "      <td>223</td>\n",
       "      <td>13</td>\n",
       "      <td>7</td>\n",
       "      <td>59</td>\n",
       "      <td>490</td>\n",
       "    </tr>\n",
       "    <tr>\n",
       "      <th>Unclear</th>\n",
       "      <td>9</td>\n",
       "      <td>169</td>\n",
       "      <td>154</td>\n",
       "      <td>25</td>\n",
       "      <td>3</td>\n",
       "      <td>75</td>\n",
       "      <td>306</td>\n",
       "    </tr>\n",
       "    <tr>\n",
       "      <th>Vehicle</th>\n",
       "      <td>4</td>\n",
       "      <td>166</td>\n",
       "      <td>110</td>\n",
       "      <td>4</td>\n",
       "      <td>7</td>\n",
       "      <td>43</td>\n",
       "      <td>233</td>\n",
       "    </tr>\n",
       "  </tbody>\n",
       "</table>\n",
       "</div>"
      ],
      "text/plain": [
       "                                    date                                 \\\n",
       "race                               Asian Black Hispanic Native American   \n",
       "armed                                                                     \n",
       "Allegedly Armed                      107  1447     1044              78   \n",
       "Unarmed/Did Not Have Actual Weapon    13   372      223              13   \n",
       "Unclear                                9   169      154              25   \n",
       "Vehicle                                4   166      110               4   \n",
       "\n",
       "                                                                        \n",
       "race                               Pacific Islander Unknown race White  \n",
       "armed                                                                   \n",
       "Allegedly Armed                                  32          536  2743  \n",
       "Unarmed/Did Not Have Actual Weapon                7           59   490  \n",
       "Unclear                                           3           75   306  \n",
       "Vehicle                                           7           43   233  "
      ]
     },
     "execution_count": 169,
     "metadata": {},
     "output_type": "execute_result"
    }
   ],
   "source": [
    "race_arm = pd.pivot_table(data=(mpv.groupby(['armed','race']).count())[['date']],\n",
    "                        index='armed',columns='race',aggfunc=np.sum)\n",
    "race_arm"
   ]
  },
  {
   "cell_type": "code",
   "execution_count": 170,
   "id": "ef25fdd7",
   "metadata": {},
   "outputs": [
    {
     "data": {
      "text/plain": [
       "      race            \n",
       "date  Asian               Allegedly Armed\n",
       "      Black               Allegedly Armed\n",
       "      Hispanic            Allegedly Armed\n",
       "      Native American     Allegedly Armed\n",
       "      Pacific Islander    Allegedly Armed\n",
       "      Unknown race        Allegedly Armed\n",
       "      White               Allegedly Armed\n",
       "dtype: object"
      ]
     },
     "execution_count": 170,
     "metadata": {},
     "output_type": "execute_result"
    }
   ],
   "source": [
    "race_arm.idxmax()"
   ]
  },
  {
   "cell_type": "markdown",
   "id": "e7ccb365",
   "metadata": {},
   "source": [
    "Allegedly armed was the most common case among all races."
   ]
  },
  {
   "cell_type": "markdown",
   "id": "b0cba520",
   "metadata": {},
   "source": [
    "### Officer Charged\n",
    "\n",
    "We can start by looking at the data in the Officer Charged column to see some general statistics. Since the data is categorical, numerical analysis within this column is limited."
   ]
  },
  {
   "cell_type": "code",
   "execution_count": 171,
   "id": "503a2af9",
   "metadata": {},
   "outputs": [
    {
     "data": {
      "text/plain": [
       "Not Charged    8311\n",
       "Charged         160\n",
       "Unknown           2\n",
       "Name: officer_charged, dtype: int64"
      ]
     },
     "execution_count": 171,
     "metadata": {},
     "output_type": "execute_result"
    }
   ],
   "source": [
    "mpv['officer_charged'].value_counts()"
   ]
  },
  {
   "cell_type": "markdown",
   "id": "1176323a",
   "metadata": {},
   "source": [
    "As we can see, the officers were only charged in 160 cases, which is only 1.88% of all cases. Officers did not face any charges in 8311 cases, which represents 98.12% of cases.\n",
    "\n",
    "We can look at the breakdown of when officers were charged grouped by the race of the victim:"
   ]
  },
  {
   "cell_type": "code",
   "execution_count": 172,
   "id": "4d050efc",
   "metadata": {},
   "outputs": [
    {
     "data": {
      "text/html": [
       "<div>\n",
       "<style scoped>\n",
       "    .dataframe tbody tr th:only-of-type {\n",
       "        vertical-align: middle;\n",
       "    }\n",
       "\n",
       "    .dataframe tbody tr th {\n",
       "        vertical-align: top;\n",
       "    }\n",
       "\n",
       "    .dataframe thead th {\n",
       "        text-align: right;\n",
       "    }\n",
       "</style>\n",
       "<table border=\"1\" class=\"dataframe\">\n",
       "  <thead>\n",
       "    <tr style=\"text-align: right;\">\n",
       "      <th></th>\n",
       "      <th></th>\n",
       "      <th>cause_of_death</th>\n",
       "      <th>date</th>\n",
       "      <th>armed</th>\n",
       "      <th>count</th>\n",
       "      <th>year</th>\n",
       "    </tr>\n",
       "    <tr>\n",
       "      <th>officer_charged</th>\n",
       "      <th>race</th>\n",
       "      <th></th>\n",
       "      <th></th>\n",
       "      <th></th>\n",
       "      <th></th>\n",
       "      <th></th>\n",
       "    </tr>\n",
       "  </thead>\n",
       "  <tbody>\n",
       "    <tr>\n",
       "      <th rowspan=\"6\" valign=\"top\">Charged</th>\n",
       "      <th>Asian</th>\n",
       "      <td>2</td>\n",
       "      <td>2</td>\n",
       "      <td>2</td>\n",
       "      <td>2</td>\n",
       "      <td>2</td>\n",
       "    </tr>\n",
       "    <tr>\n",
       "      <th>Black</th>\n",
       "      <td>73</td>\n",
       "      <td>73</td>\n",
       "      <td>73</td>\n",
       "      <td>73</td>\n",
       "      <td>73</td>\n",
       "    </tr>\n",
       "    <tr>\n",
       "      <th>Hispanic</th>\n",
       "      <td>18</td>\n",
       "      <td>18</td>\n",
       "      <td>18</td>\n",
       "      <td>18</td>\n",
       "      <td>18</td>\n",
       "    </tr>\n",
       "    <tr>\n",
       "      <th>Native American</th>\n",
       "      <td>3</td>\n",
       "      <td>3</td>\n",
       "      <td>3</td>\n",
       "      <td>3</td>\n",
       "      <td>3</td>\n",
       "    </tr>\n",
       "    <tr>\n",
       "      <th>Pacific Islander</th>\n",
       "      <td>2</td>\n",
       "      <td>2</td>\n",
       "      <td>2</td>\n",
       "      <td>2</td>\n",
       "      <td>2</td>\n",
       "    </tr>\n",
       "    <tr>\n",
       "      <th>White</th>\n",
       "      <td>62</td>\n",
       "      <td>62</td>\n",
       "      <td>62</td>\n",
       "      <td>62</td>\n",
       "      <td>62</td>\n",
       "    </tr>\n",
       "    <tr>\n",
       "      <th rowspan=\"7\" valign=\"top\">Not Charged</th>\n",
       "      <th>Asian</th>\n",
       "      <td>131</td>\n",
       "      <td>131</td>\n",
       "      <td>131</td>\n",
       "      <td>131</td>\n",
       "      <td>131</td>\n",
       "    </tr>\n",
       "    <tr>\n",
       "      <th>Black</th>\n",
       "      <td>2080</td>\n",
       "      <td>2080</td>\n",
       "      <td>2080</td>\n",
       "      <td>2080</td>\n",
       "      <td>2080</td>\n",
       "    </tr>\n",
       "    <tr>\n",
       "      <th>Hispanic</th>\n",
       "      <td>1512</td>\n",
       "      <td>1513</td>\n",
       "      <td>1513</td>\n",
       "      <td>1513</td>\n",
       "      <td>1513</td>\n",
       "    </tr>\n",
       "    <tr>\n",
       "      <th>Native American</th>\n",
       "      <td>117</td>\n",
       "      <td>117</td>\n",
       "      <td>117</td>\n",
       "      <td>117</td>\n",
       "      <td>117</td>\n",
       "    </tr>\n",
       "    <tr>\n",
       "      <th>Pacific Islander</th>\n",
       "      <td>47</td>\n",
       "      <td>47</td>\n",
       "      <td>47</td>\n",
       "      <td>47</td>\n",
       "      <td>47</td>\n",
       "    </tr>\n",
       "    <tr>\n",
       "      <th>Unknown race</th>\n",
       "      <td>713</td>\n",
       "      <td>713</td>\n",
       "      <td>713</td>\n",
       "      <td>713</td>\n",
       "      <td>713</td>\n",
       "    </tr>\n",
       "    <tr>\n",
       "      <th>White</th>\n",
       "      <td>3709</td>\n",
       "      <td>3710</td>\n",
       "      <td>3710</td>\n",
       "      <td>3710</td>\n",
       "      <td>3710</td>\n",
       "    </tr>\n",
       "    <tr>\n",
       "      <th>Unknown</th>\n",
       "      <th>Black</th>\n",
       "      <td>1</td>\n",
       "      <td>1</td>\n",
       "      <td>1</td>\n",
       "      <td>1</td>\n",
       "      <td>1</td>\n",
       "    </tr>\n",
       "  </tbody>\n",
       "</table>\n",
       "</div>"
      ],
      "text/plain": [
       "                                  cause_of_death  date  armed  count  year\n",
       "officer_charged race                                                      \n",
       "Charged         Asian                          2     2      2      2     2\n",
       "                Black                         73    73     73     73    73\n",
       "                Hispanic                      18    18     18     18    18\n",
       "                Native American                3     3      3      3     3\n",
       "                Pacific Islander               2     2      2      2     2\n",
       "                White                         62    62     62     62    62\n",
       "Not Charged     Asian                        131   131    131    131   131\n",
       "                Black                       2080  2080   2080   2080  2080\n",
       "                Hispanic                    1512  1513   1513   1513  1513\n",
       "                Native American              117   117    117    117   117\n",
       "                Pacific Islander              47    47     47     47    47\n",
       "                Unknown race                 713   713    713    713   713\n",
       "                White                       3709  3710   3710   3710  3710\n",
       "Unknown         Black                          1     1      1      1     1"
      ]
     },
     "execution_count": 172,
     "metadata": {},
     "output_type": "execute_result"
    }
   ],
   "source": [
    "oc_by_race = mpv.groupby(['officer_charged', 'race']).count()\n",
    "oc_by_race"
   ]
  },
  {
   "cell_type": "code",
   "execution_count": 173,
   "id": "0a3d374d",
   "metadata": {},
   "outputs": [
    {
     "data": {
      "text/html": [
       "<div>\n",
       "<style scoped>\n",
       "    .dataframe tbody tr th:only-of-type {\n",
       "        vertical-align: middle;\n",
       "    }\n",
       "\n",
       "    .dataframe tbody tr th {\n",
       "        vertical-align: top;\n",
       "    }\n",
       "\n",
       "    .dataframe thead th {\n",
       "        text-align: right;\n",
       "    }\n",
       "</style>\n",
       "<table border=\"1\" class=\"dataframe\">\n",
       "  <thead>\n",
       "    <tr style=\"text-align: right;\">\n",
       "      <th>officer_charged</th>\n",
       "      <th>Charged</th>\n",
       "      <th>Not Charged</th>\n",
       "      <th>Unknown</th>\n",
       "      <th>Prop. Charged</th>\n",
       "    </tr>\n",
       "    <tr>\n",
       "      <th>race</th>\n",
       "      <th></th>\n",
       "      <th></th>\n",
       "      <th></th>\n",
       "      <th></th>\n",
       "    </tr>\n",
       "  </thead>\n",
       "  <tbody>\n",
       "    <tr>\n",
       "      <th>Asian</th>\n",
       "      <td>2</td>\n",
       "      <td>131</td>\n",
       "      <td>0</td>\n",
       "      <td>1.503759</td>\n",
       "    </tr>\n",
       "    <tr>\n",
       "      <th>Black</th>\n",
       "      <td>73</td>\n",
       "      <td>2080</td>\n",
       "      <td>1</td>\n",
       "      <td>3.389044</td>\n",
       "    </tr>\n",
       "    <tr>\n",
       "      <th>Hispanic</th>\n",
       "      <td>18</td>\n",
       "      <td>1513</td>\n",
       "      <td>0</td>\n",
       "      <td>1.175702</td>\n",
       "    </tr>\n",
       "    <tr>\n",
       "      <th>Native American</th>\n",
       "      <td>3</td>\n",
       "      <td>117</td>\n",
       "      <td>0</td>\n",
       "      <td>2.500000</td>\n",
       "    </tr>\n",
       "    <tr>\n",
       "      <th>Pacific Islander</th>\n",
       "      <td>2</td>\n",
       "      <td>47</td>\n",
       "      <td>0</td>\n",
       "      <td>4.081633</td>\n",
       "    </tr>\n",
       "    <tr>\n",
       "      <th>Unknown race</th>\n",
       "      <td>0</td>\n",
       "      <td>713</td>\n",
       "      <td>0</td>\n",
       "      <td>0.000000</td>\n",
       "    </tr>\n",
       "    <tr>\n",
       "      <th>White</th>\n",
       "      <td>62</td>\n",
       "      <td>3710</td>\n",
       "      <td>0</td>\n",
       "      <td>1.643690</td>\n",
       "    </tr>\n",
       "  </tbody>\n",
       "</table>\n",
       "</div>"
      ],
      "text/plain": [
       "officer_charged   Charged  Not Charged  Unknown  Prop. Charged\n",
       "race                                                          \n",
       "Asian                   2          131        0       1.503759\n",
       "Black                  73         2080        1       3.389044\n",
       "Hispanic               18         1513        0       1.175702\n",
       "Native American         3          117        0       2.500000\n",
       "Pacific Islander        2           47        0       4.081633\n",
       "Unknown race            0          713        0       0.000000\n",
       "White                  62         3710        0       1.643690"
      ]
     },
     "execution_count": 173,
     "metadata": {},
     "output_type": "execute_result"
    }
   ],
   "source": [
    "obr_pvt_table = oc_by_race.pivot_table(index=['race'], columns='officer_charged', values='count', fill_value=0, aggfunc=np.sum)\n",
    "obr_pvt_table['Prop. Charged'] = 100 * obr_pvt_table['Charged'] / (obr_pvt_table['Charged'] + obr_pvt_table['Not Charged'] + obr_pvt_table['Unknown'])\n",
    "obr_pvt_table"
   ]
  },
  {
   "cell_type": "markdown",
   "id": "ef0f3f3f",
   "metadata": {},
   "source": [
    "We can graph this data in a stacked bar chart:"
   ]
  },
  {
   "cell_type": "code",
   "execution_count": 174,
   "id": "2d1984d8",
   "metadata": {},
   "outputs": [
    {
     "data": {
      "image/png": "[encoded data removed]",
      "text/plain": [
       "<Figure size 936x576 with 1 Axes>"
      ]
     },
     "metadata": {
      "needs_background": "light"
     },
     "output_type": "display_data"
    }
   ],
   "source": [
    "obr_pvt_table.plot.bar(figsize=(13,8), stacked=True)\n",
    "\n",
    "plt.ylabel('Race', fontsize=18)\n",
    "plt.xlabel('Officer Charged', fontsize=18)\n",
    "\n",
    "plt.xticks(fontsize=14)\n",
    "plt.yticks(fontsize=14)\n",
    "\n",
    "plt.show()\n",
    "# Not very useful due to small quantities"
   ]
  },
  {
   "cell_type": "code",
   "execution_count": 175,
   "id": "90dd5b10",
   "metadata": {},
   "outputs": [],
   "source": [
    "# if 'count' in mpv.columns:\n",
    "#     mpv.drop('count', axis=1, inplace=True)"
   ]
  },
  {
   "cell_type": "markdown",
   "id": "48b16f98",
   "metadata": {},
   "source": [
    "We can also see how the proportion of of cases in which officers were charged has changed over time."
   ]
  },
  {
   "cell_type": "code",
   "execution_count": 176,
   "id": "d8870c75",
   "metadata": {},
   "outputs": [
    {
     "data": {
      "text/html": [
       "<div>\n",
       "<style scoped>\n",
       "    .dataframe tbody tr th:only-of-type {\n",
       "        vertical-align: middle;\n",
       "    }\n",
       "\n",
       "    .dataframe tbody tr th {\n",
       "        vertical-align: top;\n",
       "    }\n",
       "\n",
       "    .dataframe thead th {\n",
       "        text-align: right;\n",
       "    }\n",
       "</style>\n",
       "<table border=\"1\" class=\"dataframe\">\n",
       "  <thead>\n",
       "    <tr style=\"text-align: right;\">\n",
       "      <th>officer_charged</th>\n",
       "      <th>Charged</th>\n",
       "      <th>Not Charged</th>\n",
       "      <th>Unknown</th>\n",
       "      <th>Prop. Charged</th>\n",
       "    </tr>\n",
       "    <tr>\n",
       "      <th>year</th>\n",
       "      <th></th>\n",
       "      <th></th>\n",
       "      <th></th>\n",
       "      <th></th>\n",
       "    </tr>\n",
       "  </thead>\n",
       "  <tbody>\n",
       "    <tr>\n",
       "      <th>2013</th>\n",
       "      <td>19</td>\n",
       "      <td>1068</td>\n",
       "      <td>0</td>\n",
       "      <td>1.747930</td>\n",
       "    </tr>\n",
       "    <tr>\n",
       "      <th>2014</th>\n",
       "      <td>19</td>\n",
       "      <td>1029</td>\n",
       "      <td>1</td>\n",
       "      <td>1.811249</td>\n",
       "    </tr>\n",
       "    <tr>\n",
       "      <th>2015</th>\n",
       "      <td>25</td>\n",
       "      <td>1077</td>\n",
       "      <td>0</td>\n",
       "      <td>2.268603</td>\n",
       "    </tr>\n",
       "    <tr>\n",
       "      <th>2016</th>\n",
       "      <td>20</td>\n",
       "      <td>1050</td>\n",
       "      <td>0</td>\n",
       "      <td>1.869159</td>\n",
       "    </tr>\n",
       "    <tr>\n",
       "      <th>2017</th>\n",
       "      <td>19</td>\n",
       "      <td>1073</td>\n",
       "      <td>0</td>\n",
       "      <td>1.739927</td>\n",
       "    </tr>\n",
       "    <tr>\n",
       "      <th>2018</th>\n",
       "      <td>16</td>\n",
       "      <td>1128</td>\n",
       "      <td>0</td>\n",
       "      <td>1.398601</td>\n",
       "    </tr>\n",
       "    <tr>\n",
       "      <th>2019</th>\n",
       "      <td>26</td>\n",
       "      <td>1070</td>\n",
       "      <td>0</td>\n",
       "      <td>2.372263</td>\n",
       "    </tr>\n",
       "    <tr>\n",
       "      <th>2020</th>\n",
       "      <td>16</td>\n",
       "      <td>816</td>\n",
       "      <td>1</td>\n",
       "      <td>1.920768</td>\n",
       "    </tr>\n",
       "  </tbody>\n",
       "</table>\n",
       "</div>"
      ],
      "text/plain": [
       "officer_charged  Charged  Not Charged  Unknown  Prop. Charged\n",
       "year                                                         \n",
       "2013                  19         1068        0       1.747930\n",
       "2014                  19         1029        1       1.811249\n",
       "2015                  25         1077        0       2.268603\n",
       "2016                  20         1050        0       1.869159\n",
       "2017                  19         1073        0       1.739927\n",
       "2018                  16         1128        0       1.398601\n",
       "2019                  26         1070        0       2.372263\n",
       "2020                  16          816        1       1.920768"
      ]
     },
     "execution_count": 176,
     "metadata": {},
     "output_type": "execute_result"
    }
   ],
   "source": [
    "oc_by_time = mpv.groupby(['officer_charged', 'year']).count()\n",
    "obt_pvt_table = oc_by_time.pivot_table(index=['year'], columns='officer_charged', values='count', fill_value=0, aggfunc=np.sum)\n",
    "obt_pvt_table['Prop. Charged'] = 100 * obt_pvt_table['Charged'] / (obt_pvt_table['Charged'] + obt_pvt_table['Not Charged'] + obt_pvt_table['Unknown'])\n",
    "obt_pvt_table"
   ]
  },
  {
   "cell_type": "markdown",
   "id": "c38bf74a",
   "metadata": {},
   "source": [
    "Graphing this data to see any trends in the proportion of officers being charged over time:"
   ]
  },
  {
   "cell_type": "code",
   "execution_count": 177,
   "id": "e18adde8",
   "metadata": {},
   "outputs": [
    {
     "data": {
      "image/png": "[encoded data removed]",
      "text/plain": [
       "<Figure size 936x576 with 1 Axes>"
      ]
     },
     "metadata": {
      "needs_background": "light"
     },
     "output_type": "display_data"
    }
   ],
   "source": [
    "plt.figure(figsize=(13, 8))\n",
    "\n",
    "prop_charged_vs_time = sns.lineplot(\n",
    "    data=obt_pvt_table,\n",
    "    x='year',\n",
    "    y=\"Prop. Charged\",\n",
    "    ).set(title = \"Proportion of Officers being charged over time\")"
   ]
  },
  {
   "cell_type": "markdown",
   "id": "e25b73d9",
   "metadata": {},
   "source": [
    "We can also look at the race makeup of the victims in the cases where the officers were charged."
   ]
  },
  {
   "cell_type": "code",
   "execution_count": 178,
   "id": "7f302417",
   "metadata": {},
   "outputs": [
    {
     "data": {
      "text/html": [
       "<div>\n",
       "<style scoped>\n",
       "    .dataframe tbody tr th:only-of-type {\n",
       "        vertical-align: middle;\n",
       "    }\n",
       "\n",
       "    .dataframe tbody tr th {\n",
       "        vertical-align: top;\n",
       "    }\n",
       "\n",
       "    .dataframe thead th {\n",
       "        text-align: right;\n",
       "    }\n",
       "</style>\n",
       "<table border=\"1\" class=\"dataframe\">\n",
       "  <thead>\n",
       "    <tr style=\"text-align: right;\">\n",
       "      <th>officer_charged</th>\n",
       "      <th>Charged</th>\n",
       "      <th>Proportion</th>\n",
       "    </tr>\n",
       "    <tr>\n",
       "      <th>race</th>\n",
       "      <th></th>\n",
       "      <th></th>\n",
       "    </tr>\n",
       "  </thead>\n",
       "  <tbody>\n",
       "    <tr>\n",
       "      <th>Asian</th>\n",
       "      <td>2</td>\n",
       "      <td>1.250</td>\n",
       "    </tr>\n",
       "    <tr>\n",
       "      <th>Black</th>\n",
       "      <td>73</td>\n",
       "      <td>45.625</td>\n",
       "    </tr>\n",
       "    <tr>\n",
       "      <th>Hispanic</th>\n",
       "      <td>18</td>\n",
       "      <td>11.250</td>\n",
       "    </tr>\n",
       "    <tr>\n",
       "      <th>Native American</th>\n",
       "      <td>3</td>\n",
       "      <td>1.875</td>\n",
       "    </tr>\n",
       "    <tr>\n",
       "      <th>Pacific Islander</th>\n",
       "      <td>2</td>\n",
       "      <td>1.250</td>\n",
       "    </tr>\n",
       "    <tr>\n",
       "      <th>White</th>\n",
       "      <td>62</td>\n",
       "      <td>38.750</td>\n",
       "    </tr>\n",
       "  </tbody>\n",
       "</table>\n",
       "</div>"
      ],
      "text/plain": [
       "officer_charged   Charged  Proportion\n",
       "race                                 \n",
       "Asian                   2       1.250\n",
       "Black                  73      45.625\n",
       "Hispanic               18      11.250\n",
       "Native American         3       1.875\n",
       "Pacific Islander        2       1.250\n",
       "White                  62      38.750"
      ]
     },
     "execution_count": 178,
     "metadata": {},
     "output_type": "execute_result"
    }
   ],
   "source": [
    "charged_by_race = oc_by_race.drop({'Not Charged', 'Unknown'})\n",
    "cbr_pvt_table = charged_by_race.pivot_table(index=['race'], columns='officer_charged', values='count', fill_value=0, aggfunc=np.sum)\n",
    "cbr_pvt_table['Proportion'] = 100 * cbr_pvt_table['Charged'] / cbr_pvt_table['Charged'].sum()\n",
    "cbr_pvt_table"
   ]
  },
  {
   "cell_type": "markdown",
   "id": "ea3c0706",
   "metadata": {},
   "source": [
    "Let's make a pie chart of this, and compare it to a pie chart of the proportion of races in the US."
   ]
  },
  {
   "cell_type": "code",
   "execution_count": 179,
   "id": "487328bf",
   "metadata": {},
   "outputs": [
    {
     "data": {
      "image/png": "[encoded data removed]",
      "text/plain": [
       "<Figure size 1080x720 with 2 Axes>"
      ]
     },
     "metadata": {},
     "output_type": "display_data"
    }
   ],
   "source": [
    "# Source: July 2021 Estimates by US Census Bureau, link: https://www.census.gov/quickfacts/fact/table/US/PST045221\n",
    "cbr_pvt_table['USRace Prop.'] = (5.9, 13.4, 18.5, 1.3, 0.2, 60.5)\n",
    "cbr_pvt_table.drop('Charged', axis=1).plot.pie(figsize=(15,10), subplots=True, ylabel='')\n",
    "\n",
    "plt.show()"
   ]
  },
  {
   "cell_type": "markdown",
   "id": "5e147454",
   "metadata": {},
   "source": [
    "As we can see, the charts show there is a large disparity between the racial makeup of the US and the racial makeup of police killing victims. Specifically, people of color, especially black Americans, make up nearly half of all deaths despite making up under one-seventh of the US population. Despite white Americans making up over 60% of the population, they account for under 40% of the deaths in police encounters.\n",
    "\n",
    "We can adjust the numbers to account for this by changing the data from raw values to deaths per 1,000,000 population in the US. This way, we will be able to see the proportion of the different races while accounting for their non-uniformity in the US population."
   ]
  },
  {
   "cell_type": "code",
   "execution_count": 180,
   "id": "8fb57009",
   "metadata": {},
   "outputs": [
    {
     "data": {
      "text/html": [
       "<div>\n",
       "<style scoped>\n",
       "    .dataframe tbody tr th:only-of-type {\n",
       "        vertical-align: middle;\n",
       "    }\n",
       "\n",
       "    .dataframe tbody tr th {\n",
       "        vertical-align: top;\n",
       "    }\n",
       "\n",
       "    .dataframe thead th {\n",
       "        text-align: right;\n",
       "    }\n",
       "</style>\n",
       "<table border=\"1\" class=\"dataframe\">\n",
       "  <thead>\n",
       "    <tr style=\"text-align: right;\">\n",
       "      <th>officer_charged</th>\n",
       "      <th>Charged</th>\n",
       "      <th>Proportion</th>\n",
       "      <th>USRace Prop.</th>\n",
       "      <th>Population-adjusted Count (per 1,000,000 US Pop)</th>\n",
       "    </tr>\n",
       "    <tr>\n",
       "      <th>race</th>\n",
       "      <th></th>\n",
       "      <th></th>\n",
       "      <th></th>\n",
       "      <th></th>\n",
       "    </tr>\n",
       "  </thead>\n",
       "  <tbody>\n",
       "    <tr>\n",
       "      <th>Asian</th>\n",
       "      <td>2</td>\n",
       "      <td>1.250</td>\n",
       "      <td>5.9</td>\n",
       "      <td>0.338983</td>\n",
       "    </tr>\n",
       "    <tr>\n",
       "      <th>Black</th>\n",
       "      <td>73</td>\n",
       "      <td>45.625</td>\n",
       "      <td>13.4</td>\n",
       "      <td>5.447761</td>\n",
       "    </tr>\n",
       "    <tr>\n",
       "      <th>Hispanic</th>\n",
       "      <td>18</td>\n",
       "      <td>11.250</td>\n",
       "      <td>18.5</td>\n",
       "      <td>0.972973</td>\n",
       "    </tr>\n",
       "    <tr>\n",
       "      <th>Native American</th>\n",
       "      <td>3</td>\n",
       "      <td>1.875</td>\n",
       "      <td>1.3</td>\n",
       "      <td>2.307692</td>\n",
       "    </tr>\n",
       "    <tr>\n",
       "      <th>Pacific Islander</th>\n",
       "      <td>2</td>\n",
       "      <td>1.250</td>\n",
       "      <td>0.2</td>\n",
       "      <td>10.000000</td>\n",
       "    </tr>\n",
       "    <tr>\n",
       "      <th>White</th>\n",
       "      <td>62</td>\n",
       "      <td>38.750</td>\n",
       "      <td>60.5</td>\n",
       "      <td>1.024793</td>\n",
       "    </tr>\n",
       "  </tbody>\n",
       "</table>\n",
       "</div>"
      ],
      "text/plain": [
       "officer_charged   Charged  Proportion  USRace Prop.  \\\n",
       "race                                                  \n",
       "Asian                   2       1.250           5.9   \n",
       "Black                  73      45.625          13.4   \n",
       "Hispanic               18      11.250          18.5   \n",
       "Native American         3       1.875           1.3   \n",
       "Pacific Islander        2       1.250           0.2   \n",
       "White                  62      38.750          60.5   \n",
       "\n",
       "officer_charged   Population-adjusted Count (per 1,000,000 US Pop)  \n",
       "race                                                                \n",
       "Asian                                                     0.338983  \n",
       "Black                                                     5.447761  \n",
       "Hispanic                                                  0.972973  \n",
       "Native American                                           2.307692  \n",
       "Pacific Islander                                         10.000000  \n",
       "White                                                     1.024793  "
      ]
     },
     "execution_count": 180,
     "metadata": {},
     "output_type": "execute_result"
    }
   ],
   "source": [
    "cbr_pvt_table['Population-adjusted Count (per 1,000,000 US Pop)'] = 1000000 * cbr_pvt_table['Charged'] / tuple([k*1000000 for k in (5.9, 13.4, 18.5, 1.3, 0.2, 60.5)])\n",
    "cbr_pvt_table"
   ]
  },
  {
   "cell_type": "code",
   "execution_count": 181,
   "id": "9049e340",
   "metadata": {},
   "outputs": [
    {
     "data": {
      "image/png": "[encoded data removed]",
      "text/plain": [
       "<Figure size 1080x720 with 3 Axes>"
      ]
     },
     "metadata": {},
     "output_type": "display_data"
    }
   ],
   "source": [
    "cbr_pvt_table.drop('Charged', axis=1).plot.pie(figsize=(15,10), subplots=True, ylabel='')\n",
    "\n",
    "plt.show()"
   ]
  },
  {
   "cell_type": "markdown",
   "id": "4118ff63",
   "metadata": {},
   "source": [
    "As we can see, the population-adjusted chart on the right shows the true proportion of the races of the victims, and they are far from uniform. Pacific Islanders, Black people and Native Americans are the most likely to be victims, while White and Asian Americans are the least likely."
   ]
  },
  {
   "cell_type": "code",
   "execution_count": 182,
   "id": "b89fefc2",
   "metadata": {},
   "outputs": [
    {
     "data": {
      "image/png": "[encoded data removed]",
      "text/plain": [
       "<Figure size 720x720 with 1 Axes>"
      ]
     },
     "metadata": {},
     "output_type": "display_data"
    }
   ],
   "source": [
    "label = []\n",
    "count = []\n",
    "for i, j in mpv.groupby('armed'):\n",
    "    label.append(i)\n",
    "    count.append(j.shape[0])\n",
    "fig = plt.figure(figsize=(10, 10))\n",
    "colors = sns.color_palette('pastel')[0:13]\n",
    "explode = (0.05, 0.05, 0.05, 0.05)\n",
    "plt.pie(count, labels = label, colors=colors,autopct='%1.1f%%',startangle=90, pctdistance=0.85, explode = explode)\n",
    "centre_circle = plt.Circle((0,0),0.70,fc='white')\n",
    "fig = plt.gcf()\n",
    "fig.gca().add_artist(centre_circle) \n",
    "plt.tight_layout()\n",
    "plt.legend()\n",
    "plt.title(\"Proportion of armed\",fontsize=30)\n",
    "plt.show()"
   ]
  },
  {
   "cell_type": "code",
   "execution_count": 183,
   "id": "292d274d",
   "metadata": {},
   "outputs": [
    {
     "data": {
      "image/png": "[encoded data removed]",
      "text/plain": [
       "<Figure size 1080x1080 with 1 Axes>"
      ]
     },
     "metadata": {
      "needs_background": "light"
     },
     "output_type": "display_data"
    }
   ],
   "source": [
    "armed = mpv[mpv['armed'] == 'Allegedly Armed']\n",
    "fig = plt.figure(figsize=(15, 15))\n",
    "sns.countplot(x=\"cause_of_death\", data=armed, order = armed['cause_of_death'].unique())\n",
    "plt.title(\"Victims' death cause who are allegedly armed\",fontsize=20)\n",
    "plt.show()"
   ]
  },
  {
   "cell_type": "code",
   "execution_count": 184,
   "id": "4c4d5f92",
   "metadata": {},
   "outputs": [
    {
     "data": {
      "image/png": "[encoded data removed]",
      "text/plain": [
       "<Figure size 1080x1080 with 1 Axes>"
      ]
     },
     "metadata": {
      "needs_background": "light"
     },
     "output_type": "display_data"
    }
   ],
   "source": [
    "armed = mpv[mpv['armed'] == 'Unarmed/Did Not Have Actual Weapon']\n",
    "fig = plt.figure(figsize=(15, 15))\n",
    "sns.countplot(x=\"cause_of_death\", data=armed, order = armed['cause_of_death'].unique())\n",
    "plt.title(\"Victims' death cause who are unarmed\",fontsize=20)\n",
    "plt.show()"
   ]
  },
  {
   "cell_type": "code",
   "execution_count": 185,
   "id": "c5e63129",
   "metadata": {},
   "outputs": [
    {
     "data": {
      "image/png": "[encoded data removed]",
      "text/plain": [
       "<Figure size 1080x1080 with 1 Axes>"
      ]
     },
     "metadata": {
      "needs_background": "light"
     },
     "output_type": "display_data"
    }
   ],
   "source": [
    "armed = mpv[mpv['armed'] == 'Allegedly Armed']\n",
    "fig = plt.figure(figsize=(15, 15))\n",
    "sns.countplot(x=\"race\", data=armed, order = armed['race'].unique())\n",
    "plt.title(\"Armed Victims, By Race\",fontsize=20)\n",
    "plt.show()"
   ]
  },
  {
   "cell_type": "code",
   "execution_count": 186,
   "id": "b838d7ea",
   "metadata": {},
   "outputs": [
    {
     "data": {
      "image/png": "[encoded data removed]",
      "text/plain": [
       "<Figure size 1080x1080 with 1 Axes>"
      ]
     },
     "metadata": {
      "needs_background": "light"
     },
     "output_type": "display_data"
    }
   ],
   "source": [
    "armed = mpv[mpv['armed'] == 'Unarmed/Did Not Have Actual Weapon']\n",
    "fig = plt.figure(figsize=(15, 15))\n",
    "sns.countplot(x=\"race\", data=armed, order = armed['race'].unique())\n",
    "plt.title(\"Unarmed Victims, By Race\",fontsize=20)\n",
    "plt.show()"
   ]
  },
  {
   "cell_type": "code",
   "execution_count": 36,
   "id": "50939e59",
   "metadata": {},
   "outputs": [
    {
     "data": {
      "text/html": [
       "<div>\n",
       "<style scoped>\n",
       "    .dataframe tbody tr th:only-of-type {\n",
       "        vertical-align: middle;\n",
       "    }\n",
       "\n",
       "    .dataframe tbody tr th {\n",
       "        vertical-align: top;\n",
       "    }\n",
       "\n",
       "    .dataframe thead th {\n",
       "        text-align: right;\n",
       "    }\n",
       "</style>\n",
       "<table border=\"1\" class=\"dataframe\">\n",
       "  <thead>\n",
       "    <tr style=\"text-align: right;\">\n",
       "      <th></th>\n",
       "      <th>cause_of_death</th>\n",
       "      <th>race</th>\n",
       "      <th>date</th>\n",
       "      <th>officer_charged</th>\n",
       "      <th>armed</th>\n",
       "      <th>yr</th>\n",
       "      <th>count</th>\n",
       "      <th>year</th>\n",
       "    </tr>\n",
       "  </thead>\n",
       "  <tbody>\n",
       "    <tr>\n",
       "      <th>1602</th>\n",
       "      <td>Gunshot</td>\n",
       "      <td>White</td>\n",
       "      <td>2020-09-30</td>\n",
       "      <td>Not Charged</td>\n",
       "      <td>Allegedly Armed</td>\n",
       "      <td>2020</td>\n",
       "      <td>1</td>\n",
       "      <td>2020</td>\n",
       "    </tr>\n",
       "    <tr>\n",
       "      <th>1603</th>\n",
       "      <td>Gunshot</td>\n",
       "      <td>Black</td>\n",
       "      <td>2020-09-30</td>\n",
       "      <td>Not Charged</td>\n",
       "      <td>Unclear</td>\n",
       "      <td>2020</td>\n",
       "      <td>1</td>\n",
       "      <td>2020</td>\n",
       "    </tr>\n",
       "    <tr>\n",
       "      <th>1604</th>\n",
       "      <td>Gunshot</td>\n",
       "      <td>Unknown race</td>\n",
       "      <td>2020-09-29</td>\n",
       "      <td>Not Charged</td>\n",
       "      <td>Allegedly Armed</td>\n",
       "      <td>2020</td>\n",
       "      <td>1</td>\n",
       "      <td>2020</td>\n",
       "    </tr>\n",
       "    <tr>\n",
       "      <th>1605</th>\n",
       "      <td>Gunshot</td>\n",
       "      <td>Black</td>\n",
       "      <td>2020-09-28</td>\n",
       "      <td>Not Charged</td>\n",
       "      <td>Allegedly Armed</td>\n",
       "      <td>2020</td>\n",
       "      <td>1</td>\n",
       "      <td>2020</td>\n",
       "    </tr>\n",
       "    <tr>\n",
       "      <th>1606</th>\n",
       "      <td>Gunshot</td>\n",
       "      <td>Hispanic</td>\n",
       "      <td>2020-09-28</td>\n",
       "      <td>Not Charged</td>\n",
       "      <td>Allegedly Armed</td>\n",
       "      <td>2020</td>\n",
       "      <td>1</td>\n",
       "      <td>2020</td>\n",
       "    </tr>\n",
       "    <tr>\n",
       "      <th>...</th>\n",
       "      <td>...</td>\n",
       "      <td>...</td>\n",
       "      <td>...</td>\n",
       "      <td>...</td>\n",
       "      <td>...</td>\n",
       "      <td>...</td>\n",
       "      <td>...</td>\n",
       "      <td>...</td>\n",
       "    </tr>\n",
       "    <tr>\n",
       "      <th>10070</th>\n",
       "      <td>Gunshot</td>\n",
       "      <td>Hispanic</td>\n",
       "      <td>2013-01-01</td>\n",
       "      <td>Not Charged</td>\n",
       "      <td>Unclear</td>\n",
       "      <td>2013</td>\n",
       "      <td>1</td>\n",
       "      <td>2013</td>\n",
       "    </tr>\n",
       "    <tr>\n",
       "      <th>10071</th>\n",
       "      <td>Gunshot</td>\n",
       "      <td>Black</td>\n",
       "      <td>2013-01-01</td>\n",
       "      <td>Not Charged</td>\n",
       "      <td>Allegedly Armed</td>\n",
       "      <td>2013</td>\n",
       "      <td>1</td>\n",
       "      <td>2013</td>\n",
       "    </tr>\n",
       "    <tr>\n",
       "      <th>10072</th>\n",
       "      <td>Gunshot</td>\n",
       "      <td>White</td>\n",
       "      <td>2013-01-01</td>\n",
       "      <td>Not Charged</td>\n",
       "      <td>Allegedly Armed</td>\n",
       "      <td>2013</td>\n",
       "      <td>1</td>\n",
       "      <td>2013</td>\n",
       "    </tr>\n",
       "    <tr>\n",
       "      <th>10073</th>\n",
       "      <td>Gunshot</td>\n",
       "      <td>Hispanic</td>\n",
       "      <td>2013-01-01</td>\n",
       "      <td>Not Charged</td>\n",
       "      <td>Allegedly Armed</td>\n",
       "      <td>2013</td>\n",
       "      <td>1</td>\n",
       "      <td>2013</td>\n",
       "    </tr>\n",
       "    <tr>\n",
       "      <th>10074</th>\n",
       "      <td>Taser</td>\n",
       "      <td>White</td>\n",
       "      <td>2013-01-01</td>\n",
       "      <td>Not Charged</td>\n",
       "      <td>Unarmed/Did Not Have Actual Weapon</td>\n",
       "      <td>2013</td>\n",
       "      <td>1</td>\n",
       "      <td>2013</td>\n",
       "    </tr>\n",
       "  </tbody>\n",
       "</table>\n",
       "<p>8473 rows × 8 columns</p>\n",
       "</div>"
      ],
      "text/plain": [
       "      cause_of_death          race       date officer_charged  \\\n",
       "1602         Gunshot         White 2020-09-30     Not Charged   \n",
       "1603         Gunshot         Black 2020-09-30     Not Charged   \n",
       "1604         Gunshot  Unknown race 2020-09-29     Not Charged   \n",
       "1605         Gunshot         Black 2020-09-28     Not Charged   \n",
       "1606         Gunshot      Hispanic 2020-09-28     Not Charged   \n",
       "...              ...           ...        ...             ...   \n",
       "10070        Gunshot      Hispanic 2013-01-01     Not Charged   \n",
       "10071        Gunshot         Black 2013-01-01     Not Charged   \n",
       "10072        Gunshot         White 2013-01-01     Not Charged   \n",
       "10073        Gunshot      Hispanic 2013-01-01     Not Charged   \n",
       "10074          Taser         White 2013-01-01     Not Charged   \n",
       "\n",
       "                                    armed    yr  count  year  \n",
       "1602                      Allegedly Armed  2020      1  2020  \n",
       "1603                              Unclear  2020      1  2020  \n",
       "1604                      Allegedly Armed  2020      1  2020  \n",
       "1605                      Allegedly Armed  2020      1  2020  \n",
       "1606                      Allegedly Armed  2020      1  2020  \n",
       "...                                   ...   ...    ...   ...  \n",
       "10070                             Unclear  2013      1  2013  \n",
       "10071                     Allegedly Armed  2013      1  2013  \n",
       "10072                     Allegedly Armed  2013      1  2013  \n",
       "10073                     Allegedly Armed  2013      1  2013  \n",
       "10074  Unarmed/Did Not Have Actual Weapon  2013      1  2013  \n",
       "\n",
       "[8473 rows x 8 columns]"
      ]
     },
     "execution_count": 36,
     "metadata": {},
     "output_type": "execute_result"
    }
   ],
   "source": [
    "mpv"
   ]
  },
  {
   "cell_type": "markdown",
   "id": "47a1eddb",
   "metadata": {},
   "source": [
    "## Twitter Data"
   ]
  },
  {
   "cell_type": "markdown",
   "id": "7ac24872",
   "metadata": {},
   "source": [
    "We need to combine the multiple csv folders of tweet ids into one big one to then randomlly select tweets to hydrate."
   ]
  },
  {
   "cell_type": "code",
   "execution_count": 37,
   "id": "cf7cb442",
   "metadata": {},
   "outputs": [],
   "source": [
    "def flatten(directory):\n",
    "    for dirpath, _, filenames in os.walk(directory, topdown=False):\n",
    "        for filename in filenames:\n",
    "            i = 0\n",
    "            source = os.path.join(dirpath, filename)\n",
    "            target = os.path.join(directory, filename)\n",
    "\n",
    "            while os.path.exists(target):\n",
    "                i += 1\n",
    "                file_parts = os.path.splitext(os.path.basename(filename))\n",
    "\n",
    "                target = os.path.join(\n",
    "                    directory,\n",
    "                    file_parts[0] + \"_\" + str(i) + file_parts[1],\n",
    "                )\n",
    "\n",
    "            shutil.move(source, target)\n",
    "\n",
    "            print(\"Moved \", source, \" to \", target)\n",
    "\n",
    "        if dirpath != directory:\n",
    "            os.rmdir(dirpath)\n",
    "\n",
    "            print(\"Deleted \", dirpath)\n",
    "\n",
    "#credit to: https://amitd.co/code/python/flatten-a-directory"
   ]
  },
  {
   "cell_type": "code",
   "execution_count": 38,
   "id": "91bbddc7",
   "metadata": {},
   "outputs": [],
   "source": [
    "flatten(os.path.dirname(\"/Users/dmusa/Documents/UCSD/2021-2022/Tweets_BLM/twitter\"))"
   ]
  },
  {
   "cell_type": "markdown",
   "id": "11ff39a6",
   "metadata": {},
   "source": [
    "Flattened all folders to make combining into one CSV easier."
   ]
  },
  {
   "cell_type": "code",
   "execution_count": 39,
   "id": "ab25d41b",
   "metadata": {},
   "outputs": [
    {
     "ename": "FileNotFoundError",
     "evalue": "[WinError 3] The system cannot find the path specified: '/Users/dmusa/Documents/UCSD/2021-2022/Tweets_BLM/'",
     "output_type": "error",
     "traceback": [
      "\u001b[1;31m---------------------------------------------------------------------------\u001b[0m",
      "\u001b[1;31mFileNotFoundError\u001b[0m                         Traceback (most recent call last)",
      "Input \u001b[1;32mIn [39]\u001b[0m, in \u001b[0;36m<cell line: 2>\u001b[1;34m()\u001b[0m\n\u001b[0;32m      1\u001b[0m tweets_path \u001b[38;5;241m=\u001b[39m \u001b[38;5;124m\"\u001b[39m\u001b[38;5;124m/Users/dmusa/Documents/UCSD/2021-2022/Tweets_BLM/\u001b[39m\u001b[38;5;124m\"\u001b[39m\n\u001b[1;32m----> 2\u001b[0m file_list \u001b[38;5;241m=\u001b[39m [tweets_path \u001b[38;5;241m+\u001b[39m f \u001b[38;5;28;01mfor\u001b[39;00m f \u001b[38;5;129;01min\u001b[39;00m \u001b[43mos\u001b[49m\u001b[38;5;241;43m.\u001b[39;49m\u001b[43mlistdir\u001b[49m\u001b[43m(\u001b[49m\u001b[43mtweets_path\u001b[49m\u001b[43m)\u001b[49m]\n\u001b[0;32m      3\u001b[0m csv_list \u001b[38;5;241m=\u001b[39m []\n",
      "\u001b[1;31mFileNotFoundError\u001b[0m: [WinError 3] The system cannot find the path specified: '/Users/dmusa/Documents/UCSD/2021-2022/Tweets_BLM/'"
     ]
    }
   ],
   "source": [
    "tweets_path = \"/Users/dmusa/Documents/UCSD/2021-2022/Tweets_BLM/\"\n",
    "file_list = [tweets_path + f for f in os.listdir(tweets_path)]\n",
    "csv_list = []"
   ]
  },
  {
   "cell_type": "code",
   "execution_count": null,
   "id": "e839d125",
   "metadata": {},
   "outputs": [],
   "source": [
    "for file in sorted(file_list):\n",
    "    csv_list.append(pd.read_csv(file).assign(File_Name = os.path.basename(file)))\n",
    "\n",
    "csv_merged = pd.concat(csv_list, ignore_index=True)\n",
    "csv_merged.to_csv(tweets_path + 'tweets_full.csv', index=False)"
   ]
  },
  {
   "cell_type": "markdown",
   "id": "f2a63672",
   "metadata": {},
   "source": [
    "Tweet IDs successfully merged into one big CSV ready to be permutated."
   ]
  },
  {
   "cell_type": "code",
   "execution_count": null,
   "id": "bc94df6d",
   "metadata": {},
   "outputs": [],
   "source": [
    "tweets = pd.read_csv('/Users/dmusa/Documents/UCSD/2021-2022/Tweets_BLM/tweets_full.csv')\n",
    "tweets.head()"
   ]
  },
  {
   "cell_type": "code",
   "execution_count": null,
   "id": "5008f628",
   "metadata": {},
   "outputs": [],
   "source": [
    "tweets_sample = tweets.sample(n = 2000000)\n",
    "tweets_sample.head()"
   ]
  },
  {
   "cell_type": "markdown",
   "id": "b64fb233",
   "metadata": {},
   "source": [
    "Randomly selected 2,000,000 tweet IDs. Now, we need to export back to CSV file with just the IDs to hydrate the tweets."
   ]
  },
  {
   "cell_type": "code",
   "execution_count": 15,
   "id": "6fcedabf",
   "metadata": {},
   "outputs": [
    {
     "ename": "NameError",
     "evalue": "name 'tweets_sample' is not defined",
     "output_type": "error",
     "traceback": [
      "\u001b[1;31m---------------------------------------------------------------------------\u001b[0m",
      "\u001b[1;31mNameError\u001b[0m                                 Traceback (most recent call last)",
      "\u001b[1;32mc:\\Users\\dmusa\\Documents\\UCSD\\2021-2022\\DDS_BLM\\DataCleaning-copy.ipynb Cell 73'\u001b[0m in \u001b[0;36m<cell line: 1>\u001b[1;34m()\u001b[0m\n\u001b[1;32m----> <a href='vscode-notebook-cell:/c%3A/Users/dmusa/Documents/UCSD/2021-2022/DDS_BLM/DataCleaning-copy.ipynb#ch0000072?line=0'>1</a>\u001b[0m tweets_sample_id \u001b[39m=\u001b[39m tweets_sample[\u001b[39m'\u001b[39m\u001b[39mstatus_id\u001b[39m\u001b[39m'\u001b[39m]\n",
      "\u001b[1;31mNameError\u001b[0m: name 'tweets_sample' is not defined"
     ]
    }
   ],
   "source": [
    "tweets_sample_id = tweets_sample['status_id']"
   ]
  },
  {
   "cell_type": "code",
   "execution_count": 8,
   "id": "c2f942b7",
   "metadata": {},
   "outputs": [
    {
     "ename": "NameError",
     "evalue": "name 'tweets_sample_id' is not defined",
     "output_type": "error",
     "traceback": [
      "\u001b[1;31m---------------------------------------------------------------------------\u001b[0m",
      "\u001b[1;31mNameError\u001b[0m                                 Traceback (most recent call last)",
      "\u001b[1;32mc:\\Users\\dmusa\\Documents\\UCSD\\2021-2022\\DDS_BLM\\DataCleaning-copy.ipynb Cell 74'\u001b[0m in \u001b[0;36m<cell line: 1>\u001b[1;34m()\u001b[0m\n\u001b[1;32m----> <a href='vscode-notebook-cell:/c%3A/Users/dmusa/Documents/UCSD/2021-2022/DDS_BLM/DataCleaning-copy.ipynb#ch0000073?line=0'>1</a>\u001b[0m tweets_sample_id\u001b[39m.\u001b[39mto_csv(\u001b[39m'\u001b[39m\u001b[39m/Users/dmusa/Documents/UCSD/2021-2022/Tweets_BLM/tweets_sample_id2.csv\u001b[39m\u001b[39m'\u001b[39m, header\u001b[39m=\u001b[39m\u001b[39mFalse\u001b[39;00m, index\u001b[39m=\u001b[39m\u001b[39mFalse\u001b[39;00m)\n",
      "\u001b[1;31mNameError\u001b[0m: name 'tweets_sample_id' is not defined"
     ]
    }
   ],
   "source": [
    "tweets_sample_id.to_csv('/Users/dmusa/Documents/UCSD/2021-2022/Tweets_BLM/tweets_sample_id2.csv', header=False, index=False)"
   ]
  },
  {
   "cell_type": "code",
   "execution_count": 13,
   "id": "c4b32d4f",
   "metadata": {},
   "outputs": [
    {
     "data": {
      "text/html": [
       "<div>\n",
       "<style scoped>\n",
       "    .dataframe tbody tr th:only-of-type {\n",
       "        vertical-align: middle;\n",
       "    }\n",
       "\n",
       "    .dataframe tbody tr th {\n",
       "        vertical-align: top;\n",
       "    }\n",
       "\n",
       "    .dataframe thead th {\n",
       "        text-align: right;\n",
       "    }\n",
       "</style>\n",
       "<table border=\"1\" class=\"dataframe\">\n",
       "  <thead>\n",
       "    <tr style=\"text-align: right;\">\n",
       "      <th></th>\n",
       "      <th>status_id</th>\n",
       "      <th>blacklivesmatter</th>\n",
       "      <th>alllivesmatter</th>\n",
       "      <th>bluelivesmatter</th>\n",
       "      <th>File_Name</th>\n",
       "    </tr>\n",
       "  </thead>\n",
       "  <tbody>\n",
       "    <tr>\n",
       "      <th>0</th>\n",
       "      <td>296004745028567040</td>\n",
       "      <td>1.0</td>\n",
       "      <td>0.0</td>\n",
       "      <td>0.0</td>\n",
       "      <td>2013-01.csv</td>\n",
       "    </tr>\n",
       "    <tr>\n",
       "      <th>1</th>\n",
       "      <td>299022201141735424</td>\n",
       "      <td>0.0</td>\n",
       "      <td>1.0</td>\n",
       "      <td>0.0</td>\n",
       "      <td>2013-02.csv</td>\n",
       "    </tr>\n",
       "    <tr>\n",
       "      <th>2</th>\n",
       "      <td>316973754951540737</td>\n",
       "      <td>1.0</td>\n",
       "      <td>0.0</td>\n",
       "      <td>0.0</td>\n",
       "      <td>2013-03.csv</td>\n",
       "    </tr>\n",
       "    <tr>\n",
       "      <th>3</th>\n",
       "      <td>315462982803009536</td>\n",
       "      <td>1.0</td>\n",
       "      <td>0.0</td>\n",
       "      <td>0.0</td>\n",
       "      <td>2013-03.csv</td>\n",
       "    </tr>\n",
       "    <tr>\n",
       "      <th>4</th>\n",
       "      <td>316242983945129984</td>\n",
       "      <td>1.0</td>\n",
       "      <td>0.0</td>\n",
       "      <td>0.0</td>\n",
       "      <td>2013-03.csv</td>\n",
       "    </tr>\n",
       "  </tbody>\n",
       "</table>\n",
       "</div>"
      ],
      "text/plain": [
       "            status_id  blacklivesmatter  alllivesmatter  bluelivesmatter  \\\n",
       "0  296004745028567040               1.0             0.0              0.0   \n",
       "1  299022201141735424               0.0             1.0              0.0   \n",
       "2  316973754951540737               1.0             0.0              0.0   \n",
       "3  315462982803009536               1.0             0.0              0.0   \n",
       "4  316242983945129984               1.0             0.0              0.0   \n",
       "\n",
       "     File_Name  \n",
       "0  2013-01.csv  \n",
       "1  2013-02.csv  \n",
       "2  2013-03.csv  \n",
       "3  2013-03.csv  \n",
       "4  2013-03.csv  "
      ]
     },
     "execution_count": 13,
     "metadata": {},
     "output_type": "execute_result"
    }
   ],
   "source": [
    "tweets_ids_full = pd.read_csv('/Users/dmusa/Documents/UCSD/2021-2022/Tweets_BLM/tweets_full.csv')\n",
    "tweets_ids_full.head()"
   ]
  },
  {
   "cell_type": "code",
   "execution_count": 25,
   "id": "7e681d26",
   "metadata": {},
   "outputs": [],
   "source": [
    "tweets_ids = pd.read_csv('/Users/dmusa/Documents/UCSD/2021-2022/Tweets_BLM/tweets_sample_id2.csv')"
   ]
  },
  {
   "cell_type": "code",
   "execution_count": 27,
   "id": "f3193359",
   "metadata": {},
   "outputs": [
    {
     "data": {
      "text/html": [
       "<div>\n",
       "<style scoped>\n",
       "    .dataframe tbody tr th:only-of-type {\n",
       "        vertical-align: middle;\n",
       "    }\n",
       "\n",
       "    .dataframe tbody tr th {\n",
       "        vertical-align: top;\n",
       "    }\n",
       "\n",
       "    .dataframe thead th {\n",
       "        text-align: right;\n",
       "    }\n",
       "</style>\n",
       "<table border=\"1\" class=\"dataframe\">\n",
       "  <thead>\n",
       "    <tr style=\"text-align: right;\">\n",
       "      <th></th>\n",
       "      <th>status_id</th>\n",
       "    </tr>\n",
       "  </thead>\n",
       "  <tbody>\n",
       "    <tr>\n",
       "      <th>0</th>\n",
       "      <td>1442502045873836049</td>\n",
       "    </tr>\n",
       "    <tr>\n",
       "      <th>1</th>\n",
       "      <td>1272234644100878336</td>\n",
       "    </tr>\n",
       "    <tr>\n",
       "      <th>2</th>\n",
       "      <td>1296287221528637440</td>\n",
       "    </tr>\n",
       "    <tr>\n",
       "      <th>3</th>\n",
       "      <td>1227080713142448128</td>\n",
       "    </tr>\n",
       "    <tr>\n",
       "      <th>4</th>\n",
       "      <td>1278442441264320513</td>\n",
       "    </tr>\n",
       "  </tbody>\n",
       "</table>\n",
       "</div>"
      ],
      "text/plain": [
       "             status_id\n",
       "0  1442502045873836049\n",
       "1  1272234644100878336\n",
       "2  1296287221528637440\n",
       "3  1227080713142448128\n",
       "4  1278442441264320513"
      ]
     },
     "execution_count": 27,
     "metadata": {},
     "output_type": "execute_result"
    }
   ],
   "source": [
    "tweets_ids.rename(columns={'1290186396066385920': 'status_id'}, inplace=True)\n",
    "tweets_ids.head()"
   ]
  },
  {
   "cell_type": "code",
   "execution_count": 29,
   "id": "66870e22",
   "metadata": {},
   "outputs": [
    {
     "name": "stderr",
     "output_type": "stream",
     "text": [
      "C:\\Users\\dmusa\\AppData\\Local\\Temp\\ipykernel_14184\\2666460491.py:1: FutureWarning: The frame.append method is deprecated and will be removed from pandas in a future version. Use pandas.concat instead.\n",
      "  tweets_ids = tweets_ids.append({'status_id': 1290186396066385920}, ignore_index=True)\n"
     ]
    }
   ],
   "source": [
    "tweets_ids = tweets_ids.append({'status_id': 1290186396066385920}, ignore_index=True)"
   ]
  },
  {
   "cell_type": "code",
   "execution_count": 33,
   "id": "b63ce26a",
   "metadata": {},
   "outputs": [
    {
     "data": {
      "text/plain": [
       "(2250000, 1)"
      ]
     },
     "execution_count": 33,
     "metadata": {},
     "output_type": "execute_result"
    }
   ],
   "source": [
    "tweets_ids.shape"
   ]
  },
  {
   "cell_type": "code",
   "execution_count": 32,
   "id": "718c5837",
   "metadata": {},
   "outputs": [
    {
     "data": {
      "text/plain": [
       "(4500000, 5)"
      ]
     },
     "execution_count": 32,
     "metadata": {},
     "output_type": "execute_result"
    }
   ],
   "source": [
    "merged_ids= pd.merge(tweets_ids, tweets_ids_full, on=\"status_id\", how=\"inner\")\n",
    "merged_ids.shape"
   ]
  },
  {
   "cell_type": "code",
   "execution_count": 35,
   "id": "1b6b764b",
   "metadata": {},
   "outputs": [
    {
     "data": {
      "text/html": [
       "<div>\n",
       "<style scoped>\n",
       "    .dataframe tbody tr th:only-of-type {\n",
       "        vertical-align: middle;\n",
       "    }\n",
       "\n",
       "    .dataframe tbody tr th {\n",
       "        vertical-align: top;\n",
       "    }\n",
       "\n",
       "    .dataframe thead th {\n",
       "        text-align: right;\n",
       "    }\n",
       "</style>\n",
       "<table border=\"1\" class=\"dataframe\">\n",
       "  <thead>\n",
       "    <tr style=\"text-align: right;\">\n",
       "      <th></th>\n",
       "      <th>status_id</th>\n",
       "      <th>blacklivesmatter</th>\n",
       "      <th>alllivesmatter</th>\n",
       "      <th>bluelivesmatter</th>\n",
       "      <th>File_Name</th>\n",
       "    </tr>\n",
       "  </thead>\n",
       "  <tbody>\n",
       "    <tr>\n",
       "      <th>0</th>\n",
       "      <td>1442502045873836049</td>\n",
       "      <td>1.0</td>\n",
       "      <td>0.0</td>\n",
       "      <td>0.0</td>\n",
       "      <td>2021-09.csv</td>\n",
       "    </tr>\n",
       "    <tr>\n",
       "      <th>1</th>\n",
       "      <td>1442502045873836049</td>\n",
       "      <td>1.0</td>\n",
       "      <td>0.0</td>\n",
       "      <td>0.0</td>\n",
       "      <td>2021-09.csv</td>\n",
       "    </tr>\n",
       "    <tr>\n",
       "      <th>2</th>\n",
       "      <td>1442502045873836049</td>\n",
       "      <td>1.0</td>\n",
       "      <td>0.0</td>\n",
       "      <td>0.0</td>\n",
       "      <td>2021-09.csv</td>\n",
       "    </tr>\n",
       "    <tr>\n",
       "      <th>3</th>\n",
       "      <td>1442502045873836049</td>\n",
       "      <td>1.0</td>\n",
       "      <td>0.0</td>\n",
       "      <td>0.0</td>\n",
       "      <td>2021-09.csv</td>\n",
       "    </tr>\n",
       "    <tr>\n",
       "      <th>4</th>\n",
       "      <td>1272234644100878336</td>\n",
       "      <td>1.0</td>\n",
       "      <td>0.0</td>\n",
       "      <td>0.0</td>\n",
       "      <td>2020-06.csv</td>\n",
       "    </tr>\n",
       "    <tr>\n",
       "      <th>...</th>\n",
       "      <td>...</td>\n",
       "      <td>...</td>\n",
       "      <td>...</td>\n",
       "      <td>...</td>\n",
       "      <td>...</td>\n",
       "    </tr>\n",
       "    <tr>\n",
       "      <th>4499995</th>\n",
       "      <td>1274924331496333312</td>\n",
       "      <td>1.0</td>\n",
       "      <td>0.0</td>\n",
       "      <td>0.0</td>\n",
       "      <td>2020-06.csv</td>\n",
       "    </tr>\n",
       "    <tr>\n",
       "      <th>4499996</th>\n",
       "      <td>1272243653092704256</td>\n",
       "      <td>1.0</td>\n",
       "      <td>0.0</td>\n",
       "      <td>0.0</td>\n",
       "      <td>2020-06.csv</td>\n",
       "    </tr>\n",
       "    <tr>\n",
       "      <th>4499997</th>\n",
       "      <td>1272243653092704256</td>\n",
       "      <td>1.0</td>\n",
       "      <td>0.0</td>\n",
       "      <td>0.0</td>\n",
       "      <td>2020-06.csv</td>\n",
       "    </tr>\n",
       "    <tr>\n",
       "      <th>4499998</th>\n",
       "      <td>1290186396066385920</td>\n",
       "      <td>1.0</td>\n",
       "      <td>0.0</td>\n",
       "      <td>0.0</td>\n",
       "      <td>2020-08.csv</td>\n",
       "    </tr>\n",
       "    <tr>\n",
       "      <th>4499999</th>\n",
       "      <td>1290186396066385920</td>\n",
       "      <td>1.0</td>\n",
       "      <td>0.0</td>\n",
       "      <td>0.0</td>\n",
       "      <td>2020-08.csv</td>\n",
       "    </tr>\n",
       "  </tbody>\n",
       "</table>\n",
       "<p>4500000 rows × 5 columns</p>\n",
       "</div>"
      ],
      "text/plain": [
       "                   status_id  blacklivesmatter  alllivesmatter  \\\n",
       "0        1442502045873836049               1.0             0.0   \n",
       "1        1442502045873836049               1.0             0.0   \n",
       "2        1442502045873836049               1.0             0.0   \n",
       "3        1442502045873836049               1.0             0.0   \n",
       "4        1272234644100878336               1.0             0.0   \n",
       "...                      ...               ...             ...   \n",
       "4499995  1274924331496333312               1.0             0.0   \n",
       "4499996  1272243653092704256               1.0             0.0   \n",
       "4499997  1272243653092704256               1.0             0.0   \n",
       "4499998  1290186396066385920               1.0             0.0   \n",
       "4499999  1290186396066385920               1.0             0.0   \n",
       "\n",
       "         bluelivesmatter    File_Name  \n",
       "0                    0.0  2021-09.csv  \n",
       "1                    0.0  2021-09.csv  \n",
       "2                    0.0  2021-09.csv  \n",
       "3                    0.0  2021-09.csv  \n",
       "4                    0.0  2020-06.csv  \n",
       "...                  ...          ...  \n",
       "4499995              0.0  2020-06.csv  \n",
       "4499996              0.0  2020-06.csv  \n",
       "4499997              0.0  2020-06.csv  \n",
       "4499998              0.0  2020-08.csv  \n",
       "4499999              0.0  2020-08.csv  \n",
       "\n",
       "[4500000 rows x 5 columns]"
      ]
     },
     "execution_count": 35,
     "metadata": {},
     "output_type": "execute_result"
    }
   ],
   "source": [
    "merged_ids"
   ]
  },
  {
   "cell_type": "code",
   "execution_count": null,
   "id": "149fb3aa",
   "metadata": {},
   "outputs": [],
   "source": [
    "\"C:\\Users\\dmusa\\Documents\\UCSD\\2021-2022\\Tweets_BLM\\tweets_sample_id2_hydrated.json\""
   ]
  },
  {
   "cell_type": "markdown",
   "id": "23e16f47",
   "metadata": {},
   "source": [
    "Thank you to Stanley Sisson for creating the next cell!"
   ]
  },
  {
   "cell_type": "code",
   "execution_count": 39,
   "id": "af5f4fd5",
   "metadata": {},
   "outputs": [
    {
     "ename": "KeyboardInterrupt",
     "evalue": "",
     "output_type": "error",
     "traceback": [
      "\u001b[1;31m---------------------------------------------------------------------------\u001b[0m",
      "\u001b[1;31mKeyboardInterrupt\u001b[0m                         Traceback (most recent call last)",
      "\u001b[1;32mc:\\Users\\dmusa\\Documents\\UCSD\\2021-2022\\DDS_BLM\\DataCleaning-copy.ipynb Cell 83'\u001b[0m in \u001b[0;36m<cell line: 25>\u001b[1;34m()\u001b[0m\n\u001b[0;32m     <a href='vscode-notebook-cell:/c%3A/Users/dmusa/Documents/UCSD/2021-2022/DDS_BLM/DataCleaning-copy.ipynb#ch0000091?line=28'>29</a>\u001b[0m f2\u001b[39m.\u001b[39mwrite(\u001b[39m'\u001b[39m\u001b[39mid,time\u001b[39m\u001b[39m\\n\u001b[39;00m\u001b[39m'\u001b[39m)\n\u001b[0;32m     <a href='vscode-notebook-cell:/c%3A/Users/dmusa/Documents/UCSD/2021-2022/DDS_BLM/DataCleaning-copy.ipynb#ch0000091?line=30'>31</a>\u001b[0m \u001b[39m# For each line in the input file\u001b[39;00m\n\u001b[1;32m---> <a href='vscode-notebook-cell:/c%3A/Users/dmusa/Documents/UCSD/2021-2022/DDS_BLM/DataCleaning-copy.ipynb#ch0000091?line=31'>32</a>\u001b[0m \u001b[39mfor\u001b[39;00m line \u001b[39min\u001b[39;00m f:\n\u001b[0;32m     <a href='vscode-notebook-cell:/c%3A/Users/dmusa/Documents/UCSD/2021-2022/DDS_BLM/DataCleaning-copy.ipynb#ch0000091?line=32'>33</a>\u001b[0m     \u001b[39m# Read each line as json,\u001b[39;00m\n\u001b[0;32m     <a href='vscode-notebook-cell:/c%3A/Users/dmusa/Documents/UCSD/2021-2022/DDS_BLM/DataCleaning-copy.ipynb#ch0000091?line=33'>34</a>\u001b[0m     obj \u001b[39m=\u001b[39m json\u001b[39m.\u001b[39mloads(line)\n\u001b[0;32m     <a href='vscode-notebook-cell:/c%3A/Users/dmusa/Documents/UCSD/2021-2022/DDS_BLM/DataCleaning-copy.ipynb#ch0000091?line=34'>35</a>\u001b[0m     \u001b[39m# Get its ID as a string\u001b[39;00m\n\u001b[0;32m     <a href='vscode-notebook-cell:/c%3A/Users/dmusa/Documents/UCSD/2021-2022/DDS_BLM/DataCleaning-copy.ipynb#ch0000091?line=35'>36</a>\u001b[0m     \u001b[39m# Get its TIME and parse it to ISO format\u001b[39;00m\n\u001b[0;32m     <a href='vscode-notebook-cell:/c%3A/Users/dmusa/Documents/UCSD/2021-2022/DDS_BLM/DataCleaning-copy.ipynb#ch0000091?line=36'>37</a>\u001b[0m     \u001b[39m# Write it to output file in CSV format:\u001b[39;00m\n\u001b[0;32m     <a href='vscode-notebook-cell:/c%3A/Users/dmusa/Documents/UCSD/2021-2022/DDS_BLM/DataCleaning-copy.ipynb#ch0000091?line=37'>38</a>\u001b[0m     \u001b[39m#   - put a comma between values\u001b[39;00m\n\u001b[0;32m     <a href='vscode-notebook-cell:/c%3A/Users/dmusa/Documents/UCSD/2021-2022/DDS_BLM/DataCleaning-copy.ipynb#ch0000091?line=38'>39</a>\u001b[0m     \u001b[39m#   - end with a newline\u001b[39;00m\n",
      "File \u001b[1;32mc:\\Users\\dmusa\\AppData\\Local\\Programs\\Python\\Python310\\lib\\codecs.py:319\u001b[0m, in \u001b[0;36mBufferedIncrementalDecoder.decode\u001b[1;34m(self, input, final)\u001b[0m\n\u001b[0;32m    <a href='file:///c%3A/Users/dmusa/AppData/Local/Programs/Python/Python310/lib/codecs.py?line=313'>314</a>\u001b[0m \u001b[39mdef\u001b[39;00m \u001b[39m_buffer_decode\u001b[39m(\u001b[39mself\u001b[39m, \u001b[39minput\u001b[39m, errors, final):\n\u001b[0;32m    <a href='file:///c%3A/Users/dmusa/AppData/Local/Programs/Python/Python310/lib/codecs.py?line=314'>315</a>\u001b[0m     \u001b[39m# Overwrite this method in subclasses: It must decode input\u001b[39;00m\n\u001b[0;32m    <a href='file:///c%3A/Users/dmusa/AppData/Local/Programs/Python/Python310/lib/codecs.py?line=315'>316</a>\u001b[0m     \u001b[39m# and return an (output, length consumed) tuple\u001b[39;00m\n\u001b[0;32m    <a href='file:///c%3A/Users/dmusa/AppData/Local/Programs/Python/Python310/lib/codecs.py?line=316'>317</a>\u001b[0m     \u001b[39mraise\u001b[39;00m \u001b[39mNotImplementedError\u001b[39;00m\n\u001b[1;32m--> <a href='file:///c%3A/Users/dmusa/AppData/Local/Programs/Python/Python310/lib/codecs.py?line=318'>319</a>\u001b[0m \u001b[39mdef\u001b[39;00m \u001b[39mdecode\u001b[39m(\u001b[39mself\u001b[39m, \u001b[39minput\u001b[39m, final\u001b[39m=\u001b[39m\u001b[39mFalse\u001b[39;00m):\n\u001b[0;32m    <a href='file:///c%3A/Users/dmusa/AppData/Local/Programs/Python/Python310/lib/codecs.py?line=319'>320</a>\u001b[0m     \u001b[39m# decode input (taking the buffer into account)\u001b[39;00m\n\u001b[0;32m    <a href='file:///c%3A/Users/dmusa/AppData/Local/Programs/Python/Python310/lib/codecs.py?line=320'>321</a>\u001b[0m     data \u001b[39m=\u001b[39m \u001b[39mself\u001b[39m\u001b[39m.\u001b[39mbuffer \u001b[39m+\u001b[39m \u001b[39minput\u001b[39m\n\u001b[0;32m    <a href='file:///c%3A/Users/dmusa/AppData/Local/Programs/Python/Python310/lib/codecs.py?line=321'>322</a>\u001b[0m     (result, consumed) \u001b[39m=\u001b[39m \u001b[39mself\u001b[39m\u001b[39m.\u001b[39m_buffer_decode(data, \u001b[39mself\u001b[39m\u001b[39m.\u001b[39merrors, final)\n",
      "\u001b[1;31mKeyboardInterrupt\u001b[0m: "
     ]
    }
   ],
   "source": [
    "# Pandas, for the dataframe\n",
    "import pandas as pd\n",
    "# JSON, for reading json objects\n",
    "import json\n",
    "# Time for measuring how long it will take\n",
    "import time\n",
    "import numpy as np\n",
    "def currentTime():\n",
    "    return round(time.time() * 1000)\n",
    "# Date format changer\n",
    "import dateutil.parser as parser\n",
    "def convertDate(t):\n",
    "    return parser.parse(t).isoformat()\n",
    "    \n",
    "# Counting variables\n",
    "ct = 0          # Number of items done\n",
    "total = 1928721 # Total items to do\n",
    "\n",
    "# Timing variables\n",
    "start = currentTime()\n",
    "last = start\n",
    "now = start\n",
    "\n",
    "# Open the json file in READ mode...\n",
    "with open('/Users/dmusa/Documents/UCSD/2021-2022/Tweets_BLM/tweets_sample_id2_hydrated.json','r', encoding=\"utf8\") as f:\n",
    "    # Open the csv file in WRITE mode...\n",
    "    with open('tweets.csv','w', encoding=\"utf8\") as f2:\n",
    "        # Write the CSV header (column names seperated with a comma)\n",
    "        f2.write('id,time\\n')\n",
    "        \n",
    "        # For each line in the input file\n",
    "        for line in f:\n",
    "            # Read each line as json,\n",
    "            obj = json.loads(line)\n",
    "            # Get its ID as a string\n",
    "            # Get its TIME and parse it to ISO format\n",
    "            # Write it to output file in CSV format:\n",
    "            #   - put a comma between values\n",
    "            #   - end with a newline\n",
    "            f2.write(str(obj[\"id\"])+\",\"+convertDate(obj[\"created_at\"])+\"\\n\")\n",
    "            \n",
    "            # Progress updates\n",
    "            ct=ct+1\n",
    "            now = currentTime()\n",
    "            # If ten seconds have passed, display progress update\n",
    "            if (last+10000<now):\n",
    "                dt = (now-start)/1000. # delta time, aka time passed since start\n",
    "                v = ct/dt              # velocity, aka how fast things are done\n",
    "                rems = (total-ct)/v    # remaining seconds (total time in seconds)\n",
    "                remm = round(np.floor(rems/60)) # remaining minutes (from mm:ss)\n",
    "                rems = round(np.floor(rems%60)) # remaining seconds (from mm:ss)\n",
    "                # Display\n",
    "                print(str(ct) + \" items loaded in \"+str(round(dt))+\"s (\"+str(round(10000*ct/total)/100)+\"% done)\")\n",
    "                print(\"  \"+str(round(v)) + \" items per second: \"+str(remm)+\" min \"+str(rems)+\" sec left\")\n",
    "                # Update last output time\n",
    "                last = now"
   ]
  },
  {
   "cell_type": "code",
   "execution_count": 38,
   "id": "268edfdc",
   "metadata": {},
   "outputs": [
    {
     "data": {
      "text/html": [
       "<div>\n",
       "<style scoped>\n",
       "    .dataframe tbody tr th:only-of-type {\n",
       "        vertical-align: middle;\n",
       "    }\n",
       "\n",
       "    .dataframe tbody tr th {\n",
       "        vertical-align: top;\n",
       "    }\n",
       "\n",
       "    .dataframe thead th {\n",
       "        text-align: right;\n",
       "    }\n",
       "</style>\n",
       "<table border=\"1\" class=\"dataframe\">\n",
       "  <thead>\n",
       "    <tr style=\"text-align: right;\">\n",
       "      <th></th>\n",
       "      <th>id</th>\n",
       "      <th>time</th>\n",
       "    </tr>\n",
       "  </thead>\n",
       "  <tbody>\n",
       "    <tr>\n",
       "      <th>0</th>\n",
       "      <td>1298955271587405800</td>\n",
       "      <td>2020-08-27T12:07:24+00:00</td>\n",
       "    </tr>\n",
       "    <tr>\n",
       "      <th>1</th>\n",
       "      <td>1279794731866894300</td>\n",
       "      <td>2020-07-05T15:10:16+00:00</td>\n",
       "    </tr>\n",
       "    <tr>\n",
       "      <th>2</th>\n",
       "      <td>1272116933740114000</td>\n",
       "      <td>2020-06-14T10:41:26+00:00</td>\n",
       "    </tr>\n",
       "    <tr>\n",
       "      <th>3</th>\n",
       "      <td>1269704052532789200</td>\n",
       "      <td>2020-06-07T18:53:30+00:00</td>\n",
       "    </tr>\n",
       "    <tr>\n",
       "      <th>4</th>\n",
       "      <td>1350089310587003000</td>\n",
       "      <td>2021-01-15T14:35:49+00:00</td>\n",
       "    </tr>\n",
       "  </tbody>\n",
       "</table>\n",
       "</div>"
      ],
      "text/plain": [
       "                    id                       time\n",
       "0  1298955271587405800  2020-08-27T12:07:24+00:00\n",
       "1  1279794731866894300  2020-07-05T15:10:16+00:00\n",
       "2  1272116933740114000  2020-06-14T10:41:26+00:00\n",
       "3  1269704052532789200  2020-06-07T18:53:30+00:00\n",
       "4  1350089310587003000  2021-01-15T14:35:49+00:00"
      ]
     },
     "execution_count": 38,
     "metadata": {},
     "output_type": "execute_result"
    }
   ],
   "source": [
    "tweets_id_dates = pd.read_csv(\"tweets.csv\")\n",
    "tweets_id_dates.head()"
   ]
  },
  {
   "cell_type": "code",
   "execution_count": 44,
   "id": "eb82e576",
   "metadata": {},
   "outputs": [
    {
     "data": {
      "text/html": [
       "<div>\n",
       "<style scoped>\n",
       "    .dataframe tbody tr th:only-of-type {\n",
       "        vertical-align: middle;\n",
       "    }\n",
       "\n",
       "    .dataframe tbody tr th {\n",
       "        vertical-align: top;\n",
       "    }\n",
       "\n",
       "    .dataframe thead th {\n",
       "        text-align: right;\n",
       "    }\n",
       "</style>\n",
       "<table border=\"1\" class=\"dataframe\">\n",
       "  <thead>\n",
       "    <tr style=\"text-align: right;\">\n",
       "      <th></th>\n",
       "      <th>status_id</th>\n",
       "      <th>time</th>\n",
       "    </tr>\n",
       "  </thead>\n",
       "  <tbody>\n",
       "    <tr>\n",
       "      <th>0</th>\n",
       "      <td>1298955271587405800</td>\n",
       "      <td>2020-08-27T12:07:24+00:00</td>\n",
       "    </tr>\n",
       "    <tr>\n",
       "      <th>1</th>\n",
       "      <td>1279794731866894300</td>\n",
       "      <td>2020-07-05T15:10:16+00:00</td>\n",
       "    </tr>\n",
       "    <tr>\n",
       "      <th>2</th>\n",
       "      <td>1272116933740114000</td>\n",
       "      <td>2020-06-14T10:41:26+00:00</td>\n",
       "    </tr>\n",
       "    <tr>\n",
       "      <th>3</th>\n",
       "      <td>1269704052532789200</td>\n",
       "      <td>2020-06-07T18:53:30+00:00</td>\n",
       "    </tr>\n",
       "    <tr>\n",
       "      <th>4</th>\n",
       "      <td>1350089310587003000</td>\n",
       "      <td>2021-01-15T14:35:49+00:00</td>\n",
       "    </tr>\n",
       "  </tbody>\n",
       "</table>\n",
       "</div>"
      ],
      "text/plain": [
       "             status_id                       time\n",
       "0  1298955271587405800  2020-08-27T12:07:24+00:00\n",
       "1  1279794731866894300  2020-07-05T15:10:16+00:00\n",
       "2  1272116933740114000  2020-06-14T10:41:26+00:00\n",
       "3  1269704052532789200  2020-06-07T18:53:30+00:00\n",
       "4  1350089310587003000  2021-01-15T14:35:49+00:00"
      ]
     },
     "execution_count": 44,
     "metadata": {},
     "output_type": "execute_result"
    }
   ],
   "source": [
    "tweets_id_dates.rename(columns={\"staus_id\": \"status_id\"}, inplace=True)\n",
    "tweets_id_dates.head()"
   ]
  },
  {
   "cell_type": "code",
   "execution_count": 45,
   "id": "33b7633c",
   "metadata": {},
   "outputs": [
    {
     "data": {
      "text/plain": [
       "(33116, 6)"
      ]
     },
     "execution_count": 45,
     "metadata": {},
     "output_type": "execute_result"
    }
   ],
   "source": [
    "final_merge = pd.merge(tweets_id_dates, merged_ids, on=\"status_id\", how=\"inner\")\n",
    "final_merge.shape"
   ]
  },
  {
   "cell_type": "code",
   "execution_count": 54,
   "id": "4785ddab",
   "metadata": {},
   "outputs": [
    {
     "data": {
      "text/plain": [
       "0       2014-11-26\n",
       "1       2014-11-26\n",
       "2       2020-06-08\n",
       "3       2020-06-08\n",
       "4       2017-11-14\n",
       "           ...    \n",
       "33111   2020-08-20\n",
       "33112   2014-12-14\n",
       "33113   2014-12-14\n",
       "33114   2020-07-01\n",
       "33115   2020-07-01\n",
       "Name: time, Length: 33116, dtype: datetime64[ns]"
      ]
     },
     "execution_count": 54,
     "metadata": {},
     "output_type": "execute_result"
    }
   ],
   "source": [
    "final_merge[\"time\"] = pd.to_datetime(final_merge['time'])\n",
    "final_merge[\"time\"] = final_merge[\"time\"].dt.date\n",
    "final_merge['time']= pd.to_datetime(final_merge['time'])\n",
    "final_merge['time']"
   ]
  },
  {
   "cell_type": "code",
   "execution_count": 59,
   "id": "0994ea3a",
   "metadata": {},
   "outputs": [
    {
     "data": {
      "text/html": [
       "<div>\n",
       "<style scoped>\n",
       "    .dataframe tbody tr th:only-of-type {\n",
       "        vertical-align: middle;\n",
       "    }\n",
       "\n",
       "    .dataframe tbody tr th {\n",
       "        vertical-align: top;\n",
       "    }\n",
       "\n",
       "    .dataframe thead th {\n",
       "        text-align: right;\n",
       "    }\n",
       "</style>\n",
       "<table border=\"1\" class=\"dataframe\">\n",
       "  <thead>\n",
       "    <tr style=\"text-align: right;\">\n",
       "      <th></th>\n",
       "      <th>status_id</th>\n",
       "      <th>time</th>\n",
       "      <th>blm</th>\n",
       "      <th>alm</th>\n",
       "      <th>blulm</th>\n",
       "      <th>File_Name</th>\n",
       "    </tr>\n",
       "  </thead>\n",
       "  <tbody>\n",
       "    <tr>\n",
       "      <th>0</th>\n",
       "      <td>537684004657725440</td>\n",
       "      <td>2014-11-26</td>\n",
       "      <td>1.0</td>\n",
       "      <td>0.0</td>\n",
       "      <td>0.0</td>\n",
       "      <td>2014-11.csv</td>\n",
       "    </tr>\n",
       "    <tr>\n",
       "      <th>1</th>\n",
       "      <td>537684004657725440</td>\n",
       "      <td>2014-11-26</td>\n",
       "      <td>1.0</td>\n",
       "      <td>0.0</td>\n",
       "      <td>0.0</td>\n",
       "      <td>2014-11.csv</td>\n",
       "    </tr>\n",
       "    <tr>\n",
       "      <th>2</th>\n",
       "      <td>1269868146640384000</td>\n",
       "      <td>2020-06-08</td>\n",
       "      <td>1.0</td>\n",
       "      <td>0.0</td>\n",
       "      <td>0.0</td>\n",
       "      <td>2020-06.csv</td>\n",
       "    </tr>\n",
       "    <tr>\n",
       "      <th>3</th>\n",
       "      <td>1269868146640384000</td>\n",
       "      <td>2020-06-08</td>\n",
       "      <td>1.0</td>\n",
       "      <td>0.0</td>\n",
       "      <td>0.0</td>\n",
       "      <td>2020-06.csv</td>\n",
       "    </tr>\n",
       "    <tr>\n",
       "      <th>4</th>\n",
       "      <td>930503267662131200</td>\n",
       "      <td>2017-11-14</td>\n",
       "      <td>1.0</td>\n",
       "      <td>0.0</td>\n",
       "      <td>0.0</td>\n",
       "      <td>2017-11.csv</td>\n",
       "    </tr>\n",
       "  </tbody>\n",
       "</table>\n",
       "</div>"
      ],
      "text/plain": [
       "             status_id       time  blm  alm  blulm    File_Name\n",
       "0   537684004657725440 2014-11-26  1.0  0.0    0.0  2014-11.csv\n",
       "1   537684004657725440 2014-11-26  1.0  0.0    0.0  2014-11.csv\n",
       "2  1269868146640384000 2020-06-08  1.0  0.0    0.0  2020-06.csv\n",
       "3  1269868146640384000 2020-06-08  1.0  0.0    0.0  2020-06.csv\n",
       "4   930503267662131200 2017-11-14  1.0  0.0    0.0  2017-11.csv"
      ]
     },
     "execution_count": 59,
     "metadata": {},
     "output_type": "execute_result"
    }
   ],
   "source": [
    "final_merge.rename(columns={\"blacklivesmatter\": \"blm\",\"alllivesmatter\":\"alm\",\"bluelivesmatter\":\"blulm\"}, inplace=True)\n",
    "final_merge.head()"
   ]
  },
  {
   "cell_type": "code",
   "execution_count": 70,
   "id": "28fffe04",
   "metadata": {},
   "outputs": [
    {
     "data": {
      "text/plain": [
       "(33116, 6)"
      ]
     },
     "execution_count": 70,
     "metadata": {},
     "output_type": "execute_result"
    }
   ],
   "source": [
    "final_merge.shape"
   ]
  },
  {
   "cell_type": "markdown",
   "id": "775f560d",
   "metadata": {},
   "source": [
    "## Tweet EDA"
   ]
  },
  {
   "cell_type": "code",
   "execution_count": 64,
   "id": "399fe4e5",
   "metadata": {},
   "outputs": [
    {
     "name": "stdout",
     "output_type": "stream",
     "text": [
      "29700.0\n",
      "2338.0\n",
      "2142.0\n"
     ]
    }
   ],
   "source": [
    "print(final_merge['blm'].sum())\n",
    "print(final_merge['alm'].sum())\n",
    "print(final_merge['blulm'].sum())"
   ]
  },
  {
   "cell_type": "markdown",
   "id": "81552d5c",
   "metadata": {},
   "source": [
    "Now that we have the tweets, let's go over the variables in the dataframe. \n",
    "\n",
    "The creators of the dataset categorized each tweet as supporting one of three major movements: Black Lives Matter, All Lives Matter, and Blue Lives Matter. The tweets are one hot encoded. \n",
    "\n",
    "The used an assortment of keywords and hashtags, as shown below, to categorize the tweets. These terms have a weight. The weight indicates how unique a term is to the topic. So a \"1.0\" tells us this term showed up only in that topic."
   ]
  },
  {
   "cell_type": "code",
   "execution_count": 4,
   "id": "ea167650",
   "metadata": {},
   "outputs": [
    {
     "data": {
      "text/html": [
       "<div>\n",
       "<style scoped>\n",
       "    .dataframe tbody tr th:only-of-type {\n",
       "        vertical-align: middle;\n",
       "    }\n",
       "\n",
       "    .dataframe tbody tr th {\n",
       "        vertical-align: top;\n",
       "    }\n",
       "\n",
       "    .dataframe thead th {\n",
       "        text-align: right;\n",
       "    }\n",
       "</style>\n",
       "<table border=\"1\" class=\"dataframe\">\n",
       "  <thead>\n",
       "    <tr style=\"text-align: right;\">\n",
       "      <th></th>\n",
       "      <th>term</th>\n",
       "      <th>weight</th>\n",
       "    </tr>\n",
       "  </thead>\n",
       "  <tbody>\n",
       "    <tr>\n",
       "      <th>8</th>\n",
       "      <td>#bible</td>\n",
       "      <td>1.0</td>\n",
       "    </tr>\n",
       "    <tr>\n",
       "      <th>32</th>\n",
       "      <td>#ilovejesus</td>\n",
       "      <td>1.0</td>\n",
       "    </tr>\n",
       "    <tr>\n",
       "      <th>38</th>\n",
       "      <td>#lfj</td>\n",
       "      <td>1.0</td>\n",
       "    </tr>\n",
       "    <tr>\n",
       "      <th>57</th>\n",
       "      <td>#prayergift</td>\n",
       "      <td>1.0</td>\n",
       "    </tr>\n",
       "    <tr>\n",
       "      <th>70</th>\n",
       "      <td>#taniaspeaks</td>\n",
       "      <td>1.0</td>\n",
       "    </tr>\n",
       "    <tr>\n",
       "      <th>...</th>\n",
       "      <td>...</td>\n",
       "      <td>...</td>\n",
       "    </tr>\n",
       "    <tr>\n",
       "      <th>14471</th>\n",
       "      <td>gsr</td>\n",
       "      <td>1.0</td>\n",
       "    </tr>\n",
       "    <tr>\n",
       "      <th>14485</th>\n",
       "      <td>justice4cephus</td>\n",
       "      <td>1.0</td>\n",
       "    </tr>\n",
       "    <tr>\n",
       "      <th>14489</th>\n",
       "      <td>misconstrues</td>\n",
       "      <td>1.0</td>\n",
       "    </tr>\n",
       "    <tr>\n",
       "      <th>14499</th>\n",
       "      <td>stippling</td>\n",
       "      <td>1.0</td>\n",
       "    </tr>\n",
       "    <tr>\n",
       "      <th>14500</th>\n",
       "      <td>suicide</td>\n",
       "      <td>1.0</td>\n",
       "    </tr>\n",
       "  </tbody>\n",
       "</table>\n",
       "<p>352 rows × 2 columns</p>\n",
       "</div>"
      ],
      "text/plain": [
       "                 term  weight\n",
       "8              #bible     1.0\n",
       "32        #ilovejesus     1.0\n",
       "38               #lfj     1.0\n",
       "57        #prayergift     1.0\n",
       "70       #taniaspeaks     1.0\n",
       "...               ...     ...\n",
       "14471             gsr     1.0\n",
       "14485  justice4cephus     1.0\n",
       "14489    misconstrues     1.0\n",
       "14499       stippling     1.0\n",
       "14500         suicide     1.0\n",
       "\n",
       "[352 rows x 2 columns]"
      ]
     },
     "execution_count": 4,
     "metadata": {},
     "output_type": "execute_result"
    }
   ],
   "source": [
    "alm = pd.read_csv('/Users/dmusa/Documents/UCSD/2021-2022/BLM_Tweets/topics/alm50.csv')\n",
    "alm = alm[['term', 'weight']]\n",
    "alm.sort_values(by=['weight'],ascending=False)\n",
    "alm.loc[alm['weight'] == 1.0]"
   ]
  },
  {
   "cell_type": "code",
   "execution_count": 5,
   "id": "584efedd",
   "metadata": {},
   "outputs": [
    {
     "data": {
      "text/html": [
       "<div>\n",
       "<style scoped>\n",
       "    .dataframe tbody tr th:only-of-type {\n",
       "        vertical-align: middle;\n",
       "    }\n",
       "\n",
       "    .dataframe tbody tr th {\n",
       "        vertical-align: top;\n",
       "    }\n",
       "\n",
       "    .dataframe thead th {\n",
       "        text-align: right;\n",
       "    }\n",
       "</style>\n",
       "<table border=\"1\" class=\"dataframe\">\n",
       "  <thead>\n",
       "    <tr style=\"text-align: right;\">\n",
       "      <th></th>\n",
       "      <th>term</th>\n",
       "      <th>weight</th>\n",
       "    </tr>\n",
       "  </thead>\n",
       "  <tbody>\n",
       "    <tr>\n",
       "      <th>33</th>\n",
       "      <td>application</td>\n",
       "      <td>1.0</td>\n",
       "    </tr>\n",
       "    <tr>\n",
       "      <th>3072</th>\n",
       "      <td>luther</td>\n",
       "      <td>1.0</td>\n",
       "    </tr>\n",
       "    <tr>\n",
       "      <th>4579</th>\n",
       "      <td>#russelllee</td>\n",
       "      <td>1.0</td>\n",
       "    </tr>\n",
       "    <tr>\n",
       "      <th>9064</th>\n",
       "      <td>archive</td>\n",
       "      <td>1.0</td>\n",
       "    </tr>\n",
       "    <tr>\n",
       "      <th>9306</th>\n",
       "      <td>barack</td>\n",
       "      <td>1.0</td>\n",
       "    </tr>\n",
       "    <tr>\n",
       "      <th>...</th>\n",
       "      <td>...</td>\n",
       "      <td>...</td>\n",
       "    </tr>\n",
       "    <tr>\n",
       "      <th>44566</th>\n",
       "      <td>walter</td>\n",
       "      <td>1.0</td>\n",
       "    </tr>\n",
       "    <tr>\n",
       "      <th>44611</th>\n",
       "      <td>#kohkanta</td>\n",
       "      <td>1.0</td>\n",
       "    </tr>\n",
       "    <tr>\n",
       "      <th>44626</th>\n",
       "      <td>#sb50</td>\n",
       "      <td>1.0</td>\n",
       "    </tr>\n",
       "    <tr>\n",
       "      <th>45471</th>\n",
       "      <td>#blackqueen</td>\n",
       "      <td>1.0</td>\n",
       "    </tr>\n",
       "    <tr>\n",
       "      <th>45551</th>\n",
       "      <td>#melaninpoppin</td>\n",
       "      <td>1.0</td>\n",
       "    </tr>\n",
       "  </tbody>\n",
       "</table>\n",
       "<p>75 rows × 2 columns</p>\n",
       "</div>"
      ],
      "text/plain": [
       "                 term  weight\n",
       "33        application     1.0\n",
       "3072           luther     1.0\n",
       "4579      #russelllee     1.0\n",
       "9064          archive     1.0\n",
       "9306           barack     1.0\n",
       "...               ...     ...\n",
       "44566          walter     1.0\n",
       "44611       #kohkanta     1.0\n",
       "44626           #sb50     1.0\n",
       "45471     #blackqueen     1.0\n",
       "45551  #melaninpoppin     1.0\n",
       "\n",
       "[75 rows x 2 columns]"
      ]
     },
     "execution_count": 5,
     "metadata": {},
     "output_type": "execute_result"
    }
   ],
   "source": [
    "blm = pd.read_csv('/Users/dmusa/Documents/UCSD/2021-2022/BLM_Tweets/topics/blm100.csv')\n",
    "blm = blm[['term', 'weight']]\n",
    "blm.head()\n",
    "blm.loc[blm['weight'] == 1.0]"
   ]
  },
  {
   "cell_type": "code",
   "execution_count": 6,
   "id": "b2dd12f9",
   "metadata": {},
   "outputs": [
    {
     "data": {
      "text/html": [
       "<div>\n",
       "<style scoped>\n",
       "    .dataframe tbody tr th:only-of-type {\n",
       "        vertical-align: middle;\n",
       "    }\n",
       "\n",
       "    .dataframe tbody tr th {\n",
       "        vertical-align: top;\n",
       "    }\n",
       "\n",
       "    .dataframe thead th {\n",
       "        text-align: right;\n",
       "    }\n",
       "</style>\n",
       "<table border=\"1\" class=\"dataframe\">\n",
       "  <thead>\n",
       "    <tr style=\"text-align: right;\">\n",
       "      <th></th>\n",
       "      <th>term</th>\n",
       "      <th>weight</th>\n",
       "    </tr>\n",
       "  </thead>\n",
       "  <tbody>\n",
       "    <tr>\n",
       "      <th>0</th>\n",
       "      <td>#axlesgarage</td>\n",
       "      <td>1.0</td>\n",
       "    </tr>\n",
       "    <tr>\n",
       "      <th>8</th>\n",
       "      <td>#ghetto</td>\n",
       "      <td>1.0</td>\n",
       "    </tr>\n",
       "    <tr>\n",
       "      <th>10</th>\n",
       "      <td>#igotyour6</td>\n",
       "      <td>1.0</td>\n",
       "    </tr>\n",
       "    <tr>\n",
       "      <th>13</th>\n",
       "      <td>#jeepwrangler</td>\n",
       "      <td>1.0</td>\n",
       "    </tr>\n",
       "    <tr>\n",
       "      <th>14</th>\n",
       "      <td>#lawenforcementofficers</td>\n",
       "      <td>1.0</td>\n",
       "    </tr>\n",
       "    <tr>\n",
       "      <th>...</th>\n",
       "      <td>...</td>\n",
       "      <td>...</td>\n",
       "    </tr>\n",
       "    <tr>\n",
       "      <th>10025</th>\n",
       "      <td>junior</td>\n",
       "      <td>1.0</td>\n",
       "    </tr>\n",
       "    <tr>\n",
       "      <th>10029</th>\n",
       "      <td>leslie</td>\n",
       "      <td>1.0</td>\n",
       "    </tr>\n",
       "    <tr>\n",
       "      <th>10043</th>\n",
       "      <td>pearce</td>\n",
       "      <td>1.0</td>\n",
       "    </tr>\n",
       "    <tr>\n",
       "      <th>10075</th>\n",
       "      <td>wade</td>\n",
       "      <td>1.0</td>\n",
       "    </tr>\n",
       "    <tr>\n",
       "      <th>10077</th>\n",
       "      <td>who's</td>\n",
       "      <td>1.0</td>\n",
       "    </tr>\n",
       "  </tbody>\n",
       "</table>\n",
       "<p>326 rows × 2 columns</p>\n",
       "</div>"
      ],
      "text/plain": [
       "                          term  weight\n",
       "0                 #axlesgarage     1.0\n",
       "8                      #ghetto     1.0\n",
       "10                  #igotyour6     1.0\n",
       "13               #jeepwrangler     1.0\n",
       "14     #lawenforcementofficers     1.0\n",
       "...                        ...     ...\n",
       "10025                   junior     1.0\n",
       "10029                   leslie     1.0\n",
       "10043                   pearce     1.0\n",
       "10075                     wade     1.0\n",
       "10077                    who's     1.0\n",
       "\n",
       "[326 rows x 2 columns]"
      ]
     },
     "execution_count": 6,
     "metadata": {},
     "output_type": "execute_result"
    }
   ],
   "source": [
    "blulm = pd.read_csv('/Users/dmusa/Documents/UCSD/2021-2022/BLM_Tweets/topics/blulm25.csv')\n",
    "blulm = blulm[['term', 'weight']]\n",
    "blulm.head()\n",
    "blulm.loc[blulm['weight'] == 1.0]"
   ]
  },
  {
   "cell_type": "markdown",
   "id": "57bfbe5a",
   "metadata": {},
   "source": []
  }
 ],
 "metadata": {
  "interpreter": {
   "hash": "369f2c481f4da34e4445cda3fffd2e751bd1c4d706f27375911949ba6bb62e1c"
  },
  "kernelspec": {
   "display_name": "Python 3.10.4 64-bit",
   "language": "python",
   "name": "python3"
  },
  "language_info": {
   "codemirror_mode": {
    "name": "ipython",
    "version": 3
   },
   "file_extension": ".py",
   "mimetype": "text/x-python",
   "name": "python",
   "nbconvert_exporter": "python",
   "pygments_lexer": "ipython3",
   "version": "3.10.4"
  }
 },
 "nbformat": 4,
 "nbformat_minor": 5
}
